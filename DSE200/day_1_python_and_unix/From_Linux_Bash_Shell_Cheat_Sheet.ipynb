{
 "cells": [
  {
   "cell_type": "code",
   "execution_count": 141,
   "metadata": {
    "collapsed": false,
    "scrolled": false
   },
   "outputs": [
    {
     "name": "stdout",
     "output_type": "stream",
     "text": [
      "C:\\Users\\Orysya\\Documents\\DSE\\DSE200-notebooks\n"
     ]
    }
   ],
   "source": [
    "%cd C:\\Users\\Orysya\\Documents\\DSE\\DSE200-notebooks"
   ]
  },
  {
   "cell_type": "code",
   "execution_count": 142,
   "metadata": {
    "collapsed": false
   },
   "outputs": [
    {
     "name": "stdout",
     "output_type": "stream",
     "text": [
      ".\n",
      "..\n",
      ".git\n",
      "data\n",
      "day_1_python_and_unix\n",
      "day_2_github_io_numpy_pandas\n",
      "day_3_models_and_learning\n",
      "day_4_OOP_and_matplotlib\n",
      "day_5_mining_the_Social_web\n",
      "README.md\n"
     ]
    }
   ],
   "source": [
    "!ls -a\n",
    "#lists all files and folders"
   ]
  },
  {
   "cell_type": "code",
   "execution_count": 143,
   "metadata": {
    "collapsed": false
   },
   "outputs": [
    {
     "name": "stdout",
     "output_type": "stream",
     "text": [
      "1_pregnancy_length_analysis.ipynb\n",
      "2_python_basics.ipynb\n",
      "3_python_basics_excercises.ipynb\n",
      "4_unix,_sys,_and_os.ipynb\n",
      "5_unix_exercises.ipynb\n",
      "8queen.jpg\n",
      "cool\n",
      "From_Linux_Bash_Shell_Cheat_Sheet.ipynb\n",
      "LockFile.md\n",
      "Word_List_sorted.csv\n"
     ]
    }
   ],
   "source": [
    "!ls ./day_1_python_and_unix\n",
    "#ists files in folder"
   ]
  },
  {
   "cell_type": "code",
   "execution_count": 144,
   "metadata": {
    "collapsed": false
   },
   "outputs": [
    {
     "name": "stdout",
     "output_type": "stream",
     "text": [
      "total 28K\n",
      "drw-rw-rw-  8 Orysya 0 4.0K 2016-09-30 09:08 data\n",
      "drw-rw-rw-  4 Orysya 0 4.0K 2016-10-08 14:48 day_1_python_and_unix\n",
      "drw-rw-rw-  6 Orysya 0 4.0K 2016-09-30 09:08 day_2_github_io_numpy_pandas\n",
      "drw-rw-rw-  4 Orysya 0 4.0K 2016-09-30 09:08 day_3_models_and_learning\n",
      "drw-rw-rw-  4 Orysya 0 4.0K 2016-09-30 09:08 day_4_OOP_and_matplotlib\n",
      "drw-rw-rw-  6 Orysya 0 4.0K 2016-09-30 09:08 day_5_mining_the_Social_web\n",
      "-rw-rw-rw-  1 Orysya 0  347 2016-09-30 09:08 README.md\n"
     ]
    }
   ],
   "source": [
    "!ls -lh\n",
    "#detailed list, human readable"
   ]
  },
  {
   "cell_type": "code",
   "execution_count": 145,
   "metadata": {
    "collapsed": false
   },
   "outputs": [
    {
     "name": "stdout",
     "output_type": "stream",
     "text": [
      "-rw-rw-rw-  1 Orysya 0 347 2016-09-30 09:08 README.md\n"
     ]
    }
   ],
   "source": [
    "!ls -l *.md\n",
    "#list only .md files"
   ]
  },
  {
   "cell_type": "code",
   "execution_count": 53,
   "metadata": {
    "collapsed": false
   },
   "outputs": [
    {
     "name": "stdout",
     "output_type": "stream",
     "text": [
      "C:\\\n"
     ]
    }
   ],
   "source": [
    "%cd /\n",
    "#go to root ie. C:\\"
   ]
  },
  {
   "cell_type": "code",
   "execution_count": 146,
   "metadata": {
    "collapsed": false
   },
   "outputs": [
    {
     "name": "stdout",
     "output_type": "stream",
     "text": [
      "[Error 123] The filename, directory name, or volume label syntax is incorrect: u'<data>/'\n",
      "C:\\Users\\Orysya\\Documents\\DSE\\DSE200-notebooks\n"
     ]
    }
   ],
   "source": [
    "%cd <data>\n",
    "#change directory"
   ]
  },
  {
   "cell_type": "code",
   "execution_count": 107,
   "metadata": {
    "collapsed": false
   },
   "outputs": [
    {
     "name": "stdout",
     "output_type": "stream",
     "text": [
      "48K\t./.git/hooks\n",
      "4.0K\t./.git/info\n",
      "4.0K\t./.git/logs/refs/heads\n",
      "4.0K\t./.git/logs/refs/remotes/origin\n",
      "4.0K\t./.git/logs/refs/remotes\n",
      "8.0K\t./.git/logs/refs\n",
      "12K\t./.git/logs\n",
      "0\t./.git/objects/info\n",
      "97M\t./.git/objects/pack\n",
      "97M\t./.git/objects\n",
      "4.0K\t./.git/refs/heads\n",
      "4.0K\t./.git/refs/remotes/origin\n",
      "4.0K\t./.git/refs/remotes\n",
      "0\t./.git/refs/tags\n",
      "8.0K\t./.git/refs\n",
      "97M\t./.git\n",
      "140K\t./data/economics\n",
      "932K\t./data/NLTK/Chopped\n",
      "936K\t./data/NLTK\n",
      "8.0K\t./data/SQL\n",
      "96K\t./data/ThinkStatsData/.ipynb_checkpoints\n",
      "57M\t./data/ThinkStatsData\n",
      "9.4M\t./data/twitter-diversity\n",
      "79M\t./data/weather\n",
      "146M\t./data\n",
      "612K\t./day_1_python_and_unix/.ipynb_checkpoints\n",
      "1.3M\t./day_1_python_and_unix\n",
      "6.7M\t./day_2_github_io_numpy_pandas/00_git.slides\n",
      "680K\t./day_2_github_io_numpy_pandas/025_Memory_hierarchy.slides\n",
      "4.0K\t./day_2_github_io_numpy_pandas/04_learn-pandas/lessons/DataFiles\n",
      "908K\t./day_2_github_io_numpy_pandas/04_learn-pandas/lessons\n",
      "912K\t./day_2_github_io_numpy_pandas/04_learn-pandas\n",
      "16K\t./day_2_github_io_numpy_pandas/diff\n",
      "8.9M\t./day_2_github_io_numpy_pandas\n",
      "7.1M\t./day_3_models_and_learning/01_PCA_Slides\n",
      "2.3M\t./day_3_models_and_learning/04_DecisionTreesSlides\n",
      "13M\t./day_3_models_and_learning\n",
      "876K\t./day_4_OOP_and_matplotlib/matplotlib\n",
      "312K\t./day_4_OOP_and_matplotlib/OOP\n",
      "2.2M\t./day_4_OOP_and_matplotlib\n",
      "4.0K\t./day_5_mining_the_Social_web/deploy/cookbooks/apt/attributes\n",
      "4.0K\t./day_5_mining_the_Social_web/deploy/cookbooks/apt/files/default\n",
      "4.0K\t./day_5_mining_the_Social_web/deploy/cookbooks/apt/files\n",
      "12K\t./day_5_mining_the_Social_web/deploy/cookbooks/apt/providers\n",
      "12K\t./day_5_mining_the_Social_web/deploy/cookbooks/apt/recipes\n",
      "8.0K\t./day_5_mining_the_Social_web/deploy/cookbooks/apt/resources\n",
      "20K\t./day_5_mining_the_Social_web/deploy/cookbooks/apt/spec\n",
      "8.0K\t./day_5_mining_the_Social_web/deploy/cookbooks/apt/templates/debian-6.0\n",
      "20K\t./day_5_mining_the_Social_web/deploy/cookbooks/apt/templates/default\n",
      "16K\t./day_5_mining_the_Social_web/deploy/cookbooks/apt/templates/ubuntu-10.04\n",
      "44K\t./day_5_mining_the_Social_web/deploy/cookbooks/apt/templates\n",
      "4.0K\t./day_5_mining_the_Social_web/deploy/cookbooks/apt/test/cookbooks/apt_test/files/default/tests/minitest/support\n",
      "28K\t./day_5_mining_the_Social_web/deploy/cookbooks/apt/test/cookbooks/apt_test/files/default/tests/minitest\n",
      "28K\t./day_5_mining_the_Social_web/deploy/cookbooks/apt/test/cookbooks/apt_test/files/default/tests\n",
      "28K\t./day_5_mining_the_Social_web/deploy/cookbooks/apt/test/cookbooks/apt_test/files/default\n",
      "28K\t./day_5_mining_the_Social_web/deploy/cookbooks/apt/test/cookbooks/apt_test/files\n",
      "24K\t./day_5_mining_the_Social_web/deploy/cookbooks/apt/test/cookbooks/apt_test/recipes\n",
      "60K\t./day_5_mining_the_Social_web/deploy/cookbooks/apt/test/cookbooks/apt_test\n",
      "60K\t./day_5_mining_the_Social_web/deploy/cookbooks/apt/test/cookbooks\n",
      "60K\t./day_5_mining_the_Social_web/deploy/cookbooks/apt/test\n",
      "220K\t./day_5_mining_the_Social_web/deploy/cookbooks/apt\n",
      "4.0K\t./day_5_mining_the_Social_web/deploy/cookbooks/build-essential/attributes\n",
      "40K\t./day_5_mining_the_Social_web/deploy/cookbooks/build-essential/recipes\n",
      "68K\t./day_5_mining_the_Social_web/deploy/cookbooks/build-essential\n",
      "4.0K\t./day_5_mining_the_Social_web/deploy/cookbooks/mtsw2e/recipes\n",
      "4.0K\t./day_5_mining_the_Social_web/deploy/cookbooks/mtsw2e/templates/default\n",
      "4.0K\t./day_5_mining_the_Social_web/deploy/cookbooks/mtsw2e/templates\n",
      "16K\t./day_5_mining_the_Social_web/deploy/cookbooks/mtsw2e\n",
      "4.0K\t./day_5_mining_the_Social_web/deploy/cookbooks/python/attributes\n",
      "12K\t./day_5_mining_the_Social_web/deploy/cookbooks/python/providers\n",
      "20K\t./day_5_mining_the_Social_web/deploy/cookbooks/python/recipes\n",
      "8.0K\t./day_5_mining_the_Social_web/deploy/cookbooks/python/resources\n",
      "8.0K\t./day_5_mining_the_Social_web/deploy/cookbooks/python/test/cookbooks/python_test/recipes\n",
      "16K\t./day_5_mining_the_Social_web/deploy/cookbooks/python/test/cookbooks/python_test\n",
      "16K\t./day_5_mining_the_Social_web/deploy/cookbooks/python/test/cookbooks\n",
      "4.0K\t./day_5_mining_the_Social_web/deploy/cookbooks/python/test/integration/exert/bats\n",
      "4.0K\t./day_5_mining_the_Social_web/deploy/cookbooks/python/test/integration/exert\n",
      "4.0K\t./day_5_mining_the_Social_web/deploy/cookbooks/python/test/integration/source/bats\n",
      "4.0K\t./day_5_mining_the_Social_web/deploy/cookbooks/python/test/integration/source\n",
      "4.0K\t./day_5_mining_the_Social_web/deploy/cookbooks/python/test/integration/virtualenv/bats\n",
      "4.0K\t./day_5_mining_the_Social_web/deploy/cookbooks/python/test/integration/virtualenv\n",
      "12K\t./day_5_mining_the_Social_web/deploy/cookbooks/python/test/integration\n",
      "28K\t./day_5_mining_the_Social_web/deploy/cookbooks/python/test\n",
      "128K\t./day_5_mining_the_Social_web/deploy/cookbooks/python\n",
      "4.0K\t./day_5_mining_the_Social_web/deploy/cookbooks/runit/attributes\n",
      "4.0K\t./day_5_mining_the_Social_web/deploy/cookbooks/runit/files/default\n",
      "4.0K\t./day_5_mining_the_Social_web/deploy/cookbooks/runit/files/ubuntu-6.10\n",
      "4.0K\t./day_5_mining_the_Social_web/deploy/cookbooks/runit/files/ubuntu-7.04\n",
      "4.0K\t./day_5_mining_the_Social_web/deploy/cookbooks/runit/files/ubuntu-7.10\n",
      "4.0K\t./day_5_mining_the_Social_web/deploy/cookbooks/runit/files/ubuntu-8.04\n",
      "20K\t./day_5_mining_the_Social_web/deploy/cookbooks/runit/files\n",
      "28K\t./day_5_mining_the_Social_web/deploy/cookbooks/runit/libraries\n",
      "4.0K\t./day_5_mining_the_Social_web/deploy/cookbooks/runit/recipes\n",
      "4.0K\t./day_5_mining_the_Social_web/deploy/cookbooks/runit/templates/debian\n",
      "4.0K\t./day_5_mining_the_Social_web/deploy/cookbooks/runit/templates/gentoo\n",
      "8.0K\t./day_5_mining_the_Social_web/deploy/cookbooks/runit/templates\n",
      "8.0K\t./day_5_mining_the_Social_web/deploy/cookbooks/runit/test/kitchen/cookbooks/runit-other_test/templates/default\n",
      "8.0K\t./day_5_mining_the_Social_web/deploy/cookbooks/runit/test/kitchen/cookbooks/runit-other_test/templates\n",
      "16K\t./day_5_mining_the_Social_web/deploy/cookbooks/runit/test/kitchen/cookbooks/runit-other_test\n",
      "4.0K\t./day_5_mining_the_Social_web/deploy/cookbooks/runit/test/kitchen/cookbooks/runit_test/files/default/tests/minitest/support\n",
      "16K\t./day_5_mining_the_Social_web/deploy/cookbooks/runit/test/kitchen/cookbooks/runit_test/files/default/tests/minitest\n",
      "16K\t./day_5_mining_the_Social_web/deploy/cookbooks/runit/test/kitchen/cookbooks/runit_test/files/default/tests\n",
      "16K\t./day_5_mining_the_Social_web/deploy/cookbooks/runit/test/kitchen/cookbooks/runit_test/files/default\n",
      "16K\t./day_5_mining_the_Social_web/deploy/cookbooks/runit/test/kitchen/cookbooks/runit_test/files\n",
      "8.0K\t./day_5_mining_the_Social_web/deploy/cookbooks/runit/test/kitchen/cookbooks/runit_test/recipes\n",
      "116K\t./day_5_mining_the_Social_web/deploy/cookbooks/runit/test/kitchen/cookbooks/runit_test/templates/default\n",
      "116K\t./day_5_mining_the_Social_web/deploy/cookbooks/runit/test/kitchen/cookbooks/runit_test/templates\n",
      "152K\t./day_5_mining_the_Social_web/deploy/cookbooks/runit/test/kitchen/cookbooks/runit_test\n",
      "168K\t./day_5_mining_the_Social_web/deploy/cookbooks/runit/test/kitchen/cookbooks\n",
      "172K\t./day_5_mining_the_Social_web/deploy/cookbooks/runit/test/kitchen\n",
      "24K\t./day_5_mining_the_Social_web/deploy/cookbooks/runit/test/spec/libraries\n",
      "28K\t./day_5_mining_the_Social_web/deploy/cookbooks/runit/test/spec\n",
      "200K\t./day_5_mining_the_Social_web/deploy/cookbooks/runit/test\n",
      "328K\t./day_5_mining_the_Social_web/deploy/cookbooks/runit\n",
      "16K\t./day_5_mining_the_Social_web/deploy/cookbooks/yum/attributes\n",
      "4.0K\t./day_5_mining_the_Social_web/deploy/cookbooks/yum/files/default/tests/minitest/support\n",
      "12K\t./day_5_mining_the_Social_web/deploy/cookbooks/yum/files/default/tests/minitest\n",
      "12K\t./day_5_mining_the_Social_web/deploy/cookbooks/yum/files/default/tests\n",
      "12K\t./day_5_mining_the_Social_web/deploy/cookbooks/yum/files/default\n",
      "12K\t./day_5_mining_the_Social_web/deploy/cookbooks/yum/files\n",
      "12K\t./day_5_mining_the_Social_web/deploy/cookbooks/yum/providers\n",
      "36K\t./day_5_mining_the_Social_web/deploy/cookbooks/yum/recipes\n",
      "8.0K\t./day_5_mining_the_Social_web/deploy/cookbooks/yum/resources\n",
      "12K\t./day_5_mining_the_Social_web/deploy/cookbooks/yum/templates/default\n",
      "12K\t./day_5_mining_the_Social_web/deploy/cookbooks/yum/templates\n",
      "168K\t./day_5_mining_the_Social_web/deploy/cookbooks/yum\n",
      "932K\t./day_5_mining_the_Social_web/deploy/cookbooks\n",
      "932K\t./day_5_mining_the_Social_web/deploy\n",
      "820K\t./day_5_mining_the_Social_web/exercises\n",
      "296K\t./day_5_mining_the_Social_web/images\n",
      "2.1M\t./day_5_mining_the_Social_web/ipynb/images\n",
      "4.0M\t./day_5_mining_the_Social_web/ipynb/Minining_the_social_web/html\n",
      "4.0K\t./day_5_mining_the_Social_web/ipynb/Minining_the_social_web/resources/appc-pythontips\n",
      "424K\t./day_5_mining_the_Social_web/ipynb/Minining_the_social_web/resources/ch01-twitter/data\n",
      "348K\t./day_5_mining_the_Social_web/ipynb/Minining_the_social_web/resources/ch01-twitter/images\n",
      "772K\t./day_5_mining_the_Social_web/ipynb/Minining_the_social_web/resources/ch01-twitter\n",
      "512K\t./day_5_mining_the_Social_web/ipynb/Minining_the_social_web/resources/ch02-facebook/images\n",
      "8.0K\t./day_5_mining_the_Social_web/ipynb/Minining_the_social_web/resources/ch02-facebook/viz\n",
      "520K\t./day_5_mining_the_Social_web/ipynb/Minining_the_social_web/resources/ch02-facebook\n",
      "572K\t./day_5_mining_the_Social_web/ipynb/Minining_the_social_web/resources/ch03-linkedin/images\n",
      "36K\t./day_5_mining_the_Social_web/ipynb/Minining_the_social_web/resources/ch03-linkedin/viz\n",
      "612K\t./day_5_mining_the_Social_web/ipynb/Minining_the_social_web/resources/ch03-linkedin\n",
      "16K\t./day_5_mining_the_Social_web/ipynb/Minining_the_social_web/resources/ch04-googleplus/viz\n",
      "16K\t./day_5_mining_the_Social_web/ipynb/Minining_the_social_web/resources/ch04-googleplus\n",
      "0\t./day_5_mining_the_Social_web/ipynb/Minining_the_social_web/resources/ch05-webpages\n",
      "26M\t./day_5_mining_the_Social_web/ipynb/Minining_the_social_web/resources/ch06-mailboxes/data\n",
      "26M\t./day_5_mining_the_Social_web/ipynb/Minining_the_social_web/resources/ch06-mailboxes\n",
      "80K\t./day_5_mining_the_Social_web/ipynb/Minining_the_social_web/resources/ch07-github\n",
      "4.0K\t./day_5_mining_the_Social_web/ipynb/Minining_the_social_web/resources/ch08-semanticweb\n",
      "0\t./day_5_mining_the_Social_web/ipynb/Minining_the_social_web/resources/ch09-twittercookbook\n",
      "836K\t./day_5_mining_the_Social_web/ipynb/Minining_the_social_web/resources/sampler-images/images\n",
      "836K\t./day_5_mining_the_Social_web/ipynb/Minining_the_social_web/resources/sampler-images\n",
      "29M\t./day_5_mining_the_Social_web/ipynb/Minining_the_social_web/resources\n",
      "34M\t./day_5_mining_the_Social_web/ipynb/Minining_the_social_web\n",
      "36M\t./day_5_mining_the_Social_web/ipynb\n",
      "38M\t./day_5_mining_the_Social_web\n",
      "305M\t.\n"
     ]
    }
   ],
   "source": [
    "!du -h\n",
    "#disk usage of folders, human readable"
   ]
  },
  {
   "cell_type": "code",
   "execution_count": 108,
   "metadata": {
    "collapsed": false
   },
   "outputs": [
    {
     "name": "stdout",
     "output_type": "stream",
     "text": [
      "4.0K\t./.git/config\n",
      "4.0K\t./.git/description\n",
      "4.0K\t./.git/HEAD\n",
      "4.0K\t./.git/hooks/applypatch-msg.sample\n",
      "4.0K\t./.git/hooks/commit-msg.sample\n",
      "4.0K\t./.git/hooks/post-update.sample\n",
      "4.0K\t./.git/hooks/pre-applypatch.sample\n",
      "4.0K\t./.git/hooks/pre-commit.sample\n",
      "4.0K\t./.git/hooks/pre-push.sample\n",
      "8.0K\t./.git/hooks/pre-rebase.sample\n",
      "4.0K\t./.git/hooks/pre-receive.sample\n",
      "4.0K\t./.git/hooks/prepare-commit-msg.sample\n",
      "4.0K\t./.git/hooks/update.sample\n",
      "48K\t./.git/hooks\n",
      "76K\t./.git/index\n",
      "4.0K\t./.git/info/exclude\n",
      "4.0K\t./.git/info\n",
      "4.0K\t./.git/logs/HEAD\n",
      "4.0K\t./.git/logs/refs/heads/master\n",
      "4.0K\t./.git/logs/refs/heads\n",
      "4.0K\t./.git/logs/refs/remotes/origin/HEAD\n",
      "4.0K\t./.git/logs/refs/remotes/origin\n",
      "4.0K\t./.git/logs/refs/remotes\n",
      "8.0K\t./.git/logs/refs\n",
      "12K\t./.git/logs\n",
      "0\t./.git/objects/info\n",
      "28K\t./.git/objects/pack/pack-85a0179a2e3a1d66f190332d08d635e657c31615.idx\n",
      "97M\t./.git/objects/pack/pack-85a0179a2e3a1d66f190332d08d635e657c31615.pack\n",
      "97M\t./.git/objects/pack\n",
      "97M\t./.git/objects\n",
      "4.0K\t./.git/packed-refs\n",
      "4.0K\t./.git/refs/heads/master\n",
      "4.0K\t./.git/refs/heads\n",
      "4.0K\t./.git/refs/remotes/origin/HEAD\n",
      "4.0K\t./.git/refs/remotes/origin\n",
      "4.0K\t./.git/refs/remotes\n",
      "0\t./.git/refs/tags\n",
      "8.0K\t./.git/refs\n",
      "97M\t./.git\n",
      "20K\t./data/economics/AAA.csv\n",
      "20K\t./data/economics/BAA.csv\n",
      "16K\t./data/economics/CPILFESL.csv\n",
      "8.0K\t./data/economics/GDPC1.csv\n",
      "16K\t./data/economics/GS1.csv\n",
      "16K\t./data/economics/GS10.csv\n",
      "24K\t./data/economics/INDPRO.csv\n",
      "16K\t./data/economics/UNRATE.csv\n",
      "140K\t./data/economics\n",
      "4.0K\t./data/NLTK/BrownNews.txt\n",
      "4.0K\t./data/NLTK/Chopped/F0\n",
      "4.0K\t./data/NLTK/Chopped/F1\n",
      "4.0K\t./data/NLTK/Chopped/F10\n",
      "4.0K\t./data/NLTK/Chopped/F100\n",
      "4.0K\t./data/NLTK/Chopped/F101\n",
      "4.0K\t./data/NLTK/Chopped/F102\n",
      "4.0K\t./data/NLTK/Chopped/F104\n",
      "4.0K\t./data/NLTK/Chopped/F106\n",
      "4.0K\t./data/NLTK/Chopped/F107\n",
      "4.0K\t./data/NLTK/Chopped/F108\n",
      "4.0K\t./data/NLTK/Chopped/F109\n",
      "4.0K\t./data/NLTK/Chopped/F11\n",
      "4.0K\t./data/NLTK/Chopped/F110\n",
      "4.0K\t./data/NLTK/Chopped/F111\n",
      "4.0K\t./data/NLTK/Chopped/F112\n",
      "4.0K\t./data/NLTK/Chopped/F113\n",
      "4.0K\t./data/NLTK/Chopped/F114\n",
      "4.0K\t./data/NLTK/Chopped/F115\n",
      "4.0K\t./data/NLTK/Chopped/F117\n",
      "4.0K\t./data/NLTK/Chopped/F118\n",
      "4.0K\t./data/NLTK/Chopped/F119\n",
      "4.0K\t./data/NLTK/Chopped/F12\n",
      "4.0K\t./data/NLTK/Chopped/F120\n",
      "4.0K\t./data/NLTK/Chopped/F121\n",
      "4.0K\t./data/NLTK/Chopped/F122\n",
      "4.0K\t./data/NLTK/Chopped/F123\n",
      "4.0K\t./data/NLTK/Chopped/F124\n",
      "4.0K\t./data/NLTK/Chopped/F125\n",
      "4.0K\t./data/NLTK/Chopped/F126\n",
      "4.0K\t./data/NLTK/Chopped/F127\n",
      "4.0K\t./data/NLTK/Chopped/F128\n",
      "4.0K\t./data/NLTK/Chopped/F129\n",
      "4.0K\t./data/NLTK/Chopped/F13\n",
      "4.0K\t./data/NLTK/Chopped/F130\n",
      "4.0K\t./data/NLTK/Chopped/F131\n",
      "4.0K\t./data/NLTK/Chopped/F132\n",
      "4.0K\t./data/NLTK/Chopped/F133\n",
      "4.0K\t./data/NLTK/Chopped/F134\n",
      "4.0K\t./data/NLTK/Chopped/F135\n",
      "4.0K\t./data/NLTK/Chopped/F136\n",
      "4.0K\t./data/NLTK/Chopped/F137\n",
      "4.0K\t./data/NLTK/Chopped/F138\n",
      "4.0K\t./data/NLTK/Chopped/F139\n",
      "4.0K\t./data/NLTK/Chopped/F14\n",
      "4.0K\t./data/NLTK/Chopped/F140\n",
      "4.0K\t./data/NLTK/Chopped/F141\n",
      "4.0K\t./data/NLTK/Chopped/F142\n",
      "4.0K\t./data/NLTK/Chopped/F144\n",
      "4.0K\t./data/NLTK/Chopped/F145\n",
      "4.0K\t./data/NLTK/Chopped/F146\n",
      "4.0K\t./data/NLTK/Chopped/F147\n",
      "4.0K\t./data/NLTK/Chopped/F148\n",
      "4.0K\t./data/NLTK/Chopped/F149\n",
      "4.0K\t./data/NLTK/Chopped/F15\n",
      "4.0K\t./data/NLTK/Chopped/F151\n",
      "4.0K\t./data/NLTK/Chopped/F152\n",
      "4.0K\t./data/NLTK/Chopped/F153\n",
      "4.0K\t./data/NLTK/Chopped/F154\n",
      "4.0K\t./data/NLTK/Chopped/F155\n",
      "4.0K\t./data/NLTK/Chopped/F156\n",
      "4.0K\t./data/NLTK/Chopped/F157\n",
      "4.0K\t./data/NLTK/Chopped/F158\n",
      "4.0K\t./data/NLTK/Chopped/F159\n",
      "4.0K\t./data/NLTK/Chopped/F16\n",
      "4.0K\t./data/NLTK/Chopped/F160\n",
      "4.0K\t./data/NLTK/Chopped/F161\n",
      "4.0K\t./data/NLTK/Chopped/F162\n",
      "4.0K\t./data/NLTK/Chopped/F163\n",
      "4.0K\t./data/NLTK/Chopped/F164\n",
      "4.0K\t./data/NLTK/Chopped/F165\n",
      "4.0K\t./data/NLTK/Chopped/F166\n",
      "4.0K\t./data/NLTK/Chopped/F167\n",
      "4.0K\t./data/NLTK/Chopped/F168\n",
      "4.0K\t./data/NLTK/Chopped/F169\n",
      "4.0K\t./data/NLTK/Chopped/F170\n",
      "4.0K\t./data/NLTK/Chopped/F171\n",
      "4.0K\t./data/NLTK/Chopped/F172\n",
      "4.0K\t./data/NLTK/Chopped/F173\n",
      "4.0K\t./data/NLTK/Chopped/F174\n",
      "4.0K\t./data/NLTK/Chopped/F175\n",
      "4.0K\t./data/NLTK/Chopped/F176\n",
      "4.0K\t./data/NLTK/Chopped/F177\n",
      "4.0K\t./data/NLTK/Chopped/F178\n",
      "4.0K\t./data/NLTK/Chopped/F179\n",
      "4.0K\t./data/NLTK/Chopped/F18\n",
      "4.0K\t./data/NLTK/Chopped/F180\n",
      "4.0K\t./data/NLTK/Chopped/F181\n",
      "4.0K\t./data/NLTK/Chopped/F182\n",
      "4.0K\t./data/NLTK/Chopped/F183\n",
      "4.0K\t./data/NLTK/Chopped/F185\n",
      "4.0K\t./data/NLTK/Chopped/F186\n",
      "4.0K\t./data/NLTK/Chopped/F187\n",
      "4.0K\t./data/NLTK/Chopped/F189\n",
      "4.0K\t./data/NLTK/Chopped/F19\n",
      "4.0K\t./data/NLTK/Chopped/F190\n",
      "4.0K\t./data/NLTK/Chopped/F191\n",
      "4.0K\t./data/NLTK/Chopped/F192\n",
      "4.0K\t./data/NLTK/Chopped/F193\n",
      "4.0K\t./data/NLTK/Chopped/F194\n",
      "4.0K\t./data/NLTK/Chopped/F195\n",
      "4.0K\t./data/NLTK/Chopped/F196\n",
      "4.0K\t./data/NLTK/Chopped/F197\n",
      "4.0K\t./data/NLTK/Chopped/F198\n",
      "4.0K\t./data/NLTK/Chopped/F199\n",
      "4.0K\t./data/NLTK/Chopped/F2\n",
      "4.0K\t./data/NLTK/Chopped/F20\n",
      "4.0K\t./data/NLTK/Chopped/F200\n",
      "4.0K\t./data/NLTK/Chopped/F201\n",
      "4.0K\t./data/NLTK/Chopped/F202\n",
      "4.0K\t./data/NLTK/Chopped/F204\n",
      "4.0K\t./data/NLTK/Chopped/F205\n",
      "4.0K\t./data/NLTK/Chopped/F206\n",
      "4.0K\t./data/NLTK/Chopped/F207\n",
      "4.0K\t./data/NLTK/Chopped/F208\n",
      "4.0K\t./data/NLTK/Chopped/F209\n",
      "4.0K\t./data/NLTK/Chopped/F210\n",
      "4.0K\t./data/NLTK/Chopped/F211\n",
      "4.0K\t./data/NLTK/Chopped/F212\n",
      "4.0K\t./data/NLTK/Chopped/F213\n",
      "4.0K\t./data/NLTK/Chopped/F214\n",
      "4.0K\t./data/NLTK/Chopped/F215\n",
      "4.0K\t./data/NLTK/Chopped/F216\n",
      "4.0K\t./data/NLTK/Chopped/F218\n",
      "4.0K\t./data/NLTK/Chopped/F219\n",
      "4.0K\t./data/NLTK/Chopped/F22\n",
      "4.0K\t./data/NLTK/Chopped/F220\n",
      "4.0K\t./data/NLTK/Chopped/F221\n",
      "4.0K\t./data/NLTK/Chopped/F222\n",
      "4.0K\t./data/NLTK/Chopped/F223\n",
      "4.0K\t./data/NLTK/Chopped/F224\n",
      "4.0K\t./data/NLTK/Chopped/F225\n",
      "4.0K\t./data/NLTK/Chopped/F226\n",
      "4.0K\t./data/NLTK/Chopped/F227\n",
      "4.0K\t./data/NLTK/Chopped/F228\n",
      "4.0K\t./data/NLTK/Chopped/F229\n",
      "4.0K\t./data/NLTK/Chopped/F23\n",
      "4.0K\t./data/NLTK/Chopped/F230\n",
      "4.0K\t./data/NLTK/Chopped/F231\n",
      "4.0K\t./data/NLTK/Chopped/F232\n",
      "4.0K\t./data/NLTK/Chopped/F233\n",
      "4.0K\t./data/NLTK/Chopped/F24\n",
      "4.0K\t./data/NLTK/Chopped/F25\n",
      "4.0K\t./data/NLTK/Chopped/F26\n",
      "4.0K\t./data/NLTK/Chopped/F27\n",
      "4.0K\t./data/NLTK/Chopped/F28\n",
      "4.0K\t./data/NLTK/Chopped/F29\n",
      "4.0K\t./data/NLTK/Chopped/F3\n",
      "4.0K\t./data/NLTK/Chopped/F30\n",
      "4.0K\t./data/NLTK/Chopped/F31\n",
      "4.0K\t./data/NLTK/Chopped/F32\n",
      "4.0K\t./data/NLTK/Chopped/F33\n",
      "4.0K\t./data/NLTK/Chopped/F34\n",
      "4.0K\t./data/NLTK/Chopped/F35\n",
      "4.0K\t./data/NLTK/Chopped/F36\n",
      "4.0K\t./data/NLTK/Chopped/F37\n",
      "4.0K\t./data/NLTK/Chopped/F38\n",
      "4.0K\t./data/NLTK/Chopped/F39\n",
      "4.0K\t./data/NLTK/Chopped/F4\n",
      "4.0K\t./data/NLTK/Chopped/F40\n",
      "4.0K\t./data/NLTK/Chopped/F41\n",
      "4.0K\t./data/NLTK/Chopped/F42\n",
      "4.0K\t./data/NLTK/Chopped/F43\n",
      "4.0K\t./data/NLTK/Chopped/F44\n",
      "4.0K\t./data/NLTK/Chopped/F45\n",
      "4.0K\t./data/NLTK/Chopped/F46\n",
      "4.0K\t./data/NLTK/Chopped/F48\n",
      "4.0K\t./data/NLTK/Chopped/F49\n",
      "4.0K\t./data/NLTK/Chopped/F5\n",
      "4.0K\t./data/NLTK/Chopped/F50\n",
      "4.0K\t./data/NLTK/Chopped/F51\n",
      "4.0K\t./data/NLTK/Chopped/F52\n",
      "4.0K\t./data/NLTK/Chopped/F53\n",
      "4.0K\t./data/NLTK/Chopped/F54\n",
      "4.0K\t./data/NLTK/Chopped/F55\n",
      "4.0K\t./data/NLTK/Chopped/F56\n",
      "4.0K\t./data/NLTK/Chopped/F57\n",
      "4.0K\t./data/NLTK/Chopped/F58\n",
      "4.0K\t./data/NLTK/Chopped/F59\n",
      "4.0K\t./data/NLTK/Chopped/F6\n",
      "4.0K\t./data/NLTK/Chopped/F60\n",
      "4.0K\t./data/NLTK/Chopped/F61\n",
      "4.0K\t./data/NLTK/Chopped/F62\n",
      "4.0K\t./data/NLTK/Chopped/F63\n",
      "4.0K\t./data/NLTK/Chopped/F64\n",
      "4.0K\t./data/NLTK/Chopped/F65\n",
      "4.0K\t./data/NLTK/Chopped/F66\n",
      "4.0K\t./data/NLTK/Chopped/F67\n",
      "4.0K\t./data/NLTK/Chopped/F68\n",
      "4.0K\t./data/NLTK/Chopped/F69\n",
      "4.0K\t./data/NLTK/Chopped/F7\n",
      "4.0K\t./data/NLTK/Chopped/F70\n",
      "4.0K\t./data/NLTK/Chopped/F71\n",
      "4.0K\t./data/NLTK/Chopped/F72\n",
      "4.0K\t./data/NLTK/Chopped/F73\n",
      "4.0K\t./data/NLTK/Chopped/F74\n",
      "4.0K\t./data/NLTK/Chopped/F75\n",
      "4.0K\t./data/NLTK/Chopped/F76\n",
      "4.0K\t./data/NLTK/Chopped/F77\n",
      "4.0K\t./data/NLTK/Chopped/F78\n",
      "4.0K\t./data/NLTK/Chopped/F79\n",
      "4.0K\t./data/NLTK/Chopped/F8\n",
      "4.0K\t./data/NLTK/Chopped/F80\n",
      "4.0K\t./data/NLTK/Chopped/F81\n",
      "4.0K\t./data/NLTK/Chopped/F82\n",
      "4.0K\t./data/NLTK/Chopped/F83\n",
      "4.0K\t./data/NLTK/Chopped/F84\n",
      "4.0K\t./data/NLTK/Chopped/F85\n",
      "4.0K\t./data/NLTK/Chopped/F86\n",
      "4.0K\t./data/NLTK/Chopped/F87\n",
      "4.0K\t./data/NLTK/Chopped/F88\n",
      "4.0K\t./data/NLTK/Chopped/F9\n",
      "4.0K\t./data/NLTK/Chopped/F90\n",
      "4.0K\t./data/NLTK/Chopped/F91\n",
      "4.0K\t./data/NLTK/Chopped/F93\n",
      "4.0K\t./data/NLTK/Chopped/F94\n",
      "4.0K\t./data/NLTK/Chopped/F95\n",
      "4.0K\t./data/NLTK/Chopped/F96\n",
      "4.0K\t./data/NLTK/Chopped/F97\n",
      "4.0K\t./data/NLTK/Chopped/F99\n",
      "8.0K\t./data/NLTK/Chopped/newF\n",
      "932K\t./data/NLTK/Chopped\n",
      "936K\t./data/NLTK\n",
      "4.0K\t./data/SQL/data.csv\n",
      "4.0K\t./data/SQL/usa_lat_long.csv\n",
      "8.0K\t./data/SQL\n",
      "96K\t./data/ThinkStatsData/.ipynb_checkpoints/ReadThinkStatData-checkpoint.ipynb\n",
      "96K\t./data/ThinkStatsData/.ipynb_checkpoints\n",
      "5.9M\t./data/ThinkStatsData/2002FemPreg.dat\n",
      "36M\t./data/ThinkStatsData/2002FemResp.dat\n",
      "15M\t./data/ThinkStatsData/2002Male.dat\n",
      "4.0K\t./data/ThinkStatsData/binaryFile\n",
      "4.0K\t./data/ThinkStatsData/json.jsn\n",
      "4.0K\t./data/ThinkStatsData/json.pkl\n",
      "316K\t./data/ThinkStatsData/pickle.pkl\n",
      "316K\t./data/ThinkStatsData/pickle0.pkl\n",
      "80K\t./data/ThinkStatsData/pickle1.pkl\n",
      "80K\t./data/ThinkStatsData/pickle2.pkl\n",
      "4.0K\t./data/ThinkStatsData/picklez0.pkl\n",
      "4.0K\t./data/ThinkStatsData/picklez1.pkl\n",
      "4.0K\t./data/ThinkStatsData/picklez2.pkl\n",
      "8.0K\t./data/ThinkStatsData/survey.pl\n",
      "8.0K\t./data/ThinkStatsData/survey.tmp\n",
      "57M\t./data/ThinkStatsData\n",
      "4.0K\t./data/twitter-diversity/README.md\n",
      "9.3M\t./data/twitter-diversity/tag-volume.csv\n",
      "72K\t./data/twitter-diversity/total-volume.csv\n",
      "9.4M\t./data/twitter-diversity\n",
      "840K\t./data/weather/ALL.corrupted.csv\n",
      "840K\t./data/weather/ALL.head.csv\n",
      "4.0K\t./data/weather/data-source.txt\n",
      "24K\t./data/weather/ghcnd-readme.txt\n",
      "7.1M\t./data/weather/ghcnd-stations.txt\n",
      "7.5M\t./data/weather/ghcnd-stations_buffered.txt\n",
      "4.0K\t./data/weather/ghcnd-version.txt\n",
      "37M\t./data/weather/make_covar.raw_256\n",
      "25M\t./data/weather/SAMPLE_TMAX.csv\n",
      "16K\t./data/weather/TMAX.10.csv\n",
      "0\t./data/weather/TMAX.head.csv\n",
      "79M\t./data/weather\n",
      "146M\t./data\n",
      "8.0K\t./day_1_python_and_unix/.DS_Store\n",
      "284K\t./day_1_python_and_unix/.ipynb_checkpoints/1_pregnancy_length_analysis-checkpoint.ipynb\n",
      "68K\t./day_1_python_and_unix/.ipynb_checkpoints/2_python_basics-checkpoint.ipynb\n",
      "48K\t./day_1_python_and_unix/.ipynb_checkpoints/3_python_basics_excercises-checkpoint.ipynb\n",
      "100K\t./day_1_python_and_unix/.ipynb_checkpoints/4_unix,_sys,_and_os-checkpoint.ipynb\n",
      "28K\t./day_1_python_and_unix/.ipynb_checkpoints/5_unix_exercises-checkpoint.ipynb\n",
      "80K\t./day_1_python_and_unix/.ipynb_checkpoints/From_Linux_Bash_Shell_Cheat_Sheet-checkpoint.ipynb\n",
      "612K\t./day_1_python_and_unix/.ipynb_checkpoints\n",
      "4.0K\t./day_1_python_and_unix/._.DS_Store\n",
      "284K\t./day_1_python_and_unix/1_pregnancy_length_analysis.ipynb\n",
      "68K\t./day_1_python_and_unix/2_python_basics.ipynb\n",
      "44K\t./day_1_python_and_unix/3_python_basics_excercises.ipynb\n",
      "100K\t./day_1_python_and_unix/4_unix,_sys,_and_os.ipynb\n",
      "28K\t./day_1_python_and_unix/5_unix_exercises.ipynb\n",
      "12K\t./day_1_python_and_unix/8queen.jpg\n",
      "80K\t./day_1_python_and_unix/From_Linux_Bash_Shell_Cheat_Sheet.ipynb\n",
      "4.0K\t./day_1_python_and_unix/LockFile.md\n",
      "4.0K\t./day_1_python_and_unix/Word_List_sorted.csv\n",
      "1.3M\t./day_1_python_and_unix\n",
      "4.0K\t./day_2_github_io_numpy_pandas/.gitignore\n",
      "6.7M\t./day_2_github_io_numpy_pandas/00_git.slides/git-intro.pdf\n",
      "6.7M\t./day_2_github_io_numpy_pandas/00_git.slides\n",
      "464K\t./day_2_github_io_numpy_pandas/01_IO.ipynb\n",
      "680K\t./day_2_github_io_numpy_pandas/025_Memory_hierarchy.slides/MemoryHeirarchy.pdf\n",
      "680K\t./day_2_github_io_numpy_pandas/025_Memory_hierarchy.slides\n",
      "136K\t./day_2_github_io_numpy_pandas/02_measuring_performance_of_memory_hierarchy.ipynb\n",
      "8.0K\t./day_2_github_io_numpy_pandas/03_numpy_vs_native.ipynb\n",
      "24K\t./day_2_github_io_numpy_pandas/04_learn-pandas/lessons/01 - Lesson, Basic Intro.ipynb\n",
      "20K\t./day_2_github_io_numpy_pandas/04_learn-pandas/lessons/02 - Skip Lesson, More sophisticated intro.ipynb\n",
      "584K\t./day_2_github_io_numpy_pandas/04_learn-pandas/lessons/03 - Lesson, Sophisticated Intro.ipynb\n",
      "36K\t./day_2_github_io_numpy_pandas/04_learn-pandas/lessons/04 - Lesson, Manipulating dataframes, slicing and dicing..ipynb\n",
      "8.0K\t./day_2_github_io_numpy_pandas/04_learn-pandas/lessons/05 - Lesson, Stack and Unstack.ipynb\n",
      "12K\t./day_2_github_io_numpy_pandas/04_learn-pandas/lessons/06 - Lesson, GroupBy.ipynb\n",
      "8.0K\t./day_2_github_io_numpy_pandas/04_learn-pandas/lessons/07 - Outliers, Skip Lesson.ipynb\n",
      "8.0K\t./day_2_github_io_numpy_pandas/04_learn-pandas/lessons/08 - Skip Lesson, working with microsoft SQL server..ipynb\n",
      "4.0K\t./day_2_github_io_numpy_pandas/04_learn-pandas/lessons/09 - Working with databases and spreadsheets Skip Lesson.ipynb\n",
      "4.0K\t./day_2_github_io_numpy_pandas/04_learn-pandas/lessons/10 - skip Lesson, Working with JSON and Excel formats.ipynb\n",
      "20K\t./day_2_github_io_numpy_pandas/04_learn-pandas/lessons/11 - Skip Lesson, Combining several excel spreadsheets..ipynb\n",
      "36K\t./day_2_github_io_numpy_pandas/04_learn-pandas/lessons/Cookbook - Compute.ipynb\n",
      "24K\t./day_2_github_io_numpy_pandas/04_learn-pandas/lessons/Cookbook - Merge.ipynb\n",
      "36K\t./day_2_github_io_numpy_pandas/04_learn-pandas/lessons/Cookbook - Select.ipynb\n",
      "8.0K\t./day_2_github_io_numpy_pandas/04_learn-pandas/lessons/Cookbook - Sort.ipynb\n",
      "4.0K\t./day_2_github_io_numpy_pandas/04_learn-pandas/lessons/DataFiles/usa_lat_long.csv\n",
      "4.0K\t./day_2_github_io_numpy_pandas/04_learn-pandas/lessons/DataFiles\n",
      "24K\t./day_2_github_io_numpy_pandas/04_learn-pandas/lessons/Lesson3.xlsx\n",
      "40K\t./day_2_github_io_numpy_pandas/04_learn-pandas/lessons/Python_101.ipynb\n",
      "908K\t./day_2_github_io_numpy_pandas/04_learn-pandas/lessons\n",
      "4.0K\t./day_2_github_io_numpy_pandas/04_learn-pandas/README.md\n",
      "912K\t./day_2_github_io_numpy_pandas/04_learn-pandas\n",
      "24K\t./day_2_github_io_numpy_pandas/10_exercises.ipynb\n",
      "8.0K\t./day_2_github_io_numpy_pandas/dict.dat\n",
      "8.0K\t./day_2_github_io_numpy_pandas/diff/03_numpy_vs_native.ipynb\n",
      "8.0K\t./day_2_github_io_numpy_pandas/diff/03_numpy_vs_native.ipynb.1\n",
      "16K\t./day_2_github_io_numpy_pandas/diff\n",
      "8.9M\t./day_2_github_io_numpy_pandas\n",
      "4.0K\t./day_3_models_and_learning/.gitignore\n",
      "7.1M\t./day_3_models_and_learning/01_PCA_Slides/PCA.pdf\n",
      "7.1M\t./day_3_models_and_learning/01_PCA_Slides\n",
      "1.4M\t./day_3_models_and_learning/02_Weather Analysis.ipynb\n",
      "2.1M\t./day_3_models_and_learning/02_Weather Analysis.V2.ipynb\n",
      "12K\t./day_3_models_and_learning/03_Exercises.ipynb\n",
      "2.3M\t./day_3_models_and_learning/04_DecisionTreesSlides/DecisionTrees.pdf\n",
      "2.3M\t./day_3_models_and_learning/04_DecisionTreesSlides\n",
      "4.0K\t./day_3_models_and_learning/Basics.ipynb\n",
      "8.0K\t./day_3_models_and_learning/Decision trees.ipynb\n",
      "13M\t./day_3_models_and_learning\n",
      "4.0K\t./day_4_OOP_and_matplotlib/.gitignore\n",
      "960K\t./day_4_OOP_and_matplotlib/ClassHierarchy.pdf\n",
      "4.0K\t./day_4_OOP_and_matplotlib/matplotlib/.gitignore\n",
      "8.0K\t./day_4_OOP_and_matplotlib/matplotlib/04_Exercises.ipynb\n",
      "472K\t./day_4_OOP_and_matplotlib/matplotlib/06_MatplotlibIntro.ipynb\n",
      "316K\t./day_4_OOP_and_matplotlib/matplotlib/12_AdvancedMatplotlib.ipynb\n",
      "32K\t./day_4_OOP_and_matplotlib/matplotlib/2010yoav2.png\n",
      "36K\t./day_4_OOP_and_matplotlib/matplotlib/Matplotlib OOP Exercise.ipynb\n",
      "4.0K\t./day_4_OOP_and_matplotlib/matplotlib/rain.py\n",
      "876K\t./day_4_OOP_and_matplotlib/matplotlib\n",
      "4.0K\t./day_4_OOP_and_matplotlib/OOP/.gitignore\n",
      "40K\t./day_4_OOP_and_matplotlib/OOP/01_Object Oriented Python.ipynb\n",
      "16K\t./day_4_OOP_and_matplotlib/OOP/02_Classes_for_mortgage_calcs.ipynb\n",
      "236K\t./day_4_OOP_and_matplotlib/OOP/03_VisualMortgages.ipynb\n",
      "4.0K\t./day_4_OOP_and_matplotlib/OOP/compareMortgages.py\n",
      "4.0K\t./day_4_OOP_and_matplotlib/OOP/dogClass.py\n",
      "4.0K\t./day_4_OOP_and_matplotlib/OOP/Inheritence.py\n",
      "312K\t./day_4_OOP_and_matplotlib/OOP\n",
      "2.2M\t./day_4_OOP_and_matplotlib\n",
      "4.0K\t./day_5_mining_the_Social_web/.gitignore\n",
      "4.0K\t./day_5_mining_the_Social_web/CONTRIBUTING.md\n",
      "4.0K\t./day_5_mining_the_Social_web/deploy/cookbooks/apt/.gitignore\n",
      "4.0K\t./day_5_mining_the_Social_web/deploy/cookbooks/apt/.kitchen.yml\n",
      "4.0K\t./day_5_mining_the_Social_web/deploy/cookbooks/apt/attributes/default.rb\n",
      "4.0K\t./day_5_mining_the_Social_web/deploy/cookbooks/apt/attributes\n",
      "4.0K\t./day_5_mining_the_Social_web/deploy/cookbooks/apt/Berksfile\n",
      "4.0K\t./day_5_mining_the_Social_web/deploy/cookbooks/apt/CHANGELOG.md\n",
      "4.0K\t./day_5_mining_the_Social_web/deploy/cookbooks/apt/CONTRIBUTING\n",
      "4.0K\t./day_5_mining_the_Social_web/deploy/cookbooks/apt/files/default/apt-proxy-v2.conf\n",
      "4.0K\t./day_5_mining_the_Social_web/deploy/cookbooks/apt/files/default\n",
      "4.0K\t./day_5_mining_the_Social_web/deploy/cookbooks/apt/files\n",
      "12K\t./day_5_mining_the_Social_web/deploy/cookbooks/apt/LICENSE\n",
      "4.0K\t./day_5_mining_the_Social_web/deploy/cookbooks/apt/metadata.rb\n",
      "4.0K\t./day_5_mining_the_Social_web/deploy/cookbooks/apt/providers/preference.rb\n",
      "8.0K\t./day_5_mining_the_Social_web/deploy/cookbooks/apt/providers/repository.rb\n",
      "12K\t./day_5_mining_the_Social_web/deploy/cookbooks/apt/providers\n",
      "12K\t./day_5_mining_the_Social_web/deploy/cookbooks/apt/README.md\n",
      "4.0K\t./day_5_mining_the_Social_web/deploy/cookbooks/apt/recipes/cacher-client.rb\n",
      "4.0K\t./day_5_mining_the_Social_web/deploy/cookbooks/apt/recipes/cacher-ng.rb\n",
      "4.0K\t./day_5_mining_the_Social_web/deploy/cookbooks/apt/recipes/default.rb\n",
      "12K\t./day_5_mining_the_Social_web/deploy/cookbooks/apt/recipes\n",
      "4.0K\t./day_5_mining_the_Social_web/deploy/cookbooks/apt/resources/preference.rb\n",
      "4.0K\t./day_5_mining_the_Social_web/deploy/cookbooks/apt/resources/repository.rb\n",
      "8.0K\t./day_5_mining_the_Social_web/deploy/cookbooks/apt/resources\n",
      "4.0K\t./day_5_mining_the_Social_web/deploy/cookbooks/apt/spec/cacher-client_spec.rb\n",
      "4.0K\t./day_5_mining_the_Social_web/deploy/cookbooks/apt/spec/cacher-ng_spec.rb\n",
      "4.0K\t./day_5_mining_the_Social_web/deploy/cookbooks/apt/spec/default_spec.rb\n",
      "4.0K\t./day_5_mining_the_Social_web/deploy/cookbooks/apt/spec/spec_helper.rb\n",
      "20K\t./day_5_mining_the_Social_web/deploy/cookbooks/apt/spec\n",
      "8.0K\t./day_5_mining_the_Social_web/deploy/cookbooks/apt/templates/debian-6.0/acng.conf.erb\n",
      "8.0K\t./day_5_mining_the_Social_web/deploy/cookbooks/apt/templates/debian-6.0\n",
      "4.0K\t./day_5_mining_the_Social_web/deploy/cookbooks/apt/templates/default/01proxy.erb\n",
      "16K\t./day_5_mining_the_Social_web/deploy/cookbooks/apt/templates/default/acng.conf.erb\n",
      "20K\t./day_5_mining_the_Social_web/deploy/cookbooks/apt/templates/default\n",
      "16K\t./day_5_mining_the_Social_web/deploy/cookbooks/apt/templates/ubuntu-10.04/acng.conf.erb\n",
      "16K\t./day_5_mining_the_Social_web/deploy/cookbooks/apt/templates/ubuntu-10.04\n",
      "44K\t./day_5_mining_the_Social_web/deploy/cookbooks/apt/templates\n",
      "4.0K\t./day_5_mining_the_Social_web/deploy/cookbooks/apt/test/cookbooks/apt_test/files/default/tests/minitest/cacher-client_test.rb\n",
      "4.0K\t./day_5_mining_the_Social_web/deploy/cookbooks/apt/test/cookbooks/apt_test/files/default/tests/minitest/cacher-ng-client_test.rb\n",
      "4.0K\t./day_5_mining_the_Social_web/deploy/cookbooks/apt/test/cookbooks/apt_test/files/default/tests/minitest/cacher-ng_test.rb\n",
      "4.0K\t./day_5_mining_the_Social_web/deploy/cookbooks/apt/test/cookbooks/apt_test/files/default/tests/minitest/default_test.rb\n",
      "4.0K\t./day_5_mining_the_Social_web/deploy/cookbooks/apt/test/cookbooks/apt_test/files/default/tests/minitest/lwrps_test.rb\n",
      "4.0K\t./day_5_mining_the_Social_web/deploy/cookbooks/apt/test/cookbooks/apt_test/files/default/tests/minitest/support/helpers.rb\n",
      "4.0K\t./day_5_mining_the_Social_web/deploy/cookbooks/apt/test/cookbooks/apt_test/files/default/tests/minitest/support\n",
      "28K\t./day_5_mining_the_Social_web/deploy/cookbooks/apt/test/cookbooks/apt_test/files/default/tests/minitest\n",
      "28K\t./day_5_mining_the_Social_web/deploy/cookbooks/apt/test/cookbooks/apt_test/files/default/tests\n",
      "28K\t./day_5_mining_the_Social_web/deploy/cookbooks/apt/test/cookbooks/apt_test/files/default\n",
      "28K\t./day_5_mining_the_Social_web/deploy/cookbooks/apt/test/cookbooks/apt_test/files\n",
      "4.0K\t./day_5_mining_the_Social_web/deploy/cookbooks/apt/test/cookbooks/apt_test/metadata.rb\n",
      "4.0K\t./day_5_mining_the_Social_web/deploy/cookbooks/apt/test/cookbooks/apt_test/README.md\n",
      "4.0K\t./day_5_mining_the_Social_web/deploy/cookbooks/apt/test/cookbooks/apt_test/recipes/cacher-client.rb\n",
      "4.0K\t./day_5_mining_the_Social_web/deploy/cookbooks/apt/test/cookbooks/apt_test/recipes/cacher-ng-client.rb\n",
      "4.0K\t./day_5_mining_the_Social_web/deploy/cookbooks/apt/test/cookbooks/apt_test/recipes/cacher-ng.rb\n",
      "4.0K\t./day_5_mining_the_Social_web/deploy/cookbooks/apt/test/cookbooks/apt_test/recipes/default.rb\n",
      "4.0K\t./day_5_mining_the_Social_web/deploy/cookbooks/apt/test/cookbooks/apt_test/recipes/lwrps.rb\n",
      "24K\t./day_5_mining_the_Social_web/deploy/cookbooks/apt/test/cookbooks/apt_test/recipes\n",
      "60K\t./day_5_mining_the_Social_web/deploy/cookbooks/apt/test/cookbooks/apt_test\n",
      "60K\t./day_5_mining_the_Social_web/deploy/cookbooks/apt/test/cookbooks\n",
      "60K\t./day_5_mining_the_Social_web/deploy/cookbooks/apt/test\n",
      "4.0K\t./day_5_mining_the_Social_web/deploy/cookbooks/apt/TESTING.md\n",
      "220K\t./day_5_mining_the_Social_web/deploy/cookbooks/apt\n",
      "4.0K\t./day_5_mining_the_Social_web/deploy/cookbooks/build-essential/attributes/default.rb\n",
      "4.0K\t./day_5_mining_the_Social_web/deploy/cookbooks/build-essential/attributes\n",
      "4.0K\t./day_5_mining_the_Social_web/deploy/cookbooks/build-essential/CHANGELOG.md\n",
      "4.0K\t./day_5_mining_the_Social_web/deploy/cookbooks/build-essential/metadata.json\n",
      "4.0K\t./day_5_mining_the_Social_web/deploy/cookbooks/build-essential/metadata.rb\n",
      "8.0K\t./day_5_mining_the_Social_web/deploy/cookbooks/build-essential/README.md\n",
      "4.0K\t./day_5_mining_the_Social_web/deploy/cookbooks/build-essential/recipes/debian.rb\n",
      "4.0K\t./day_5_mining_the_Social_web/deploy/cookbooks/build-essential/recipes/default.rb\n",
      "4.0K\t./day_5_mining_the_Social_web/deploy/cookbooks/build-essential/recipes/fedora.rb\n",
      "4.0K\t./day_5_mining_the_Social_web/deploy/cookbooks/build-essential/recipes/mac_os_x.rb\n",
      "4.0K\t./day_5_mining_the_Social_web/deploy/cookbooks/build-essential/recipes/omnios.rb\n",
      "4.0K\t./day_5_mining_the_Social_web/deploy/cookbooks/build-essential/recipes/rhel.rb\n",
      "4.0K\t./day_5_mining_the_Social_web/deploy/cookbooks/build-essential/recipes/smartos.rb\n",
      "4.0K\t./day_5_mining_the_Social_web/deploy/cookbooks/build-essential/recipes/solaris2.rb\n",
      "4.0K\t./day_5_mining_the_Social_web/deploy/cookbooks/build-essential/recipes/suse.rb\n",
      "40K\t./day_5_mining_the_Social_web/deploy/cookbooks/build-essential/recipes\n",
      "68K\t./day_5_mining_the_Social_web/deploy/cookbooks/build-essential\n",
      "4.0K\t./day_5_mining_the_Social_web/deploy/cookbooks/mtsw2e/metadata.rb\n",
      "4.0K\t./day_5_mining_the_Social_web/deploy/cookbooks/mtsw2e/README.md\n",
      "4.0K\t./day_5_mining_the_Social_web/deploy/cookbooks/mtsw2e/recipes/default.rb\n",
      "4.0K\t./day_5_mining_the_Social_web/deploy/cookbooks/mtsw2e/recipes\n",
      "4.0K\t./day_5_mining_the_Social_web/deploy/cookbooks/mtsw2e/templates/default/sv-ipython-run.erb\n",
      "4.0K\t./day_5_mining_the_Social_web/deploy/cookbooks/mtsw2e/templates/default\n",
      "4.0K\t./day_5_mining_the_Social_web/deploy/cookbooks/mtsw2e/templates\n",
      "16K\t./day_5_mining_the_Social_web/deploy/cookbooks/mtsw2e\n",
      "4.0K\t./day_5_mining_the_Social_web/deploy/cookbooks/python/.gitignore\n",
      "4.0K\t./day_5_mining_the_Social_web/deploy/cookbooks/python/.kitchen.yml\n",
      "4.0K\t./day_5_mining_the_Social_web/deploy/cookbooks/python/attributes/default.rb\n",
      "4.0K\t./day_5_mining_the_Social_web/deploy/cookbooks/python/attributes\n",
      "4.0K\t./day_5_mining_the_Social_web/deploy/cookbooks/python/Berksfile\n",
      "4.0K\t./day_5_mining_the_Social_web/deploy/cookbooks/python/CHANGELOG.md\n",
      "4.0K\t./day_5_mining_the_Social_web/deploy/cookbooks/python/CONTRIBUTING\n",
      "4.0K\t./day_5_mining_the_Social_web/deploy/cookbooks/python/Gemfile\n",
      "12K\t./day_5_mining_the_Social_web/deploy/cookbooks/python/LICENSE\n",
      "4.0K\t./day_5_mining_the_Social_web/deploy/cookbooks/python/metadata.rb\n",
      "8.0K\t./day_5_mining_the_Social_web/deploy/cookbooks/python/providers/pip.rb\n",
      "4.0K\t./day_5_mining_the_Social_web/deploy/cookbooks/python/providers/virtualenv.rb\n",
      "12K\t./day_5_mining_the_Social_web/deploy/cookbooks/python/providers\n",
      "8.0K\t./day_5_mining_the_Social_web/deploy/cookbooks/python/README.md\n",
      "4.0K\t./day_5_mining_the_Social_web/deploy/cookbooks/python/recipes/default.rb\n",
      "4.0K\t./day_5_mining_the_Social_web/deploy/cookbooks/python/recipes/package.rb\n",
      "4.0K\t./day_5_mining_the_Social_web/deploy/cookbooks/python/recipes/pip.rb\n",
      "4.0K\t./day_5_mining_the_Social_web/deploy/cookbooks/python/recipes/source.rb\n",
      "4.0K\t./day_5_mining_the_Social_web/deploy/cookbooks/python/recipes/virtualenv.rb\n",
      "20K\t./day_5_mining_the_Social_web/deploy/cookbooks/python/recipes\n",
      "4.0K\t./day_5_mining_the_Social_web/deploy/cookbooks/python/resources/pip.rb\n",
      "4.0K\t./day_5_mining_the_Social_web/deploy/cookbooks/python/resources/virtualenv.rb\n",
      "8.0K\t./day_5_mining_the_Social_web/deploy/cookbooks/python/resources\n",
      "4.0K\t./day_5_mining_the_Social_web/deploy/cookbooks/python/test/cookbooks/python_test/metadata.rb\n",
      "4.0K\t./day_5_mining_the_Social_web/deploy/cookbooks/python/test/cookbooks/python_test/README.md\n",
      "4.0K\t./day_5_mining_the_Social_web/deploy/cookbooks/python/test/cookbooks/python_test/recipes/test_exert.rb\n",
      "4.0K\t./day_5_mining_the_Social_web/deploy/cookbooks/python/test/cookbooks/python_test/recipes/test_virtualenv.rb\n",
      "8.0K\t./day_5_mining_the_Social_web/deploy/cookbooks/python/test/cookbooks/python_test/recipes\n",
      "16K\t./day_5_mining_the_Social_web/deploy/cookbooks/python/test/cookbooks/python_test\n",
      "16K\t./day_5_mining_the_Social_web/deploy/cookbooks/python/test/cookbooks\n",
      "4.0K\t./day_5_mining_the_Social_web/deploy/cookbooks/python/test/integration/exert/bats/exert.bats\n",
      "4.0K\t./day_5_mining_the_Social_web/deploy/cookbooks/python/test/integration/exert/bats\n",
      "4.0K\t./day_5_mining_the_Social_web/deploy/cookbooks/python/test/integration/exert\n",
      "4.0K\t./day_5_mining_the_Social_web/deploy/cookbooks/python/test/integration/source/bats/source.bats\n",
      "4.0K\t./day_5_mining_the_Social_web/deploy/cookbooks/python/test/integration/source/bats\n",
      "4.0K\t./day_5_mining_the_Social_web/deploy/cookbooks/python/test/integration/source\n",
      "4.0K\t./day_5_mining_the_Social_web/deploy/cookbooks/python/test/integration/virtualenv/bats/virtualenv.bats\n",
      "4.0K\t./day_5_mining_the_Social_web/deploy/cookbooks/python/test/integration/virtualenv/bats\n",
      "4.0K\t./day_5_mining_the_Social_web/deploy/cookbooks/python/test/integration/virtualenv\n",
      "12K\t./day_5_mining_the_Social_web/deploy/cookbooks/python/test/integration\n",
      "28K\t./day_5_mining_the_Social_web/deploy/cookbooks/python/test\n",
      "4.0K\t./day_5_mining_the_Social_web/deploy/cookbooks/python/TESTING.md\n",
      "128K\t./day_5_mining_the_Social_web/deploy/cookbooks/python\n",
      "4.0K\t./day_5_mining_the_Social_web/deploy/cookbooks/runit/.gitignore\n",
      "4.0K\t./day_5_mining_the_Social_web/deploy/cookbooks/runit/attributes/default.rb\n",
      "4.0K\t./day_5_mining_the_Social_web/deploy/cookbooks/runit/attributes\n",
      "4.0K\t./day_5_mining_the_Social_web/deploy/cookbooks/runit/CHANGELOG.md\n",
      "12K\t./day_5_mining_the_Social_web/deploy/cookbooks/runit/CONTRIBUTING.md\n",
      "4.0K\t./day_5_mining_the_Social_web/deploy/cookbooks/runit/files/default/runit.seed\n",
      "0\t./day_5_mining_the_Social_web/deploy/cookbooks/runit/files/default/runsvdir\n",
      "4.0K\t./day_5_mining_the_Social_web/deploy/cookbooks/runit/files/default\n",
      "4.0K\t./day_5_mining_the_Social_web/deploy/cookbooks/runit/files/ubuntu-6.10/runsvdir\n",
      "4.0K\t./day_5_mining_the_Social_web/deploy/cookbooks/runit/files/ubuntu-6.10\n",
      "4.0K\t./day_5_mining_the_Social_web/deploy/cookbooks/runit/files/ubuntu-7.04/runsvdir\n",
      "4.0K\t./day_5_mining_the_Social_web/deploy/cookbooks/runit/files/ubuntu-7.04\n",
      "4.0K\t./day_5_mining_the_Social_web/deploy/cookbooks/runit/files/ubuntu-7.10/runsvdir\n",
      "4.0K\t./day_5_mining_the_Social_web/deploy/cookbooks/runit/files/ubuntu-7.10\n",
      "4.0K\t./day_5_mining_the_Social_web/deploy/cookbooks/runit/files/ubuntu-8.04/runsvdir\n",
      "4.0K\t./day_5_mining_the_Social_web/deploy/cookbooks/runit/files/ubuntu-8.04\n",
      "20K\t./day_5_mining_the_Social_web/deploy/cookbooks/runit/files\n",
      "4.0K\t./day_5_mining_the_Social_web/deploy/cookbooks/runit/Gemfile\n",
      "0\t./day_5_mining_the_Social_web/deploy/cookbooks/runit/libraries/default.rb\n",
      "16K\t./day_5_mining_the_Social_web/deploy/cookbooks/runit/libraries/provider_runit_service.rb\n",
      "8.0K\t./day_5_mining_the_Social_web/deploy/cookbooks/runit/libraries/resource_runit_service.rb\n",
      "28K\t./day_5_mining_the_Social_web/deploy/cookbooks/runit/libraries\n",
      "12K\t./day_5_mining_the_Social_web/deploy/cookbooks/runit/LICENSE\n",
      "4.0K\t./day_5_mining_the_Social_web/deploy/cookbooks/runit/metadata.rb\n",
      "4.0K\t./day_5_mining_the_Social_web/deploy/cookbooks/runit/Rakefile\n",
      "16K\t./day_5_mining_the_Social_web/deploy/cookbooks/runit/README.md\n",
      "4.0K\t./day_5_mining_the_Social_web/deploy/cookbooks/runit/recipes/default.rb\n",
      "4.0K\t./day_5_mining_the_Social_web/deploy/cookbooks/runit/recipes\n",
      "4.0K\t./day_5_mining_the_Social_web/deploy/cookbooks/runit/templates/debian/init.d.erb\n",
      "4.0K\t./day_5_mining_the_Social_web/deploy/cookbooks/runit/templates/debian\n",
      "4.0K\t./day_5_mining_the_Social_web/deploy/cookbooks/runit/templates/gentoo/runit-start.sh.erb\n",
      "4.0K\t./day_5_mining_the_Social_web/deploy/cookbooks/runit/templates/gentoo\n",
      "8.0K\t./day_5_mining_the_Social_web/deploy/cookbooks/runit/templates\n",
      "4.0K\t./day_5_mining_the_Social_web/deploy/cookbooks/runit/test/kitchen/cookbooks/runit-other_test/metadata.rb\n",
      "4.0K\t./day_5_mining_the_Social_web/deploy/cookbooks/runit/test/kitchen/cookbooks/runit-other_test/README.md\n",
      "4.0K\t./day_5_mining_the_Social_web/deploy/cookbooks/runit/test/kitchen/cookbooks/runit-other_test/templates/default/sv-other-cookbook-templates-log-run.erb\n",
      "4.0K\t./day_5_mining_the_Social_web/deploy/cookbooks/runit/test/kitchen/cookbooks/runit-other_test/templates/default/sv-other-cookbook-templates-run.erb\n",
      "8.0K\t./day_5_mining_the_Social_web/deploy/cookbooks/runit/test/kitchen/cookbooks/runit-other_test/templates/default\n",
      "8.0K\t./day_5_mining_the_Social_web/deploy/cookbooks/runit/test/kitchen/cookbooks/runit-other_test/templates\n",
      "16K\t./day_5_mining_the_Social_web/deploy/cookbooks/runit/test/kitchen/cookbooks/runit-other_test\n",
      "4.0K\t./day_5_mining_the_Social_web/deploy/cookbooks/runit/test/kitchen/cookbooks/runit_test/files/default/tests/minitest/default_test.rb\n",
      "8.0K\t./day_5_mining_the_Social_web/deploy/cookbooks/runit/test/kitchen/cookbooks/runit_test/files/default/tests/minitest/service_test.rb\n",
      "4.0K\t./day_5_mining_the_Social_web/deploy/cookbooks/runit/test/kitchen/cookbooks/runit_test/files/default/tests/minitest/support/helpers.rb\n",
      "4.0K\t./day_5_mining_the_Social_web/deploy/cookbooks/runit/test/kitchen/cookbooks/runit_test/files/default/tests/minitest/support\n",
      "16K\t./day_5_mining_the_Social_web/deploy/cookbooks/runit/test/kitchen/cookbooks/runit_test/files/default/tests/minitest\n",
      "16K\t./day_5_mining_the_Social_web/deploy/cookbooks/runit/test/kitchen/cookbooks/runit_test/files/default/tests\n",
      "16K\t./day_5_mining_the_Social_web/deploy/cookbooks/runit/test/kitchen/cookbooks/runit_test/files/default\n",
      "16K\t./day_5_mining_the_Social_web/deploy/cookbooks/runit/test/kitchen/cookbooks/runit_test/files\n",
      "4.0K\t./day_5_mining_the_Social_web/deploy/cookbooks/runit/test/kitchen/cookbooks/runit_test/metadata.rb\n",
      "4.0K\t./day_5_mining_the_Social_web/deploy/cookbooks/runit/test/kitchen/cookbooks/runit_test/README.md\n",
      "4.0K\t./day_5_mining_the_Social_web/deploy/cookbooks/runit/test/kitchen/cookbooks/runit_test/recipes/default.rb\n",
      "4.0K\t./day_5_mining_the_Social_web/deploy/cookbooks/runit/test/kitchen/cookbooks/runit_test/recipes/service.rb\n",
      "8.0K\t./day_5_mining_the_Social_web/deploy/cookbooks/runit/test/kitchen/cookbooks/runit_test/recipes\n",
      "4.0K\t./day_5_mining_the_Social_web/deploy/cookbooks/runit/test/kitchen/cookbooks/runit_test/templates/default/sv-calabash-run.erb\n",
      "4.0K\t./day_5_mining_the_Social_web/deploy/cookbooks/runit/test/kitchen/cookbooks/runit_test/templates/default/sv-control-signals-log-run.erb\n",
      "4.0K\t./day_5_mining_the_Social_web/deploy/cookbooks/runit/test/kitchen/cookbooks/runit_test/templates/default/sv-control-signals-run.erb\n",
      "4.0K\t./day_5_mining_the_Social_web/deploy/cookbooks/runit/test/kitchen/cookbooks/runit_test/templates/default/sv-control-signals-u.erb\n",
      "4.0K\t./day_5_mining_the_Social_web/deploy/cookbooks/runit/test/kitchen/cookbooks/runit_test/templates/default/sv-default-svlog-run.erb\n",
      "4.0K\t./day_5_mining_the_Social_web/deploy/cookbooks/runit/test/kitchen/cookbooks/runit_test/templates/default/sv-downed-service-log-run.erb\n",
      "4.0K\t./day_5_mining_the_Social_web/deploy/cookbooks/runit/test/kitchen/cookbooks/runit_test/templates/default/sv-downed-service-run.erb\n",
      "4.0K\t./day_5_mining_the_Social_web/deploy/cookbooks/runit/test/kitchen/cookbooks/runit_test/templates/default/sv-env-files-log-run.erb\n",
      "4.0K\t./day_5_mining_the_Social_web/deploy/cookbooks/runit/test/kitchen/cookbooks/runit_test/templates/default/sv-env-files-run.erb\n",
      "4.0K\t./day_5_mining_the_Social_web/deploy/cookbooks/runit/test/kitchen/cookbooks/runit_test/templates/default/sv-exist-disabled-log-run.erb\n",
      "4.0K\t./day_5_mining_the_Social_web/deploy/cookbooks/runit/test/kitchen/cookbooks/runit_test/templates/default/sv-exist-disabled-run.erb\n",
      "4.0K\t./day_5_mining_the_Social_web/deploy/cookbooks/runit/test/kitchen/cookbooks/runit_test/templates/default/sv-finisher-finish.erb\n",
      "4.0K\t./day_5_mining_the_Social_web/deploy/cookbooks/runit/test/kitchen/cookbooks/runit_test/templates/default/sv-finisher-log-run.erb\n",
      "4.0K\t./day_5_mining_the_Social_web/deploy/cookbooks/runit/test/kitchen/cookbooks/runit_test/templates/default/sv-finisher-run.erb\n",
      "4.0K\t./day_5_mining_the_Social_web/deploy/cookbooks/runit/test/kitchen/cookbooks/runit_test/templates/default/sv-floyds-app-log-run.erb\n",
      "4.0K\t./day_5_mining_the_Social_web/deploy/cookbooks/runit/test/kitchen/cookbooks/runit_test/templates/default/sv-floyds-app-run.erb\n",
      "4.0K\t./day_5_mining_the_Social_web/deploy/cookbooks/runit/test/kitchen/cookbooks/runit_test/templates/default/sv-no-svlog-run.erb\n",
      "4.0K\t./day_5_mining_the_Social_web/deploy/cookbooks/runit/test/kitchen/cookbooks/runit_test/templates/default/sv-plain-defaults-log-run.erb\n",
      "4.0K\t./day_5_mining_the_Social_web/deploy/cookbooks/runit/test/kitchen/cookbooks/runit_test/templates/default/sv-plain-defaults-run.erb\n",
      "4.0K\t./day_5_mining_the_Social_web/deploy/cookbooks/runit/test/kitchen/cookbooks/runit_test/templates/default/sv-runsvdir-floyd-log-run.erb\n",
      "4.0K\t./day_5_mining_the_Social_web/deploy/cookbooks/runit/test/kitchen/cookbooks/runit_test/templates/default/sv-runsvdir-floyd-run.erb\n",
      "4.0K\t./day_5_mining_the_Social_web/deploy/cookbooks/runit/test/kitchen/cookbooks/runit_test/templates/default/sv-template-options-log-run.erb\n",
      "4.0K\t./day_5_mining_the_Social_web/deploy/cookbooks/runit/test/kitchen/cookbooks/runit_test/templates/default/sv-template-options-run.erb\n",
      "4.0K\t./day_5_mining_the_Social_web/deploy/cookbooks/runit/test/kitchen/cookbooks/runit_test/templates/default/sv-yerba-matte-finish.erb\n",
      "4.0K\t./day_5_mining_the_Social_web/deploy/cookbooks/runit/test/kitchen/cookbooks/runit_test/templates/default/sv-yerba-matte-log-run.erb\n",
      "4.0K\t./day_5_mining_the_Social_web/deploy/cookbooks/runit/test/kitchen/cookbooks/runit_test/templates/default/sv-yerba-run.erb\n",
      "116K\t./day_5_mining_the_Social_web/deploy/cookbooks/runit/test/kitchen/cookbooks/runit_test/templates/default\n",
      "116K\t./day_5_mining_the_Social_web/deploy/cookbooks/runit/test/kitchen/cookbooks/runit_test/templates\n",
      "152K\t./day_5_mining_the_Social_web/deploy/cookbooks/runit/test/kitchen/cookbooks/runit_test\n",
      "168K\t./day_5_mining_the_Social_web/deploy/cookbooks/runit/test/kitchen/cookbooks\n",
      "4.0K\t./day_5_mining_the_Social_web/deploy/cookbooks/runit/test/kitchen/Kitchenfile\n",
      "172K\t./day_5_mining_the_Social_web/deploy/cookbooks/runit/test/kitchen\n",
      "16K\t./day_5_mining_the_Social_web/deploy/cookbooks/runit/test/spec/libraries/provider_runit_service_spec.rb\n",
      "8.0K\t./day_5_mining_the_Social_web/deploy/cookbooks/runit/test/spec/libraries/resource_runit_service_spec.rb\n",
      "24K\t./day_5_mining_the_Social_web/deploy/cookbooks/runit/test/spec/libraries\n",
      "4.0K\t./day_5_mining_the_Social_web/deploy/cookbooks/runit/test/spec/spec_helper.rb\n",
      "28K\t./day_5_mining_the_Social_web/deploy/cookbooks/runit/test/spec\n",
      "200K\t./day_5_mining_the_Social_web/deploy/cookbooks/runit/test\n",
      "328K\t./day_5_mining_the_Social_web/deploy/cookbooks/runit\n",
      "4.0K\t./day_5_mining_the_Social_web/deploy/cookbooks/yum/.gitignore\n",
      "4.0K\t./day_5_mining_the_Social_web/deploy/cookbooks/yum/.kitchen.yml\n",
      "4.0K\t./day_5_mining_the_Social_web/deploy/cookbooks/yum/attributes/default.rb\n",
      "4.0K\t./day_5_mining_the_Social_web/deploy/cookbooks/yum/attributes/elrepo.rb\n",
      "4.0K\t./day_5_mining_the_Social_web/deploy/cookbooks/yum/attributes/epel.rb\n",
      "4.0K\t./day_5_mining_the_Social_web/deploy/cookbooks/yum/attributes/remi.rb\n",
      "16K\t./day_5_mining_the_Social_web/deploy/cookbooks/yum/attributes\n",
      "4.0K\t./day_5_mining_the_Social_web/deploy/cookbooks/yum/Berksfile\n",
      "4.0K\t./day_5_mining_the_Social_web/deploy/cookbooks/yum/CHANGELOG.md\n",
      "12K\t./day_5_mining_the_Social_web/deploy/cookbooks/yum/CONTRIBUTING.md\n",
      "4.0K\t./day_5_mining_the_Social_web/deploy/cookbooks/yum/files/default/tests/minitest/default_test.rb\n",
      "4.0K\t./day_5_mining_the_Social_web/deploy/cookbooks/yum/files/default/tests/minitest/support/helpers.rb\n",
      "4.0K\t./day_5_mining_the_Social_web/deploy/cookbooks/yum/files/default/tests/minitest/support\n",
      "4.0K\t./day_5_mining_the_Social_web/deploy/cookbooks/yum/files/default/tests/minitest/test_test.rb\n",
      "12K\t./day_5_mining_the_Social_web/deploy/cookbooks/yum/files/default/tests/minitest\n",
      "12K\t./day_5_mining_the_Social_web/deploy/cookbooks/yum/files/default/tests\n",
      "12K\t./day_5_mining_the_Social_web/deploy/cookbooks/yum/files/default\n",
      "12K\t./day_5_mining_the_Social_web/deploy/cookbooks/yum/files\n",
      "12K\t./day_5_mining_the_Social_web/deploy/cookbooks/yum/LICENSE\n",
      "12K\t./day_5_mining_the_Social_web/deploy/cookbooks/yum/metadata.json\n",
      "4.0K\t./day_5_mining_the_Social_web/deploy/cookbooks/yum/metadata.rb\n",
      "4.0K\t./day_5_mining_the_Social_web/deploy/cookbooks/yum/providers/key.rb\n",
      "8.0K\t./day_5_mining_the_Social_web/deploy/cookbooks/yum/providers/repository.rb\n",
      "12K\t./day_5_mining_the_Social_web/deploy/cookbooks/yum/providers\n",
      "12K\t./day_5_mining_the_Social_web/deploy/cookbooks/yum/README.md\n",
      "4.0K\t./day_5_mining_the_Social_web/deploy/cookbooks/yum/recipes/default.rb\n",
      "4.0K\t./day_5_mining_the_Social_web/deploy/cookbooks/yum/recipes/elrepo.rb\n",
      "4.0K\t./day_5_mining_the_Social_web/deploy/cookbooks/yum/recipes/epel.rb\n",
      "4.0K\t./day_5_mining_the_Social_web/deploy/cookbooks/yum/recipes/ius.rb\n",
      "4.0K\t./day_5_mining_the_Social_web/deploy/cookbooks/yum/recipes/remi.rb\n",
      "4.0K\t./day_5_mining_the_Social_web/deploy/cookbooks/yum/recipes/repoforge.rb\n",
      "4.0K\t./day_5_mining_the_Social_web/deploy/cookbooks/yum/recipes/test.rb\n",
      "4.0K\t./day_5_mining_the_Social_web/deploy/cookbooks/yum/recipes/yum.rb\n",
      "36K\t./day_5_mining_the_Social_web/deploy/cookbooks/yum/recipes\n",
      "4.0K\t./day_5_mining_the_Social_web/deploy/cookbooks/yum/resources/key.rb\n",
      "4.0K\t./day_5_mining_the_Social_web/deploy/cookbooks/yum/resources/repository.rb\n",
      "8.0K\t./day_5_mining_the_Social_web/deploy/cookbooks/yum/resources\n",
      "4.0K\t./day_5_mining_the_Social_web/deploy/cookbooks/yum/templates/default/repo.erb\n",
      "4.0K\t./day_5_mining_the_Social_web/deploy/cookbooks/yum/templates/default/yum-rhel5.conf.erb\n",
      "4.0K\t./day_5_mining_the_Social_web/deploy/cookbooks/yum/templates/default/yum-rhel6.conf.erb\n",
      "12K\t./day_5_mining_the_Social_web/deploy/cookbooks/yum/templates/default\n",
      "12K\t./day_5_mining_the_Social_web/deploy/cookbooks/yum/templates\n",
      "168K\t./day_5_mining_the_Social_web/deploy/cookbooks/yum\n",
      "932K\t./day_5_mining_the_Social_web/deploy/cookbooks\n",
      "932K\t./day_5_mining_the_Social_web/deploy\n",
      "16K\t./day_5_mining_the_Social_web/exercises/Scraping_Exercise_1.ipynb\n",
      "76K\t./day_5_mining_the_Social_web/exercises/Scraping_Exercise_2.ipynb\n",
      "724K\t./day_5_mining_the_Social_web/exercises/Scraping_Exercise_3.ipynb\n",
      "820K\t./day_5_mining_the_Social_web/exercises\n",
      "296K\t./day_5_mining_the_Social_web/images/screencast-installing-vm.png\n",
      "296K\t./day_5_mining_the_Social_web/images\n",
      "4.0K\t./day_5_mining_the_Social_web/ipynb/.gitignore\n",
      "52K\t./day_5_mining_the_Social_web/ipynb/01_regex.ipynb\n",
      "120K\t./day_5_mining_the_Social_web/ipynb/02_web_scraping.ipynb\n",
      "8.0K\t./day_5_mining_the_Social_web/ipynb/03_Internet Services APIs.ipynb\n",
      "16K\t./day_5_mining_the_Social_web/ipynb/04_Restful Weather.ipynb\n",
      "12K\t./day_5_mining_the_Social_web/ipynb/05_yelpSample.ipynb\n",
      "852K\t./day_5_mining_the_Social_web/ipynb/images/InspectingHTML.png\n",
      "728K\t./day_5_mining_the_Social_web/ipynb/images/page.png\n",
      "500K\t./day_5_mining_the_Social_web/ipynb/images/pageElements.png\n",
      "2.1M\t./day_5_mining_the_Social_web/ipynb/images\n",
      "8.0K\t./day_5_mining_the_Social_web/ipynb/Minining_the_social_web/Chapter 0 - Preface.ipynb\n",
      "132K\t./day_5_mining_the_Social_web/ipynb/Minining_the_social_web/Chapter 1 - Mining Twitter.ipynb\n",
      "24K\t./day_5_mining_the_Social_web/ipynb/Minining_the_social_web/Chapter 2 - Mining Facebook.ipynb\n",
      "48K\t./day_5_mining_the_Social_web/ipynb/Minining_the_social_web/Chapter 3 - Mining LinkedIn.ipynb\n",
      "28K\t./day_5_mining_the_Social_web/ipynb/Minining_the_social_web/Chapter 4 - Mining Google+.ipynb\n",
      "28K\t./day_5_mining_the_Social_web/ipynb/Minining_the_social_web/Chapter 5 - Mining Web Pages.ipynb\n",
      "40K\t./day_5_mining_the_Social_web/ipynb/Minining_the_social_web/Chapter 6 - Mining Mailboxes.ipynb\n",
      "28K\t./day_5_mining_the_Social_web/ipynb/Minining_the_social_web/Chapter 7 - Mining GitHub.ipynb\n",
      "12K\t./day_5_mining_the_Social_web/ipynb/Minining_the_social_web/Chapter 8 - Mining the Semantically Marked-Up Web.ipynb\n",
      "60K\t./day_5_mining_the_Social_web/ipynb/Minining_the_social_web/Chapter 9 - Twitter Cookbook.ipynb\n",
      "200K\t./day_5_mining_the_Social_web/ipynb/Minining_the_social_web/html/Chapter 0 - Preface.html\n",
      "236K\t./day_5_mining_the_Social_web/ipynb/Minining_the_social_web/html/Chapter 1 - Mining Twitter.html\n",
      "244K\t./day_5_mining_the_Social_web/ipynb/Minining_the_social_web/html/Chapter 2 - Mining Facebook.html\n",
      "320K\t./day_5_mining_the_Social_web/ipynb/Minining_the_social_web/html/Chapter 3 - Mining LinkedIn.html\n",
      "272K\t./day_5_mining_the_Social_web/ipynb/Minining_the_social_web/html/Chapter 4 - Mining Google+.html\n",
      "268K\t./day_5_mining_the_Social_web/ipynb/Minining_the_social_web/html/Chapter 5 - Mining Web Pages.html\n",
      "292K\t./day_5_mining_the_Social_web/ipynb/Minining_the_social_web/html/Chapter 6 - Mining Mailboxes.html\n",
      "260K\t./day_5_mining_the_Social_web/ipynb/Minining_the_social_web/html/Chapter 7 - Mining GitHub.html\n",
      "216K\t./day_5_mining_the_Social_web/ipynb/Minining_the_social_web/html/Chapter 8 - Mining the Semantically Marked-Up Web.html\n",
      "340K\t./day_5_mining_the_Social_web/ipynb/Minining_the_social_web/html/Chapter 9 - Twitter Cookbook.html\n",
      "212K\t./day_5_mining_the_Social_web/ipynb/Minining_the_social_web/html/_Appendix A - Virtual Machine Experience.html\n",
      "228K\t./day_5_mining_the_Social_web/ipynb/Minining_the_social_web/html/_Appendix B - OAuth Primer.html\n",
      "252K\t./day_5_mining_the_Social_web/ipynb/Minining_the_social_web/html/_Appendix C - Python & IPython Notebook Tips.html\n",
      "332K\t./day_5_mining_the_Social_web/ipynb/Minining_the_social_web/html/__Chapter 1 - Mining Twitter (Full-Text Sampler).html\n",
      "372K\t./day_5_mining_the_Social_web/ipynb/Minining_the_social_web/html/__What do Tim O'Reilly, Lady Gaga, and Marissa Mayer all have in common.html\n",
      "4.0M\t./day_5_mining_the_Social_web/ipynb/Minining_the_social_web/html\n",
      "4.0K\t./day_5_mining_the_Social_web/ipynb/Minining_the_social_web/resources/appc-pythontips/hello.txt\n",
      "4.0K\t./day_5_mining_the_Social_web/ipynb/Minining_the_social_web/resources/appc-pythontips\n",
      "424K\t./day_5_mining_the_Social_web/ipynb/Minining_the_social_web/resources/ch01-twitter/data/MentionSomeoneImportantForYou.json\n",
      "424K\t./day_5_mining_the_Social_web/ipynb/Minining_the_social_web/resources/ch01-twitter/data\n",
      "180K\t./day_5_mining_the_Social_web/ipynb/Minining_the_social_web/resources/ch01-twitter/images/Twitter-AppCredentials-oauth_callback.png\n",
      "168K\t./day_5_mining_the_Social_web/ipynb/Minining_the_social_web/resources/ch01-twitter/images/Twitter-AppCredentials.png\n",
      "348K\t./day_5_mining_the_Social_web/ipynb/Minining_the_social_web/resources/ch01-twitter/images\n",
      "772K\t./day_5_mining_the_Social_web/ipynb/Minining_the_social_web/resources/ch01-twitter\n",
      "224K\t./day_5_mining_the_Social_web/ipynb/Minining_the_social_web/resources/ch02-facebook/images/FB_create_app1.png\n",
      "160K\t./day_5_mining_the_Social_web/ipynb/Minining_the_social_web/resources/ch02-facebook/images/FB_create_app2.png\n",
      "124K\t./day_5_mining_the_Social_web/ipynb/Minining_the_social_web/resources/ch02-facebook/images/FB_GraphExplorer_perms.png\n",
      "512K\t./day_5_mining_the_Social_web/ipynb/Minining_the_social_web/resources/ch02-facebook/images\n",
      "4.0K\t./day_5_mining_the_Social_web/ipynb/Minining_the_social_web/resources/ch02-facebook/viz/force.html\n",
      "4.0K\t./day_5_mining_the_Social_web/ipynb/Minining_the_social_web/resources/ch02-facebook/viz/README\n",
      "8.0K\t./day_5_mining_the_Social_web/ipynb/Minining_the_social_web/resources/ch02-facebook/viz\n",
      "520K\t./day_5_mining_the_Social_web/ipynb/Minining_the_social_web/resources/ch02-facebook\n",
      "572K\t./day_5_mining_the_Social_web/ipynb/Minining_the_social_web/resources/ch03-linkedin/images/LinkedIn-app.png\n",
      "572K\t./day_5_mining_the_Social_web/ipynb/Minining_the_social_web/resources/ch03-linkedin/images\n",
      "4.0K\t./day_5_mining_the_Social_web/ipynb/Minining_the_social_web/resources/ch03-linkedin/linkedin__kml_utility.py\n",
      "4.0K\t./day_5_mining_the_Social_web/ipynb/Minining_the_social_web/resources/ch03-linkedin/viz/cartogram.html\n",
      "4.0K\t./day_5_mining_the_Social_web/ipynb/Minining_the_social_web/resources/ch03-linkedin/viz/dendogram.html\n",
      "4.0K\t./day_5_mining_the_Social_web/ipynb/Minining_the_social_web/resources/ch03-linkedin/viz/dojo_tree.html.template\n",
      "4.0K\t./day_5_mining_the_Social_web/ipynb/Minining_the_social_web/resources/ch03-linkedin/viz/node_link_tree.html\n",
      "4.0K\t./day_5_mining_the_Social_web/ipynb/Minining_the_social_web/resources/ch03-linkedin/viz/README.txt\n",
      "4.0K\t./day_5_mining_the_Social_web/ipynb/Minining_the_social_web/resources/ch03-linkedin/viz/states-codes.json\n",
      "4.0K\t./day_5_mining_the_Social_web/ipynb/Minining_the_social_web/resources/ch03-linkedin/viz/tree_widget.html\n",
      "4.0K\t./day_5_mining_the_Social_web/ipynb/Minining_the_social_web/resources/ch03-linkedin/viz/us-states-centroids-simple.json\n",
      "36K\t./day_5_mining_the_Social_web/ipynb/Minining_the_social_web/resources/ch03-linkedin/viz\n",
      "612K\t./day_5_mining_the_Social_web/ipynb/Minining_the_social_web/resources/ch03-linkedin\n",
      "8.0K\t./day_5_mining_the_Social_web/ipynb/Minining_the_social_web/resources/ch04-googleplus/viz/matrix.html\n",
      "4.0K\t./day_5_mining_the_Social_web/ipynb/Minining_the_social_web/resources/ch04-googleplus/viz/README\n",
      "4.0K\t./day_5_mining_the_Social_web/ipynb/Minining_the_social_web/resources/ch04-googleplus/viz/style.css\n",
      "16K\t./day_5_mining_the_Social_web/ipynb/Minining_the_social_web/resources/ch04-googleplus/viz\n",
      "16K\t./day_5_mining_the_Social_web/ipynb/Minining_the_social_web/resources/ch04-googleplus\n",
      "0\t./day_5_mining_the_Social_web/ipynb/Minining_the_social_web/resources/ch05-webpages/empty\n",
      "0\t./day_5_mining_the_Social_web/ipynb/Minining_the_social_web/resources/ch05-webpages\n",
      "26M\t./day_5_mining_the_Social_web/ipynb/Minining_the_social_web/resources/ch06-mailboxes/data/enron.mbox.json.bz2\n",
      "4.0K\t./day_5_mining_the_Social_web/ipynb/Minining_the_social_web/resources/ch06-mailboxes/data/northpole.mbox\n",
      "26M\t./day_5_mining_the_Social_web/ipynb/Minining_the_social_web/resources/ch06-mailboxes/data\n",
      "26M\t./day_5_mining_the_Social_web/ipynb/Minining_the_social_web/resources/ch06-mailboxes\n",
      "4.0K\t./day_5_mining_the_Social_web/ipynb/Minining_the_social_web/resources/ch07-github/force.html\n",
      "76K\t./day_5_mining_the_Social_web/ipynb/Minining_the_social_web/resources/ch07-github/kite-graph.png\n",
      "80K\t./day_5_mining_the_Social_web/ipynb/Minining_the_social_web/resources/ch07-github\n",
      "4.0K\t./day_5_mining_the_Social_web/ipynb/Minining_the_social_web/resources/ch08-semanticweb/chuck-norris.n3\n",
      "4.0K\t./day_5_mining_the_Social_web/ipynb/Minining_the_social_web/resources/ch08-semanticweb\n",
      "0\t./day_5_mining_the_Social_web/ipynb/Minining_the_social_web/resources/ch09-twittercookbook/empty\n",
      "0\t./day_5_mining_the_Social_web/ipynb/Minining_the_social_web/resources/ch09-twittercookbook\n",
      "388K\t./day_5_mining_the_Social_web/ipynb/Minining_the_social_web/resources/sampler-images/images/mswb_0101.png\n",
      "136K\t./day_5_mining_the_Social_web/ipynb/Minining_the_social_web/resources/sampler-images/images/mswb_0102.png\n",
      "148K\t./day_5_mining_the_Social_web/ipynb/Minining_the_social_web/resources/sampler-images/images/mswb_0103.png\n",
      "40K\t./day_5_mining_the_Social_web/ipynb/Minining_the_social_web/resources/sampler-images/images/mswb_0104.png\n",
      "76K\t./day_5_mining_the_Social_web/ipynb/Minining_the_social_web/resources/sampler-images/images/mswb_0105.png\n",
      "44K\t./day_5_mining_the_Social_web/ipynb/Minining_the_social_web/resources/sampler-images/images/mswb_0106.png\n",
      "836K\t./day_5_mining_the_Social_web/ipynb/Minining_the_social_web/resources/sampler-images/images\n",
      "836K\t./day_5_mining_the_Social_web/ipynb/Minining_the_social_web/resources/sampler-images\n",
      "29M\t./day_5_mining_the_Social_web/ipynb/Minining_the_social_web/resources\n",
      "20K\t./day_5_mining_the_Social_web/ipynb/Minining_the_social_web/_Appendix A - Virtual Machine Experience.ipynb\n",
      "24K\t./day_5_mining_the_Social_web/ipynb/Minining_the_social_web/_Appendix B - OAuth Primer.ipynb\n",
      "36K\t./day_5_mining_the_Social_web/ipynb/Minining_the_social_web/_Appendix C - Python & IPython Notebook Tips.ipynb\n",
      "148K\t./day_5_mining_the_Social_web/ipynb/Minining_the_social_web/__Chapter 1 - Mining Twitter (Full-Text Sampler).ipynb\n",
      "100K\t./day_5_mining_the_Social_web/ipynb/Minining_the_social_web/__Understanding the Reaction to Amazon Prime Air.ipynb\n",
      "132K\t./day_5_mining_the_Social_web/ipynb/Minining_the_social_web/__What do Tim O'Reilly, Lady Gaga, and Marissa Mayer all have in common.ipynb\n",
      "34M\t./day_5_mining_the_Social_web/ipynb/Minining_the_social_web\n",
      "40K\t./day_5_mining_the_Social_web/ipynb/tutorialOutput.txt\n",
      "4.0K\t./day_5_mining_the_Social_web/ipynb/weatherkey.py\n",
      "8.0K\t./day_5_mining_the_Social_web/ipynb/yelpSample.ipynb\n",
      "8.0K\t./day_5_mining_the_Social_web/ipynb/yelpSample.py\n",
      "36M\t./day_5_mining_the_Social_web/ipynb\n",
      "4.0K\t./day_5_mining_the_Social_web/LICENSE.txt\n",
      "4.0K\t./day_5_mining_the_Social_web/mtsw2e-requirements.txt\n",
      "12K\t./day_5_mining_the_Social_web/README.md\n",
      "8.0K\t./day_5_mining_the_Social_web/Vagrantfile\n",
      "38M\t./day_5_mining_the_Social_web\n",
      "4.0K\t./README.md\n",
      "305M\t.\n"
     ]
    }
   ],
   "source": [
    "!du -ah\n",
    "#disk usage of files & folders, human readable"
   ]
  },
  {
   "cell_type": "code",
   "execution_count": 109,
   "metadata": {
    "collapsed": false
   },
   "outputs": [
    {
     "name": "stdout",
     "output_type": "stream",
     "text": [
      "305M\t.\n"
     ]
    }
   ],
   "source": [
    "!du -sh\n",
    "#only show disc usage of folders"
   ]
  },
  {
   "cell_type": "code",
   "execution_count": 110,
   "metadata": {
    "collapsed": false
   },
   "outputs": [
    {
     "name": "stdout",
     "output_type": "stream",
     "text": [
      "C:\\Users\\Orysya\\Documents\\DSE\\DSE200-notebooks\n"
     ]
    }
   ],
   "source": [
    "!pwd\n",
    "#print working directory"
   ]
  },
  {
   "cell_type": "code",
   "execution_count": 122,
   "metadata": {
    "collapsed": false
   },
   "outputs": [
    {
     "name": "stderr",
     "output_type": "stream",
     "text": [
      "The syntax of the command is incorrect.\n"
     ]
    }
   ],
   "source": [
    "!man <echo>\n",
    "#shows manual (RTFM)"
   ]
  },
  {
   "cell_type": "code",
   "execution_count": 147,
   "metadata": {
    "collapsed": false
   },
   "outputs": [
    {
     "name": "stdout",
     "output_type": "stream",
     "text": [
      "C:\\Users\\Orysya\\Documents\\DSE\\DSE200-notebooks\\day_1_python_and_unix\n",
      ".\n",
      "..\n",
      "._.DS_Store\n",
      ".DS_Store\n",
      ".ipynb_checkpoints\n",
      "1_pregnancy_length_analysis.ipynb\n",
      "2_python_basics.ipynb\n",
      "3_python_basics_excercises.ipynb\n",
      "4_unix,_sys,_and_os.ipynb\n",
      "5_unix_exercises.ipynb\n",
      "8queen.jpg\n",
      "cool\n",
      "From_Linux_Bash_Shell_Cheat_Sheet.ipynb\n",
      "LockFile.md\n",
      "Word_List_sorted.csv\n"
     ]
    }
   ],
   "source": [
    "%cd ./day_1_python_and_unix/\n",
    "!ls -a"
   ]
  },
  {
   "cell_type": "code",
   "execution_count": 148,
   "metadata": {
    "collapsed": false,
    "scrolled": true
   },
   "outputs": [
    {
     "name": "stdout",
     "output_type": "stream",
     "text": [
      "0\n",
      "a\n",
      "a\n",
      "a\n",
      "ahead\n",
      "air\n",
      "and\n",
      "and\n",
      "and\n",
      "be\n",
      "be\n",
      "bell\n",
      "candle\n",
      "colitas\n",
      "cool\n",
      "could\n",
      "could\n",
      "dark\n",
      "desert\n",
      "dim\n",
      "distance\n",
      "doorway\n",
      "for\n",
      "grew\n",
      "grew\n",
      "had\n",
      "hair\n",
      "head\n",
      "heard\n",
      "heaven\n",
      "heavy\n",
      "hell\n",
      "highway\n",
      "i\n",
      "i\n",
      "i\n",
      "i\n",
      "in\n",
      "in\n",
      "in\n",
      "light\n",
      "lit\n",
      "me\n",
      "mission\n",
      "my\n",
      "my\n",
      "my\n",
      "myself\n",
      "night\n",
      "of\n",
      "on\n",
      "or\n",
      "rising\n",
      "saw\n",
      "she\n",
      "she\n",
      "she\n",
      "shimmering\n",
      "showed\n",
      "sight\n",
      "smell\n",
      "stood\n",
      "stop\n",
      "the\n",
      "the\n",
      "the\n",
      "the\n",
      "the\n",
      "the\n",
      "then\n",
      "there\n",
      "thinking\n",
      "this\n",
      "this\n",
      "through\n",
      "to\n",
      "to\n",
      "up\n",
      "up\n",
      "up\n",
      "warm\n",
      "was\n",
      "way\n",
      "wind\n"
     ]
    }
   ],
   "source": [
    "!cat Word_List_sorted.csv\n",
    "#show content of file"
   ]
  },
  {
   "cell_type": "code",
   "execution_count": 149,
   "metadata": {
    "collapsed": false
   },
   "outputs": [
    {
     "name": "stdout",
     "output_type": "stream",
     "text": [
      "0\n",
      "a\n",
      "a\n",
      "a\n",
      "ahead\n",
      "air\n",
      "and\n",
      "and\n"
     ]
    }
   ],
   "source": [
    "!head -8 Word_List_sorted.csv\n",
    "#from the top, show the first 8 lines"
   ]
  },
  {
   "cell_type": "code",
   "execution_count": 150,
   "metadata": {
    "collapsed": false
   },
   "outputs": [
    {
     "name": "stdout",
     "output_type": "stream",
     "text": [
      "to\n",
      "up\n",
      "up\n",
      "up\n",
      "warm\n",
      "was\n",
      "way\n",
      "wind\n"
     ]
    }
   ],
   "source": [
    "!tail -8 Word_List_sorted.csv\n",
    "#from the bottom, show the last 8 lines"
   ]
  },
  {
   "cell_type": "code",
   "execution_count": 151,
   "metadata": {
    "collapsed": false
   },
   "outputs": [
    {
     "name": "stderr",
     "output_type": "stream",
     "text": [
      "A subdirectory or file cool already exists.\n"
     ]
    },
    {
     "name": "stdout",
     "output_type": "stream",
     "text": [
      ".\n",
      "..\n",
      "._.DS_Store\n",
      ".DS_Store\n",
      ".ipynb_checkpoints\n",
      "1_pregnancy_length_analysis.ipynb\n",
      "2_python_basics.ipynb\n",
      "3_python_basics_excercises.ipynb\n",
      "4_unix,_sys,_and_os.ipynb\n",
      "5_unix_exercises.ipynb\n",
      "8queen.jpg\n",
      "cool\n",
      "From_Linux_Bash_Shell_Cheat_Sheet.ipynb\n",
      "LockFile.md\n",
      "Word_List_sorted.csv\n"
     ]
    }
   ],
   "source": [
    "!mkdir cool\n",
    "!ls -a\n",
    "#make a new directory within the folder"
   ]
  },
  {
   "cell_type": "code",
   "execution_count": 153,
   "metadata": {
    "collapsed": false
   },
   "outputs": [],
   "source": [
    "!cp Word_List_sorted.csv ./cool/\n",
    "#copy the file to a different folder"
   ]
  },
  {
   "cell_type": "code",
   "execution_count": 155,
   "metadata": {
    "collapsed": false
   },
   "outputs": [
    {
     "name": "stdout",
     "output_type": "stream",
     "text": [
      "C:\\Users\\Orysya\\Documents\\DSE\\DSE200-notebooks\\day_1_python_and_unix\\cool\n"
     ]
    }
   ],
   "source": [
    "%cd ./cool/"
   ]
  },
  {
   "cell_type": "code",
   "execution_count": 158,
   "metadata": {
    "collapsed": false
   },
   "outputs": [
    {
     "name": "stdout",
     "output_type": "stream",
     "text": [
      ".\n",
      "..\n",
      "._.DS_Store\n",
      ".DS_Store\n",
      ".ipynb_checkpoints\n",
      "1_pregnancy_length_analysis.ipynb\n",
      "2_python_basics.ipynb\n",
      "3_python_basics_excercises.ipynb\n",
      "4_unix,_sys,_and_os.ipynb\n",
      "5_unix_exercises.ipynb\n",
      "8queen.jpg\n",
      "cool\n",
      "From_Linux_Bash_Shell_Cheat_Sheet.ipynb\n",
      "LockFile.md\n",
      "Word_List_sorted.csv\n"
     ]
    }
   ],
   "source": [
    "!ls -a"
   ]
  },
  {
   "cell_type": "code",
   "execution_count": 163,
   "metadata": {
    "collapsed": false
   },
   "outputs": [
    {
     "name": "stdout",
     "output_type": "stream",
     "text": [
      ".\n",
      "..\n",
      "._.DS_Store\n",
      ".DS_Store\n",
      ".ipynb_checkpoints\n",
      "1_pregnancy_length_analysis.ipynb\n",
      "2_python_basics.ipynb\n",
      "3_python_basics_excercises.ipynb\n",
      "4_unix,_sys,_and_os.ipynb\n",
      "5_unix_exercises.ipynb\n",
      "8queen.jpg\n",
      "awesome\n",
      "cool\n",
      "From_Linux_Bash_Shell_Cheat_Sheet.ipynb\n",
      "LockFile.md\n",
      "Word_List_sorted.csv\n"
     ]
    }
   ],
   "source": [
    "!cp -R cool awesome\n",
    "!ls -a\n",
    "#copy and rename a folder"
   ]
  },
  {
   "cell_type": "code",
   "execution_count": 165,
   "metadata": {
    "collapsed": false
   },
   "outputs": [
    {
     "name": "stderr",
     "output_type": "stream",
     "text": [
      "mv: cannot stat `Word_List_sorted.csv': No such file or directory\n"
     ]
    },
    {
     "name": "stdout",
     "output_type": "stream",
     "text": [
      ".\n",
      "..\n",
      "._.DS_Store\n",
      ".DS_Store\n",
      ".ipynb_checkpoints\n",
      "1_pregnancy_length_analysis.ipynb\n",
      "2_python_basics.ipynb\n",
      "3_python_basics_excercises.ipynb\n",
      "4_unix,_sys,_and_os.ipynb\n",
      "5_unix_exercises.ipynb\n",
      "8queen.jpg\n",
      "awesome\n",
      "cool\n",
      "From_Linux_Bash_Shell_Cheat_Sheet.ipynb\n",
      "LockFile.md\n"
     ]
    }
   ],
   "source": [
    "!mv Word_List_sorted.csv ./cool/\n",
    "!ls -a\n",
    "#move file to a folder"
   ]
  },
  {
   "cell_type": "code",
   "execution_count": 167,
   "metadata": {
    "collapsed": false
   },
   "outputs": [
    {
     "name": "stderr",
     "output_type": "stream",
     "text": [
      "mv: cannot stat `awesome/': No such file or directory\n"
     ]
    },
    {
     "name": "stdout",
     "output_type": "stream",
     "text": [
      ".\n",
      "..\n",
      "._.DS_Store\n",
      ".DS_Store\n",
      ".ipynb_checkpoints\n",
      "1_pregnancy_length_analysis.ipynb\n",
      "2_python_basics.ipynb\n",
      "3_python_basics_excercises.ipynb\n",
      "4_unix,_sys,_and_os.ipynb\n",
      "5_unix_exercises.ipynb\n",
      "8queen.jpg\n",
      "cool\n",
      "From_Linux_Bash_Shell_Cheat_Sheet.ipynb\n",
      "LockFile.md\n"
     ]
    }
   ],
   "source": [
    "!mv awesome/ ./cool/\n",
    "!ls -a\n",
    "#move folder into another folder"
   ]
  },
  {
   "cell_type": "code",
   "execution_count": 170,
   "metadata": {
    "collapsed": false
   },
   "outputs": [
    {
     "name": "stdout",
     "output_type": "stream",
     "text": [
      "[Error 2] The system cannot find the file specified: u'./cool/'\n",
      "C:\\Users\\Orysya\\Documents\\DSE\\DSE200-notebooks\\day_1_python_and_unix\\cool\n",
      ".\n",
      "..\n",
      "awesome\n"
     ]
    }
   ],
   "source": [
    "%cd ./cool/\n",
    "!ls -a"
   ]
  },
  {
   "cell_type": "code",
   "execution_count": 171,
   "metadata": {
    "collapsed": false
   },
   "outputs": [
    {
     "name": "stderr",
     "output_type": "stream",
     "text": [
      "rm: cannot remove `Word_List_sorted.csv': No such file or directory\n"
     ]
    },
    {
     "name": "stdout",
     "output_type": "stream",
     "text": [
      ".\n",
      "..\n",
      "awesome\n"
     ]
    }
   ],
   "source": [
    "!rm Word_List_sorted.csv\n",
    "!ls -a\n",
    "#delete file"
   ]
  },
  {
   "cell_type": "code",
   "execution_count": 177,
   "metadata": {
    "collapsed": false
   },
   "outputs": [
    {
     "name": "stdout",
     "output_type": "stream",
     "text": [
      "[Error 2] The system cannot find the file specified: u'./day_1_python_and_unix/'\n",
      "C:\\Users\\Orysya\\Documents\\DSE\\DSE200-notebooks\\day_1_python_and_unix\n",
      ".\n",
      "..\n",
      "._.DS_Store\n",
      ".DS_Store\n",
      ".ipynb_checkpoints\n",
      "1_pregnancy_length_analysis.ipynb\n",
      "2_python_basics.ipynb\n",
      "3_python_basics_excercises.ipynb\n",
      "4_unix,_sys,_and_os.ipynb\n",
      "5_unix_exercises.ipynb\n",
      "8queen.jpg\n",
      "cool\n",
      "From_Linux_Bash_Shell_Cheat_Sheet.ipynb\n",
      "LockFile.md\n",
      ".\n",
      "..\n",
      "._.DS_Store\n",
      ".DS_Store\n",
      ".ipynb_checkpoints\n",
      "1_pregnancy_length_analysis.ipynb\n",
      "2_python_basics.ipynb\n",
      "3_python_basics_excercises.ipynb\n",
      "4_unix,_sys,_and_os.ipynb\n",
      "5_unix_exercises.ipynb\n",
      "8queen.jpg\n",
      "From_Linux_Bash_Shell_Cheat_Sheet.ipynb\n",
      "LockFile.md\n"
     ]
    }
   ],
   "source": [
    "%cd ./day_1_python_and_unix/\n",
    "!ls -a\n",
    "!rm -r cool/\n",
    "!ls -a\n",
    "#delete folder"
   ]
  },
  {
   "cell_type": "code",
   "execution_count": 180,
   "metadata": {
    "collapsed": false
   },
   "outputs": [
    {
     "name": "stdout",
     "output_type": "stream",
     "text": [
      ".\n",
      "..\n",
      "._.DS_Store\n",
      ".DS_Store\n",
      ".ipynb_checkpoints\n",
      "1_pregnancy_length_analysis.ipynb\n",
      "2_python_basics.ipynb\n",
      "3_python_basics_excercises.ipynb\n",
      "4_unix,_sys,_and_os.ipynb\n",
      "5_unix_exercises.ipynb\n",
      "8queen.jpg\n",
      "From_Linux_Bash_Shell_Cheat_Sheet.ipynb\n",
      "LockFile.md\n"
     ]
    }
   ],
   "source": [
    "!ls -a"
   ]
  },
  {
   "cell_type": "code",
   "execution_count": 179,
   "metadata": {
    "collapsed": true
   },
   "outputs": [],
   "source": [
    "!touch 8queen.jpg\n",
    "#create or update a file"
   ]
  },
  {
   "cell_type": "code",
   "execution_count": 182,
   "metadata": {
    "collapsed": true
   },
   "outputs": [],
   "source": [
    "!ln 8queen.jpg 1_pregnancy_length_analysis.ipynb\n",
    "#physical link"
   ]
  },
  {
   "cell_type": "code",
   "execution_count": 183,
   "metadata": {
    "collapsed": true
   },
   "outputs": [],
   "source": [
    "!ln -s 8queen.jpg 1_pregnancy_length_analysis.ipynb\n",
    "#symbolic link"
   ]
  },
  {
   "cell_type": "code",
   "execution_count": 184,
   "metadata": {
    "collapsed": false
   },
   "outputs": [
    {
     "name": "stdout",
     "output_type": "stream",
     "text": [
      ".\n",
      "..\n",
      "._.DS_Store\n",
      ".DS_Store\n",
      ".ipynb_checkpoints\n",
      "1_pregnancy_length_analysis.ipynb\n",
      "1_pregnancy_length_analysis.ipynb.lnk\n",
      "2_python_basics.ipynb\n",
      "3_python_basics_excercises.ipynb\n",
      "4_unix,_sys,_and_os.ipynb\n",
      "5_unix_exercises.ipynb\n",
      "8queen.jpg\n",
      "From_Linux_Bash_Shell_Cheat_Sheet.ipynb\n",
      "LockFile.md\n"
     ]
    }
   ],
   "source": [
    "!ls -a"
   ]
  },
  {
   "cell_type": "code",
   "execution_count": null,
   "metadata": {
    "collapsed": false
   },
   "outputs": [],
   "source": [
    "!pwd"
   ]
  },
  {
   "cell_type": "code",
   "execution_count": null,
   "metadata": {
    "collapsed": false
   },
   "outputs": [],
   "source": [
    "!locate \"8queen.jpg\"\n",
    "#can search for the content of all the files or search for a file"
   ]
  },
  {
   "cell_type": "code",
   "execution_count": null,
   "metadata": {
    "collapsed": false
   },
   "outputs": [],
   "source": [
    "!find \"8queen\""
   ]
  },
  {
   "cell_type": "code",
   "execution_count": null,
   "metadata": {
    "collapsed": false
   },
   "outputs": [],
   "source": [
    "!find ~ -size + 10M"
   ]
  },
  {
   "cell_type": "code",
   "execution_count": null,
   "metadata": {
    "collapsed": true
   },
   "outputs": [],
   "source": []
  }
 ],
 "metadata": {
  "kernelspec": {
   "display_name": "Python 2",
   "language": "python",
   "name": "python2"
  },
  "language_info": {
   "codemirror_mode": {
    "name": "ipython",
    "version": 2
   },
   "file_extension": ".py",
   "mimetype": "text/x-python",
   "name": "python",
   "nbconvert_exporter": "python",
   "pygments_lexer": "ipython2",
   "version": "2.7.10"
  }
 },
 "nbformat": 4,
 "nbformat_minor": 0
}
