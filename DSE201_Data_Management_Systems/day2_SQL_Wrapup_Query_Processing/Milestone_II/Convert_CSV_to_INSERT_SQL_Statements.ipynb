{
 "cells": [
  {
   "cell_type": "markdown",
   "metadata": {},
   "source": [
    "## Convert Mockaroo CSV data into series of SQL INSERTS\n",
    "https://www.mockaroo.com"
   ]
  },
  {
   "cell_type": "code",
   "execution_count": 23,
   "metadata": {
    "collapsed": true
   },
   "outputs": [],
   "source": [
    "inputFileName = r'cats_suggestions.csv'\n",
    "outputFileName = r'cats_suggestions.sql.txt'\n",
    "insertString = 'INSERT INTO cats.suggestions (like_id, user_id, video_id, \"time\")'"
   ]
  },
  {
   "cell_type": "code",
   "execution_count": 25,
   "metadata": {
    "collapsed": false
   },
   "outputs": [],
   "source": [
    "with open(inputFileName, 'r') as fo:\n",
    "    with open(outputFileName, 'w') as fw:\n",
    "        i = 0\n",
    "        for line in fo:\n",
    "            if (i > 0): # Skip header line\n",
    "                line = line.rstrip('\\n')\n",
    "                v = str.split(line, ',')\n",
    "                fw.write('{} VALUES ('.format(insertString))\n",
    "                for vi in v[:-1]:\n",
    "                    if vi.isnumeric(): # Check if it is a number\n",
    "                        fw.write('{},'.format(vi))\n",
    "                    else:\n",
    "                        fw.write('\\'{}\\','.format(vi))\n",
    "                        \n",
    "                if vi.isnumeric(): # Check if it is a number\n",
    "                    fw.write('{}'.format(v[-1]))\n",
    "                else:\n",
    "                    fw.write('\\'{}\\''.format(v[-1]))\n",
    "                    \n",
    "                fw.write(');\\n')\n",
    "            i += 1\n",
    "fw.close()\n",
    "fo.close()"
   ]
  },
  {
   "cell_type": "code",
   "execution_count": null,
   "metadata": {
    "collapsed": true
   },
   "outputs": [],
   "source": []
  }
 ],
 "metadata": {
  "anaconda-cloud": {},
  "kernelspec": {
   "display_name": "Python [default]",
   "language": "python",
   "name": "python3"
  },
  "language_info": {
   "codemirror_mode": {
    "name": "ipython",
    "version": 3
   },
   "file_extension": ".py",
   "mimetype": "text/x-python",
   "name": "python",
   "nbconvert_exporter": "python",
   "pygments_lexer": "ipython3",
   "version": "3.5.2"
  }
 },
 "nbformat": 4,
 "nbformat_minor": 1
}
