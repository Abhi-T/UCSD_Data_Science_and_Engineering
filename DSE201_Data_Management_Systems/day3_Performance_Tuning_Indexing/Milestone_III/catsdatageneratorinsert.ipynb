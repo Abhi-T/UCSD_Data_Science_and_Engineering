{
 "cells": [
  {
   "cell_type": "markdown",
   "metadata": {},
   "source": [
    "Hope you enjoy! \n",
    "\n",
    "Cheers,\n",
    "kyle"
   ]
  },
  {
   "cell_type": "markdown",
   "metadata": {},
   "source": [
    "try: **conda install psycopg2** or **pip install psycopg2**\n",
    "\n",
    "don't forget insert your **password!!!**"
   ]
  },
  {
   "cell_type": "code",
   "execution_count": 1,
   "metadata": {
    "collapsed": false
   },
   "outputs": [],
   "source": [
    "import psycopg2\n",
    "import math\n",
    "from random import randint\n",
    "import random\n",
    "from itertools import count\n",
    "import time\n",
    "from datetime import date\n"
   ]
  },
  {
   "cell_type": "code",
   "execution_count": 2,
   "metadata": {
    "collapsed": false
   },
   "outputs": [],
   "source": [
    "class TableDataGen(object):\n",
    "    \"\"\"\n",
    "    Instatiate Class with Num of Rows of data you want for a table, the 'Table' name.\n",
    "    Call PKs first, then gen_names, then gen_emails\n",
    "    \"\"\"\n",
    "    def __init__(self, num_rows, table):\n",
    "        self.num_rows = num_rows\n",
    "        self.table = table #what table in cats you are inserting data into\n",
    "#         self.foriegn_keys = foriegn_key_limits #if the table has FKs, make sure not to exceed their values\n",
    "        self.data = [] #data to export\n",
    "        \n",
    "    def get_size(self, s):\n",
    "        return len(s.encode('utf-8'))\n",
    "        \n",
    "    def gen_names(self):\n",
    "        with open('names.txt', 'r') as f:\n",
    "            random_names = []\n",
    "            random_element = [x.split() for x in f.readlines()][0] #silly unpacking hack... [0]\n",
    "            for i in range(1,self.num_rows):\n",
    "                random_names.append(random.choice(random_element))\n",
    "            return self.data.append(random_names)\n",
    "\n",
    "    \n",
    "    def gen_emails(self):\n",
    "        with open('names.txt', 'r') as f:\n",
    "            random_emails = []\n",
    "            random_element = [x.split() for x in f.readlines()][0]\n",
    "            for i in range(1, self.num_rows):\n",
    "                random_emails.append(random.choice(random_element).lower()+'01@make_my_own_data.opt')\n",
    "            self.data.append(random_emails)\n",
    "    \n",
    "    def gen_primary_keys(self):\n",
    "        return self.data.append(range(1, self.num_rows))\n",
    "    \n",
    "    def gen_foreign_keys(self, sql):\n",
    "        cur.execute(sql)\n",
    "        rows = cur.fetchall()\n",
    "        fk_choice =[]\n",
    "        for row in rows:\n",
    "            fk_choice.append(*list(row))\n",
    "        new_fk = []\n",
    "        for e in range(1, self.num_rows):\n",
    "            new_fk.append(random.choice(fk_choice))\n",
    "        self.data.append(new_fk)\n",
    "        \n",
    "    \n",
    "    def gen_friend_pairings(self):\n",
    "        base_users = range(1, self.num_rows) #random sampling from PKs\n",
    "        friend_pairs = set() #set to ensure no duplicates\n",
    "        for pairs in range(1, 20*len(base_users)): #we want 20 times the friend pairings as PKs\n",
    "            user1, user2 = random.choice(base_users), random.choice(base_users) #create friends\n",
    "            if user1 == user2: #you can't be your own friend in this universe\n",
    "                continue\n",
    "            friend_pairs.add((user1,user2))\n",
    "        friend_pairs = zip(*list(friend_pairs)) #unpack tuple pairs into 2 lists\n",
    "        return self.data.extend(friend_pairs) #dump it into data\n",
    "        \n",
    "    \n",
    "    def gen_video_names(self):\n",
    "        video_names = []\n",
    "        for video in range(1, self.num_rows):\n",
    "            video_names.append('vid:'+str(randint(1,10000)))\n",
    "        return self.data.append(video_names)\n",
    "    \n",
    "#     def gen_like_id_package(self):\n",
    "#         ids = range(1, self.num_rows)\n",
    "#         id_pool = range(1, len(ids)*40) #40 times likes as users\n",
    "#         self.data.append(id_pool)\n",
    "\n",
    "#         like_pairs = set()\n",
    "#         for pairs in id_pool: #create a like pair for each id_pool\n",
    "#             user, video = random.choice(ids), random.choice(ids)\n",
    "#             like_pairs.add((user,video))\n",
    "#         x = zip(*list(like_pairs))\n",
    "#         x = list(x[0]),list(x[1])\n",
    "#         self.data.extend(x)\n",
    "        \n",
    "    def random_date(self, start, end, format, prop):\n",
    "        stime = time.mktime(time.strptime(start, format))\n",
    "        etime = time.mktime(time.strptime(end, format))\n",
    "        ptime = stime + prop * (etime - stime)\n",
    "        return time.strftime(format, time.localtime(ptime))\n",
    "            \n",
    "    def gen_timestamp(self):\n",
    "        times = []\n",
    "        for rows in range(1, len(self.data[0])):\n",
    "            times.append(self.random_date(\"1/1/2015 1:30\", \"1/1/2016 4:50\", '%m/%d/%Y %I:%M', random.random()))\n",
    "        self.data.append(times)\n",
    "        \n",
    "\n",
    "    def insert_data(self, col, col_insert):\n",
    "#         print self.data\n",
    "        insert_query = \"\"\"INSERT INTO cats.{}{} VALUES {}\"\"\".format(self.table, col, col_insert)\n",
    "        for row in zip(*self.data):\n",
    "            cur.execute(insert_query, row)\n"
   ]
  },
  {
   "cell_type": "markdown",
   "metadata": {},
   "source": [
    "### insert password here:"
   ]
  },
  {
   "cell_type": "code",
   "execution_count": 3,
   "metadata": {
    "collapsed": false
   },
   "outputs": [],
   "source": [
    "# create a connection to database. make sure that the db name and password are correct\n",
    "try:\n",
    "    conn = psycopg2.connect(\"dbname='DSE201_DBs' user='postgres' host='/tmp/' password='Awesome534'\")\n",
    "except:\n",
    "    print \"unable to connect to the database\"\n",
    "    \n",
    "    \n",
    "conn.set_session(autocommit = True) #else use conn.commit() for each insert statement call\n",
    "cur = conn.cursor()"
   ]
  },
  {
   "cell_type": "markdown",
   "metadata": {},
   "source": [
    "Delete statements if you want to flush the DB, open up query tool and copy pasta them in and execute."
   ]
  },
  {
   "cell_type": "code",
   "execution_count": 4,
   "metadata": {
    "collapsed": true
   },
   "outputs": [],
   "source": [
    "# Delete all data from cats:\n",
    "\n",
    "# DELETE FROM cats.suggestion;\n",
    "# DELETE FROM cats.watch;\n",
    "# DELETE FROM cats.friend;\n",
    "# DELETE FROM cats.likes;\n",
    "# DELETE FROM cats.login;\n",
    "# DELETE FROM cats.user;\n",
    "# DELETE FROM cats.video;\n"
   ]
  },
  {
   "cell_type": "markdown",
   "metadata": {},
   "source": [
    "- 5000 users\n",
    "- 3000 videos\n",
    "- 20000 friend combos\n",
    "- 10000 likes\n",
    "- 20000 logins\n",
    "- 20000 watches\n",
    "- 5000 suggestions"
   ]
  },
  {
   "cell_type": "code",
   "execution_count": 5,
   "metadata": {
    "collapsed": false
   },
   "outputs": [],
   "source": [
    "user = TableDataGen(5000, 'user')\n",
    "user.gen_primary_keys()\n",
    "user.gen_names()\n",
    "user.gen_emails()\n",
    "user.insert_data('(user_id,user_name,facebook_id)', '(%s,%s,%s)')"
   ]
  },
  {
   "cell_type": "code",
   "execution_count": 6,
   "metadata": {
    "collapsed": false
   },
   "outputs": [],
   "source": [
    "video = TableDataGen(3000, 'video')\n",
    "video.gen_primary_keys()\n",
    "video.gen_video_names()\n",
    "video.insert_data('(video_id,video_name)', '(%s,%s)')"
   ]
  },
  {
   "cell_type": "code",
   "execution_count": 7,
   "metadata": {
    "collapsed": false
   },
   "outputs": [],
   "source": [
    "friend = TableDataGen(1000, 'friend') #creating 20 times!!! friend pairings for num of users\n",
    "friend.gen_friend_pairings()\n",
    "friend.insert_data('(user_id,friend_id)', '(%s,%s)')"
   ]
  },
  {
   "cell_type": "code",
   "execution_count": 8,
   "metadata": {
    "collapsed": false
   },
   "outputs": [],
   "source": [
    "likes = TableDataGen(10000, 'likes')\n",
    "# likes.gen_like_id_package()\n",
    "likes.gen_primary_keys()\n",
    "likes.gen_foreign_keys(\"\"\"SELECT user_id FROM cats.user\"\"\")\n",
    "likes.gen_foreign_keys(\"\"\"SELECT video_id FROM cats.video\"\"\")\n",
    "likes.gen_timestamp()\n",
    "likes.insert_data('(like_id,user_id,video_id,time)', '(%s,%s,%s,%s)')"
   ]
  },
  {
   "cell_type": "code",
   "execution_count": 9,
   "metadata": {
    "collapsed": false
   },
   "outputs": [],
   "source": [
    "login = TableDataGen(20000, 'login')\n",
    "login.gen_primary_keys()\n",
    "login.gen_foreign_keys(\"\"\"SELECT user_id FROM cats.user\"\"\")\n",
    "login.gen_timestamp()\n",
    "login.insert_data('(login_id,user_id,time)', '(%s,%s,%s)')"
   ]
  },
  {
   "cell_type": "code",
   "execution_count": 10,
   "metadata": {
    "collapsed": false
   },
   "outputs": [],
   "source": [
    "watch = TableDataGen(20000, 'watch')\n",
    "watch.gen_primary_keys()\n",
    "watch.gen_foreign_keys(\"\"\"SELECT video_id FROM cats.video\"\"\")\n",
    "watch.gen_foreign_keys(\"\"\"SELECT user_id FROM cats.user\"\"\")\n",
    "watch.gen_timestamp()\n",
    "watch.insert_data('(watch_id,video_id,user_id,time)', '(%s,%s,%s,%s)')"
   ]
  },
  {
   "cell_type": "code",
   "execution_count": 11,
   "metadata": {
    "collapsed": false
   },
   "outputs": [],
   "source": [
    "suggestion = TableDataGen(5000, 'suggestion')\n",
    "suggestion.gen_primary_keys()\n",
    "suggestion.gen_foreign_keys(\"\"\"SELECT login_id FROM cats.login\"\"\")\n",
    "suggestion.gen_foreign_keys(\"\"\"SELECT video_id FROM cats.video\"\"\")\n",
    "suggestion.insert_data('(suggestion_id,login_id,video_id)', '(%s,%s,%s)')"
   ]
  },
  {
   "cell_type": "code",
   "execution_count": null,
   "metadata": {
    "collapsed": true
   },
   "outputs": [],
   "source": []
  },
  {
   "cell_type": "markdown",
   "metadata": {},
   "source": [
    "### Test out the data quality by pulling from the database:"
   ]
  },
  {
   "cell_type": "code",
   "execution_count": 12,
   "metadata": {
    "collapsed": false
   },
   "outputs": [
    {
     "name": "stdout",
     "output_type": "stream",
     "text": [
      "\n",
      "LIMIT 10 from table:  ----- user -----\n",
      "(1, 'Ashlie', 'sammy01@make_my_own_data.opt')\n",
      "(2, 'Edwardo', 'elsa01@make_my_own_data.opt')\n",
      "(3, 'Shante', 'alaina01@make_my_own_data.opt')\n",
      "(4, 'Marla', 'carie01@make_my_own_data.opt')\n",
      "(5, 'Drucilla', 'jeffery01@make_my_own_data.opt')\n",
      "(6, 'Eve', 'dan01@make_my_own_data.opt')\n",
      "(7, 'Noble', 'jayson01@make_my_own_data.opt')\n",
      "(8, 'Cherise', 'madlyn01@make_my_own_data.opt')\n",
      "(9, 'Augustine', 'felton01@make_my_own_data.opt')\n",
      "(10, 'Kaila', 'dean01@make_my_own_data.opt')\n",
      "\n",
      "LIMIT 10 from table:  ----- video -----\n",
      "(1, 'vid:6872')\n",
      "(2, 'vid:6696')\n",
      "(3, 'vid:5097')\n",
      "(4, 'vid:2835')\n",
      "(5, 'vid:8214')\n",
      "(6, 'vid:4177')\n",
      "(7, 'vid:6890')\n",
      "(8, 'vid:6305')\n",
      "(9, 'vid:4033')\n",
      "(10, 'vid:6723')\n",
      "\n",
      "LIMIT 10 from table:  ----- friend -----\n",
      "(780, 725)\n",
      "(485, 297)\n",
      "(685, 525)\n",
      "(627, 464)\n",
      "(167, 205)\n",
      "(794, 141)\n",
      "(613, 45)\n",
      "(760, 751)\n",
      "(725, 611)\n",
      "(691, 943)\n",
      "\n",
      "LIMIT 10 from table:  ----- likes -----\n",
      "(1, 2264, 1021, datetime.datetime(2015, 12, 20, 9, 49))\n",
      "(2, 3549, 2074, datetime.datetime(2015, 5, 2, 8, 33))\n",
      "(3, 2013, 1871, datetime.datetime(2015, 3, 3, 5, 55))\n",
      "(4, 4440, 658, datetime.datetime(2015, 1, 22, 10, 12))\n",
      "(5, 1613, 2523, datetime.datetime(2015, 11, 17, 8, 12))\n",
      "(6, 3802, 751, datetime.datetime(2015, 4, 3, 9, 29))\n",
      "(7, 2973, 985, datetime.datetime(2015, 3, 6, 6, 57))\n",
      "(8, 3011, 1982, datetime.datetime(2015, 10, 24, 2, 42))\n",
      "(9, 2059, 1119, datetime.datetime(2015, 2, 17, 5, 33))\n",
      "(10, 3757, 2453, datetime.datetime(2015, 4, 16, 8, 5))\n",
      "\n",
      "LIMIT 10 from table:  ----- suggestion -----\n",
      "(1, 19891, 2868)\n",
      "(2, 9606, 1457)\n",
      "(3, 8197, 2646)\n",
      "(4, 9946, 470)\n",
      "(5, 19926, 2304)\n",
      "(6, 7860, 2937)\n",
      "(7, 15021, 224)\n",
      "(8, 3032, 481)\n",
      "(9, 13598, 1076)\n",
      "(10, 16628, 1074)\n",
      "\n",
      "LIMIT 10 from table:  ----- watch -----\n",
      "(1, 1739, 3704, datetime.datetime(2015, 7, 4, 7, 5))\n",
      "(2, 692, 4483, datetime.datetime(2015, 7, 11, 4, 35))\n",
      "(3, 338, 2734, datetime.datetime(2015, 3, 11, 12, 50))\n",
      "(4, 1383, 2008, datetime.datetime(2015, 11, 10, 10, 16))\n",
      "(5, 2603, 4368, datetime.datetime(2015, 8, 10, 8, 35))\n",
      "(6, 1876, 2855, datetime.datetime(2015, 3, 31, 11, 1))\n",
      "(7, 1195, 3123, datetime.datetime(2015, 6, 4, 2, 2))\n",
      "(8, 483, 929, datetime.datetime(2015, 3, 1, 1, 34))\n",
      "(9, 1850, 3258, datetime.datetime(2015, 3, 18, 12, 38))\n",
      "(10, 1975, 3324, datetime.datetime(2015, 7, 3, 1, 14))\n",
      "\n",
      "LIMIT 10 from table:  ----- login -----\n",
      "(1, 280, datetime.datetime(2015, 7, 13, 5, 23))\n",
      "(2, 2354, datetime.datetime(2015, 3, 9, 4, 43))\n",
      "(3, 604, datetime.datetime(2015, 3, 20, 5, 29))\n",
      "(4, 689, datetime.datetime(2015, 11, 8, 8, 19))\n",
      "(5, 2927, datetime.datetime(2015, 2, 19, 7, 10))\n",
      "(6, 1998, datetime.datetime(2015, 5, 5, 5, 11))\n",
      "(7, 928, datetime.datetime(2015, 8, 30, 10, 11))\n",
      "(8, 4332, datetime.datetime(2015, 2, 25, 10, 53))\n",
      "(9, 2909, datetime.datetime(2015, 5, 19, 7, 55))\n",
      "(10, 3943, datetime.datetime(2015, 8, 19, 12, 38))\n"
     ]
    }
   ],
   "source": [
    "# Test DB Queries:\n",
    "tests = ['user','video','friend','likes', 'suggestion', 'watch','login'] #get data from base tables\n",
    "for test in tests:\n",
    "    try:\n",
    "        cur.execute(\"\"\"SELECT * from cats.{} limit 10\"\"\".format(test))\n",
    "    except:\n",
    "        print \"Failed SELECT from cats.{}\".format(test)\n",
    "\n",
    "    rows = cur.fetchall()\n",
    "    print '\\nLIMIT 10 from table:  ----- {} -----'.format(test)\n",
    "    for row in rows:\n",
    "        print row"
   ]
  },
  {
   "cell_type": "code",
   "execution_count": 13,
   "metadata": {
    "collapsed": true
   },
   "outputs": [],
   "source": [
    "#close the connection to db\n",
    "conn.close()"
   ]
  },
  {
   "cell_type": "code",
   "execution_count": null,
   "metadata": {
    "collapsed": true
   },
   "outputs": [],
   "source": []
  }
 ],
 "metadata": {
  "kernelspec": {
   "display_name": "Python 2",
   "language": "python",
   "name": "python2"
  },
  "language_info": {
   "codemirror_mode": {
    "name": "ipython",
    "version": 2
   },
   "file_extension": ".py",
   "mimetype": "text/x-python",
   "name": "python",
   "nbconvert_exporter": "python",
   "pygments_lexer": "ipython2",
   "version": "2.7.10"
  }
 },
 "nbformat": 4,
 "nbformat_minor": 1
}
