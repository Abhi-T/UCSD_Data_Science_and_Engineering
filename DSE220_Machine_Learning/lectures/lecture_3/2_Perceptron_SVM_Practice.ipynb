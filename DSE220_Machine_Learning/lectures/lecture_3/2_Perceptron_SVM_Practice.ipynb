{
 "cells": [
  {
   "cell_type": "markdown",
   "metadata": {},
   "source": [
    "# Practice Question\n",
    "1. Implement Perceptron Model on Iris dataset (first 2 features)\n",
    "2. Divide the dataset into Train, Validation and Test data. Tune the cost parameter for SVM on Iris data.\n",
    "Try Values {0.0001, 0.001,0.01,0.1,1,10,100}\n",
    "3. Select the best and the worst value and compare the results on the test data."
   ]
  },
  {
   "cell_type": "code",
   "execution_count": 1,
   "metadata": {
    "collapsed": true
   },
   "outputs": [],
   "source": [
    "from sklearn import datasets\n",
    "from sklearn.model_selection import train_test_split\n",
    "from sklearn.metrics import accuracy_score\n",
    "from sklearn.linear_model import Perceptron\n",
    "from sklearn.svm import SVC\n",
    "import numpy as np\n",
    "import pandas as pd\n",
    "\n",
    "import matplotlib.pyplot as plt\n",
    "%matplotlib inline"
   ]
  },
  {
   "cell_type": "code",
   "execution_count": 2,
   "metadata": {
    "collapsed": true
   },
   "outputs": [],
   "source": [
    "# Load the iris dataset\n",
    "iris = datasets.load_iris()\n",
    "X = iris.data[:, :2]\n",
    "y = iris.target"
   ]
  },
  {
   "cell_type": "code",
   "execution_count": 3,
   "metadata": {
    "collapsed": true
   },
   "outputs": [],
   "source": [
    "X1, X_test, y1, y_test = train_test_split(X, y, test_size=0.2, random_state= 5)\n",
    "X_train, X_valid, y_train, y_valid = train_test_split(X1, y1, test_size=0.2, random_state= 5)\n",
    "X_train_total = np.concatenate((X_train,X_valid))\n",
    "y_train_total = np.concatenate((y_train,y_valid))"
   ]
  },
  {
   "cell_type": "markdown",
   "metadata": {},
   "source": [
    "### Perceptron"
   ]
  },
  {
   "cell_type": "code",
   "execution_count": 4,
   "metadata": {},
   "outputs": [
    {
     "name": "stdout",
     "output_type": "stream",
     "text": [
      "The test accuracy is 0.566666666667\n"
     ]
    }
   ],
   "source": [
    "clf = Perceptron()\n",
    "clf.fit(X_train_total, y_train_total)\n",
    "y_pred = clf.predict(X_test)\n",
    "print('The test accuracy is ' + str(accuracy_score(y_test, y_pred)))"
   ]
  },
  {
   "cell_type": "markdown",
   "metadata": {},
   "source": [
    "### SVM"
   ]
  },
  {
   "cell_type": "code",
   "execution_count": 5,
   "metadata": {},
   "outputs": [
    {
     "name": "stdout",
     "output_type": "stream",
     "text": [
      "For 0.0001 the validation accuracy is 0.333333333333\n",
      "For 0.001 the validation accuracy is 0.333333333333\n",
      "For 0.01 the validation accuracy is 0.333333333333\n",
      "For 0.1 the validation accuracy is 0.75\n",
      "For 1 the validation accuracy is 0.75\n",
      "For 10 the validation accuracy is 0.75\n",
      "For 100 the validation accuracy is 0.666666666667\n"
     ]
    }
   ],
   "source": [
    "for i in [0.0001 , 0.001, 0.01, 0.1, 1, 10, 100]:\n",
    "    clf = SVC(C= i)\n",
    "    clf.fit(X_train, y_train)\n",
    "    y_pred = clf.predict(X_valid)\n",
    "    print('For', i, 'the validation accuracy is ' + str(accuracy_score(y_valid, y_pred)))"
   ]
  },
  {
   "cell_type": "markdown",
   "metadata": {},
   "source": [
    "The best accuracy was for c = 0.1 & the worst was for 0.001."
   ]
  },
  {
   "cell_type": "code",
   "execution_count": 6,
   "metadata": {},
   "outputs": [
    {
     "name": "stdout",
     "output_type": "stream",
     "text": [
      "For the best accuracy, c = 0.1\n",
      "The test accuracy = 0.8\n"
     ]
    }
   ],
   "source": [
    "print('For the best accuracy, c = 0.1')\n",
    "clf = SVC(C= 0.1)\n",
    "clf.fit(X_train_total, y_train_total)\n",
    "y_pred = clf.predict(X_test)\n",
    "print('The test accuracy = ' + str(accuracy_score(y_test, y_pred)))"
   ]
  },
  {
   "cell_type": "code",
   "execution_count": 7,
   "metadata": {},
   "outputs": [
    {
     "name": "stdout",
     "output_type": "stream",
     "text": [
      "For the best accuracy, c = 0.001\n",
      "The test accuracy = 0.266666666667\n"
     ]
    }
   ],
   "source": [
    "print('For the best accuracy, c = 0.001')\n",
    "clf = SVC(C= 0.001)\n",
    "clf.fit(X_train_total, y_train_total)\n",
    "y_pred = clf.predict(X_test)\n",
    "print('The test accuracy = ' + str(accuracy_score(y_test, y_pred)))"
   ]
  },
  {
   "cell_type": "code",
   "execution_count": null,
   "metadata": {
    "collapsed": true
   },
   "outputs": [],
   "source": []
  }
 ],
 "metadata": {
  "anaconda-cloud": {},
  "kernelspec": {
   "display_name": "Python [conda env:py36]",
   "language": "python",
   "name": "conda-env-py36-py"
  },
  "language_info": {
   "codemirror_mode": {
    "name": "ipython",
    "version": 3
   },
   "file_extension": ".py",
   "mimetype": "text/x-python",
   "name": "python",
   "nbconvert_exporter": "python",
   "pygments_lexer": "ipython3",
   "version": "3.6.0"
  }
 },
 "nbformat": 4,
 "nbformat_minor": 2
}
