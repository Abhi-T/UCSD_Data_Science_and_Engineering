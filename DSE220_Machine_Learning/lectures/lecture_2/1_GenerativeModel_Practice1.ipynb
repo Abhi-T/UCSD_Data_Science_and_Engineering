{
 "cells": [
  {
   "cell_type": "raw",
   "metadata": {},
   "source": [
    "1. Create a classification problem with 3 classes, 15 features and 5000 rows\n",
    "2. Take the last 1000 rows to be the test set\n",
    "3. Run Gaussian naive bayes on this problem and report test accuracy\n",
    "4. Calculate class prior probabilities for each class in training data (first 4k rows)\n",
    "5. Calculate the probability of the samples for each class in the test set\n",
    "\n",
    "References:\n",
    "    http://scikit-learn.org/stable/modules/generated/sklearn.datasets.make_classification.html\n",
    "    http://scikit-learn.org/stable/modules/generated/sklearn.naive_bayes.GaussianNB.html#sklearn.naive_bayes.GaussianNB"
   ]
  },
  {
   "cell_type": "code",
   "execution_count": 1,
   "metadata": {
    "collapsed": true
   },
   "outputs": [],
   "source": [
    "from sklearn import datasets\n",
    "from sklearn.model_selection import train_test_split\n",
    "import numpy as np\n",
    "import pandas as pd\n",
    "from sklearn.datasets import make_classification"
   ]
  },
  {
   "cell_type": "code",
   "execution_count": 15,
   "metadata": {},
   "outputs": [],
   "source": [
    "X, y = make_classification(n_samples=5000, n_features=15, n_classes=3, n_clusters_per_class=1)\n",
    "X_test = X[4000:]\n",
    "y_test = y[4000:]\n",
    "X_train = X[:4000]\n",
    "y_train = y[:4000]"
   ]
  },
  {
   "cell_type": "code",
   "execution_count": 34,
   "metadata": {},
   "outputs": [
    {
     "name": "stdout",
     "output_type": "stream",
     "text": [
      "The prior classes are\n",
      " [ 0.33475  0.33225  0.333  ]\n",
      "\n",
      "The predicted probabilities are\n",
      " [[  2.79757978e-07   9.59260323e-02   9.04073688e-01]\n",
      " [  3.46608042e-05   2.12322292e-01   7.87643047e-01]\n",
      " [  2.19032705e-04   9.48634841e-01   5.11461264e-02]\n",
      " ..., \n",
      " [  5.74027254e-07   9.99735093e-01   2.64333026e-04]\n",
      " [  9.99997939e-01   8.25858964e-25   2.06062857e-06]\n",
      " [  2.28092160e-07   3.46222188e-01   6.53777584e-01]]\n"
     ]
    }
   ],
   "source": [
    "from sklearn.naive_bayes import GaussianNB\n",
    "from sklearn.metrics import accuracy_score\n",
    "\n",
    "gnb = GaussianNB()\n",
    "gnb.fit(X_train, y_train)\n",
    "y_pred_probs = gnb.predict_proba(X_test)\n",
    "print('The prior classes are\\n', gnb.class_prior_)\n",
    "print('\\nThe predicted probabilities are\\n', y_pred_probs)"
   ]
  },
  {
   "cell_type": "code",
   "execution_count": null,
   "metadata": {
    "collapsed": true
   },
   "outputs": [],
   "source": []
  }
 ],
 "metadata": {
  "anaconda-cloud": {},
  "kernelspec": {
   "display_name": "Python [conda env:py36]",
   "language": "python",
   "name": "conda-env-py36-py"
  },
  "language_info": {
   "codemirror_mode": {
    "name": "ipython",
    "version": 3
   },
   "file_extension": ".py",
   "mimetype": "text/x-python",
   "name": "python",
   "nbconvert_exporter": "python",
   "pygments_lexer": "ipython3",
   "version": "3.6.0"
  }
 },
 "nbformat": 4,
 "nbformat_minor": 2
}
