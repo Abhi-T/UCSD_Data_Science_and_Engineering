{
 "cells": [
  {
   "cell_type": "markdown",
   "metadata": {},
   "source": [
    "# Homework 2\n",
    "## DSE 220: Machine Learning\n",
    "## Due Date: 30 April 2017\n",
    "## Orysya Stus"
   ]
  },
  {
   "cell_type": "code",
   "execution_count": 1,
   "metadata": {},
   "outputs": [
    {
     "name": "stdout",
     "output_type": "stream",
     "text": [
      "Populating the interactive namespace from numpy and matplotlib\n"
     ]
    }
   ],
   "source": [
    "import pandas as pd\n",
    "import numpy as np\n",
    "from sklearn.model_selection import train_test_split\n",
    "%pylab inline"
   ]
  },
  {
   "cell_type": "markdown",
   "metadata": {
    "collapsed": true
   },
   "source": [
    "## 2. Data\n",
    "Download the MNIST train and test data from github along with their corresponding label files. The train and test data consist of 6000 and 1000 binarized MNIST images respectively."
   ]
  },
  {
   "cell_type": "code",
   "execution_count": 2,
   "metadata": {
    "collapsed": true
   },
   "outputs": [],
   "source": [
    "X_train = pd.read_csv('mnist_train_data.csv', header= None)\n",
    "y_train = pd.read_csv('mnist_train_labels.csv', names=['labels'])\n",
    "X_test = pd.read_csv('mnist_test_data.csv', header= None)\n",
    "y_test = pd.read_csv('mnist_test_labels.csv', names=['labels'])"
   ]
  },
  {
   "cell_type": "markdown",
   "metadata": {
    "collapsed": true
   },
   "source": [
    "## 3. Generative Learning\n",
    "Please don't use the direct function from scikit-learn library for questions 1, 2, 3 and write your own implementation for them.\n",
    "\n",
    "### Question 1: \n",
    "Compute and report the prior probabilities pi_j for all labels."
   ]
  },
  {
   "cell_type": "code",
   "execution_count": 3,
   "metadata": {},
   "outputs": [
    {
     "name": "stdout",
     "output_type": "stream",
     "text": [
      "Count for label 0  =  592  and Prior probabilty   =  0.0986666666667\n",
      "Count for label 1  =  671  and Prior probabilty   =  0.111833333333\n",
      "Count for label 2  =  581  and Prior probabilty   =  0.0968333333333\n",
      "Count for label 3  =  608  and Prior probabilty   =  0.101333333333\n",
      "Count for label 4  =  623  and Prior probabilty   =  0.103833333333\n",
      "Count for label 5  =  514  and Prior probabilty   =  0.0856666666667\n",
      "Count for label 6  =  608  and Prior probabilty   =  0.101333333333\n",
      "Count for label 7  =  651  and Prior probabilty   =  0.1085\n",
      "Count for label 8  =  551  and Prior probabilty   =  0.0918333333333\n",
      "Count for label 9  =  601  and Prior probabilty   =  0.100166666667\n",
      "\n",
      "Checking Sum of all priors =  1.0\n"
     ]
    }
   ],
   "source": [
    "lbls = sort(y_train['labels'].unique())\n",
    "lbl_cnt_lst = []\n",
    "priors = []\n",
    "priors_dict = {}\n",
    " \n",
    "for l in lbls:\n",
    "    cnt = y_train[y_train['labels'] == l].count()[0]\n",
    "    lbl_cnt_lst.append(cnt)  \n",
    "    tmp_prior = cnt / len (y_train)\n",
    "    priors.append(tmp_prior)\n",
    "   \n",
    "    priors_dict[l] = tmp_prior\n",
    "    print (\"Count for label\", l ,\" = \" , cnt, \" and Prior probabilty \", \" = \", tmp_prior)\n",
    " \n",
    "print (\"\\nChecking Sum of all priors = \", sum(priors))"
   ]
  },
  {
   "cell_type": "code",
   "execution_count": 4,
   "metadata": {
    "collapsed": true
   },
   "outputs": [],
   "source": [
    "# def prior_prob(label):\n",
    "#     count = 0\n",
    "#     for i in range(len(train)):\n",
    "#         if train[i][-1] == label:\n",
    "#             count += 1\n",
    "#     return count/len(train)\n",
    "# labels = arange(10)\n",
    "# prior_prob_dict = {}\n",
    "# for label in labels:\n",
    "#     prior_prob_dict[label] = prior_prob(label)\n",
    "# for i,j in prior_prob_dict.items():\n",
    "#     print('The prior probability for class', i, 'is', j)"
   ]
  },
  {
   "cell_type": "markdown",
   "metadata": {
    "collapsed": true
   },
   "source": [
    "### Question 2: \n",
    "For each pixel Xi and label j, compute Pji = P(Xi = 1|y = j) (Use the maximum likelihood estimate shown in class). Use Laplacian Smoothing for computing Pji. Report the highest Pji for each label j."
   ]
  },
  {
   "cell_type": "code",
   "execution_count": 5,
   "metadata": {},
   "outputs": [
    {
     "name": "stdout",
     "output_type": "stream",
     "text": [
      "Highest Probability(Pji) for label 0  =  0.851851851852\n",
      "Highest Probability(Pji) for label 1  =  0.98514115899\n",
      "Highest Probability(Pji) for label 2  =  0.728987993139\n",
      "Highest Probability(Pji) for label 3  =  0.808196721311\n",
      "Highest Probability(Pji) for label 4  =  0.8496\n",
      "Highest Probability(Pji) for label 5  =  0.711240310078\n",
      "Highest Probability(Pji) for label 6  =  0.849180327869\n",
      "Highest Probability(Pji) for label 7  =  0.794793261868\n",
      "Highest Probability(Pji) for label 8  =  0.875226039783\n",
      "Highest Probability(Pji) for label 9  =  0.867330016584\n"
     ]
    }
   ],
   "source": [
    "merged_df = pd.concat([X_train, y_train ], axis = 1)\n",
    "pji = np.zeros(shape=[10, 784])\n",
    " \n",
    "for l in lbls:\n",
    "    temp_df = merged_df.loc[merged_df['labels'] == l]\n",
    "    temp_df = temp_df.drop('labels', 1)\n",
    "    np_sum = (temp_df.values).sum(axis = 0)\n",
    "   \n",
    "    np_pr = (np_sum +1 ) / (temp_df.shape[0] + 2)\n",
    "    pji[l, :] = np_pr\n",
    "    print (\"Highest Probability(Pji) for label\", l,   \" = \",np_pr.max())\n",
    " \n",
    "log_pji = np.log(pji.T)"
   ]
  },
  {
   "cell_type": "markdown",
   "metadata": {
    "collapsed": true
   },
   "source": [
    "### Question 3: \n",
    "Use naive bayes (as shown in lecture slides) to classify the test data. Report the accuracy."
   ]
  },
  {
   "cell_type": "code",
   "execution_count": 6,
   "metadata": {
    "collapsed": true
   },
   "outputs": [],
   "source": [
    "left_term = np.matmul(X_test, log_pji)\n",
    "right_term = np.matmul((1 - X_test), np.log(1 - pji).T )\n",
    "final = np.add(( left_term + right_term), np.log(priors))\n",
    "y_predicted = np.argmax(final, axis = 1)"
   ]
  },
  {
   "cell_type": "code",
   "execution_count": 7,
   "metadata": {},
   "outputs": [
    {
     "name": "stdout",
     "output_type": "stream",
     "text": [
      "The accuracy is 0.809\n"
     ]
    }
   ],
   "source": [
    "from sklearn import metrics\n",
    "print('The accuracy is', metrics.accuracy_score(y_test, y_predicted))"
   ]
  },
  {
   "cell_type": "markdown",
   "metadata": {},
   "source": [
    "Note: You can use the scikit-learn function from Question 4 onwards\n",
    "\n",
    "### Question 4: \n",
    "Compute the confusion matrix (as shown in the lectures) and report the top 3 pairs with most (absolute number) incorrect classifications."
   ]
  },
  {
   "cell_type": "code",
   "execution_count": 8,
   "metadata": {},
   "outputs": [
    {
     "data": {
      "image/png": "[encoded data removed]",
      "text/plain": [
       "<matplotlib.figure.Figure at 0x1ef04ba9780>"
      ]
     },
     "metadata": {},
     "output_type": "display_data"
    }
   ],
   "source": [
    "import seaborn as sns\n",
    "cm = pd.DataFrame(metrics.confusion_matrix(y_test, y_predicted))\n",
    "plt.figure(figsize=(15, 15))\n",
    "sns.heatmap(cm, annot=True, fmt=\".3f\", linewidth=.5, square = True, cmap = 'Blues_r');\n",
    "plt.ylabel('Actual label');\n",
    "plt.xlabel('Predicted label');\n",
    "plt.title('Confusion Matrix', size = 15);"
   ]
  },
  {
   "cell_type": "markdown",
   "metadata": {},
   "source": [
    "The top 3 pairs with the most (absolute number) incorrect classifications are:\n",
    "\n",
    "    4 is incorrectly classified as 9 (21 times)\n",
    "    5 is incorrectly classified as 3 (11 times)\n",
    "    8 is incorrectly classified as 3 (9 times)"
   ]
  },
  {
   "cell_type": "markdown",
   "metadata": {},
   "source": [
    "### Question 5: \n",
    "Visualizing mistakes: Print two MNIST images from the test data that your classier misclassified. Write both the true and predicted labels for both of these misclassied digits."
   ]
  },
  {
   "cell_type": "code",
   "execution_count": 9,
   "metadata": {},
   "outputs": [
    {
     "name": "stdout",
     "output_type": "stream",
     "text": [
      "For this random example the model predicted a:  1\n",
      "Let's see how it compares to the actual image:  2\n"
     ]
    },
    {
     "data": {
      "image/png": "[encoded data removed]",
      "text/plain": [
       "<matplotlib.figure.Figure at 0x1ef063101d0>"
      ]
     },
     "metadata": {},
     "output_type": "display_data"
    },
    {
     "name": "stdout",
     "output_type": "stream",
     "text": [
      "For this random example the model predicted a:  4\n",
      "Let's see how it compares to the actual image:  8\n"
     ]
    },
    {
     "data": {
      "image/png": "[encoded data removed]",
      "text/plain": [
       "<matplotlib.figure.Figure at 0x1ef063de630>"
      ]
     },
     "metadata": {},
     "output_type": "display_data"
    }
   ],
   "source": [
    "X_test = np.array(X_test)\n",
    "y_test = np.array(y_test['labels'])\n",
    "indices = np.array(np.where((y_test !=  y_predicted) == True))[0]\n",
    "wrong = random.choice(indices, 2)\n",
    "actuals = y_test[wrong]\n",
    "left_term = np.matmul(X_test[wrong], log_pji)\n",
    "right_term = np.matmul((1 - X_test[wrong]), np.log(1 - pji).T )\n",
    "final = np.add(( left_term + right_term), np.log(priors))\n",
    "y_predicted = np.argmax(final, axis = 1)\n",
    "\n",
    "for i in range(len(wrong)):\n",
    "    print(\"For this random example the model predicted a: \", y_predicted[i])\n",
    "    print(\"Let's see how it compares to the actual image: \", actuals[i])\n",
    "    plt.figure(1, figsize=(3,3))\n",
    "    plt.imshow(X_test[wrong[i]].reshape(28, 28), cmap=plt.cm.gray_r, interpolation='nearest')\n",
    "    plt.show()"
   ]
  },
  {
   "cell_type": "markdown",
   "metadata": {},
   "source": [
    "Now, we will implement Gaussian Mixture Model and Linear Discriminant Analysis on the breast cancer data (sklearn.datasets.load breast cancer) available in sklean.datasets. Load the data and split it into train-validation-test (40-20-40 split). Don't shuffle the data, otherwise your results will be different."
   ]
  },
  {
   "cell_type": "code",
   "execution_count": 45,
   "metadata": {},
   "outputs": [
    {
     "name": "stdout",
     "output_type": "stream",
     "text": [
      "Train (228,) Valid (113,) Test (228,)\n"
     ]
    }
   ],
   "source": [
    "from sklearn.datasets import load_breast_cancer\n",
    "from sklearn.model_selection import train_test_split\n",
    "bc = load_breast_cancer()\n",
    "X, X_test, y, y_test = train_test_split(bc.data, bc.target, test_size=0.4, random_state= 5)\n",
    "X_train, X_valid, y_train, y_valid = train_test_split(X, y, test_size=0.33, random_state= 5)\n",
    "# X_train = bc.data[:228]\n",
    "# y_train = bc.target[:228]\n",
    "# X_valid = bc.data[228:341]\n",
    "# y_valid = bc.target[228:341]\n",
    "# X_test = bc.data[341:]\n",
    "# y_test = bc.target[341:]\n",
    "print('Train', y_train.shape, 'Valid', y_valid.shape, 'Test', y_test.shape)"
   ]
  },
  {
   "cell_type": "markdown",
   "metadata": {},
   "source": [
    "### Question 6: \n",
    "Implement Gaussian Mixture model on the data as shown in class. Tune the covariance type parameter on the validation data. Use the selected value to compute the test accuracy. As always, train the model on train+validation data to compute the test accuracy."
   ]
  },
  {
   "cell_type": "code",
   "execution_count": 46,
   "metadata": {},
   "outputs": [
    {
     "name": "stdout",
     "output_type": "stream",
     "text": [
      "For criterion = spherical the validation accuracy = 0.115044247788\n",
      "For criterion = tied the validation accuracy = 0.212389380531\n",
      "For criterion = diag the validation accuracy = 0.902654867257\n",
      "For criterion = full the validation accuracy = 0.16814159292\n",
      "The best criterion is diag with a validation accuracy of 0.902654867257\n"
     ]
    }
   ],
   "source": [
    "from sklearn.mixture import GaussianMixture\n",
    "best_acc = 0\n",
    "for i in ['spherical', 'tied', 'diag', 'full']:\n",
    "    clf = GaussianMixture(n_components=2, covariance_type = i)\n",
    "    clf.fit(X_train, y_train)\n",
    "    y_pred = clf.predict(X_valid)\n",
    "    accuracy = np.sum(y_pred == y_valid)*1.0/len(y_valid)\n",
    "    print('For criterion =', i, 'the validation accuracy = ' + str(accuracy))\n",
    "    if (accuracy > best_acc):\n",
    "        best_ct = i\n",
    "        best_acc = accuracy\n",
    "print('The best criterion is', best_ct, 'with a validation accuracy of', best_acc)"
   ]
  },
  {
   "cell_type": "code",
   "execution_count": 47,
   "metadata": {},
   "outputs": [
    {
     "name": "stdout",
     "output_type": "stream",
     "text": [
      "The test accuracy using criterion = diag is  0.0833333333333\n"
     ]
    }
   ],
   "source": [
    "from sklearn.metrics import accuracy_score\n",
    "X_train_total = np.concatenate((X_train,X_valid))\n",
    "y_train_total = np.concatenate((y_train,y_valid))\n",
    "clf = GaussianMixture(n_components=2, covariance_type = best_ct)\n",
    "clf.fit(X_train_total, y_train_total)\n",
    "y_pred = clf.predict(X_test)\n",
    "print('The test accuracy using criterion =', best_ct, 'is ', accuracy_score(y_test, y_pred))"
   ]
  },
  {
   "cell_type": "markdown",
   "metadata": {},
   "source": [
    "### Question 7: \n",
    "Apply Linear Discriminant Analysis model on the train+validation data and report the accuracy obtained on test data. Report the transformation matrix (w) along with the intercept."
   ]
  },
  {
   "cell_type": "code",
   "execution_count": 13,
   "metadata": {},
   "outputs": [
    {
     "name": "stdout",
     "output_type": "stream",
     "text": [
      "The test accuracy = 0.973684210526\n"
     ]
    }
   ],
   "source": [
    "from sklearn.discriminant_analysis import LinearDiscriminantAnalysis\n",
    "clf = LinearDiscriminantAnalysis()\n",
    "clf.fit(X_train_total, y_train_total)\n",
    "y_pred = clf.predict(X_test)\n",
    "print('The test accuracy = ' + str(np.sum(y_pred == y_test)/len(y_test)))"
   ]
  },
  {
   "cell_type": "code",
   "execution_count": 14,
   "metadata": {},
   "outputs": [
    {
     "name": "stdout",
     "output_type": "stream",
     "text": [
      "The transformation matrix (w) is \n",
      " [[  5.33168485e+00  -2.12956799e-01  -6.01033070e-01  -8.89253348e-03\n",
      "   -5.44754548e+01   7.43535846e+01  -4.97920818e+00  -3.41702295e+01\n",
      "    1.73163730e+01  -4.44714556e+01  -8.41409536e+00  -2.52828683e-01\n",
      "    5.78531220e-01   1.05895668e-02  -2.80550309e+02  -2.62778874e+00\n",
      "    4.25991726e+01  -1.67347238e+02   1.26610355e+01   2.01114643e+02\n",
      "   -3.54374333e+00  -7.21909964e-02  -5.53734899e-02   2.39371964e-02\n",
      "    1.38875560e+01   1.03981200e+00  -6.05644948e+00  -1.47646877e+01\n",
      "   -1.62743163e+01  -8.04669707e+01]]\n",
      "\n",
      " The intercept is \n",
      " [ 50.95842876]\n"
     ]
    }
   ],
   "source": [
    "print('The transformation matrix (w) is \\n', clf.coef_)\n",
    "print('\\n The intercept is \\n', clf.intercept_)"
   ]
  },
  {
   "cell_type": "markdown",
   "metadata": {},
   "source": [
    "## 4. Evaluating Classifiers\n",
    "### Question 8: \n",
    "Load the digits dataset (scikit-learn's toy dataset) and take the last 1300 samples as your test set. Train a K-Nearest Neighbor (k=5, linf distance) model and then without using any scikit-learn method, report the final values for Specificity, Sensitivity, TPR, TNR, FNR, FPR, Precision and Recall for Digit 3 (this digit is a positive, everything else is a negative)."
   ]
  },
  {
   "cell_type": "code",
   "execution_count": 15,
   "metadata": {
    "collapsed": true
   },
   "outputs": [],
   "source": [
    "from sklearn.neighbors import KNeighborsClassifier\n",
    "from sklearn.datasets import load_digits\n",
    "digits = load_digits()"
   ]
  },
  {
   "cell_type": "code",
   "execution_count": 16,
   "metadata": {},
   "outputs": [
    {
     "name": "stdout",
     "output_type": "stream",
     "text": [
      "The shape of the entire digits dataset is (1797, 64)\n"
     ]
    }
   ],
   "source": [
    "print('The shape of the entire digits dataset is', digits.data.shape)\n",
    "X_train = digits.data[:497]\n",
    "y_train = digits.target[:497]\n",
    "X_test = digits.data[497:]\n",
    "y_test = digits.target[497:]"
   ]
  },
  {
   "cell_type": "code",
   "execution_count": 17,
   "metadata": {
    "collapsed": true
   },
   "outputs": [],
   "source": [
    "clf = KNeighborsClassifier(n_neighbors=5, metric = 'chebyshev')\n",
    "clf.fit(X_train, y_train)\n",
    "y_pred = clf.predict(X_test)"
   ]
  },
  {
   "cell_type": "code",
   "execution_count": 18,
   "metadata": {
    "collapsed": true
   },
   "outputs": [],
   "source": [
    "TP = sum(y_pred[y_test == 3] == 3)\n",
    "FP = sum(y_pred[y_test != 3] == 3)\n",
    "TN = sum(y_pred[y_test != 3] != 3)\n",
    "FN = sum(y_pred[y_test == 3] != 3)"
   ]
  },
  {
   "cell_type": "code",
   "execution_count": 19,
   "metadata": {},
   "outputs": [
    {
     "name": "stdout",
     "output_type": "stream",
     "text": [
      "TP, FP, TN, FN 113 13 1157 17\n"
     ]
    }
   ],
   "source": [
    "print('TP, FP, TN, FN', TP, FP, TN, FN)"
   ]
  },
  {
   "cell_type": "code",
   "execution_count": 20,
   "metadata": {},
   "outputs": [
    {
     "name": "stdout",
     "output_type": "stream",
     "text": [
      "The specificity is 0.988888888889\n",
      "The sensitivity is 0.869230769231\n",
      "The TPR is 0.869230769231\n",
      "The TNR is 0.988888888889\n",
      "The FNR is 0.130769230769\n",
      "The FPR is 0.0111111111111\n",
      "The precision is 0.896825396825\n",
      "The recall is 0.869230769231\n"
     ]
    }
   ],
   "source": [
    "print('The specificity is', TN/(TN+FP))\n",
    "print('The sensitivity is', TP/(TP+FN))\n",
    "print('The TPR is', TP/(TP+FN))\n",
    "print('The TNR is', TN/(TN+FP))\n",
    "print('The FNR is', FN/(TP+FN))\n",
    "print('The FPR is', FP/(FP+TN))\n",
    "print('The precision is', TP/(TP+FP))\n",
    "print('The recall is', TP/(TP+FN))"
   ]
  },
  {
   "cell_type": "markdown",
   "metadata": {},
   "source": [
    "## 5. Regression\n",
    "An ablation experiment consists of removing one feature from an experiment, in order to assess the amount of additional information that feature provides above and beyond the others. For this section, we will use the diabetes dataset from scikit-learn's toy datasets. Split the data into training and testing data as a 90-10 split with random state of 10."
   ]
  },
  {
   "cell_type": "code",
   "execution_count": 48,
   "metadata": {
    "collapsed": true
   },
   "outputs": [],
   "source": [
    "from sklearn.datasets import load_diabetes\n",
    "diabetes = load_diabetes()"
   ]
  },
  {
   "cell_type": "code",
   "execution_count": 49,
   "metadata": {
    "collapsed": true
   },
   "outputs": [],
   "source": [
    "from sklearn.model_selection import train_test_split\n",
    "X_train, X_test, y_train, y_test = train_test_split(diabetes.data, diabetes.target, test_size = 0.1, random_state = 10)"
   ]
  },
  {
   "cell_type": "markdown",
   "metadata": {},
   "source": [
    "### Question 9: \n",
    "Perform least squares regression on this dataset. Report the mean squared error and the mean absolute error on the test data."
   ]
  },
  {
   "cell_type": "code",
   "execution_count": 63,
   "metadata": {},
   "outputs": [
    {
     "name": "stdout",
     "output_type": "stream",
     "text": [
      "Using sklearn.linear_model.LinearRegression: \n",
      "\n",
      "The mean squared error on the test data is 2165.86619219\n",
      "The mean absolute error on the test data is 36.3423540158\n"
     ]
    }
   ],
   "source": [
    "from sklearn.linear_model import LinearRegression\n",
    "clf = LinearRegression()\n",
    "clf.fit(X_train, y_train)\n",
    "y_pred = clf.predict(X_test)\n",
    "print('Using sklearn.linear_model.LinearRegression: \\n')\n",
    "print('The mean squared error on the test data is', mean_squared_error(y_test, y_pred))\n",
    "print('The mean absolute error on the test data is', mean_absolute_error(y_test, y_pred))"
   ]
  },
  {
   "cell_type": "markdown",
   "metadata": {},
   "source": [
    "### Question 10: \n",
    "Repeat the experiment from Question 10 for all possible values of ablation (i.e., removing the feature 1 only, then removing the feature 2 only, and so on). Report all MSEs."
   ]
  },
  {
   "cell_type": "code",
   "execution_count": 67,
   "metadata": {},
   "outputs": [
    {
     "name": "stdout",
     "output_type": "stream",
     "text": [
      "Using sklearn.linear_model.LinearRegression: \n",
      "\n",
      "After dropping feature 0 the mean squared error on the test data is 2152.80664218\n",
      "After dropping feature 1 the mean squared error on the test data is 2259.13307937\n",
      "After dropping feature 2 the mean squared error on the test data is 2783.51448185\n",
      "After dropping feature 3 the mean squared error on the test data is 2424.772348\n",
      "After dropping feature 4 the mean squared error on the test data is 2187.59951938\n",
      "After dropping feature 5 the mean squared error on the test data is 2167.51760615\n",
      "After dropping feature 6 the mean squared error on the test data is 2159.15148251\n",
      "After dropping feature 7 the mean squared error on the test data is 2153.06317113\n",
      "After dropping feature 8 the mean squared error on the test data is 2335.17338461\n",
      "After dropping feature 9 the mean squared error on the test data is 2165.86619219\n"
     ]
    }
   ],
   "source": [
    "print('Using sklearn.linear_model.LinearRegression: \\n')\n",
    "for i in range(10):\n",
    "    X_ablation = np.delete(diabetes.data, [i], axis=1)\n",
    "    X_train, X_test, y_train, y_test = train_test_split(X_ablation, diabetes.target, test_size = 0.1, random_state = 10)\n",
    "    clf = LinearRegression()\n",
    "    clf.fit(X_train, y_train)\n",
    "    y_pred = clf.predict(X_test)\n",
    "    print('After dropping feature', i, 'the mean squared error on the test data is', mean_squared_error(y_test, y_pred))"
   ]
  },
  {
   "cell_type": "markdown",
   "metadata": {},
   "source": [
    "### Question 11: \n",
    "Based on the MSE values obtained from Question 10, which features do you deem the most/least signicant and why?\n",
    "\n",
    "Using sklearn.linear_model.LinearRegression:\n",
    "\n",
    "Feature 2 is the most significant, because removing and running the least squared linear regression results in the largest mean squared error of 2783.51448185, while feature 0 is the least significant with a mean square error of 2152.80664218."
   ]
  },
  {
   "cell_type": "code",
   "execution_count": null,
   "metadata": {
    "collapsed": true
   },
   "outputs": [],
   "source": []
  }
 ],
 "metadata": {
  "anaconda-cloud": {},
  "kernelspec": {
   "display_name": "Python [conda env:py36]",
   "language": "python",
   "name": "conda-env-py36-py"
  },
  "language_info": {
   "codemirror_mode": {
    "name": "ipython",
    "version": 3
   },
   "file_extension": ".py",
   "mimetype": "text/x-python",
   "name": "python",
   "nbconvert_exporter": "python",
   "pygments_lexer": "ipython3",
   "version": "3.6.0"
  }
 },
 "nbformat": 4,
 "nbformat_minor": 1
}
