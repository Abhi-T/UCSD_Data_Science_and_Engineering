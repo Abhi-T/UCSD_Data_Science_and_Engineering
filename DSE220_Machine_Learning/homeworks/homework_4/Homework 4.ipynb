{
 "cells": [
  {
   "cell_type": "markdown",
   "metadata": {},
   "source": [
    "# Homework 4\n",
    "## DSE 220: Machine Learning\n",
    "## Due Date: 28 May 2017\n",
    "## Orysya Stus"
   ]
  },
  {
   "cell_type": "code",
   "execution_count": 1,
   "metadata": {},
   "outputs": [
    {
     "name": "stdout",
     "output_type": "stream",
     "text": [
      "Populating the interactive namespace from numpy and matplotlib\n"
     ]
    }
   ],
   "source": [
    "import pandas as pd\n",
    "import numpy as np\n",
    "from sklearn.model_selection import train_test_split\n",
    "%pylab inline"
   ]
  },
  {
   "cell_type": "markdown",
   "metadata": {},
   "source": [
    "## Overview\n",
    "The large number of English words can make language-based applications daunting. To cope with this, it is helpful to have a clustering or embedding of these words, so that words with similar meanings are clustered together, or have embedding that are close to one another. \n",
    "\n",
    "But how can we get at the meanings of words? John Firth (1957) put it thus:\n",
    "You shall know a word by the company it keeps.\n",
    "\n",
    "That is, words that tend to appear in similar contexts are likely to be related. In this assignment, you will investigate this idea by coming up with an embedding of words that is based on co-occurrence statistics.\n",
    "\n",
    "The description here assumes you are using Python with NLTK.\n",
    "\n",
    "1.First, download the Brown corpus (using nltk.corpus). This is a collection of text samples from a wide range of sources, with a total of over a million words. Calling brown.words() returns this text in one long list, which is useful.\n",
    "\n",
    "http://www.nltk.org/book/ch02.html"
   ]
  },
  {
   "cell_type": "code",
   "execution_count": 2,
   "metadata": {},
   "outputs": [
    {
     "name": "stdout",
     "output_type": "stream",
     "text": [
      "There are 1161192 words in the Brown corpus.\n"
     ]
    }
   ],
   "source": [
    "from nltk.corpus import brown\n",
    "word_list = brown.words()\n",
    "print('There are', len(word_list), 'words in the Brown corpus.')"
   ]
  },
  {
   "cell_type": "markdown",
   "metadata": {},
   "source": [
    "2.Remove stopwords and punctuation, make everything lowercase, and count how often each word occurs. Use this to come up with two lists:\n",
    "\n",
    "    A vocabulary V , consisting of a few thousand (e.g., 5000) of the most commonly-occurring words.\n",
    "    \n",
    "    A shorter list C of at most 1000 of the most commonly-occurring words, which we shall call context words."
   ]
  },
  {
   "cell_type": "code",
   "execution_count": 3,
   "metadata": {},
   "outputs": [
    {
     "name": "stdout",
     "output_type": "stream",
     "text": [
      "There are 1013319 words when punctuation is removed.\n",
      "There are 539921 words when stopwords are removed.\n"
     ]
    }
   ],
   "source": [
    "from nltk.corpus import stopwords\n",
    "import string\n",
    "word_list = [''.join(c for c in s if c not in string.punctuation) for s in word_list]\n",
    "word_list = [w.lower() for w in word_list if w != '']\n",
    "print ('There are', len(word_list), 'words when punctuation is removed.')\n",
    "word_list = [word for word in word_list if word not in stopwords.words('english')]\n",
    "print ('There are', len(word_list), 'words when stopwords are removed.')"
   ]
  },
  {
   "cell_type": "code",
   "execution_count": 4,
   "metadata": {},
   "outputs": [],
   "source": [
    "import operator\n",
    "Dict = {}\n",
    "def freq_counter(List):\n",
    "    for w in List:\n",
    "        if w in Dict.keys():\n",
    "            Dict[w]+=1\n",
    "        else:\n",
    "            Dict[w]=1\n",
    "freq_counter(word_list)\n",
    "sorted_counts = sorted(Dict.items(), key=operator.itemgetter(1), reverse=True)"
   ]
  },
  {
   "cell_type": "code",
   "execution_count": 5,
   "metadata": {},
   "outputs": [],
   "source": [
    "V = [x[0] for x in sorted_counts[:5000]]\n",
    "C = [x[0] for x in sorted_counts[:1000]]"
   ]
  },
  {
   "cell_type": "markdown",
   "metadata": {},
   "source": [
    "3.For each word w 2 V , and each occurrence of it in the text stream, look at the surrounding window of four words (two before, two after):\n",
    "        w1 w2 w w3 w4:\n",
    "        \n",
    "Keep count of how often context words from C appear in these positions around word w. That is, for w 2 V , c 2 C, define n(w; c) = # of times c occurs in a window around w:\n",
    "\n",
    "Using these counts, construct the probability distribution Pr(cjw) of context words around w (for each winV ), as well as the overall distribution Pr(c) of context words. These are distributions over C."
   ]
  },
  {
   "cell_type": "code",
   "execution_count": 6,
   "metadata": {},
   "outputs": [],
   "source": [
    "n_wc = np.zeros((5000, 1000))\n",
    "for w in V:\n",
    "    V_index = [i for i,val in enumerate(V) if val==w]\n",
    "    kmers = []\n",
    "    indices = [i for i,val in enumerate(word_list) if val==w]\n",
    "    for i in indices:\n",
    "        if i == 0:\n",
    "            kmer = word_list[i+1:i+3]\n",
    "        elif i == 1:\n",
    "            kmer = word_list[i-1:i] + word_list[i+1:i+3]\n",
    "        else:\n",
    "            kmer = word_list[i-2:i] + word_list[i+1:i+3]\n",
    "        kmers.append(kmer)\n",
    "    for kmer in kmers:\n",
    "        for word in kmer:\n",
    "            if word in C:\n",
    "                C_index = [i for i,val in enumerate(C) if val==word]\n",
    "                n_wc[V_index, C_index] += 1\n",
    "            else:\n",
    "                pass"
   ]
  },
  {
   "cell_type": "code",
   "execution_count": 7,
   "metadata": {},
   "outputs": [],
   "source": [
    "Pr_cw = n_wc/n_wc.sum(axis=1, keepdims=True)"
   ]
  },
  {
   "cell_type": "code",
   "execution_count": 8,
   "metadata": {},
   "outputs": [],
   "source": [
    "c = n_wc.sum(axis=0)\n",
    "total_Cs = c.sum()\n",
    "Pr_c = c/total_Cs"
   ]
  },
  {
   "cell_type": "code",
   "execution_count": 9,
   "metadata": {},
   "outputs": [],
   "source": [
    "df_Pr_cw = pd.DataFrame(Pr_cw, index=V, columns=C)"
   ]
  },
  {
   "cell_type": "markdown",
   "metadata": {},
   "source": [
    "4.Represent each vocabulary item w by a |C|-dimensional vector phi(w), whose c'th coordinate is:\n",
    "\n",
    "phi(w) = max(0; log(Pr(cjw)/Pr(c)))\n",
    "\n",
    "This is known as the (positive) pointwise mutual information, and has been quite successful in work on word embedding."
   ]
  },
  {
   "cell_type": "code",
   "execution_count": 10,
   "metadata": {},
   "outputs": [
    {
     "name": "stderr",
     "output_type": "stream",
     "text": [
      "C:\\Users\\Orysya\\Anaconda\\envs\\py36\\lib\\site-packages\\ipykernel\\__main__.py:1: RuntimeWarning: divide by zero encountered in log\n",
      "  if __name__ == '__main__':\n"
     ]
    }
   ],
   "source": [
    "phi_w = log(Pr_cw/Pr_c)\n",
    "phi_w[phi_w < 0] = 0"
   ]
  },
  {
   "cell_type": "markdown",
   "metadata": {},
   "source": [
    "5.Suppose we want a 100-dimensional representation. How would you achieve this?"
   ]
  },
  {
   "cell_type": "markdown",
   "metadata": {},
   "source": [
    "### Let's try both PCA & Isomap. Determine the behavior of the data."
   ]
  },
  {
   "cell_type": "code",
   "execution_count": 11,
   "metadata": {},
   "outputs": [
    {
     "data": {
      "text/plain": [
       "<matplotlib.text.Text at 0x1b7956c8dd8>"
      ]
     },
     "execution_count": 11,
     "metadata": {},
     "output_type": "execute_result"
    },
    {
     "data": {
      "image/png": "[encoded data removed]",
      "text/plain": [
       "<matplotlib.figure.Figure at 0x1b795e30e80>"
      ]
     },
     "metadata": {},
     "output_type": "display_data"
    }
   ],
   "source": [
    "from mpl_toolkits.mplot3d import Axes3D\n",
    "import matplotlib.pyplot as plt\n",
    "fig = plt.figure()\n",
    "ax = fig.add_subplot(111, projection='3d')\n",
    "ax.scatter(phi_w[65], phi_w[200], phi_w[100], c='r', marker='o')\n",
    "ax.set_xlabel('phi_w[65]')\n",
    "ax.set_ylabel('phi_w[200]')\n",
    "ax.set_zlabel('phi_w[100]')\n",
    "ax.set_title('Random phi_w dimensional plotted against one another')"
   ]
  },
  {
   "cell_type": "markdown",
   "metadata": {},
   "source": [
    "## Using PCA Word Embedding"
   ]
  },
  {
   "cell_type": "code",
   "execution_count": 12,
   "metadata": {},
   "outputs": [
    {
     "name": "stdout",
     "output_type": "stream",
     "text": [
      "For PCA(100),  22.5279951136 % of the variance is explained.\n",
      "Wall time: 1.11 s\n"
     ]
    }
   ],
   "source": [
    "%%time\n",
    "from sklearn.decomposition import PCA\n",
    "df_phi_w = pd.DataFrame(phi_w, index=V, columns=C)\n",
    "pca = PCA(n_components=100, random_state=10)\n",
    "pca_phi_w = pca.fit_transform(phi_w)\n",
    "pca_phi_w = pd.DataFrame(pca_phi_w, index=V)\n",
    "print('For PCA(100), ', np.sum(pca.explained_variance_ratio_)* 100.0, '% of the variance is explained.')"
   ]
  },
  {
   "cell_type": "code",
   "execution_count": 13,
   "metadata": {},
   "outputs": [
    {
     "name": "stdout",
     "output_type": "stream",
     "text": [
      "The value of the residuals are 3.50492967982e-11\n"
     ]
    }
   ],
   "source": [
    "inverse = pca.inverse_transform(pca_phi_w)\n",
    "residuals = phi_w - inverse\n",
    "print('The value of the residuals are', np.sum(residuals))"
   ]
  },
  {
   "cell_type": "code",
   "execution_count": 14,
   "metadata": {},
   "outputs": [
    {
     "data": {
      "text/html": [
       "<div>\n",
       "<table border=\"1\" class=\"dataframe\">\n",
       "  <thead>\n",
       "    <tr style=\"text-align: right;\">\n",
       "      <th></th>\n",
       "      <th>0</th>\n",
       "      <th>1</th>\n",
       "      <th>2</th>\n",
       "      <th>3</th>\n",
       "      <th>4</th>\n",
       "      <th>5</th>\n",
       "      <th>6</th>\n",
       "      <th>7</th>\n",
       "      <th>8</th>\n",
       "      <th>9</th>\n",
       "      <th>...</th>\n",
       "      <th>90</th>\n",
       "      <th>91</th>\n",
       "      <th>92</th>\n",
       "      <th>93</th>\n",
       "      <th>94</th>\n",
       "      <th>95</th>\n",
       "      <th>96</th>\n",
       "      <th>97</th>\n",
       "      <th>98</th>\n",
       "      <th>99</th>\n",
       "    </tr>\n",
       "  </thead>\n",
       "  <tbody>\n",
       "    <tr>\n",
       "      <th>count</th>\n",
       "      <td>5.000000e+03</td>\n",
       "      <td>5.000000e+03</td>\n",
       "      <td>5.000000e+03</td>\n",
       "      <td>5.000000e+03</td>\n",
       "      <td>5.000000e+03</td>\n",
       "      <td>5.000000e+03</td>\n",
       "      <td>5.000000e+03</td>\n",
       "      <td>5.000000e+03</td>\n",
       "      <td>5.000000e+03</td>\n",
       "      <td>5.000000e+03</td>\n",
       "      <td>...</td>\n",
       "      <td>5.000000e+03</td>\n",
       "      <td>5.000000e+03</td>\n",
       "      <td>5.000000e+03</td>\n",
       "      <td>5.000000e+03</td>\n",
       "      <td>5.000000e+03</td>\n",
       "      <td>5.000000e+03</td>\n",
       "      <td>5.000000e+03</td>\n",
       "      <td>5.000000e+03</td>\n",
       "      <td>5.000000e+03</td>\n",
       "      <td>5.000000e+03</td>\n",
       "    </tr>\n",
       "    <tr>\n",
       "      <th>mean</th>\n",
       "      <td>1.865175e-17</td>\n",
       "      <td>2.364509e-15</td>\n",
       "      <td>3.080203e-16</td>\n",
       "      <td>-1.831701e-16</td>\n",
       "      <td>1.060929e-16</td>\n",
       "      <td>-2.494005e-16</td>\n",
       "      <td>-2.374156e-16</td>\n",
       "      <td>7.764900e-17</td>\n",
       "      <td>1.593614e-16</td>\n",
       "      <td>-1.452616e-16</td>\n",
       "      <td>...</td>\n",
       "      <td>2.266853e-16</td>\n",
       "      <td>8.663070e-17</td>\n",
       "      <td>1.384137e-15</td>\n",
       "      <td>2.815748e-16</td>\n",
       "      <td>3.958944e-16</td>\n",
       "      <td>-2.433165e-16</td>\n",
       "      <td>-2.962103e-16</td>\n",
       "      <td>3.031242e-16</td>\n",
       "      <td>8.922307e-17</td>\n",
       "      <td>8.881784e-20</td>\n",
       "    </tr>\n",
       "    <tr>\n",
       "      <th>std</th>\n",
       "      <td>2.407444e+00</td>\n",
       "      <td>1.998290e+00</td>\n",
       "      <td>1.703317e+00</td>\n",
       "      <td>1.550785e+00</td>\n",
       "      <td>1.386586e+00</td>\n",
       "      <td>1.307148e+00</td>\n",
       "      <td>1.222200e+00</td>\n",
       "      <td>1.126710e+00</td>\n",
       "      <td>1.067780e+00</td>\n",
       "      <td>1.040223e+00</td>\n",
       "      <td>...</td>\n",
       "      <td>7.603851e-01</td>\n",
       "      <td>7.597314e-01</td>\n",
       "      <td>7.578086e-01</td>\n",
       "      <td>7.556157e-01</td>\n",
       "      <td>7.552909e-01</td>\n",
       "      <td>7.542668e-01</td>\n",
       "      <td>7.531282e-01</td>\n",
       "      <td>7.503733e-01</td>\n",
       "      <td>7.484642e-01</td>\n",
       "      <td>7.458156e-01</td>\n",
       "    </tr>\n",
       "    <tr>\n",
       "      <th>min</th>\n",
       "      <td>-6.531506e+00</td>\n",
       "      <td>-4.199833e+00</td>\n",
       "      <td>-4.457408e+00</td>\n",
       "      <td>-6.433364e+00</td>\n",
       "      <td>-5.973243e+00</td>\n",
       "      <td>-6.324674e+00</td>\n",
       "      <td>-5.547327e+00</td>\n",
       "      <td>-4.264628e+00</td>\n",
       "      <td>-4.014826e+00</td>\n",
       "      <td>-4.409083e+00</td>\n",
       "      <td>...</td>\n",
       "      <td>-2.950960e+00</td>\n",
       "      <td>-2.774116e+00</td>\n",
       "      <td>-2.964321e+00</td>\n",
       "      <td>-2.903853e+00</td>\n",
       "      <td>-3.221803e+00</td>\n",
       "      <td>-2.353326e+00</td>\n",
       "      <td>-2.966951e+00</td>\n",
       "      <td>-2.961572e+00</td>\n",
       "      <td>-2.936715e+00</td>\n",
       "      <td>-2.447637e+00</td>\n",
       "    </tr>\n",
       "    <tr>\n",
       "      <th>25%</th>\n",
       "      <td>-1.635942e+00</td>\n",
       "      <td>-1.533503e+00</td>\n",
       "      <td>-1.174379e+00</td>\n",
       "      <td>-9.942238e-01</td>\n",
       "      <td>-8.220204e-01</td>\n",
       "      <td>-8.119254e-01</td>\n",
       "      <td>-6.903746e-01</td>\n",
       "      <td>-7.176692e-01</td>\n",
       "      <td>-6.610763e-01</td>\n",
       "      <td>-6.785218e-01</td>\n",
       "      <td>...</td>\n",
       "      <td>-5.129799e-01</td>\n",
       "      <td>-5.177816e-01</td>\n",
       "      <td>-5.120265e-01</td>\n",
       "      <td>-5.011418e-01</td>\n",
       "      <td>-4.937995e-01</td>\n",
       "      <td>-5.193537e-01</td>\n",
       "      <td>-5.123768e-01</td>\n",
       "      <td>-4.944566e-01</td>\n",
       "      <td>-4.844171e-01</td>\n",
       "      <td>-5.183131e-01</td>\n",
       "    </tr>\n",
       "    <tr>\n",
       "      <th>50%</th>\n",
       "      <td>1.112506e-02</td>\n",
       "      <td>-4.506111e-01</td>\n",
       "      <td>-1.645531e-01</td>\n",
       "      <td>-3.988574e-02</td>\n",
       "      <td>2.322247e-02</td>\n",
       "      <td>-5.505757e-02</td>\n",
       "      <td>-3.382624e-02</td>\n",
       "      <td>-1.408204e-02</td>\n",
       "      <td>-1.004692e-02</td>\n",
       "      <td>-3.683694e-02</td>\n",
       "      <td>...</td>\n",
       "      <td>-7.787032e-04</td>\n",
       "      <td>1.026889e-03</td>\n",
       "      <td>-1.678705e-02</td>\n",
       "      <td>1.075668e-02</td>\n",
       "      <td>1.230335e-02</td>\n",
       "      <td>7.507133e-03</td>\n",
       "      <td>5.448310e-03</td>\n",
       "      <td>7.685597e-03</td>\n",
       "      <td>1.435372e-02</td>\n",
       "      <td>3.042602e-03</td>\n",
       "    </tr>\n",
       "    <tr>\n",
       "      <th>75%</th>\n",
       "      <td>1.519535e+00</td>\n",
       "      <td>1.282448e+00</td>\n",
       "      <td>9.710096e-01</td>\n",
       "      <td>9.055626e-01</td>\n",
       "      <td>8.572364e-01</td>\n",
       "      <td>7.479708e-01</td>\n",
       "      <td>6.460865e-01</td>\n",
       "      <td>7.029351e-01</td>\n",
       "      <td>6.556959e-01</td>\n",
       "      <td>6.376581e-01</td>\n",
       "      <td>...</td>\n",
       "      <td>5.013375e-01</td>\n",
       "      <td>5.006446e-01</td>\n",
       "      <td>5.039164e-01</td>\n",
       "      <td>5.095619e-01</td>\n",
       "      <td>4.922657e-01</td>\n",
       "      <td>5.130505e-01</td>\n",
       "      <td>4.952517e-01</td>\n",
       "      <td>4.972821e-01</td>\n",
       "      <td>4.932897e-01</td>\n",
       "      <td>5.070383e-01</td>\n",
       "    </tr>\n",
       "    <tr>\n",
       "      <th>max</th>\n",
       "      <td>7.832885e+00</td>\n",
       "      <td>6.077976e+00</td>\n",
       "      <td>8.600826e+00</td>\n",
       "      <td>6.459332e+00</td>\n",
       "      <td>6.222003e+00</td>\n",
       "      <td>6.489963e+00</td>\n",
       "      <td>9.459273e+00</td>\n",
       "      <td>5.338706e+00</td>\n",
       "      <td>5.244219e+00</td>\n",
       "      <td>5.083382e+00</td>\n",
       "      <td>...</td>\n",
       "      <td>3.035947e+00</td>\n",
       "      <td>3.783355e+00</td>\n",
       "      <td>3.046229e+00</td>\n",
       "      <td>2.977858e+00</td>\n",
       "      <td>3.371020e+00</td>\n",
       "      <td>3.593746e+00</td>\n",
       "      <td>3.095844e+00</td>\n",
       "      <td>3.383182e+00</td>\n",
       "      <td>2.988293e+00</td>\n",
       "      <td>3.094845e+00</td>\n",
       "    </tr>\n",
       "  </tbody>\n",
       "</table>\n",
       "<p>8 rows × 100 columns</p>\n",
       "</div>"
      ],
      "text/plain": [
       "                 0             1             2             3             4   \\\n",
       "count  5.000000e+03  5.000000e+03  5.000000e+03  5.000000e+03  5.000000e+03   \n",
       "mean   1.865175e-17  2.364509e-15  3.080203e-16 -1.831701e-16  1.060929e-16   \n",
       "std    2.407444e+00  1.998290e+00  1.703317e+00  1.550785e+00  1.386586e+00   \n",
       "min   -6.531506e+00 -4.199833e+00 -4.457408e+00 -6.433364e+00 -5.973243e+00   \n",
       "25%   -1.635942e+00 -1.533503e+00 -1.174379e+00 -9.942238e-01 -8.220204e-01   \n",
       "50%    1.112506e-02 -4.506111e-01 -1.645531e-01 -3.988574e-02  2.322247e-02   \n",
       "75%    1.519535e+00  1.282448e+00  9.710096e-01  9.055626e-01  8.572364e-01   \n",
       "max    7.832885e+00  6.077976e+00  8.600826e+00  6.459332e+00  6.222003e+00   \n",
       "\n",
       "                 5             6             7             8             9   \\\n",
       "count  5.000000e+03  5.000000e+03  5.000000e+03  5.000000e+03  5.000000e+03   \n",
       "mean  -2.494005e-16 -2.374156e-16  7.764900e-17  1.593614e-16 -1.452616e-16   \n",
       "std    1.307148e+00  1.222200e+00  1.126710e+00  1.067780e+00  1.040223e+00   \n",
       "min   -6.324674e+00 -5.547327e+00 -4.264628e+00 -4.014826e+00 -4.409083e+00   \n",
       "25%   -8.119254e-01 -6.903746e-01 -7.176692e-01 -6.610763e-01 -6.785218e-01   \n",
       "50%   -5.505757e-02 -3.382624e-02 -1.408204e-02 -1.004692e-02 -3.683694e-02   \n",
       "75%    7.479708e-01  6.460865e-01  7.029351e-01  6.556959e-01  6.376581e-01   \n",
       "max    6.489963e+00  9.459273e+00  5.338706e+00  5.244219e+00  5.083382e+00   \n",
       "\n",
       "           ...                 90            91            92            93  \\\n",
       "count      ...       5.000000e+03  5.000000e+03  5.000000e+03  5.000000e+03   \n",
       "mean       ...       2.266853e-16  8.663070e-17  1.384137e-15  2.815748e-16   \n",
       "std        ...       7.603851e-01  7.597314e-01  7.578086e-01  7.556157e-01   \n",
       "min        ...      -2.950960e+00 -2.774116e+00 -2.964321e+00 -2.903853e+00   \n",
       "25%        ...      -5.129799e-01 -5.177816e-01 -5.120265e-01 -5.011418e-01   \n",
       "50%        ...      -7.787032e-04  1.026889e-03 -1.678705e-02  1.075668e-02   \n",
       "75%        ...       5.013375e-01  5.006446e-01  5.039164e-01  5.095619e-01   \n",
       "max        ...       3.035947e+00  3.783355e+00  3.046229e+00  2.977858e+00   \n",
       "\n",
       "                 94            95            96            97            98  \\\n",
       "count  5.000000e+03  5.000000e+03  5.000000e+03  5.000000e+03  5.000000e+03   \n",
       "mean   3.958944e-16 -2.433165e-16 -2.962103e-16  3.031242e-16  8.922307e-17   \n",
       "std    7.552909e-01  7.542668e-01  7.531282e-01  7.503733e-01  7.484642e-01   \n",
       "min   -3.221803e+00 -2.353326e+00 -2.966951e+00 -2.961572e+00 -2.936715e+00   \n",
       "25%   -4.937995e-01 -5.193537e-01 -5.123768e-01 -4.944566e-01 -4.844171e-01   \n",
       "50%    1.230335e-02  7.507133e-03  5.448310e-03  7.685597e-03  1.435372e-02   \n",
       "75%    4.922657e-01  5.130505e-01  4.952517e-01  4.972821e-01  4.932897e-01   \n",
       "max    3.371020e+00  3.593746e+00  3.095844e+00  3.383182e+00  2.988293e+00   \n",
       "\n",
       "                 99  \n",
       "count  5.000000e+03  \n",
       "mean   8.881784e-20  \n",
       "std    7.458156e-01  \n",
       "min   -2.447637e+00  \n",
       "25%   -5.183131e-01  \n",
       "50%    3.042602e-03  \n",
       "75%    5.070383e-01  \n",
       "max    3.094845e+00  \n",
       "\n",
       "[8 rows x 100 columns]"
      ]
     },
     "execution_count": 14,
     "metadata": {},
     "output_type": "execute_result"
    }
   ],
   "source": [
    "pca_phi_w.describe()"
   ]
  },
  {
   "cell_type": "markdown",
   "metadata": {},
   "source": [
    "6.Investigate the resulting embedding in two ways:\n",
    "    \n",
    "    \u000f Cluster the vocabulary into 100 clusters. Look them over; do they seem completely random, or is there some sense to them?\n",
    "    \u000f Try finding the nearest neighbor of selected words. Do the answers make sense?"
   ]
  },
  {
   "cell_type": "code",
   "execution_count": 15,
   "metadata": {},
   "outputs": [],
   "source": [
    "from sklearn.cluster import KMeans\n",
    "inits = range(1, 20)\n",
    "inertias = []\n",
    "for i in inits:\n",
    "    kmeans = KMeans(n_init=i, n_clusters=100, max_iter= 1000, init='k-means++', random_state=0).fit(pca_phi_w)\n",
    "    inert = kmeans.inertia_\n",
    "    inertias.append(inert)"
   ]
  },
  {
   "cell_type": "code",
   "execution_count": 16,
   "metadata": {},
   "outputs": [
    {
     "data": {
      "text/plain": [
       "<matplotlib.text.Text at 0x1b792450588>"
      ]
     },
     "execution_count": 16,
     "metadata": {},
     "output_type": "execute_result"
    },
    {
     "data": {
      "image/png": "[encoded data removed]",
      "text/plain": [
       "<matplotlib.figure.Figure at 0x1b7922dca20>"
      ]
     },
     "metadata": {},
     "output_type": "display_data"
    }
   ],
   "source": [
    "plt.plot(inits, inertias)\n",
    "plt.title('n_init vs. inertia_ for k-means clustering')\n",
    "plt.xlabel('n_init')\n",
    "plt.ylabel('inertia_')"
   ]
  },
  {
   "cell_type": "code",
   "execution_count": 17,
   "metadata": {},
   "outputs": [],
   "source": [
    "from sklearn.cluster import KMeans\n",
    "kmeans = KMeans(n_init=6, n_clusters=100, max_iter= 1000, init='k-means++', random_state=0).fit(pca_phi_w)\n",
    "grouping = {i:[] for i in range(0,100)}\n",
    "\n",
    "for i,w in enumerate(V):\n",
    "    grouping[kmeans.labels_[i]].append(w)"
   ]
  },
  {
   "cell_type": "code",
   "execution_count": 18,
   "metadata": {
    "collapsed": true
   },
   "outputs": [],
   "source": [
    "%matplotlib inline\n",
    "from pylab import rcParams\n",
    "rcParams['figure.figsize'] = 10,20"
   ]
  },
  {
   "cell_type": "code",
   "execution_count": 19,
   "metadata": {},
   "outputs": [],
   "source": [
    "from scipy.cluster.hierarchy import dendrogram, linkage\n",
    "\n",
    "def cluster_nearest_neighbor(cluster_index):\n",
    "    cluster = grouping[cluster_index]\n",
    "    print('For grouping', cluster_index, 'there are', len(cluster), 'words in the cluster: \\n', cluster)\n",
    "    indices = []\n",
    "    for word in cluster:\n",
    "        ind = [i for i,val in enumerate(pca_phi_w.index) if val==word][0]\n",
    "        indices.append(ind) \n",
    "    subset = pca_phi_w.ix[indices]\n",
    "    classes = subset.index\n",
    "    Z = linkage(subset, 'ward')\n",
    "    \n",
    "    plt.title('Hierarchical Clustering of Cluster Words')\n",
    "    plt.xlabel('sample index')\n",
    "    plt.ylabel('distance')\n",
    "    dendrogram(Z, labels= classes, orientation='right')\n",
    "    plt.show()"
   ]
  },
  {
   "cell_type": "code",
   "execution_count": 20,
   "metadata": {},
   "outputs": [],
   "source": [
    "from sklearn.neighbors import NearestNeighbors\n",
    "\n",
    "def knearest_neighbors(word_list):\n",
    "    for word in word_list:\n",
    "        subset = pca_phi_w.drop(word)\n",
    "        neigh = NearestNeighbors(n_neighbors=1, algorithm='brute', metric='cosine')\n",
    "        neigh.fit(subset)\n",
    "        distance = neigh.kneighbors(pca_phi_w[pca_phi_w.index == word])[0]\n",
    "        nearest_neighbor_index = neigh.kneighbors(pca_phi_w[pca_phi_w.index == word])[1]\n",
    "        print('Word:', word, '-- Nearest neighbor:', subset.index[nearest_neighbor_index][0][0], '-- Distance:', distance[0][0])"
   ]
  },
  {
   "cell_type": "markdown",
   "metadata": {},
   "source": [
    "7.The Brown corpus is very small. Current work on word embedding uses data sets that are several orders of magnitude larger, but the methodology is along the same lines."
   ]
  },
  {
   "cell_type": "markdown",
   "metadata": {},
   "source": [
    "### 1. A description of your 100-dimensional embedding. \n",
    "The description should be concise and clear, and should make it obvious exactly what steps you took to obtain your word embeddings. Below, we will denote these as Ψ(w) ∈ R100, for w ∈ V . Also clarify exactly how you selected the vocabulary V and the context words C."
   ]
  },
  {
   "cell_type": "markdown",
   "metadata": {},
   "source": [
    "### 2. Nearest neighbor results.\n",
    "Pick a collection of 25 words w ∈ V . For each w, return its nearest neighbor w' != w in V. A popular distance measure to use for this is cosine distance:\n",
    "\n",
    "1 − (Ψ(w).Ψ(w'))/ (||Ψ(w)|| ||Ψ(w')||)\n",
    "\n",
    "Here are some suggestions for words you might choose:\n",
    "communism, autumn, cigarette, pulmonary, mankind, africa, chicago, revolution, september, chemical, detergent, dictionary, storm, worship\n",
    "\n",
    "Do the results make any sense? You can use other distance measures apart from cosine distance to improve the results."
   ]
  },
  {
   "cell_type": "code",
   "execution_count": 21,
   "metadata": {},
   "outputs": [
    {
     "name": "stdout",
     "output_type": "stream",
     "text": [
      "Word: communism -- Nearest neighbor: utopian -- Distance: 0.618788623478\n",
      "Word: autumn -- Nearest neighbor: storm -- Distance: 0.515481120469\n",
      "Word: cigarette -- Nearest neighbor: bullet -- Distance: 0.509093821293\n",
      "Word: pulmonary -- Nearest neighbor: artery -- Distance: 0.256579170491\n",
      "Word: mankind -- Nearest neighbor: world -- Distance: 0.538521909205\n",
      "Word: africa -- Nearest neighbor: asia -- Distance: 0.358373805583\n",
      "Word: chicago -- Nearest neighbor: portland -- Distance: 0.483564007709\n",
      "Word: revolution -- Nearest neighbor: modern -- Distance: 0.633185238013\n",
      "Word: september -- Nearest neighbor: july -- Distance: 0.233969560906\n",
      "Word: chemical -- Nearest neighbor: drugs -- Distance: 0.476249972519\n",
      "Word: detergent -- Nearest neighbor: fabrics -- Distance: 0.4881330922\n",
      "Word: dictionary -- Nearest neighbor: text -- Distance: 0.276896053425\n",
      "Word: storm -- Nearest neighbor: saturday -- Distance: 0.515346722166\n",
      "Word: worship -- Nearest neighbor: christian -- Distance: 0.498514492007\n",
      "Word: money -- Nearest neighbor: pay -- Distance: 0.450026079941\n",
      "Word: red -- Nearest neighbor: hair -- Distance: 0.369553830758\n",
      "Word: vacation -- Nearest neighbor: time -- Distance: 0.516709200467\n",
      "Word: missile -- Nearest neighbor: submarines -- Distance: 0.521776137033\n",
      "Word: player -- Nearest neighbor: palmer -- Distance: 0.381354486192\n",
      "Word: velocity -- Nearest neighbor: fluid -- Distance: 0.500602222468\n",
      "Word: reality -- Nearest neighbor: human -- Distance: 0.505323261859\n",
      "Word: education -- Nearest neighbor: public -- Distance: 0.282687141521\n",
      "Word: strong -- Nearest neighbor: enough -- Distance: 0.524498957838\n",
      "Word: churches -- Nearest neighbor: members -- Distance: 0.509190852885\n",
      "Word: world -- Nearest neighbor: war -- Distance: 0.403722008098\n"
     ]
    }
   ],
   "source": [
    "words = ['communism', 'autumn', 'cigarette', 'pulmonary', 'mankind', 'africa', 'chicago', 'revolution', 'september', 'chemical', 'detergent', 'dictionary', 'storm', 'worship', 'money', 'red', 'vacation', 'missile', 'player', 'velocity', 'reality', 'education', 'strong', 'churches', 'world' ]\n",
    "knearest_neighbors(words)"
   ]
  },
  {
   "cell_type": "markdown",
   "metadata": {},
   "source": [
    "### 3. Clustering.\n",
    "Using the vectorial representation Ψ(.), cluster the words in V into 100 groups. Clearly specify what algorithm and distance function you using for this, and the reasons for your choices.\n",
    "\n",
    "Look over the resulting 100 clusters. Do any of them seem even moderately coherent? Pick out a few of the best clusters and list the words in them."
   ]
  },
  {
   "cell_type": "code",
   "execution_count": 31,
   "metadata": {},
   "outputs": [],
   "source": [
    "import json\n",
    "with open('PCA_transformed.json', 'w') as f:\n",
    "    json.dump(grouping, f)\n",
    "# grouping"
   ]
  },
  {
   "cell_type": "code",
   "execution_count": 23,
   "metadata": {},
   "outputs": [
    {
     "name": "stdout",
     "output_type": "stream",
     "text": [
      "This cluster is associated with scientific studies. \n",
      " ['information', 'study', 'data', 'results', 'methods', 'reaction', 'described', 'studies', 'cells', 'selected']\n",
      "\n",
      "This cluster is associated with numeric values or measurement metrics. \n",
      " ['two', 'years', 'three', 'several', 'four', 'five', 'ago', 'six', 'minutes', 'miles', 'hundred', 'ten', 'couple', 'seven', 'eight', 'dollars', 'thousand', 'nine', 'twenty', 'fifty', 'thirty', 'fifteen', 'twelve', 'eleven', 'forty', 'fourteen']\n",
      "\n",
      "This cluster is associated with predominanatly with relationship status. \n",
      " ['man', 'old', 'young', 'wife', 'mother', 'father', 'son', 'friend', 'met', 'husband', 'lived', 'poor', 'hospital', 'married', 'jack', 'spoke', 'died', 'captain', 'named', 'remembered', 'lady', 'murder', 'brother', 'daughter', 'mercer', 'smiled', 'sweet', 'fellow', 'baby', 'wilson', 'talked', 'lewis', 'wondered', 'fathers', 'uncle', 'alive', 'loved', 'joe', 'wished', 'dear', 'alfred', 'warren', 'cousin', 'sick', 'lucy', 'younger', 'adam', 'lawyer', 'anne', 'kate', 'papa', 'handed', 'thompson', 'sister', 'harry', 'bride', 'johnnie', 'blanche', 'aunt']\n",
      "\n",
      "This cluster is associated with government associated terminology. \n",
      " ['program', 'national', 'education', 'defense', 'medical', 'aid', 'planning', 'activities', 'assistance', 'educational', 'policies', 'longterm']\n",
      "\n",
      "This cluster is associated with economic terminology. \n",
      " ['tax', 'pay', 'paid', 'sales', 'income', 'rates', 'share', 'annual', 'workers', 'capital', 'gain', 'increases', 'du', 'estimated', 'employees', 'gross', 'sets', 'rising', 'wage', 'vehicles', 'bills', 'raise', 'expense', 'extra', 'bonds', 'insurance', 'dollar', 'shares', 'percentage', 'taxes', 'load', 'excess', 'wages', 'spending', 'estimate', 'consumer', 'license', 'retired', 'dealers', 'adjustment', 'producing', 'net', 'adjusted', 'household', 'reducing', 'builders', 'decline', 'buying', 'utility', 'proportion', 'customer', 'revenues', 'marginal', 'allowances', 'dealer', 'prospects', 'monthly', 'saving', 'retail', 'stocks', 'earnings']\n"
     ]
    }
   ],
   "source": [
    "print('This cluster is associated with scientific studies. \\n', grouping[22])\n",
    "print('\\nThis cluster is associated with numeric values or measurement metrics. \\n', grouping[16])\n",
    "print('\\nThis cluster is associated with predominanatly with relationship status. \\n', grouping[13])\n",
    "print('\\nThis cluster is associated with government associated terminology. \\n', grouping[8])\n",
    "print('\\nThis cluster is associated with economic terminology. \\n', grouping[4])"
   ]
  },
  {
   "cell_type": "code",
   "execution_count": 24,
   "metadata": {},
   "outputs": [
    {
     "name": "stdout",
     "output_type": "stream",
     "text": [
      "For grouping 8 there are 12 words in the cluster: \n",
      " ['program', 'national', 'education', 'defense', 'medical', 'aid', 'planning', 'activities', 'assistance', 'educational', 'policies', 'longterm']\n"
     ]
    },
    {
     "data": {
      "image/png": "[encoded data removed]",
      "text/plain": [
       "<matplotlib.figure.Figure at 0x1b792445710>"
      ]
     },
     "metadata": {},
     "output_type": "display_data"
    }
   ],
   "source": [
    "cluster_nearest_neighbor(8)"
   ]
  },
  {
   "cell_type": "markdown",
   "metadata": {},
   "source": [
    "## Using Isomap Word Embedding"
   ]
  },
  {
   "cell_type": "code",
   "execution_count": 25,
   "metadata": {},
   "outputs": [
    {
     "name": "stdout",
     "output_type": "stream",
     "text": [
      "Wall time: 5min 1s\n"
     ]
    }
   ],
   "source": [
    "%%time\n",
    "from sklearn.manifold import Isomap\n",
    "isomap = Isomap(n_components= 100, n_neighbors=5)\n",
    "isomap.fit_transform(phi_w)"
   ]
  },
  {
   "cell_type": "code",
   "execution_count": 26,
   "metadata": {},
   "outputs": [
    {
     "name": "stdout",
     "output_type": "stream",
     "text": [
      "The isomap reconstruction error is 30.3704030842\n"
     ]
    }
   ],
   "source": [
    "data = isomap.embedding_\n",
    "data = pd.DataFrame(data, index=V)\n",
    "print('The isomap reconstruction error is', isomap.reconstruction_error())"
   ]
  },
  {
   "cell_type": "markdown",
   "metadata": {},
   "source": [
    "### 2. Nearest neighbor results."
   ]
  },
  {
   "cell_type": "code",
   "execution_count": 27,
   "metadata": {
    "collapsed": true
   },
   "outputs": [],
   "source": [
    "def knearest_neighbors(word_list):\n",
    "    for word in word_list:\n",
    "        subset = data.drop(word)\n",
    "        neigh = NearestNeighbors(n_neighbors=1, algorithm='brute', metric='cosine')\n",
    "        neigh.fit(subset)\n",
    "        distance = neigh.kneighbors(data[data.index == word])[0]\n",
    "        nearest_neighbor_index = neigh.kneighbors(data[data.index == word])[1]\n",
    "        print('Word:', word, '-- Nearest neighbor:', subset.index[nearest_neighbor_index][0][0], '-- Distance:', distance[0][0])"
   ]
  },
  {
   "cell_type": "code",
   "execution_count": 28,
   "metadata": {},
   "outputs": [
    {
     "name": "stdout",
     "output_type": "stream",
     "text": [
      "Word: communism -- Nearest neighbor: reading -- Distance: 0.146721966519\n",
      "Word: autumn -- Nearest neighbor: architect -- Distance: 0.000559851345542\n",
      "Word: cigarette -- Nearest neighbor: marshal -- Distance: 0.290426801564\n",
      "Word: pulmonary -- Nearest neighbor: explanation -- Distance: 0.133498779694\n",
      "Word: mankind -- Nearest neighbor: recognize -- Distance: 0.00175402580933\n",
      "Word: africa -- Nearest neighbor: jurisdiction -- Distance: 0.130636400126\n",
      "Word: chicago -- Nearest neighbor: departments -- Distance: 0.042895707476\n",
      "Word: revolution -- Nearest neighbor: journal -- Distance: 0.00453089797812\n",
      "Word: september -- Nearest neighbor: august -- Distance: 0.0111746504274\n",
      "Word: chemical -- Nearest neighbor: grain -- Distance: 0.00048523090647\n",
      "Word: detergent -- Nearest neighbor: date -- Distance: 0.00558842458655\n",
      "Word: dictionary -- Nearest neighbor: text -- Distance: 0.0127054762105\n",
      "Word: storm -- Nearest neighbor: bore -- Distance: 0.000226146833668\n",
      "Word: worship -- Nearest neighbor: brought -- Distance: 0.150045311338\n",
      "Word: money -- Nearest neighbor: enough -- Distance: 0.100150242699\n",
      "Word: red -- Nearest neighbor: thin -- Distance: 0.058259947777\n",
      "Word: vacation -- Nearest neighbor: century -- Distance: 0.0852075928668\n",
      "Word: missile -- Nearest neighbor: motor -- Distance: 0.00138509781414\n",
      "Word: player -- Nearest neighbor: insist -- Distance: 0.00142822309823\n",
      "Word: velocity -- Nearest neighbor: existed -- Distance: 0.00266489503488\n",
      "Word: reality -- Nearest neighbor: maximum -- Distance: 0.0210643663978\n",
      "Word: education -- Nearest neighbor: economic -- Distance: 0.482657109977\n",
      "Word: strong -- Nearest neighbor: troubled -- Distance: 0.00203403204674\n",
      "Word: churches -- Nearest neighbor: paris -- Distance: 0.0272073954252\n",
      "Word: world -- Nearest neighbor: struggle -- Distance: 0.13768281692\n"
     ]
    }
   ],
   "source": [
    "knearest_neighbors(words)"
   ]
  },
  {
   "cell_type": "markdown",
   "metadata": {},
   "source": [
    "### 3. Clustering."
   ]
  },
  {
   "cell_type": "code",
   "execution_count": 29,
   "metadata": {
    "collapsed": true
   },
   "outputs": [],
   "source": [
    "from sklearn.cluster import KMeans\n",
    "kmeans = KMeans(n_init=6, n_clusters=100, max_iter= 1000, init='k-means++', random_state=0).fit(data)\n",
    "grouping1 = {i:[] for i in range(0,100)}\n",
    "\n",
    "for i,w in enumerate(V):\n",
    "    grouping1[kmeans.labels_[i]].append(w)"
   ]
  },
  {
   "cell_type": "code",
   "execution_count": 32,
   "metadata": {
    "scrolled": true
   },
   "outputs": [],
   "source": [
    "with open('Isomap_transformed.json', 'w') as f:\n",
    "    json.dump(grouping1, f)\n",
    "# grouping1"
   ]
  },
  {
   "cell_type": "code",
   "execution_count": null,
   "metadata": {
    "collapsed": true
   },
   "outputs": [],
   "source": []
  }
 ],
 "metadata": {
  "anaconda-cloud": {},
  "kernelspec": {
   "display_name": "Python [conda env:py36]",
   "language": "python",
   "name": "conda-env-py36-py"
  },
  "language_info": {
   "codemirror_mode": {
    "name": "ipython",
    "version": 3
   },
   "file_extension": ".py",
   "mimetype": "text/x-python",
   "name": "python",
   "nbconvert_exporter": "python",
   "pygments_lexer": "ipython3",
   "version": "3.6.0"
  }
 },
 "nbformat": 4,
 "nbformat_minor": 1
}
