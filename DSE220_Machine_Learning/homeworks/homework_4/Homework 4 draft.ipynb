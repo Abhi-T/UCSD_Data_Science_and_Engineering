{
 "cells": [
  {
   "cell_type": "markdown",
   "metadata": {},
   "source": [
    "# Homework 4\n",
    "## DSE 220: Machine Learning\n",
    "## Due Date: 26 May 2017\n",
    "## Orysya Stus"
   ]
  },
  {
   "cell_type": "code",
   "execution_count": 1,
   "metadata": {},
   "outputs": [
    {
     "name": "stdout",
     "output_type": "stream",
     "text": [
      "Populating the interactive namespace from numpy and matplotlib\n"
     ]
    }
   ],
   "source": [
    "import pandas as pd\n",
    "import numpy as np\n",
    "from sklearn.model_selection import train_test_split\n",
    "%pylab inline"
   ]
  },
  {
   "cell_type": "markdown",
   "metadata": {},
   "source": [
    "## Overview\n",
    "The large number of English words can make language-based applications daunting. To cope with this, it is helpful to have a clustering or embedding of these words, so that words with similar meanings are clustered together, or have embedding that are close to one another. \n",
    "\n",
    "But how can we get at the meanings of words? John Firth (1957) put it thus:\n",
    "You shall know a word by the company it keeps.\n",
    "\n",
    "That is, words that tend to appear in similar contexts are likely to be related. In this assignment, you will investigate this idea by coming up with an embedding of words that is based on co-occurrence statistics.\n",
    "\n",
    "The description here assumes you are using Python with NLTK.\n",
    "\n",
    "1.First, download the Brown corpus (using nltk.corpus). This is a collection of text samples from a wide range of sources, with a total of over a million words. Calling brown.words() returns this text in one long list, which is useful.\n",
    "\n",
    "http://www.nltk.org/book/ch02.html"
   ]
  },
  {
   "cell_type": "code",
   "execution_count": 16,
   "metadata": {},
   "outputs": [
    {
     "name": "stdout",
     "output_type": "stream",
     "text": [
      "There are 1161192 words in the Brown corpus.\n"
     ]
    }
   ],
   "source": [
    "from nltk.corpus import brown\n",
    "word_list = brown.words()\n",
    "print('There are', len(word_list), 'words in the Brown corpus.')"
   ]
  },
  {
   "cell_type": "markdown",
   "metadata": {},
   "source": [
    "2.Remove stopwords and punctuation, make everything lowercase, and count how often each word occurs. Use this to come up with two lists:\n",
    "\n",
    "    A vocabulary V , consisting of a few thousand (e.g., 5000) of the most commonly-occurring words.\n",
    "    \n",
    "    A shorter list C of at most 1000 of the most commonly-occurring words, which we shall call context words."
   ]
  },
  {
   "cell_type": "code",
   "execution_count": 17,
   "metadata": {},
   "outputs": [
    {
     "name": "stdout",
     "output_type": "stream",
     "text": [
      "There are 1013319 words when punctuation is removed.\n",
      "There are 539921 words when stopwords are removed.\n"
     ]
    }
   ],
   "source": [
    "from nltk.corpus import stopwords\n",
    "import string\n",
    "word_list = [''.join(c for c in s if c not in string.punctuation) for s in word_list]\n",
    "word_list = [w.lower() for w in word_list if w != '']\n",
    "print ('There are', len(word_list), 'words when punctuation is removed.')\n",
    "word_list = [word for word in word_list if word not in stopwords.words('english')]\n",
    "print ('There are', len(word_list), 'words when stopwords are removed.')"
   ]
  },
  {
   "cell_type": "code",
   "execution_count": 59,
   "metadata": {},
   "outputs": [],
   "source": [
    "import operator\n",
    "Dict = {}\n",
    "def freq_counter(List):\n",
    "    for w in List:\n",
    "        if w in Dict.keys():\n",
    "            Dict[w]+=1\n",
    "        else:\n",
    "            Dict[w]=1\n",
    "freq_counter(word_list)\n",
    "sorted_counts = sorted(Dict.items(), key=operator.itemgetter(1), reverse=True)"
   ]
  },
  {
   "cell_type": "code",
   "execution_count": 60,
   "metadata": {},
   "outputs": [],
   "source": [
    "V = [x[0] for x in sorted_counts[:5000]]\n",
    "C = [x[0] for x in sorted_counts[:1000]]"
   ]
  },
  {
   "cell_type": "markdown",
   "metadata": {},
   "source": [
    "3.For each word w 2 V , and each occurrence of it in the text stream, look at the surrounding window of four words (two before, two after):\n",
    "        w1 w2 w w3 w4:\n",
    "        \n",
    "Keep count of how often context words from C appear in these positions around word w. That is, for w 2 V , c 2 C, define n(w; c) = # of times c occurs in a window around w:\n",
    "\n",
    "Using these counts, construct the probability distribution Pr(cjw) of context words around w (for each winV ), as well as the overall distribution Pr(c) of context words. These are distributions over C."
   ]
  },
  {
   "cell_type": "code",
   "execution_count": 418,
   "metadata": {
    "collapsed": true
   },
   "outputs": [],
   "source": [
    "# def compute_kmers(wordlist,k):\n",
    "#     kmers = []\n",
    "#     for i in range(len(wordlist)+1-k):\n",
    "#         kmer = wordlist[i:i+k]\n",
    "#         kmers.append(kmer)            \n",
    "#     return kmers\n",
    "# kmers = compute_kmers(word_list, 5)"
   ]
  },
  {
   "cell_type": "code",
   "execution_count": 419,
   "metadata": {
    "scrolled": true
   },
   "outputs": [],
   "source": [
    "# winV = []\n",
    "# for w in V:\n",
    "#     for i in range(len(kmers)):\n",
    "#         if w == kmers[i][2]:\n",
    "#             winV.append(kmers[i])\n",
    "#         else:\n",
    "#             pass\n",
    "# winV"
   ]
  },
  {
   "cell_type": "code",
   "execution_count": 420,
   "metadata": {},
   "outputs": [],
   "source": [
    "# Pr_cw = pd.DataFrame(0, index=V, columns=C)\n",
    "# for i in range(len(winV)):\n",
    "#     V_index = Pr_cw.index[winV[i][2] == Pr_cw.index]\n",
    "#     data = winV[i][:2] + winV[i][3:]\n",
    "#     for d in data:\n",
    "#         if d in C:\n",
    "#             Pr_cw.ix[V_index, d] += 1\n",
    "#         else:\n",
    "#             pass\n",
    "# Pr_cw"
   ]
  },
  {
   "cell_type": "code",
   "execution_count": 291,
   "metadata": {},
   "outputs": [],
   "source": [
    "# import itertools\n",
    "# VC_crossprod = {key: 0 for key in itertools.product(V, C)}"
   ]
  },
  {
   "cell_type": "code",
   "execution_count": 421,
   "metadata": {},
   "outputs": [],
   "source": [
    "# for key, value in VC_crossprod.items():\n",
    "#     for i in range(len(winV)):\n",
    "#         if key[0] == winV[i][2]:\n",
    "#             words = winV[i][:2] + winV[i][3:]\n",
    "#             count = words.count(key[1])\n",
    "#             VC_crossprod[key] = VC_crossprod.get(key, value) + count"
   ]
  },
  {
   "cell_type": "code",
   "execution_count": 453,
   "metadata": {},
   "outputs": [],
   "source": [
    "n_wc = np.zeros((5000, 1000))\n",
    "for w in V:\n",
    "    V_index = [i for i,val in enumerate(V) if val==w]\n",
    "    kmers = []\n",
    "    indices = [i for i,val in enumerate(word_list) if val==w]\n",
    "    for i in indices:\n",
    "        if i == 0:\n",
    "            kmer = word_list[i+1:i+3]\n",
    "        elif i == 1:\n",
    "            kmer = word_list[i-1:i] + word_list[i+1:i+3]\n",
    "        else:\n",
    "            kmer = word_list[i-2:i] + word_list[i+1:i+3]\n",
    "        kmers.append(kmer)\n",
    "    for kmer in kmers:\n",
    "        for word in kmer:\n",
    "            if word in C:\n",
    "                C_index = [i for i,val in enumerate(C) if val==word]\n",
    "                n_wc[V_index, C_index] += 1\n",
    "            else:\n",
    "                pass"
   ]
  },
  {
   "cell_type": "code",
   "execution_count": 457,
   "metadata": {},
   "outputs": [],
   "source": [
    "Pr_cw = n_wc/n_wc.sum(axis=1, keepdims=True)"
   ]
  },
  {
   "cell_type": "code",
   "execution_count": 458,
   "metadata": {},
   "outputs": [],
   "source": [
    "c = n_wc.sum(axis=0)\n",
    "total_Cs = c.sum()\n",
    "Pr_c = c/total_Cs"
   ]
  },
  {
   "cell_type": "code",
   "execution_count": 459,
   "metadata": {},
   "outputs": [],
   "source": [
    "df_Pr_cw = pd.DataFrame(Pr_cw, index=V, columns=C)"
   ]
  },
  {
   "cell_type": "markdown",
   "metadata": {},
   "source": [
    "4.Represent each vocabulary item w by a |C|-dimensional vector phi(w), whose c'th coordinate is:\n",
    "\n",
    "phi(w) = max(0; log(Pr(cjw)/Pr(c)))\n",
    "\n",
    "This is known as the (positive) pointwise mutual information, and has been quite successful in work on word embedding."
   ]
  },
  {
   "cell_type": "code",
   "execution_count": 479,
   "metadata": {},
   "outputs": [
    {
     "name": "stderr",
     "output_type": "stream",
     "text": [
      "C:\\Users\\Orysya\\Anaconda\\envs\\py36\\lib\\site-packages\\ipykernel\\__main__.py:1: RuntimeWarning: divide by zero encountered in log\n",
      "  if __name__ == '__main__':\n"
     ]
    }
   ],
   "source": [
    "phi_w = log(Pr_cw/Pr_c)\n",
    "phi_w[phi_w < 0] = 0"
   ]
  },
  {
   "cell_type": "markdown",
   "metadata": {},
   "source": [
    "5.Suppose we want a 100-dimensional representation. How would you achieve this?\n",
    "\n",
    "### DESCRIBE why used PCA"
   ]
  },
  {
   "cell_type": "code",
   "execution_count": 526,
   "metadata": {},
   "outputs": [
    {
     "name": "stdout",
     "output_type": "stream",
     "text": [
      "For PCA(100),  22.5419203625 % of the variance is explained.\n"
     ]
    }
   ],
   "source": [
    "from sklearn.decomposition import PCA\n",
    "df_phi_w = pd.DataFrame(phi_w, index=V, columns=C)\n",
    "pca = PCA(n_components=100)\n",
    "pca_phi_w = pca.fit_transform(phi_w)\n",
    "pca_phi_w = pd.DataFrame(pca_phi_w, index=V)\n",
    "print('For PCA(100), ', np.sum(pca.explained_variance_ratio_)* 100.0, '% of the variance is explained.')"
   ]
  },
  {
   "cell_type": "markdown",
   "metadata": {},
   "source": [
    "6.Investigate the resulting embedding in two ways:\n",
    "    \n",
    "    \u000f Cluster the vocabulary into 100 clusters. Look them over; do they seem completely random, or is there some sense to them?\n",
    "    \u000f Try finding the nearest neighbor of selected words. Do the answers make sense?"
   ]
  },
  {
   "cell_type": "code",
   "execution_count": null,
   "metadata": {
    "collapsed": true
   },
   "outputs": [],
   "source": [
    "# from sklearn.cluster import KMeans\n",
    "\n",
    "# iters = range(100)\n",
    "# inertias = []\n",
    "# for i in iters:\n",
    "#     k_means = KMeans(n_clusters=100, max_iter = i, init='random')\n",
    "#     k_means.fit(X)\n",
    "#     inertias.append(k_means.inertia_)  "
   ]
  },
  {
   "cell_type": "code",
   "execution_count": 654,
   "metadata": {},
   "outputs": [],
   "source": [
    "from sklearn.cluster import KMeans\n",
    "kmeans = KMeans(n_clusters=100, max_iter= 1000, random_state=0).fit(pca_phi_w)\n",
    "grouping = {i:[] for i in range(0,100)}\n",
    "\n",
    "for i,w in enumerate(V):\n",
    "    grouping[kmeans.labels_[i]].append(w)"
   ]
  },
  {
   "cell_type": "code",
   "execution_count": 655,
   "metadata": {
    "collapsed": true
   },
   "outputs": [],
   "source": [
    "%matplotlib inline\n",
    "from pylab import rcParams\n",
    "rcParams['figure.figsize'] = 10,20"
   ]
  },
  {
   "cell_type": "code",
   "execution_count": 656,
   "metadata": {},
   "outputs": [],
   "source": [
    "from scipy.cluster.hierarchy import dendrogram, linkage\n",
    "\n",
    "def cluster_nearest_neighbor(cluster_index):\n",
    "    cluster = grouping[cluster_index]\n",
    "    print('For grouping', cluster_index, 'the words in the cluster are: \\n', cluster)\n",
    "    indices = []\n",
    "    for word in cluster:\n",
    "        ind = [i for i,val in enumerate(pca_phi_w.index) if val==word][0]\n",
    "        indices.append(ind) \n",
    "    subset = pca_phi_w.ix[indices]\n",
    "    classes = subset.index\n",
    "    Z = linkage(subset, 'ward')\n",
    "    \n",
    "    plt.title('Hierarchical Clustering of Cluster Words')\n",
    "    plt.xlabel('sample index')\n",
    "    plt.ylabel('distance')\n",
    "    dendrogram(Z, labels= classes, orientation='right')\n",
    "    plt.show()"
   ]
  },
  {
   "cell_type": "code",
   "execution_count": 657,
   "metadata": {},
   "outputs": [
    {
     "name": "stdout",
     "output_type": "stream",
     "text": [
      "For grouping 2 the words in the cluster are: \n",
      " ['water', 'light', 'body', 'air', 'ground', 'floor', 'earth', 'carried', 'sun', 'heavy', 'covered', 'built', 'filled', 'rose', 'frame', 'rain', 'dust', 'walls', 'soft', 'cool', 'roof', 'flying', 'height']\n"
     ]
    },
    {
     "data": {
      "image/png": "[encoded data removed]",
      "text/plain": [
       "<matplotlib.figure.Figure at 0x1f8b0a228d0>"
      ]
     },
     "metadata": {},
     "output_type": "display_data"
    }
   ],
   "source": [
    "cluster_nearest_neighbor(2)"
   ]
  },
  {
   "cell_type": "code",
   "execution_count": 659,
   "metadata": {
    "collapsed": true
   },
   "outputs": [],
   "source": [
    "from sklearn.neighbors import NearestNeighbors\n",
    "\n",
    "def knearest_neighbors(word_list):\n",
    "    for word in word_list:\n",
    "        subset = pca_phi_w.drop(word)\n",
    "        neigh = NearestNeighbors(n_neighbors=1, algorithm='brute', metric='cosine')\n",
    "        neigh.fit(subset)\n",
    "        distance = neigh.kneighbors(pca_phi_w[pca_phi_w.index == word])[0]\n",
    "        nearest_neighbor_index = neigh.kneighbors(pca_phi_w[pca_phi_w.index == word])[1]\n",
    "        print('Word:', word, '-- Nearest neighbor:', pca_phi_w.index[nearest_neighbor_index][0][0], '-- Distance:', distance[0][0])"
   ]
  },
  {
   "cell_type": "markdown",
   "metadata": {},
   "source": [
    "7.The Brown corpus is very small. Current work on word embedding uses data sets that are several orders of magnitude larger, but the methodology is along the same lines."
   ]
  },
  {
   "cell_type": "markdown",
   "metadata": {},
   "source": [
    "## What to Turn In\n",
    "\n",
    "On the due date, turn in a typewritten report containing the following elements (each labeled clearly).\n",
    "\n",
    "### 1. A description of your 100-dimensional embedding. \n",
    "The description should be concise and clear, and should make it obvious exactly what steps you took to obtain your word embeddings. Below, we will denote these as Ψ(w) ∈ R100, for w ∈ V . Also clarify exactly how you selected the vocabulary V and the context words C."
   ]
  },
  {
   "cell_type": "markdown",
   "metadata": {},
   "source": [
    "### 2. Nearest neighbor results.\n",
    "Pick a collection of 25 words w ∈ V . For each w, return its nearest neighbor w' != w in V. A popular distance measure to use for this is cosine distance:\n",
    "\n",
    "1 − (Ψ(w).Ψ(w'))/ (||Ψ(w)|| ||Ψ(w')||)\n",
    "\n",
    "Here are some suggestions for words you might choose:\n",
    "communism, autumn, cigarette, pulmonary, mankind, africa, chicago, revolution, september, chemical, detergent, dictionary, storm, worship\n",
    "\n",
    "Do the results make any sense? You can use other distance measures apart from cosine distance to improve the results."
   ]
  },
  {
   "cell_type": "code",
   "execution_count": 653,
   "metadata": {},
   "outputs": [
    {
     "name": "stdout",
     "output_type": "stream",
     "text": [
      "Word: communism -- Nearest neighbor: decline -- Distance: 0.610159837146\n",
      "Word: autumn -- Nearest neighbor: journey -- Distance: 0.496393118305\n",
      "Word: cigarette -- Nearest neighbor: lighted -- Distance: 0.486430360111\n",
      "Word: pulmonary -- Nearest neighbor: artery -- Distance: 0.262623634083\n",
      "Word: mankind -- Nearest neighbor: chances -- Distance: 0.591713952975\n",
      "Word: africa -- Nearest neighbor: opinions -- Distance: 0.308037722144\n",
      "Word: chicago -- Nearest neighbor: preliminary -- Distance: 0.462430459092\n",
      "Word: revolution -- Nearest neighbor: century -- Distance: 0.619241837623\n",
      "Word: september -- Nearest neighbor: june -- Distance: 0.245003876174\n",
      "Word: chemical -- Nearest neighbor: mold -- Distance: 0.458456897885\n",
      "Word: detergent -- Nearest neighbor: fabrics -- Distance: 0.486990209937\n",
      "Word: dictionary -- Nearest neighbor: text -- Distance: 0.311639743114\n",
      "Word: storm -- Nearest neighbor: saturday -- Distance: 0.502350485984\n",
      "Word: worship -- Nearest neighbor: environment -- Distance: 0.560869848307\n"
     ]
    }
   ],
   "source": [
    "words = ['communism', 'autumn', 'cigarette', 'pulmonary', 'mankind', 'africa', 'chicago', 'revolution', 'september', 'chemical', 'detergent', 'dictionary', 'storm', 'worship']\n",
    "knearest_neighbors(words)"
   ]
  },
  {
   "cell_type": "markdown",
   "metadata": {},
   "source": [
    "### 3. Clustering.\n",
    "Using the vectorial representation Ψ(.), cluster the words in V into 100 groups. Clearly specify what algorithm and distance function you using for this, and the reasons for your choices.\n",
    "\n",
    "Look over the resulting 100 clusters. Do any of them seem even moderately coherent? Pick out a few of the best clusters and list the words in them."
   ]
  },
  {
   "cell_type": "code",
   "execution_count": null,
   "metadata": {
    "collapsed": true
   },
   "outputs": [],
   "source": [
    "grouping"
   ]
  }
 ],
 "metadata": {
  "anaconda-cloud": {},
  "kernelspec": {
   "display_name": "Python [conda env:py36]",
   "language": "python",
   "name": "conda-env-py36-py"
  },
  "language_info": {
   "codemirror_mode": {
    "name": "ipython",
    "version": 3
   },
   "file_extension": ".py",
   "mimetype": "text/x-python",
   "name": "python",
   "nbconvert_exporter": "python",
   "pygments_lexer": "ipython3",
   "version": "3.6.0"
  }
 },
 "nbformat": 4,
 "nbformat_minor": 1
}
