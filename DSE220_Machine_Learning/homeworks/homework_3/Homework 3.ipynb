{
 "cells": [
  {
   "cell_type": "markdown",
   "metadata": {
    "collapsed": true
   },
   "source": [
    "# Homework 3\n",
    "## DSE 220: Machine Learning\n",
    "## Due Date: 14 May 2017\n",
    "## Orysya Stus"
   ]
  },
  {
   "cell_type": "code",
   "execution_count": 1,
   "metadata": {},
   "outputs": [
    {
     "name": "stdout",
     "output_type": "stream",
     "text": [
      "Populating the interactive namespace from numpy and matplotlib\n"
     ]
    }
   ],
   "source": [
    "import pandas as pd\n",
    "import numpy as np\n",
    "from sklearn.model_selection import train_test_split\n",
    "%pylab inline"
   ]
  },
  {
   "cell_type": "markdown",
   "metadata": {},
   "source": [
    "## 2. Discriminative Learning\n",
    "For the questions in this section, load the wine dataset (wine original.csv)."
   ]
  },
  {
   "cell_type": "code",
   "execution_count": 2,
   "metadata": {},
   "outputs": [
    {
     "name": "stdout",
     "output_type": "stream",
     "text": [
      "(178, 14)\n"
     ]
    },
    {
     "data": {
      "text/html": [
       "<div>\n",
       "<table border=\"1\" class=\"dataframe\">\n",
       "  <thead>\n",
       "    <tr style=\"text-align: right;\">\n",
       "      <th></th>\n",
       "      <th>class</th>\n",
       "      <th>Alcohol</th>\n",
       "      <th>Malic acid</th>\n",
       "      <th>Ash</th>\n",
       "      <th>Alcalinity of ash</th>\n",
       "      <th>Magnesium</th>\n",
       "      <th>Total phenols</th>\n",
       "      <th>Flavanoids</th>\n",
       "      <th>Nonflavanoid phenols</th>\n",
       "      <th>Proanthocyanins</th>\n",
       "      <th>Color intensity</th>\n",
       "      <th>Hue</th>\n",
       "      <th>OD280/OD315</th>\n",
       "      <th>Proline</th>\n",
       "    </tr>\n",
       "  </thead>\n",
       "  <tbody>\n",
       "    <tr>\n",
       "      <th>0</th>\n",
       "      <td>1</td>\n",
       "      <td>14.23</td>\n",
       "      <td>1.71</td>\n",
       "      <td>2.43</td>\n",
       "      <td>15.6</td>\n",
       "      <td>127</td>\n",
       "      <td>2.80</td>\n",
       "      <td>3.06</td>\n",
       "      <td>0.28</td>\n",
       "      <td>2.29</td>\n",
       "      <td>5.64</td>\n",
       "      <td>1.04</td>\n",
       "      <td>3.92</td>\n",
       "      <td>1065</td>\n",
       "    </tr>\n",
       "    <tr>\n",
       "      <th>1</th>\n",
       "      <td>1</td>\n",
       "      <td>13.20</td>\n",
       "      <td>1.78</td>\n",
       "      <td>2.14</td>\n",
       "      <td>11.2</td>\n",
       "      <td>100</td>\n",
       "      <td>2.65</td>\n",
       "      <td>2.76</td>\n",
       "      <td>0.26</td>\n",
       "      <td>1.28</td>\n",
       "      <td>4.38</td>\n",
       "      <td>1.05</td>\n",
       "      <td>3.40</td>\n",
       "      <td>1050</td>\n",
       "    </tr>\n",
       "    <tr>\n",
       "      <th>2</th>\n",
       "      <td>1</td>\n",
       "      <td>13.16</td>\n",
       "      <td>2.36</td>\n",
       "      <td>2.67</td>\n",
       "      <td>18.6</td>\n",
       "      <td>101</td>\n",
       "      <td>2.80</td>\n",
       "      <td>3.24</td>\n",
       "      <td>0.30</td>\n",
       "      <td>2.81</td>\n",
       "      <td>5.68</td>\n",
       "      <td>1.03</td>\n",
       "      <td>3.17</td>\n",
       "      <td>1185</td>\n",
       "    </tr>\n",
       "    <tr>\n",
       "      <th>3</th>\n",
       "      <td>1</td>\n",
       "      <td>14.37</td>\n",
       "      <td>1.95</td>\n",
       "      <td>2.50</td>\n",
       "      <td>16.8</td>\n",
       "      <td>113</td>\n",
       "      <td>3.85</td>\n",
       "      <td>3.49</td>\n",
       "      <td>0.24</td>\n",
       "      <td>2.18</td>\n",
       "      <td>7.80</td>\n",
       "      <td>0.86</td>\n",
       "      <td>3.45</td>\n",
       "      <td>1480</td>\n",
       "    </tr>\n",
       "    <tr>\n",
       "      <th>4</th>\n",
       "      <td>1</td>\n",
       "      <td>13.24</td>\n",
       "      <td>2.59</td>\n",
       "      <td>2.87</td>\n",
       "      <td>21.0</td>\n",
       "      <td>118</td>\n",
       "      <td>2.80</td>\n",
       "      <td>2.69</td>\n",
       "      <td>0.39</td>\n",
       "      <td>1.82</td>\n",
       "      <td>4.32</td>\n",
       "      <td>1.04</td>\n",
       "      <td>2.93</td>\n",
       "      <td>735</td>\n",
       "    </tr>\n",
       "  </tbody>\n",
       "</table>\n",
       "</div>"
      ],
      "text/plain": [
       "   class  Alcohol  Malic acid   Ash  Alcalinity of ash  Magnesium  \\\n",
       "0      1    14.23        1.71  2.43               15.6        127   \n",
       "1      1    13.20        1.78  2.14               11.2        100   \n",
       "2      1    13.16        2.36  2.67               18.6        101   \n",
       "3      1    14.37        1.95  2.50               16.8        113   \n",
       "4      1    13.24        2.59  2.87               21.0        118   \n",
       "\n",
       "   Total phenols  Flavanoids  Nonflavanoid phenols  Proanthocyanins  \\\n",
       "0           2.80        3.06                  0.28             2.29   \n",
       "1           2.65        2.76                  0.26             1.28   \n",
       "2           2.80        3.24                  0.30             2.81   \n",
       "3           3.85        3.49                  0.24             2.18   \n",
       "4           2.80        2.69                  0.39             1.82   \n",
       "\n",
       "   Color intensity   Hue  OD280/OD315  Proline  \n",
       "0             5.64  1.04         3.92     1065  \n",
       "1             4.38  1.05         3.40     1050  \n",
       "2             5.68  1.03         3.17     1185  \n",
       "3             7.80  0.86         3.45     1480  \n",
       "4             4.32  1.04         2.93      735  "
      ]
     },
     "execution_count": 2,
     "metadata": {},
     "output_type": "execute_result"
    }
   ],
   "source": [
    "wine = pd.read_csv('wine_original.csv')\n",
    "print(wine.shape)\n",
    "wine.head()"
   ]
  },
  {
   "cell_type": "markdown",
   "metadata": {},
   "source": [
    "## Question 1: \n",
    "Perform a 80-20 split using train test split on the data to obtain the train and the test data (random state=3). Use Logistic Regression to classify the wines according to their cultivators. Tune parameters 'penalty' and 'C' using GridSearchCV implementation. Report the accuracy on test data."
   ]
  },
  {
   "cell_type": "code",
   "execution_count": 3,
   "metadata": {
    "collapsed": true
   },
   "outputs": [],
   "source": [
    "y = np.array(wine['class'])\n",
    "X = np.array(wine.iloc[:, 1:])"
   ]
  },
  {
   "cell_type": "code",
   "execution_count": 4,
   "metadata": {
    "collapsed": true
   },
   "outputs": [],
   "source": [
    "from sklearn.model_selection import train_test_split\n",
    "X_train, X_test, y_train, y_test = train_test_split(X, y, test_size = 0.2, random_state=3)"
   ]
  },
  {
   "cell_type": "code",
   "execution_count": 5,
   "metadata": {},
   "outputs": [
    {
     "name": "stdout",
     "output_type": "stream",
     "text": [
      "Fitting 3 folds for each of 16 candidates, totalling 48 fits\n",
      "{'C': 1, 'penalty': 'l1'}\n",
      "Test accuracy = 0.888888888889\n"
     ]
    },
    {
     "name": "stderr",
     "output_type": "stream",
     "text": [
      "[Parallel(n_jobs=-1)]: Done  48 out of  48 | elapsed:    1.6s finished\n"
     ]
    }
   ],
   "source": [
    "from sklearn.linear_model import LogisticRegression\n",
    "from sklearn.model_selection import GridSearchCV\n",
    "from sklearn.metrics import accuracy_score\n",
    "parameters = {'penalty' : ['l1', 'l2'], 'C': [0.1, 0.5, 1, 2, 3, 4, 5, 10]}\n",
    "lr = LogisticRegression()\n",
    "clf = GridSearchCV(lr, parameters, verbose = True, n_jobs=-1)\n",
    "clf.fit(X_train, y_train)\n",
    "y_pred = clf.predict(X_test)\n",
    "print(clf.best_params_)\n",
    "print('Test accuracy = ' + str(accuracy_score(y_pred, y_test)))"
   ]
  },
  {
   "cell_type": "markdown",
   "metadata": {},
   "source": [
    "## 3. Perceptron and Support Vector Machines\n",
    "## 3.1 Data:\n",
    "In this section, we will work on the text data. Download the newsgroups data (train and test) using fetch 20newsgroups for categories: 'alt.atheism', 'comp.graphics', 'sci.space' and 'talk.politics.mideast' after removing 'headers', 'footers' and 'quotes' from the data. Convert all the words in the text to lower case. A common practice is to remove the stopwords like a, and, the etc. from the text. Use nltk to get the stopwords list (nltk.corpus.stopwords) and remove the stopwords from the text. Use TfidfVectorizer to obtain the tfidf vectors (after smoothing*) for the train and test data and select only top 2000 features (words). You can also perform the above stated actions (lowercase and stop-words) using the TfidfVectorizer. Note: You'll fit the tf-idf vectors on the train data and use the same to transform the test data.\n",
    "\n",
    "*: Smoothing the text data is same as computing the idf values after adding a document with all words in the vocabulary."
   ]
  },
  {
   "cell_type": "code",
   "execution_count": 6,
   "metadata": {},
   "outputs": [],
   "source": [
    "from sklearn.datasets import fetch_20newsgroups\n",
    "cats = ['alt.atheism', 'comp.graphics', 'sci.space', 'talk.politics.mideast']\n",
    "rm = ('headers', 'footers', 'quotes')\n",
    "train_all = fetch_20newsgroups(subset = 'train', categories=cats, remove=rm)\n",
    "test_all = fetch_20newsgroups(subset = 'test', categories=cats, remove=rm)"
   ]
  },
  {
   "cell_type": "code",
   "execution_count": 7,
   "metadata": {
    "collapsed": true
   },
   "outputs": [],
   "source": [
    "X_train = train_all.data\n",
    "y_train = train_all.target\n",
    "X_test = test_all.data\n",
    "y_test = test_all.target"
   ]
  },
  {
   "cell_type": "code",
   "execution_count": 8,
   "metadata": {},
   "outputs": [
    {
     "name": "stdout",
     "output_type": "stream",
     "text": [
      "X train vector shape (2221, 2000)\n",
      "X test vector shape (1478, 2000)\n"
     ]
    }
   ],
   "source": [
    "from sklearn.feature_extraction.text import TfidfVectorizer\n",
    "vec = TfidfVectorizer(strip_accents='unicode', lowercase=True, decode_error='ignore', max_features=2000, stop_words='english')\n",
    "X_train_vec = vec.fit_transform(X_train)\n",
    "X_test_vec = vec.transform(X_test)\n",
    "print('X train vector shape', X_train_vec.shape)\n",
    "print('X test vector shape', X_test_vec.shape)"
   ]
  },
  {
   "cell_type": "code",
   "execution_count": 9,
   "metadata": {
    "collapsed": true
   },
   "outputs": [],
   "source": [
    "# from nltk.corpus import stopwords\n",
    "# import string\n",
    "# def preprocess(data):\n",
    "#     processed_data = []\n",
    "#     for i in range(len(data)):\n",
    "#         translator = str.maketrans('', '', string.punctuation)\n",
    "#         a = data[i]\n",
    "#         a = a.translate(translator)\n",
    "#         a.replace('\\n', '')\n",
    "#         a = a.split()\n",
    "#         b = [c.lower() for c in a]\n",
    "#         filtered_words = [word for word in b if word not in stopwords.words('english')]\n",
    "#         processed_data.append(filtered_words)\n",
    "#     return processed_data"
   ]
  },
  {
   "cell_type": "markdown",
   "metadata": {},
   "source": [
    "### Question 2: \n",
    "After obtaining the tf-idf vectors for train and test data, use the perceptron model (no penalty) to train on the training vectors and compute the accuracy on the test vectors."
   ]
  },
  {
   "cell_type": "code",
   "execution_count": 10,
   "metadata": {},
   "outputs": [
    {
     "name": "stdout",
     "output_type": "stream",
     "text": [
      "Test accuracy = 0.776048714479\n"
     ]
    }
   ],
   "source": [
    "from sklearn.linear_model import Perceptron\n",
    "clf = Perceptron(penalty=None)\n",
    "clf.fit(X_train_vec, y_train)\n",
    "y_pred = clf.predict(X_test_vec)\n",
    "print('Test accuracy = ' + str(accuracy_score(y_pred, y_test)))"
   ]
  },
  {
   "cell_type": "markdown",
   "metadata": {},
   "source": [
    "### Question 3: \n",
    "Keeping all the above data processing steps same observe how the test accuracy changes by varying the number of top features selected for 100, 200, 500, 1000, 1500, 2000, 3000 for a perceptron model. Report and plot the results."
   ]
  },
  {
   "cell_type": "code",
   "execution_count": 11,
   "metadata": {},
   "outputs": [
    {
     "name": "stdout",
     "output_type": "stream",
     "text": [
      "Test accuracy for top_features =  100 is  0.608930987821\n",
      "Test accuracy for top_features =  200 is  0.676589986468\n",
      "Test accuracy for top_features =  500 is  0.731393775372\n",
      "Test accuracy for top_features =  1000 is  0.736806495264\n",
      "Test accuracy for top_features =  1500 is  0.73951285521\n",
      "Test accuracy for top_features =  2000 is  0.776048714479\n",
      "Test accuracy for top_features =  3000 is  0.786197564276\n"
     ]
    },
    {
     "data": {
      "image/png": "[encoded data removed]",
      "text/plain": [
       "<matplotlib.figure.Figure at 0x189dd072908>"
      ]
     },
     "metadata": {},
     "output_type": "display_data"
    }
   ],
   "source": [
    "acc = []\n",
    "top_features = [100, 200, 500, 1000, 1500, 2000, 3000]\n",
    "for i in top_features:\n",
    "    vec = TfidfVectorizer(strip_accents='unicode', lowercase=True, decode_error='ignore', max_features=i, stop_words='english')\n",
    "    X_train_vec = vec.fit_transform(X_train)\n",
    "    X_test_vec = vec.transform(X_test)\n",
    "    clf = Perceptron(penalty=None)\n",
    "    clf.fit(X_train_vec, y_train)\n",
    "    y_pred = clf.predict(X_test_vec)\n",
    "    accuracy = accuracy_score(y_pred, y_test)\n",
    "    acc.append(accuracy)\n",
    "    print('Test accuracy for top_features = ', i, 'is ', accuracy)\n",
    "    \n",
    "plot(top_features, acc)\n",
    "plt.title('Perceptron: Accuracy vs. Top Features Considered');\n",
    "plt.xlabel('Top features (n)');\n",
    "plt.ylabel('Accuracy');"
   ]
  },
  {
   "cell_type": "markdown",
   "metadata": {},
   "source": [
    "### Question 4: \n",
    "After obtaining the tf-idf vectors for train and test data, use the SVM model to train on the training vectors and compute the accuracy on the test vectors. Use linear kernel and default parameters."
   ]
  },
  {
   "cell_type": "code",
   "execution_count": 12,
   "metadata": {},
   "outputs": [
    {
     "name": "stdout",
     "output_type": "stream",
     "text": [
      "Test accuracy = 0.814614343708\n"
     ]
    }
   ],
   "source": [
    "from sklearn.svm import SVC\n",
    "clf = SVC(kernel='linear')\n",
    "clf.fit(X_train_vec, y_train)\n",
    "y_pred = clf.predict(X_test_vec)\n",
    "print('Test accuracy = ' + str(accuracy_score(y_pred, y_test)))"
   ]
  },
  {
   "cell_type": "markdown",
   "metadata": {},
   "source": [
    "### Question 5: \n",
    "Keeping all the above data processing steps same observe how the test accuracy changes by varying the number of top features selected for 100, 200, 500, 1000, 1500, 2000, 3000 for a linear SVM model. Report and plot the results."
   ]
  },
  {
   "cell_type": "code",
   "execution_count": 13,
   "metadata": {},
   "outputs": [
    {
     "name": "stdout",
     "output_type": "stream",
     "text": [
      "Test accuracy for top_features =  100 is  0.655615696888\n",
      "Test accuracy for top_features =  200 is  0.713802435724\n",
      "Test accuracy for top_features =  500 is  0.745602165088\n",
      "Test accuracy for top_features =  1000 is  0.767929634641\n",
      "Test accuracy for top_features =  1500 is  0.777401894452\n",
      "Test accuracy for top_features =  2000 is  0.794316644114\n",
      "Test accuracy for top_features =  3000 is  0.814614343708\n"
     ]
    },
    {
     "data": {
      "image/png": "[encoded data removed]",
      "text/plain": [
       "<matplotlib.figure.Figure at 0x189e15c41d0>"
      ]
     },
     "metadata": {},
     "output_type": "display_data"
    }
   ],
   "source": [
    "acc = []\n",
    "top_features = [100, 200, 500, 1000, 1500, 2000, 3000]\n",
    "for i in top_features:\n",
    "    vec = TfidfVectorizer(strip_accents='unicode', lowercase=True, decode_error='ignore', max_features=i, stop_words='english')\n",
    "    X_train_vec = vec.fit_transform(X_train)\n",
    "    X_test_vec = vec.transform(X_test)\n",
    "    clf = SVC(kernel='linear')\n",
    "    clf.fit(X_train_vec, y_train)\n",
    "    y_pred = clf.predict(X_test_vec)\n",
    "    accuracy = accuracy_score(y_pred, y_test)\n",
    "    acc.append(accuracy)\n",
    "    print('Test accuracy for top_features = ', i, 'is ', accuracy)\n",
    "    \n",
    "plot(top_features, acc)\n",
    "plt.title('SVM: Accuracy vs. Top Features Considered');\n",
    "plt.xlabel('Top features (n)');\n",
    "plt.ylabel('Accuracy');"
   ]
  },
  {
   "cell_type": "markdown",
   "metadata": {},
   "source": [
    "### Question 6: \n",
    "Perform 80-20 split of the training data to obtain validation data using train test split (random state=10). Use this validation data to tune the cost parameter 'C' for values 0.01,0.1,1,10,100. Select the best value compute the accuracy for the test data. Report the validation and test accuracies. Note: Use full data of 2000 vectors here."
   ]
  },
  {
   "cell_type": "code",
   "execution_count": 14,
   "metadata": {
    "collapsed": true
   },
   "outputs": [],
   "source": [
    "X_train_vec1, X_valid_vec, y_train1, y_valid = train_test_split(X_train_vec, y_train, test_size = 0.2, random_state=10)"
   ]
  },
  {
   "cell_type": "code",
   "execution_count": 15,
   "metadata": {},
   "outputs": [
    {
     "name": "stdout",
     "output_type": "stream",
     "text": [
      "The validation accuracy for C =  0.01 is  0.244943820225\n",
      "The validation accuracy for C =  0.1 is  0.734831460674\n",
      "The validation accuracy for C =  1 is  0.860674157303\n",
      "The validation accuracy for C =  10 is  0.83595505618\n",
      "The validation accuracy for C =  100 is  0.822471910112\n",
      "The best C is 1 with a validation accuracy of 0.860674157303\n"
     ]
    },
    {
     "data": {
      "image/png": "[encoded data removed]",
      "text/plain": [
       "<matplotlib.figure.Figure at 0x189dd1ea0b8>"
      ]
     },
     "metadata": {},
     "output_type": "display_data"
    }
   ],
   "source": [
    "best_acc = 0.0\n",
    "acc = []\n",
    "C = [0.01,0.1,1,10,100]\n",
    "for i in C:\n",
    "    clf = SVC(kernel='linear', C= i)\n",
    "    clf.fit(X_train_vec1, y_train1)\n",
    "    y_pred = clf.predict(X_valid_vec)\n",
    "    accuracy = accuracy_score(y_pred, y_valid)\n",
    "    print('The validation accuracy for C = ', i, 'is ', accuracy)\n",
    "    acc.append(accuracy)\n",
    "    if (accuracy > best_acc):\n",
    "        best_C = i\n",
    "        best_acc = accuracy\n",
    "print('The best C is', best_C, 'with a validation accuracy of', best_acc)\n",
    "\n",
    "plot(C, acc);\n",
    "plt.title('SVM: Accuracy vs. Values of C');\n",
    "plt.xlabel('Values of C');\n",
    "plt.ylabel('Accuracy');"
   ]
  },
  {
   "cell_type": "code",
   "execution_count": 16,
   "metadata": {},
   "outputs": [
    {
     "name": "stdout",
     "output_type": "stream",
     "text": [
      "The test accuracy using C = 1 is  0.814614343708\n"
     ]
    }
   ],
   "source": [
    "clf = SVC(kernel='linear', C= best_C)\n",
    "clf.fit(X_train_vec, y_train)\n",
    "y_pred = clf.predict(X_test_vec)\n",
    "accuracy = accuracy_score(y_pred, y_test)\n",
    "print('The test accuracy using C =', best_C, 'is ', accuracy)"
   ]
  },
  {
   "cell_type": "markdown",
   "metadata": {},
   "source": [
    "### Question 7: \n",
    "Train a kernelized SVM (with 'C'=10000) with kernel values - 'poly' with degree 1, 2, 3, 'rbf ' and 'sigmoid', and report the one with best accuracy on validation data. Also report the test accuracy for the selected kernel."
   ]
  },
  {
   "cell_type": "code",
   "execution_count": 17,
   "metadata": {},
   "outputs": [
    {
     "name": "stdout",
     "output_type": "stream",
     "text": [
      "The validation accuracy for Kernel = poly and degree =  1 is  0.838202247191\n",
      "The validation accuracy for Kernel = poly and degree =  2 is  0.244943820225\n",
      "The validation accuracy for Kernel = poly and degree =  3 is  0.244943820225\n",
      "The validation accuracy for Kernel =   rbf is  0.83595505618\n",
      "The validation accuracy for Kernel =   sigmoid is  0.838202247191\n",
      "\n",
      " The best Kernel = poly and best degree =  1 with a test accuracy of 0.789580514208\n"
     ]
    }
   ],
   "source": [
    "best_acc = 0.0\n",
    "acc = []\n",
    "deg = [1,2,3]\n",
    "for i in deg:\n",
    "    clf = SVC(C=10000, kernel='poly', degree=i)\n",
    "    clf.fit(X_train_vec1, y_train1)\n",
    "    y_pred = clf.predict(X_valid_vec)\n",
    "    accuracy = accuracy_score(y_pred, y_valid)\n",
    "    print('The validation accuracy for Kernel = poly and degree = ', i, 'is ', accuracy)\n",
    "    acc.append(accuracy)\n",
    "    if (accuracy > best_acc):\n",
    "        best_deg = i\n",
    "        best_kernel = 'poly'\n",
    "        best_acc = accuracy\n",
    "for i in ['rbf', 'sigmoid']:\n",
    "    clf = SVC(C=10000, kernel=i)\n",
    "    clf.fit(X_train_vec1, y_train1)\n",
    "    y_pred = clf.predict(X_valid_vec)\n",
    "    accuracy = accuracy_score(y_pred, y_valid)\n",
    "    print('The validation accuracy for Kernel =  ', i, 'is ', accuracy)\n",
    "    acc.append(accuracy)\n",
    "    if (accuracy > best_acc):\n",
    "        best_kernel = i\n",
    "        best_acc = accuracy\n",
    "\n",
    "if best_kernel == 'poly':\n",
    "    clf = SVC(C=10000, kernel=best_kernel, degree= best_deg)\n",
    "    clf.fit(X_train_vec, y_train)\n",
    "    y_pred = clf.predict(X_test_vec)\n",
    "    accuracy = accuracy_score(y_pred, y_test)\n",
    "    print('\\n The best Kernel = poly and best degree = ', best_deg, 'with a test accuracy of', accuracy)\n",
    "else:\n",
    "    clf = SVC(C=10000, kernel=best_kernel)\n",
    "    clf.fit(X_train_vec, y_train)\n",
    "    y_pred = clf.predict(X_test_vec)\n",
    "    accuracy = accuracy_score(y_pred, y_test)\n",
    "    print('\\n The best Kernel = ', best_kernel, 'with a test accuracy of', accuracy)"
   ]
  },
  {
   "cell_type": "markdown",
   "metadata": {},
   "source": [
    "## 3.2 Custom Kernels\n",
    "Now we introduce the concept of custom kernels in Support Vector Machines. There are good chances that we need some other form of similarity measure for our data, for which we need to pass our own function as kernel to SVM.\n",
    "\n",
    "### Question 8: \n",
    "Use Cosine Similarity and Laplacian Kernel (exp􀀀jjx􀀀yjj1 ) measures, and report the test accuracies using these kernels with SVM."
   ]
  },
  {
   "cell_type": "code",
   "execution_count": 18,
   "metadata": {},
   "outputs": [
    {
     "name": "stdout",
     "output_type": "stream",
     "text": [
      "Kernel =  cosine_similarity , test accuracy =  0.814614343708\n",
      "Kernel =  laplacian_kernel , test accuracy =  0.266576454668\n"
     ]
    }
   ],
   "source": [
    "from sklearn.metrics.pairwise import cosine_similarity, laplacian_kernel\n",
    "kernels = {'cosine_similarity': cosine_similarity, 'laplacian_kernel': laplacian_kernel}\n",
    "for i,j in kernels.items():\n",
    "    clf = SVC(kernel=j)\n",
    "    clf.fit(X_train_vec, y_train)\n",
    "    y_pred = clf.predict(X_test_vec)\n",
    "    accuracy = accuracy_score(y_pred, y_test)\n",
    "    print('Kernel = ', i, ', test accuracy = ', accuracy)"
   ]
  },
  {
   "cell_type": "markdown",
   "metadata": {},
   "source": [
    "### Question 9: \n",
    "Another way to construct a kernel is use a linear combination of 2 kernels. Let K be a kernel represented as:\n",
    "\n",
    "K(x; y) = a*K1(x, y) + (1 - a)K2(x, y) (0 <= a <= 1)\n",
    "\n",
    "Why is K a valid kernel? Does your reasoning hold true for other values of alpha as well? Let K1 be the 'cosine similarity' and K2 be 'Laplacian Kernel'. Using K as kernel, train a SVM model to tune the value of alpha (upto one decimal) and report the accuracy on the test data using the selected parameter.\n",
    "\n",
    "K is a valid kernel:\n",
    "\n",
    "A necessary and sufficient condition for a function κ(⋅,⋅)κ(⋅,⋅) to be expressible as an inner product in some feature space F is a weak form of Mercer's condition.\n",
    "Since κ1(⋅,⋅)κ1(⋅,⋅) and κ2(⋅,⋅)κ2(⋅,⋅) are given to be kernel functions, their integrals both satisfy Mercer's condition. Finally, if a≥0, then the overall integral is guaranteed to satisfy it too."
   ]
  },
  {
   "cell_type": "code",
   "execution_count": 19,
   "metadata": {},
   "outputs": [
    {
     "name": "stdout",
     "output_type": "stream",
     "text": [
      "The validation accuracy for alpha =  0.0 is  0.244943820225\n",
      "The validation accuracy for alpha =  0.1 is  0.734831460674\n",
      "The validation accuracy for alpha =  0.2 is  0.824719101124\n",
      "The validation accuracy for alpha =  0.3 is  0.838202247191\n",
      "The validation accuracy for alpha =  0.4 is  0.842696629213\n",
      "The validation accuracy for alpha =  0.5 is  0.847191011236\n",
      "The validation accuracy for alpha =  0.6 is  0.851685393258\n",
      "The validation accuracy for alpha =  0.7 is  0.851685393258\n",
      "The validation accuracy for alpha =  0.8 is  0.858426966292\n",
      "The validation accuracy for alpha =  0.9 is  0.862921348315\n",
      "The validation accuracy for alpha =  1.0 is  0.860674157303\n",
      "\n",
      " The test accuracy for the best alpha =  0.9 is  0.813261163735\n"
     ]
    }
   ],
   "source": [
    "for i in arange(0, 1.1, 0.1):\n",
    "    train_K = (i * cosine_similarity(X_train_vec1)) + ((1-i)* laplacian_kernel(X_train_vec1))\n",
    "    valid_K = (i * cosine_similarity(X_valid_vec, X_train_vec1)) + ((1-i)* laplacian_kernel(X_valid_vec, X_train_vec1))\n",
    "    \n",
    "    clf = SVC(kernel='precomputed')\n",
    "    clf.fit(train_K, y_train1)\n",
    "    y_pred = clf.predict(valid_K)\n",
    "    accuracy = accuracy_score(y_pred, y_valid)\n",
    "    print('The validation accuracy for alpha = ', i, 'is ', accuracy)\n",
    "    if (accuracy > best_acc):\n",
    "        best_alpha = i\n",
    "        best_acc = accuracy\n",
    "        \n",
    "train_K = (best_alpha * cosine_similarity(X_train_vec)) + ((1-best_alpha)* laplacian_kernel(X_train_vec))\n",
    "valid_K = (best_alpha * cosine_similarity(X_test_vec, X_train_vec)) + ((1-best_alpha)* laplacian_kernel(X_test_vec, X_train_vec))\n",
    "clf = SVC(kernel='precomputed')\n",
    "clf.fit(train_K, y_train)\n",
    "y_pred = clf.predict(valid_K)\n",
    "accuracy = accuracy_score(y_pred, y_test)\n",
    "print('\\n The test accuracy for the best alpha = ', best_alpha, 'is ', accuracy)       "
   ]
  },
  {
   "cell_type": "code",
   "execution_count": null,
   "metadata": {
    "collapsed": true
   },
   "outputs": [],
   "source": []
  }
 ],
 "metadata": {
  "anaconda-cloud": {},
  "kernelspec": {
   "display_name": "Python [conda env:py36]",
   "language": "python",
   "name": "conda-env-py36-py"
  },
  "language_info": {
   "codemirror_mode": {
    "name": "ipython",
    "version": 3
   },
   "file_extension": ".py",
   "mimetype": "text/x-python",
   "name": "python",
   "nbconvert_exporter": "python",
   "pygments_lexer": "ipython3",
   "version": "3.6.0"
  }
 },
 "nbformat": 4,
 "nbformat_minor": 1
}
