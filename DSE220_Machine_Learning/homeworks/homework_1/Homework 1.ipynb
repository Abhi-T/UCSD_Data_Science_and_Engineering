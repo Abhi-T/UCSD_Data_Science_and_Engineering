{
 "cells": [
  {
   "cell_type": "markdown",
   "metadata": {},
   "source": [
    "# Homework 1\n",
    "## DSE 220: Machine Learning\n",
    "## Due Date: 13 April 2017\n",
    "## Orysya Stus"
   ]
  },
  {
   "cell_type": "code",
   "execution_count": 1,
   "metadata": {},
   "outputs": [
    {
     "name": "stdout",
     "output_type": "stream",
     "text": [
      "Populating the interactive namespace from numpy and matplotlib\n"
     ]
    }
   ],
   "source": [
    "import pandas as pd\n",
    "import numpy as np\n",
    "from sklearn.tree import DecisionTreeClassifier, export_graphviz\n",
    "import pydotplus\n",
    "from sklearn.model_selection import train_test_split\n",
    "from sklearn.neighbors import KNeighborsClassifier\n",
    "from sklearn import preprocessing\n",
    "%pylab inline"
   ]
  },
  {
   "cell_type": "markdown",
   "metadata": {},
   "source": [
    "## 2. Data\n",
    "Download the 'wine_modified' and 'wine' (train, validation, and test) data from github. Use the 'wine_modified' data for the data preprocessing section and the wine train, validation, and test data for the other two sections."
   ]
  },
  {
   "cell_type": "code",
   "execution_count": 2,
   "metadata": {},
   "outputs": [
    {
     "name": "stdout",
     "output_type": "stream",
     "text": [
      "C:\\Users\\Orysya\\Desktop\\DSE-220\\homeworks\\homework_1\n"
     ]
    }
   ],
   "source": [
    "!pwd"
   ]
  },
  {
   "cell_type": "code",
   "execution_count": 3,
   "metadata": {},
   "outputs": [
    {
     "name": "stdout",
     "output_type": "stream",
     "text": [
      "The shape of wine is (178, 14)\n"
     ]
    },
    {
     "data": {
      "text/html": [
       "<div>\n",
       "<table border=\"1\" class=\"dataframe\">\n",
       "  <thead>\n",
       "    <tr style=\"text-align: right;\">\n",
       "      <th></th>\n",
       "      <th>class</th>\n",
       "      <th>Alcohol</th>\n",
       "      <th>Malic acid</th>\n",
       "      <th>Ash</th>\n",
       "      <th>Alcalinity of ash</th>\n",
       "      <th>Magnesium</th>\n",
       "      <th>Total phenols</th>\n",
       "      <th>Flavanoids</th>\n",
       "      <th>Nonflavanoid phenols</th>\n",
       "      <th>Proanthocyanins</th>\n",
       "      <th>Color intensity</th>\n",
       "      <th>Hue</th>\n",
       "      <th>OD280/OD315</th>\n",
       "      <th>Proline</th>\n",
       "    </tr>\n",
       "  </thead>\n",
       "  <tbody>\n",
       "    <tr>\n",
       "      <th>0</th>\n",
       "      <td>1.0</td>\n",
       "      <td>14.23</td>\n",
       "      <td>1.71</td>\n",
       "      <td>2.43</td>\n",
       "      <td>15.6</td>\n",
       "      <td>127.0</td>\n",
       "      <td>2.80</td>\n",
       "      <td>3.06</td>\n",
       "      <td>0.28</td>\n",
       "      <td>2.29</td>\n",
       "      <td>5.64</td>\n",
       "      <td>1.04</td>\n",
       "      <td>3.92</td>\n",
       "      <td>1065.0</td>\n",
       "    </tr>\n",
       "    <tr>\n",
       "      <th>1</th>\n",
       "      <td>1.0</td>\n",
       "      <td>13.20</td>\n",
       "      <td>1.78</td>\n",
       "      <td>NaN</td>\n",
       "      <td>11.2</td>\n",
       "      <td>100.0</td>\n",
       "      <td>2.65</td>\n",
       "      <td>2.76</td>\n",
       "      <td>0.26</td>\n",
       "      <td>1.28</td>\n",
       "      <td>4.38</td>\n",
       "      <td>1.05</td>\n",
       "      <td>3.40</td>\n",
       "      <td>1050.0</td>\n",
       "    </tr>\n",
       "    <tr>\n",
       "      <th>2</th>\n",
       "      <td>1.0</td>\n",
       "      <td>13.16</td>\n",
       "      <td>2.36</td>\n",
       "      <td>NaN</td>\n",
       "      <td>18.6</td>\n",
       "      <td>101.0</td>\n",
       "      <td>2.80</td>\n",
       "      <td>3.24</td>\n",
       "      <td>0.30</td>\n",
       "      <td>2.81</td>\n",
       "      <td>5.68</td>\n",
       "      <td>1.03</td>\n",
       "      <td>3.17</td>\n",
       "      <td>1185.0</td>\n",
       "    </tr>\n",
       "    <tr>\n",
       "      <th>3</th>\n",
       "      <td>1.0</td>\n",
       "      <td>14.37</td>\n",
       "      <td>NaN</td>\n",
       "      <td>2.50</td>\n",
       "      <td>NaN</td>\n",
       "      <td>NaN</td>\n",
       "      <td>3.85</td>\n",
       "      <td>NaN</td>\n",
       "      <td>NaN</td>\n",
       "      <td>NaN</td>\n",
       "      <td>7.80</td>\n",
       "      <td>NaN</td>\n",
       "      <td>NaN</td>\n",
       "      <td>NaN</td>\n",
       "    </tr>\n",
       "    <tr>\n",
       "      <th>4</th>\n",
       "      <td>1.0</td>\n",
       "      <td>13.24</td>\n",
       "      <td>2.59</td>\n",
       "      <td>NaN</td>\n",
       "      <td>21.0</td>\n",
       "      <td>118.0</td>\n",
       "      <td>2.80</td>\n",
       "      <td>2.69</td>\n",
       "      <td>0.39</td>\n",
       "      <td>1.82</td>\n",
       "      <td>4.32</td>\n",
       "      <td>1.04</td>\n",
       "      <td>2.93</td>\n",
       "      <td>735.0</td>\n",
       "    </tr>\n",
       "  </tbody>\n",
       "</table>\n",
       "</div>"
      ],
      "text/plain": [
       "   class  Alcohol  Malic acid   Ash  Alcalinity of ash  Magnesium  \\\n",
       "0    1.0    14.23        1.71  2.43               15.6      127.0   \n",
       "1    1.0    13.20        1.78   NaN               11.2      100.0   \n",
       "2    1.0    13.16        2.36   NaN               18.6      101.0   \n",
       "3    1.0    14.37         NaN  2.50                NaN        NaN   \n",
       "4    1.0    13.24        2.59   NaN               21.0      118.0   \n",
       "\n",
       "   Total phenols  Flavanoids  Nonflavanoid phenols  Proanthocyanins  \\\n",
       "0           2.80        3.06                  0.28             2.29   \n",
       "1           2.65        2.76                  0.26             1.28   \n",
       "2           2.80        3.24                  0.30             2.81   \n",
       "3           3.85         NaN                   NaN              NaN   \n",
       "4           2.80        2.69                  0.39             1.82   \n",
       "\n",
       "   Color intensity   Hue  OD280/OD315  Proline  \n",
       "0             5.64  1.04         3.92   1065.0  \n",
       "1             4.38  1.05         3.40   1050.0  \n",
       "2             5.68  1.03         3.17   1185.0  \n",
       "3             7.80   NaN          NaN      NaN  \n",
       "4             4.32  1.04         2.93    735.0  "
      ]
     },
     "execution_count": 3,
     "metadata": {},
     "output_type": "execute_result"
    }
   ],
   "source": [
    "wine = pd.read_csv('./wine_modified.csv')\n",
    "print('The shape of wine is', wine.shape)\n",
    "wine.head()"
   ]
  },
  {
   "cell_type": "code",
   "execution_count": 4,
   "metadata": {},
   "outputs": [
    {
     "name": "stdout",
     "output_type": "stream",
     "text": [
      "The shape of X_train is (100, 13)\n",
      "The shape of y_train is (100, 1)\n",
      "The shape of X_valid is (39, 13)\n",
      "The shape of y_valid is (39, 1)\n",
      "The shape of X_test is (39, 13)\n",
      "The shape of y_test is (39, 1)\n"
     ]
    }
   ],
   "source": [
    "X_train = pd.read_csv('./wine_train_data.csv')\n",
    "y_train = pd.read_csv('./wine_train_labels.csv')\n",
    "X_valid = pd.read_csv('./wine_val_data.csv')\n",
    "y_valid = pd.read_csv('./wine_val_labels.csv')\n",
    "X_test = pd.read_csv('./wine_test_data.csv')\n",
    "y_test = pd.read_csv('./wine_test_labels.csv')\n",
    "print('The shape of X_train is', X_train.shape)\n",
    "print('The shape of y_train is', y_train.shape)\n",
    "print('The shape of X_valid is', X_valid.shape)\n",
    "print('The shape of y_valid is', y_valid.shape)\n",
    "print('The shape of X_test is', X_test.shape)\n",
    "print('The shape of y_test is', y_test.shape)"
   ]
  },
  {
   "cell_type": "code",
   "execution_count": 5,
   "metadata": {},
   "outputs": [
    {
     "data": {
      "text/html": [
       "<div>\n",
       "<table border=\"1\" class=\"dataframe\">\n",
       "  <thead>\n",
       "    <tr style=\"text-align: right;\">\n",
       "      <th></th>\n",
       "      <th>Alcohol</th>\n",
       "      <th>Malic acid</th>\n",
       "      <th>Ash</th>\n",
       "      <th>Alcalinity of ash</th>\n",
       "      <th>Magnesium</th>\n",
       "      <th>Total phenols</th>\n",
       "      <th>Flavanoids</th>\n",
       "      <th>Nonflavanoid phenols</th>\n",
       "      <th>Proanthocyanins</th>\n",
       "      <th>Color intensity</th>\n",
       "      <th>Hue</th>\n",
       "      <th>OD280/OD315</th>\n",
       "      <th>Proline</th>\n",
       "    </tr>\n",
       "  </thead>\n",
       "  <tbody>\n",
       "    <tr>\n",
       "      <th>0</th>\n",
       "      <td>12.53</td>\n",
       "      <td>5.51</td>\n",
       "      <td>2.64</td>\n",
       "      <td>25.0</td>\n",
       "      <td>96</td>\n",
       "      <td>1.79</td>\n",
       "      <td>0.60</td>\n",
       "      <td>0.63</td>\n",
       "      <td>1.10</td>\n",
       "      <td>5.00</td>\n",
       "      <td>0.82</td>\n",
       "      <td>1.69</td>\n",
       "      <td>515</td>\n",
       "    </tr>\n",
       "    <tr>\n",
       "      <th>1</th>\n",
       "      <td>13.49</td>\n",
       "      <td>1.66</td>\n",
       "      <td>2.24</td>\n",
       "      <td>24.0</td>\n",
       "      <td>87</td>\n",
       "      <td>1.88</td>\n",
       "      <td>1.84</td>\n",
       "      <td>0.27</td>\n",
       "      <td>1.03</td>\n",
       "      <td>3.74</td>\n",
       "      <td>0.98</td>\n",
       "      <td>2.78</td>\n",
       "      <td>472</td>\n",
       "    </tr>\n",
       "    <tr>\n",
       "      <th>2</th>\n",
       "      <td>13.75</td>\n",
       "      <td>1.73</td>\n",
       "      <td>2.41</td>\n",
       "      <td>16.0</td>\n",
       "      <td>89</td>\n",
       "      <td>2.60</td>\n",
       "      <td>2.76</td>\n",
       "      <td>0.29</td>\n",
       "      <td>1.81</td>\n",
       "      <td>5.60</td>\n",
       "      <td>1.15</td>\n",
       "      <td>2.90</td>\n",
       "      <td>1320</td>\n",
       "    </tr>\n",
       "    <tr>\n",
       "      <th>3</th>\n",
       "      <td>12.29</td>\n",
       "      <td>2.83</td>\n",
       "      <td>2.22</td>\n",
       "      <td>18.0</td>\n",
       "      <td>88</td>\n",
       "      <td>2.45</td>\n",
       "      <td>2.25</td>\n",
       "      <td>0.25</td>\n",
       "      <td>1.99</td>\n",
       "      <td>2.15</td>\n",
       "      <td>1.15</td>\n",
       "      <td>3.30</td>\n",
       "      <td>290</td>\n",
       "    </tr>\n",
       "    <tr>\n",
       "      <th>4</th>\n",
       "      <td>14.10</td>\n",
       "      <td>2.16</td>\n",
       "      <td>2.30</td>\n",
       "      <td>18.0</td>\n",
       "      <td>105</td>\n",
       "      <td>2.95</td>\n",
       "      <td>3.32</td>\n",
       "      <td>0.22</td>\n",
       "      <td>2.38</td>\n",
       "      <td>5.75</td>\n",
       "      <td>1.25</td>\n",
       "      <td>3.17</td>\n",
       "      <td>1510</td>\n",
       "    </tr>\n",
       "  </tbody>\n",
       "</table>\n",
       "</div>"
      ],
      "text/plain": [
       "   Alcohol  Malic acid   Ash  Alcalinity of ash  Magnesium  Total phenols  \\\n",
       "0    12.53        5.51  2.64               25.0         96           1.79   \n",
       "1    13.49        1.66  2.24               24.0         87           1.88   \n",
       "2    13.75        1.73  2.41               16.0         89           2.60   \n",
       "3    12.29        2.83  2.22               18.0         88           2.45   \n",
       "4    14.10        2.16  2.30               18.0        105           2.95   \n",
       "\n",
       "   Flavanoids  Nonflavanoid phenols  Proanthocyanins  Color intensity   Hue  \\\n",
       "0        0.60                  0.63             1.10             5.00  0.82   \n",
       "1        1.84                  0.27             1.03             3.74  0.98   \n",
       "2        2.76                  0.29             1.81             5.60  1.15   \n",
       "3        2.25                  0.25             1.99             2.15  1.15   \n",
       "4        3.32                  0.22             2.38             5.75  1.25   \n",
       "\n",
       "   OD280/OD315  Proline  \n",
       "0         1.69      515  \n",
       "1         2.78      472  \n",
       "2         2.90     1320  \n",
       "3         3.30      290  \n",
       "4         3.17     1510  "
      ]
     },
     "execution_count": 5,
     "metadata": {},
     "output_type": "execute_result"
    }
   ],
   "source": [
    "X_train.head()"
   ]
  },
  {
   "cell_type": "code",
   "execution_count": 6,
   "metadata": {},
   "outputs": [
    {
     "data": {
      "text/html": [
       "<div>\n",
       "<table border=\"1\" class=\"dataframe\">\n",
       "  <thead>\n",
       "    <tr style=\"text-align: right;\">\n",
       "      <th></th>\n",
       "      <th>class</th>\n",
       "    </tr>\n",
       "  </thead>\n",
       "  <tbody>\n",
       "    <tr>\n",
       "      <th>0</th>\n",
       "      <td>3</td>\n",
       "    </tr>\n",
       "    <tr>\n",
       "      <th>1</th>\n",
       "      <td>2</td>\n",
       "    </tr>\n",
       "    <tr>\n",
       "      <th>2</th>\n",
       "      <td>1</td>\n",
       "    </tr>\n",
       "    <tr>\n",
       "      <th>3</th>\n",
       "      <td>2</td>\n",
       "    </tr>\n",
       "    <tr>\n",
       "      <th>4</th>\n",
       "      <td>1</td>\n",
       "    </tr>\n",
       "  </tbody>\n",
       "</table>\n",
       "</div>"
      ],
      "text/plain": [
       "   class\n",
       "0      3\n",
       "1      2\n",
       "2      1\n",
       "3      2\n",
       "4      1"
      ]
     },
     "execution_count": 6,
     "metadata": {},
     "output_type": "execute_result"
    }
   ],
   "source": [
    "y_train.head()"
   ]
  },
  {
   "cell_type": "markdown",
   "metadata": {},
   "source": [
    "## 3. Data Preprocessing\n",
    "The questions in this section are sequential steps. So use the data obtained after Question 1 for Question 2 and so on."
   ]
  },
  {
   "cell_type": "markdown",
   "metadata": {},
   "source": [
    "### Question 1: \n",
    "Remove the rows with missing labels('class') and rows with more than 7 missing features. Report the remaining number of rows."
   ]
  },
  {
   "cell_type": "code",
   "execution_count": 7,
   "metadata": {},
   "outputs": [
    {
     "name": "stdout",
     "output_type": "stream",
     "text": [
      "Prior to preprocessing, there are 178 rows in the dataframe.\n",
      "After dropping missing labels, there are 168 rows in the dataframe.\n",
      "After dropping rows with more than 7 missing features (>7 missing features), there are 154 rows in the dataframe and 14 columns in the dataframe.\n"
     ]
    },
    {
     "data": {
      "text/html": [
       "<div>\n",
       "<table border=\"1\" class=\"dataframe\">\n",
       "  <thead>\n",
       "    <tr style=\"text-align: right;\">\n",
       "      <th></th>\n",
       "      <th>class</th>\n",
       "      <th>Alcohol</th>\n",
       "      <th>Malic acid</th>\n",
       "      <th>Ash</th>\n",
       "      <th>Alcalinity of ash</th>\n",
       "      <th>Magnesium</th>\n",
       "      <th>Total phenols</th>\n",
       "      <th>Flavanoids</th>\n",
       "      <th>Nonflavanoid phenols</th>\n",
       "      <th>Proanthocyanins</th>\n",
       "      <th>Color intensity</th>\n",
       "      <th>Hue</th>\n",
       "      <th>OD280/OD315</th>\n",
       "      <th>Proline</th>\n",
       "    </tr>\n",
       "  </thead>\n",
       "  <tbody>\n",
       "    <tr>\n",
       "      <th>0</th>\n",
       "      <td>1.0</td>\n",
       "      <td>14.23</td>\n",
       "      <td>1.71</td>\n",
       "      <td>2.43</td>\n",
       "      <td>15.6</td>\n",
       "      <td>127.0</td>\n",
       "      <td>2.80</td>\n",
       "      <td>3.06</td>\n",
       "      <td>0.28</td>\n",
       "      <td>2.29</td>\n",
       "      <td>5.64</td>\n",
       "      <td>1.04</td>\n",
       "      <td>3.92</td>\n",
       "      <td>1065.0</td>\n",
       "    </tr>\n",
       "    <tr>\n",
       "      <th>1</th>\n",
       "      <td>1.0</td>\n",
       "      <td>13.20</td>\n",
       "      <td>1.78</td>\n",
       "      <td>NaN</td>\n",
       "      <td>11.2</td>\n",
       "      <td>100.0</td>\n",
       "      <td>2.65</td>\n",
       "      <td>2.76</td>\n",
       "      <td>0.26</td>\n",
       "      <td>1.28</td>\n",
       "      <td>4.38</td>\n",
       "      <td>1.05</td>\n",
       "      <td>3.40</td>\n",
       "      <td>1050.0</td>\n",
       "    </tr>\n",
       "    <tr>\n",
       "      <th>2</th>\n",
       "      <td>1.0</td>\n",
       "      <td>13.16</td>\n",
       "      <td>2.36</td>\n",
       "      <td>NaN</td>\n",
       "      <td>18.6</td>\n",
       "      <td>101.0</td>\n",
       "      <td>2.80</td>\n",
       "      <td>3.24</td>\n",
       "      <td>0.30</td>\n",
       "      <td>2.81</td>\n",
       "      <td>5.68</td>\n",
       "      <td>1.03</td>\n",
       "      <td>3.17</td>\n",
       "      <td>1185.0</td>\n",
       "    </tr>\n",
       "    <tr>\n",
       "      <th>4</th>\n",
       "      <td>1.0</td>\n",
       "      <td>13.24</td>\n",
       "      <td>2.59</td>\n",
       "      <td>NaN</td>\n",
       "      <td>21.0</td>\n",
       "      <td>118.0</td>\n",
       "      <td>2.80</td>\n",
       "      <td>2.69</td>\n",
       "      <td>0.39</td>\n",
       "      <td>1.82</td>\n",
       "      <td>4.32</td>\n",
       "      <td>1.04</td>\n",
       "      <td>2.93</td>\n",
       "      <td>735.0</td>\n",
       "    </tr>\n",
       "    <tr>\n",
       "      <th>5</th>\n",
       "      <td>1.0</td>\n",
       "      <td>14.20</td>\n",
       "      <td>1.76</td>\n",
       "      <td>NaN</td>\n",
       "      <td>15.2</td>\n",
       "      <td>112.0</td>\n",
       "      <td>3.27</td>\n",
       "      <td>NaN</td>\n",
       "      <td>0.34</td>\n",
       "      <td>1.97</td>\n",
       "      <td>6.75</td>\n",
       "      <td>1.05</td>\n",
       "      <td>2.85</td>\n",
       "      <td>1450.0</td>\n",
       "    </tr>\n",
       "  </tbody>\n",
       "</table>\n",
       "</div>"
      ],
      "text/plain": [
       "   class  Alcohol  Malic acid   Ash  Alcalinity of ash  Magnesium  \\\n",
       "0    1.0    14.23        1.71  2.43               15.6      127.0   \n",
       "1    1.0    13.20        1.78   NaN               11.2      100.0   \n",
       "2    1.0    13.16        2.36   NaN               18.6      101.0   \n",
       "4    1.0    13.24        2.59   NaN               21.0      118.0   \n",
       "5    1.0    14.20        1.76   NaN               15.2      112.0   \n",
       "\n",
       "   Total phenols  Flavanoids  Nonflavanoid phenols  Proanthocyanins  \\\n",
       "0           2.80        3.06                  0.28             2.29   \n",
       "1           2.65        2.76                  0.26             1.28   \n",
       "2           2.80        3.24                  0.30             2.81   \n",
       "4           2.80        2.69                  0.39             1.82   \n",
       "5           3.27         NaN                  0.34             1.97   \n",
       "\n",
       "   Color intensity   Hue  OD280/OD315  Proline  \n",
       "0             5.64  1.04         3.92   1065.0  \n",
       "1             4.38  1.05         3.40   1050.0  \n",
       "2             5.68  1.03         3.17   1185.0  \n",
       "4             4.32  1.04         2.93    735.0  \n",
       "5             6.75  1.05         2.85   1450.0  "
      ]
     },
     "execution_count": 7,
     "metadata": {},
     "output_type": "execute_result"
    }
   ],
   "source": [
    "print('Prior to preprocessing, there are', wine.shape[0], 'rows in the dataframe.')\n",
    "wine = wine[np.isfinite(wine['class'])]\n",
    "print('After dropping missing labels, there are', wine.shape[0], 'rows in the dataframe.')\n",
    "wine = wine.dropna(thresh=8)\n",
    "print('After dropping rows with more than 7 missing features (>7 missing features), there are', wine.shape[0], 'rows in the dataframe and', wine.shape[1], 'columns in the dataframe.')\n",
    "wine.head()"
   ]
  },
  {
   "cell_type": "markdown",
   "metadata": {},
   "source": [
    "### Question 2: \n",
    "Remove features > 50% of missing values. For other features with missing values fill them with the mean of the corresponding features. Report the removed features (if any) and standard deviation of features with missing values after filling."
   ]
  },
  {
   "cell_type": "code",
   "execution_count": 8,
   "metadata": {},
   "outputs": [
    {
     "name": "stdout",
     "output_type": "stream",
     "text": [
      "After removing features >50% of missing values, there are 154 rows in the dataframe and 13 columns in the dataframe. The column/feature ['Ash'] was dropped.\n"
     ]
    },
    {
     "data": {
      "text/html": [
       "<div>\n",
       "<table border=\"1\" class=\"dataframe\">\n",
       "  <thead>\n",
       "    <tr style=\"text-align: right;\">\n",
       "      <th></th>\n",
       "      <th>class</th>\n",
       "      <th>Alcohol</th>\n",
       "      <th>Malic acid</th>\n",
       "      <th>Alcalinity of ash</th>\n",
       "      <th>Magnesium</th>\n",
       "      <th>Total phenols</th>\n",
       "      <th>Flavanoids</th>\n",
       "      <th>Nonflavanoid phenols</th>\n",
       "      <th>Proanthocyanins</th>\n",
       "      <th>Color intensity</th>\n",
       "      <th>Hue</th>\n",
       "      <th>OD280/OD315</th>\n",
       "      <th>Proline</th>\n",
       "    </tr>\n",
       "  </thead>\n",
       "  <tbody>\n",
       "    <tr>\n",
       "      <th>0</th>\n",
       "      <td>1.0</td>\n",
       "      <td>14.23</td>\n",
       "      <td>1.71</td>\n",
       "      <td>15.6</td>\n",
       "      <td>127.0</td>\n",
       "      <td>2.80</td>\n",
       "      <td>3.06</td>\n",
       "      <td>0.28</td>\n",
       "      <td>2.29</td>\n",
       "      <td>5.64</td>\n",
       "      <td>1.04</td>\n",
       "      <td>3.92</td>\n",
       "      <td>1065.0</td>\n",
       "    </tr>\n",
       "    <tr>\n",
       "      <th>1</th>\n",
       "      <td>1.0</td>\n",
       "      <td>13.20</td>\n",
       "      <td>1.78</td>\n",
       "      <td>11.2</td>\n",
       "      <td>100.0</td>\n",
       "      <td>2.65</td>\n",
       "      <td>2.76</td>\n",
       "      <td>0.26</td>\n",
       "      <td>1.28</td>\n",
       "      <td>4.38</td>\n",
       "      <td>1.05</td>\n",
       "      <td>3.40</td>\n",
       "      <td>1050.0</td>\n",
       "    </tr>\n",
       "    <tr>\n",
       "      <th>2</th>\n",
       "      <td>1.0</td>\n",
       "      <td>13.16</td>\n",
       "      <td>2.36</td>\n",
       "      <td>18.6</td>\n",
       "      <td>101.0</td>\n",
       "      <td>2.80</td>\n",
       "      <td>3.24</td>\n",
       "      <td>0.30</td>\n",
       "      <td>2.81</td>\n",
       "      <td>5.68</td>\n",
       "      <td>1.03</td>\n",
       "      <td>3.17</td>\n",
       "      <td>1185.0</td>\n",
       "    </tr>\n",
       "    <tr>\n",
       "      <th>4</th>\n",
       "      <td>1.0</td>\n",
       "      <td>13.24</td>\n",
       "      <td>2.59</td>\n",
       "      <td>21.0</td>\n",
       "      <td>118.0</td>\n",
       "      <td>2.80</td>\n",
       "      <td>2.69</td>\n",
       "      <td>0.39</td>\n",
       "      <td>1.82</td>\n",
       "      <td>4.32</td>\n",
       "      <td>1.04</td>\n",
       "      <td>2.93</td>\n",
       "      <td>735.0</td>\n",
       "    </tr>\n",
       "    <tr>\n",
       "      <th>5</th>\n",
       "      <td>1.0</td>\n",
       "      <td>14.20</td>\n",
       "      <td>1.76</td>\n",
       "      <td>15.2</td>\n",
       "      <td>112.0</td>\n",
       "      <td>3.27</td>\n",
       "      <td>NaN</td>\n",
       "      <td>0.34</td>\n",
       "      <td>1.97</td>\n",
       "      <td>6.75</td>\n",
       "      <td>1.05</td>\n",
       "      <td>2.85</td>\n",
       "      <td>1450.0</td>\n",
       "    </tr>\n",
       "  </tbody>\n",
       "</table>\n",
       "</div>"
      ],
      "text/plain": [
       "   class  Alcohol  Malic acid  Alcalinity of ash  Magnesium  Total phenols  \\\n",
       "0    1.0    14.23        1.71               15.6      127.0           2.80   \n",
       "1    1.0    13.20        1.78               11.2      100.0           2.65   \n",
       "2    1.0    13.16        2.36               18.6      101.0           2.80   \n",
       "4    1.0    13.24        2.59               21.0      118.0           2.80   \n",
       "5    1.0    14.20        1.76               15.2      112.0           3.27   \n",
       "\n",
       "   Flavanoids  Nonflavanoid phenols  Proanthocyanins  Color intensity   Hue  \\\n",
       "0        3.06                  0.28             2.29             5.64  1.04   \n",
       "1        2.76                  0.26             1.28             4.38  1.05   \n",
       "2        3.24                  0.30             2.81             5.68  1.03   \n",
       "4        2.69                  0.39             1.82             4.32  1.04   \n",
       "5         NaN                  0.34             1.97             6.75  1.05   \n",
       "\n",
       "   OD280/OD315  Proline  \n",
       "0         3.92   1065.0  \n",
       "1         3.40   1050.0  \n",
       "2         3.17   1185.0  \n",
       "4         2.93    735.0  \n",
       "5         2.85   1450.0  "
      ]
     },
     "execution_count": 8,
     "metadata": {},
     "output_type": "execute_result"
    }
   ],
   "source": [
    "wine1 = wine.loc[:, pd.notnull(wine).sum()>len(wine)*0.5]\n",
    "col_50drop = wine.columns[pd.notnull(wine).sum()<len(wine)*0.5].tolist()\n",
    "print('After removing features >50% of missing values, there are', wine1.shape[0], 'rows in the dataframe and', wine1.shape[1], 'columns in the dataframe. The column/feature', col_50drop, 'was dropped.')\n",
    "wine1.head()"
   ]
  },
  {
   "cell_type": "code",
   "execution_count": 9,
   "metadata": {},
   "outputs": [
    {
     "name": "stdout",
     "output_type": "stream",
     "text": [
      "Stds before filling nulls for the features with missing values\n",
      " Magnesium     14.884800\n",
      "Flavanoids     0.994727\n",
      "dtype: float64\n",
      "\n",
      "Stds after fillings nulls for the features with missing values\n",
      " Magnesium     14.440377\n",
      "Flavanoids     0.873573\n",
      "dtype: float64\n"
     ]
    }
   ],
   "source": [
    "cols_miss_vals = wine1.columns[pd.isnull(wine1).sum() > 0].tolist()\n",
    "print('Stds before filling nulls for the features with missing values\\n', wine1[cols_miss_vals].std())\n",
    "wine = wine1.fillna(wine1.mean())\n",
    "print('\\nStds after fillings nulls for the features with missing values\\n', wine[cols_miss_vals].std())"
   ]
  },
  {
   "cell_type": "code",
   "execution_count": 10,
   "metadata": {},
   "outputs": [
    {
     "data": {
      "text/html": [
       "<div>\n",
       "<table border=\"1\" class=\"dataframe\">\n",
       "  <thead>\n",
       "    <tr style=\"text-align: right;\">\n",
       "      <th></th>\n",
       "      <th>class</th>\n",
       "      <th>Alcohol</th>\n",
       "      <th>Malic acid</th>\n",
       "      <th>Alcalinity of ash</th>\n",
       "      <th>Magnesium</th>\n",
       "      <th>Total phenols</th>\n",
       "      <th>Flavanoids</th>\n",
       "      <th>Nonflavanoid phenols</th>\n",
       "      <th>Proanthocyanins</th>\n",
       "      <th>Color intensity</th>\n",
       "      <th>Hue</th>\n",
       "      <th>OD280/OD315</th>\n",
       "      <th>Proline</th>\n",
       "    </tr>\n",
       "  </thead>\n",
       "  <tbody>\n",
       "    <tr>\n",
       "      <th>count</th>\n",
       "      <td>154.000000</td>\n",
       "      <td>154.000000</td>\n",
       "      <td>154.000000</td>\n",
       "      <td>154.000000</td>\n",
       "      <td>154.000000</td>\n",
       "      <td>154.000000</td>\n",
       "      <td>154.000000</td>\n",
       "      <td>154.000000</td>\n",
       "      <td>154.000000</td>\n",
       "      <td>154.000000</td>\n",
       "      <td>154.000000</td>\n",
       "      <td>154.000000</td>\n",
       "      <td>154.000000</td>\n",
       "    </tr>\n",
       "    <tr>\n",
       "      <th>mean</th>\n",
       "      <td>1.974026</td>\n",
       "      <td>12.305935</td>\n",
       "      <td>2.350455</td>\n",
       "      <td>19.645455</td>\n",
       "      <td>99.496552</td>\n",
       "      <td>2.267403</td>\n",
       "      <td>1.937983</td>\n",
       "      <td>0.366753</td>\n",
       "      <td>1.582273</td>\n",
       "      <td>4.982338</td>\n",
       "      <td>0.954455</td>\n",
       "      <td>2.592013</td>\n",
       "      <td>727.006494</td>\n",
       "    </tr>\n",
       "    <tr>\n",
       "      <th>std</th>\n",
       "      <td>0.766522</td>\n",
       "      <td>3.804067</td>\n",
       "      <td>1.116005</td>\n",
       "      <td>3.456794</td>\n",
       "      <td>14.440377</td>\n",
       "      <td>0.617237</td>\n",
       "      <td>0.873573</td>\n",
       "      <td>0.127083</td>\n",
       "      <td>0.587671</td>\n",
       "      <td>2.325204</td>\n",
       "      <td>0.229412</td>\n",
       "      <td>0.723261</td>\n",
       "      <td>303.033368</td>\n",
       "    </tr>\n",
       "    <tr>\n",
       "      <th>min</th>\n",
       "      <td>1.000000</td>\n",
       "      <td>-8.328000</td>\n",
       "      <td>0.740000</td>\n",
       "      <td>10.600000</td>\n",
       "      <td>70.000000</td>\n",
       "      <td>0.980000</td>\n",
       "      <td>0.340000</td>\n",
       "      <td>0.140000</td>\n",
       "      <td>0.410000</td>\n",
       "      <td>1.740000</td>\n",
       "      <td>0.480000</td>\n",
       "      <td>1.270000</td>\n",
       "      <td>278.000000</td>\n",
       "    </tr>\n",
       "    <tr>\n",
       "      <th>25%</th>\n",
       "      <td>1.000000</td>\n",
       "      <td>12.290000</td>\n",
       "      <td>1.602500</td>\n",
       "      <td>17.500000</td>\n",
       "      <td>88.000000</td>\n",
       "      <td>1.705000</td>\n",
       "      <td>1.312500</td>\n",
       "      <td>0.270000</td>\n",
       "      <td>1.250000</td>\n",
       "      <td>3.057500</td>\n",
       "      <td>0.772500</td>\n",
       "      <td>1.922500</td>\n",
       "      <td>495.000000</td>\n",
       "    </tr>\n",
       "    <tr>\n",
       "      <th>50%</th>\n",
       "      <td>2.000000</td>\n",
       "      <td>12.960000</td>\n",
       "      <td>1.875000</td>\n",
       "      <td>19.550000</td>\n",
       "      <td>98.000000</td>\n",
       "      <td>2.265000</td>\n",
       "      <td>1.937983</td>\n",
       "      <td>0.340000</td>\n",
       "      <td>1.505000</td>\n",
       "      <td>4.600000</td>\n",
       "      <td>0.965000</td>\n",
       "      <td>2.770000</td>\n",
       "      <td>660.000000</td>\n",
       "    </tr>\n",
       "    <tr>\n",
       "      <th>75%</th>\n",
       "      <td>3.000000</td>\n",
       "      <td>13.635000</td>\n",
       "      <td>3.115000</td>\n",
       "      <td>21.900000</td>\n",
       "      <td>106.000000</td>\n",
       "      <td>2.740000</td>\n",
       "      <td>2.527500</td>\n",
       "      <td>0.465000</td>\n",
       "      <td>1.915000</td>\n",
       "      <td>6.075000</td>\n",
       "      <td>1.117500</td>\n",
       "      <td>3.170000</td>\n",
       "      <td>918.750000</td>\n",
       "    </tr>\n",
       "    <tr>\n",
       "      <th>max</th>\n",
       "      <td>3.000000</td>\n",
       "      <td>14.830000</td>\n",
       "      <td>5.800000</td>\n",
       "      <td>30.000000</td>\n",
       "      <td>162.000000</td>\n",
       "      <td>3.880000</td>\n",
       "      <td>5.080000</td>\n",
       "      <td>0.660000</td>\n",
       "      <td>3.580000</td>\n",
       "      <td>13.000000</td>\n",
       "      <td>1.710000</td>\n",
       "      <td>4.000000</td>\n",
       "      <td>1680.000000</td>\n",
       "    </tr>\n",
       "  </tbody>\n",
       "</table>\n",
       "</div>"
      ],
      "text/plain": [
       "            class     Alcohol  Malic acid  Alcalinity of ash   Magnesium  \\\n",
       "count  154.000000  154.000000  154.000000         154.000000  154.000000   \n",
       "mean     1.974026   12.305935    2.350455          19.645455   99.496552   \n",
       "std      0.766522    3.804067    1.116005           3.456794   14.440377   \n",
       "min      1.000000   -8.328000    0.740000          10.600000   70.000000   \n",
       "25%      1.000000   12.290000    1.602500          17.500000   88.000000   \n",
       "50%      2.000000   12.960000    1.875000          19.550000   98.000000   \n",
       "75%      3.000000   13.635000    3.115000          21.900000  106.000000   \n",
       "max      3.000000   14.830000    5.800000          30.000000  162.000000   \n",
       "\n",
       "       Total phenols  Flavanoids  Nonflavanoid phenols  Proanthocyanins  \\\n",
       "count     154.000000  154.000000            154.000000       154.000000   \n",
       "mean        2.267403    1.937983              0.366753         1.582273   \n",
       "std         0.617237    0.873573              0.127083         0.587671   \n",
       "min         0.980000    0.340000              0.140000         0.410000   \n",
       "25%         1.705000    1.312500              0.270000         1.250000   \n",
       "50%         2.265000    1.937983              0.340000         1.505000   \n",
       "75%         2.740000    2.527500              0.465000         1.915000   \n",
       "max         3.880000    5.080000              0.660000         3.580000   \n",
       "\n",
       "       Color intensity         Hue  OD280/OD315      Proline  \n",
       "count       154.000000  154.000000   154.000000   154.000000  \n",
       "mean          4.982338    0.954455     2.592013   727.006494  \n",
       "std           2.325204    0.229412     0.723261   303.033368  \n",
       "min           1.740000    0.480000     1.270000   278.000000  \n",
       "25%           3.057500    0.772500     1.922500   495.000000  \n",
       "50%           4.600000    0.965000     2.770000   660.000000  \n",
       "75%           6.075000    1.117500     3.170000   918.750000  \n",
       "max          13.000000    1.710000     4.000000  1680.000000  "
      ]
     },
     "execution_count": 10,
     "metadata": {},
     "output_type": "execute_result"
    }
   ],
   "source": [
    "wine.describe()"
   ]
  },
  {
   "cell_type": "markdown",
   "metadata": {},
   "source": [
    "### Question 3: \n",
    "Detect and remove rows with any outliers/incorrect values in features 'alcohol' and 'proline' (if any). Clearly state the basis of your removal.\n",
    "\n",
    "### Distributions prior to outlier removal"
   ]
  },
  {
   "cell_type": "code",
   "execution_count": 11,
   "metadata": {
    "scrolled": true
   },
   "outputs": [
    {
     "data": {
      "text/plain": [
       "<matplotlib.text.Text at 0x17b32f547b8>"
      ]
     },
     "execution_count": 11,
     "metadata": {},
     "output_type": "execute_result"
    },
    {
     "data": {
      "image/png": "[encoded data removed]",
      "text/plain": [
       "<matplotlib.figure.Figure at 0x17b32b86d30>"
      ]
     },
     "metadata": {},
     "output_type": "display_data"
    }
   ],
   "source": [
    "wine['Alcohol'].hist()\n",
    "plt.title('Prior to dropping outliers - Distribution of wine feature - alcohol')"
   ]
  },
  {
   "cell_type": "code",
   "execution_count": 12,
   "metadata": {},
   "outputs": [
    {
     "name": "stdout",
     "output_type": "stream",
     "text": [
      "There are 5 alcohol related outliers.\n"
     ]
    },
    {
     "data": {
      "text/html": [
       "<div>\n",
       "<table border=\"1\" class=\"dataframe\">\n",
       "  <thead>\n",
       "    <tr style=\"text-align: right;\">\n",
       "      <th></th>\n",
       "      <th>class</th>\n",
       "      <th>Alcohol</th>\n",
       "      <th>Malic acid</th>\n",
       "      <th>Alcalinity of ash</th>\n",
       "      <th>Magnesium</th>\n",
       "      <th>Total phenols</th>\n",
       "      <th>Flavanoids</th>\n",
       "      <th>Nonflavanoid phenols</th>\n",
       "      <th>Proanthocyanins</th>\n",
       "      <th>Color intensity</th>\n",
       "      <th>Hue</th>\n",
       "      <th>OD280/OD315</th>\n",
       "      <th>Proline</th>\n",
       "    </tr>\n",
       "  </thead>\n",
       "  <tbody>\n",
       "    <tr>\n",
       "      <th>22</th>\n",
       "      <td>1.0</td>\n",
       "      <td>-8.226</td>\n",
       "      <td>1.86</td>\n",
       "      <td>16.6</td>\n",
       "      <td>101.000000</td>\n",
       "      <td>2.61</td>\n",
       "      <td>2.88</td>\n",
       "      <td>0.27</td>\n",
       "      <td>1.69</td>\n",
       "      <td>3.80</td>\n",
       "      <td>1.11</td>\n",
       "      <td>4.00</td>\n",
       "      <td>1035.0</td>\n",
       "    </tr>\n",
       "    <tr>\n",
       "      <th>42</th>\n",
       "      <td>1.0</td>\n",
       "      <td>-8.328</td>\n",
       "      <td>1.89</td>\n",
       "      <td>15.0</td>\n",
       "      <td>99.496552</td>\n",
       "      <td>3.25</td>\n",
       "      <td>3.56</td>\n",
       "      <td>0.17</td>\n",
       "      <td>1.70</td>\n",
       "      <td>5.43</td>\n",
       "      <td>0.88</td>\n",
       "      <td>3.56</td>\n",
       "      <td>1095.0</td>\n",
       "    </tr>\n",
       "    <tr>\n",
       "      <th>61</th>\n",
       "      <td>2.0</td>\n",
       "      <td>-7.584</td>\n",
       "      <td>1.36</td>\n",
       "      <td>16.8</td>\n",
       "      <td>100.000000</td>\n",
       "      <td>2.02</td>\n",
       "      <td>1.41</td>\n",
       "      <td>0.53</td>\n",
       "      <td>0.62</td>\n",
       "      <td>5.75</td>\n",
       "      <td>0.98</td>\n",
       "      <td>1.59</td>\n",
       "      <td>450.0</td>\n",
       "    </tr>\n",
       "    <tr>\n",
       "      <th>118</th>\n",
       "      <td>2.0</td>\n",
       "      <td>-7.662</td>\n",
       "      <td>3.43</td>\n",
       "      <td>16.0</td>\n",
       "      <td>80.000000</td>\n",
       "      <td>1.63</td>\n",
       "      <td>1.25</td>\n",
       "      <td>0.43</td>\n",
       "      <td>0.83</td>\n",
       "      <td>3.40</td>\n",
       "      <td>0.70</td>\n",
       "      <td>2.12</td>\n",
       "      <td>372.0</td>\n",
       "    </tr>\n",
       "    <tr>\n",
       "      <th>163</th>\n",
       "      <td>3.0</td>\n",
       "      <td>-7.776</td>\n",
       "      <td>3.45</td>\n",
       "      <td>18.5</td>\n",
       "      <td>106.000000</td>\n",
       "      <td>1.39</td>\n",
       "      <td>0.70</td>\n",
       "      <td>0.40</td>\n",
       "      <td>0.94</td>\n",
       "      <td>5.28</td>\n",
       "      <td>0.68</td>\n",
       "      <td>1.75</td>\n",
       "      <td>675.0</td>\n",
       "    </tr>\n",
       "  </tbody>\n",
       "</table>\n",
       "</div>"
      ],
      "text/plain": [
       "     class  Alcohol  Malic acid  Alcalinity of ash   Magnesium  Total phenols  \\\n",
       "22     1.0   -8.226        1.86               16.6  101.000000           2.61   \n",
       "42     1.0   -8.328        1.89               15.0   99.496552           3.25   \n",
       "61     2.0   -7.584        1.36               16.8  100.000000           2.02   \n",
       "118    2.0   -7.662        3.43               16.0   80.000000           1.63   \n",
       "163    3.0   -7.776        3.45               18.5  106.000000           1.39   \n",
       "\n",
       "     Flavanoids  Nonflavanoid phenols  Proanthocyanins  Color intensity   Hue  \\\n",
       "22         2.88                  0.27             1.69             3.80  1.11   \n",
       "42         3.56                  0.17             1.70             5.43  0.88   \n",
       "61         1.41                  0.53             0.62             5.75  0.98   \n",
       "118        1.25                  0.43             0.83             3.40  0.70   \n",
       "163        0.70                  0.40             0.94             5.28  0.68   \n",
       "\n",
       "     OD280/OD315  Proline  \n",
       "22          4.00   1035.0  \n",
       "42          3.56   1095.0  \n",
       "61          1.59    450.0  \n",
       "118         2.12    372.0  \n",
       "163         1.75    675.0  "
      ]
     },
     "execution_count": 12,
     "metadata": {},
     "output_type": "execute_result"
    }
   ],
   "source": [
    "alcohol_outlier = wine[wine['Alcohol'] < 10]\n",
    "print('There are', len(alcohol_outlier), 'alcohol related outliers.')\n",
    "alcohol_outlier"
   ]
  },
  {
   "cell_type": "markdown",
   "metadata": {},
   "source": [
    "Outliers are seen for alcohol if the values of alcohol < 10. There are 5 instances in total. These instances should be dropped."
   ]
  },
  {
   "cell_type": "code",
   "execution_count": 13,
   "metadata": {},
   "outputs": [
    {
     "name": "stdout",
     "output_type": "stream",
     "text": [
      "After dropping alcohol related outliers, there are 149 rows of data.\n"
     ]
    }
   ],
   "source": [
    "wine = wine[wine['Alcohol'] > 10]\n",
    "print('After dropping alcohol related outliers, there are', wine.shape[0], 'rows of data.')"
   ]
  },
  {
   "cell_type": "markdown",
   "metadata": {},
   "source": [
    "Furthermore, the outliers in this feature distribution are not as obvious. In order to determine, if there are any outliers we will keep only the ones that are within +3 to -3 standard deviations in the column."
   ]
  },
  {
   "cell_type": "code",
   "execution_count": 14,
   "metadata": {},
   "outputs": [
    {
     "name": "stdout",
     "output_type": "stream",
     "text": [
      "After dropping alcohol related outliers, there are 149 rows of data.\n"
     ]
    }
   ],
   "source": [
    "wine = wine[np.abs(wine.Alcohol - wine.Alcohol.mean()) <= (3*wine.Alcohol.std())]\n",
    "print('After dropping alcohol related outliers, there are', wine.shape[0], 'rows of data.')"
   ]
  },
  {
   "cell_type": "code",
   "execution_count": 15,
   "metadata": {
    "scrolled": true
   },
   "outputs": [
    {
     "data": {
      "text/plain": [
       "<matplotlib.text.Text at 0x17b3304e208>"
      ]
     },
     "execution_count": 15,
     "metadata": {},
     "output_type": "execute_result"
    },
    {
     "data": {
      "image/png": "[encoded data removed]",
      "text/plain": [
       "<matplotlib.figure.Figure at 0x17b2f278940>"
      ]
     },
     "metadata": {},
     "output_type": "display_data"
    }
   ],
   "source": [
    "wine['Proline'].hist()\n",
    "plt.title('Prior to dropping outliers - Distribution of wine feature - proline')"
   ]
  },
  {
   "cell_type": "markdown",
   "metadata": {},
   "source": [
    "The outliers in this feature distribution are not as obvious. In order to determine, if there are any outliers we will keep only the ones that are within +3 to -3 standard deviations in the column."
   ]
  },
  {
   "cell_type": "code",
   "execution_count": 16,
   "metadata": {},
   "outputs": [
    {
     "name": "stdout",
     "output_type": "stream",
     "text": [
      "After dropping proline related outliers, there are 148 rows of data.\n"
     ]
    }
   ],
   "source": [
    "wine = wine[np.abs(wine.Proline - wine.Proline.mean()) <= (3*wine.Proline.std())]\n",
    "print('After dropping proline related outliers, there are', wine.shape[0], 'rows of data.')"
   ]
  },
  {
   "cell_type": "markdown",
   "metadata": {},
   "source": [
    "### Distributions after to outlier removal"
   ]
  },
  {
   "cell_type": "code",
   "execution_count": 17,
   "metadata": {},
   "outputs": [
    {
     "data": {
      "text/plain": [
       "<matplotlib.text.Text at 0x17b3311ca58>"
      ]
     },
     "execution_count": 17,
     "metadata": {},
     "output_type": "execute_result"
    },
    {
     "data": {
      "image/png": "[encoded data removed]",
      "text/plain": [
       "<matplotlib.figure.Figure at 0x17b32b86780>"
      ]
     },
     "metadata": {},
     "output_type": "display_data"
    }
   ],
   "source": [
    "wine['Alcohol'].hist()\n",
    "plt.title('After dropping outliers - Distribution of wine feature - alcohol')"
   ]
  },
  {
   "cell_type": "code",
   "execution_count": 18,
   "metadata": {},
   "outputs": [
    {
     "data": {
      "text/plain": [
       "<matplotlib.text.Text at 0x17b331dd9b0>"
      ]
     },
     "execution_count": 18,
     "metadata": {},
     "output_type": "execute_result"
    },
    {
     "data": {
      "image/png": "[encoded data removed]",
      "text/plain": [
       "<matplotlib.figure.Figure at 0x17b331169b0>"
      ]
     },
     "metadata": {},
     "output_type": "display_data"
    }
   ],
   "source": [
    "wine['Proline'].hist()\n",
    "plt.title('After dropping outliers - Distribution of wine feature - proline')"
   ]
  },
  {
   "cell_type": "markdown",
   "metadata": {},
   "source": [
    "## 4. Decision Trees\n",
    "Note: When predicting for the test data, you should train the model again using the train + validation data."
   ]
  },
  {
   "cell_type": "markdown",
   "metadata": {},
   "source": [
    "### Question 4:\n",
    "Train Decision Tree model on train data for criterions = {'gini', 'entropy'} and report the accuracies on the validation data. Select the best criterion and report the accuracy on the test data.\n",
    "\n",
    "For information on gini criterion, you can refer:\n",
    "http://statweb.stanford.edu/~jtaylo/courses/stats202/restricted/notes/trees.pdf"
   ]
  },
  {
   "cell_type": "code",
   "execution_count": 19,
   "metadata": {
    "collapsed": true
   },
   "outputs": [],
   "source": [
    "X_train_total = np.concatenate((X_train,X_valid))\n",
    "y_train_total = np.concatenate((y_train,y_valid))"
   ]
  },
  {
   "cell_type": "code",
   "execution_count": 20,
   "metadata": {},
   "outputs": [
    {
     "name": "stdout",
     "output_type": "stream",
     "text": [
      "For criterion = gini the validation accuracy = 0.948717948718\n",
      "For criterion = entropy the validation accuracy = 0.948717948718\n",
      "The best criterion is gini with a validation accuracy of 0.948717948718\n"
     ]
    }
   ],
   "source": [
    "best_acc = 0\n",
    "for i in ['gini', 'entropy']:\n",
    "    clf = DecisionTreeClassifier(criterion=i)\n",
    "    clf.fit(X_train, y_train)\n",
    "    y_pred = clf.predict(X_valid)\n",
    "    accuracy = np.sum(y_pred == y_valid['class'].values)*1.0/len(y_valid['class'].values)\n",
    "    print('For criterion =', i, 'the validation accuracy = ' + str(accuracy))\n",
    "    if (accuracy > best_acc):\n",
    "        best_criterion = i\n",
    "        best_acc = accuracy\n",
    "print('The best criterion is', best_criterion, 'with a validation accuracy of', best_acc)"
   ]
  },
  {
   "cell_type": "code",
   "execution_count": 21,
   "metadata": {},
   "outputs": [
    {
     "name": "stdout",
     "output_type": "stream",
     "text": [
      "The test accuracy using criterion = gini is 0.74358974359\n"
     ]
    }
   ],
   "source": [
    "clf = DecisionTreeClassifier(criterion=best_criterion)\n",
    "clf.fit(X_train_total, y_train_total)\n",
    "y_pred = clf.predict(X_test)\n",
    "print('The test accuracy using criterion =', best_criterion, 'is ' + str(np.sum(y_pred == y_test['class'].values)*1.0/len(y_test['class'].values)))"
   ]
  },
  {
   "cell_type": "markdown",
   "metadata": {},
   "source": [
    "### Question 5:\n",
    "Use the criterion selected above to train Decision Tree model on train data for min samples split=(2,5,10,20) and report the accuracies on the validation data. Select the best parameter and report the accuracy on the test data."
   ]
  },
  {
   "cell_type": "code",
   "execution_count": 22,
   "metadata": {},
   "outputs": [
    {
     "name": "stdout",
     "output_type": "stream",
     "text": [
      "For min_samples_split = 2 the validation accuracy = 0.974358974359\n",
      "For min_samples_split = 5 the validation accuracy = 0.948717948718\n",
      "For min_samples_split = 10 the validation accuracy = 0.948717948718\n",
      "For min_samples_split = 20 the validation accuracy = 0.948717948718\n",
      "The best min_samples_split is 2 with a validation accuracy of 0.974358974359\n"
     ]
    }
   ],
   "source": [
    "best_acc = 0.0\n",
    "for i in [2, 5, 10, 20]:\n",
    "    clf = DecisionTreeClassifier(criterion=best_criterion, min_samples_split=i)\n",
    "    clf.fit(X_train, y_train)\n",
    "    y_pred = clf.predict(X_valid)\n",
    "    accuracy = np.sum(y_pred == y_valid['class'].values)*1.0/len(y_valid['class'].values)\n",
    "    print('For min_samples_split =', i, 'the validation accuracy = ' + str(accuracy))\n",
    "    if (accuracy > best_acc):\n",
    "        best_mss = i\n",
    "        best_acc = accuracy\n",
    "print('The best min_samples_split is', best_mss, 'with a validation accuracy of', best_acc)"
   ]
  },
  {
   "cell_type": "code",
   "execution_count": 23,
   "metadata": {},
   "outputs": [
    {
     "name": "stdout",
     "output_type": "stream",
     "text": [
      "The test accuracy using min_samples_split = 2 is 0.74358974359\n"
     ]
    }
   ],
   "source": [
    "clf = DecisionTreeClassifier(criterion=best_criterion, min_samples_split=best_mss)\n",
    "clf.fit(X_train_total, y_train_total)\n",
    "y_pred = clf.predict(X_test)\n",
    "print('The test accuracy using min_samples_split =', best_mss, 'is ' + str(np.sum(y_pred == y_test['class'].values)*1.0/len(y_test['class'].values)))"
   ]
  },
  {
   "cell_type": "markdown",
   "metadata": {},
   "source": [
    "### Question 6: \n",
    "Use the parameters selected above (Q4 and Q5) to train Decision Tree model using the first 20, 40, 60, 80 and 100 samples from train data. Keep the validation set unchanged during this analysis. Report and plot the accuracies on the validation data."
   ]
  },
  {
   "cell_type": "code",
   "execution_count": 24,
   "metadata": {
    "collapsed": true
   },
   "outputs": [],
   "source": [
    "x_train_sampling = [20, 40, 60, 80, 100]\n",
    "acc = []\n",
    "for i in x_train_sampling:\n",
    "    clf = DecisionTreeClassifier(criterion=best_criterion, min_samples_split=best_mss)\n",
    "    clf.fit(X_train[:i], y_train[:i])\n",
    "    y_pred = clf.predict(X_valid)\n",
    "    accuracy = np.sum(y_pred == y_valid['class'].values)*1.0/len(y_valid['class'].values)\n",
    "    acc.append(accuracy)"
   ]
  },
  {
   "cell_type": "code",
   "execution_count": 25,
   "metadata": {},
   "outputs": [
    {
     "name": "stdout",
     "output_type": "stream",
     "text": [
      "Using the first 20 samples, the validation accuracy is 0.692307692308\n",
      "Using the first 40 samples, the validation accuracy is 0.846153846154\n",
      "Using the first 60 samples, the validation accuracy is 0.846153846154\n",
      "Using the first 80 samples, the validation accuracy is 0.948717948718\n",
      "Using the first 100 samples, the validation accuracy is 0.897435897436\n"
     ]
    },
    {
     "data": {
      "image/png": "[encoded data removed]",
      "text/plain": [
       "<matplotlib.figure.Figure at 0x17b331bd4e0>"
      ]
     },
     "metadata": {},
     "output_type": "display_data"
    }
   ],
   "source": [
    "acc_dict = {}\n",
    "acc_dict = dict(zip(x_train_sampling, acc))\n",
    "for i, j in acc_dict.items():\n",
    "    print('Using the first', i, 'samples, the validation accuracy is', j)\n",
    "    \n",
    "plot(x_train_sampling, acc);\n",
    "plt.title('As the training sample size increases, the accuracy of the model increases.');\n",
    "plt.xlabel('First n samples from the train data');\n",
    "plt.ylabel('Model accuracy');"
   ]
  },
  {
   "cell_type": "markdown",
   "metadata": {},
   "source": [
    "## 5. Nearest Neighbor\n",
    "Normalize Data: Normalize features such that for each feature the mean is 0 and the standard deviation is 1 in the train+validation data. Use the normalizing factors calculated on train+validation data to modify the values in train, validation and test data.\n",
    "\n",
    "Good normalization reference: http://sebastianraschka.com/Articles/2014_about_feature_scaling.html"
   ]
  },
  {
   "cell_type": "code",
   "execution_count": 26,
   "metadata": {
    "collapsed": true
   },
   "outputs": [],
   "source": [
    "std_scale = preprocessing.StandardScaler().fit(X_train_total)\n",
    "X_train_total_scaled = std_scale.transform(X_train_total)"
   ]
  },
  {
   "cell_type": "code",
   "execution_count": 27,
   "metadata": {},
   "outputs": [
    {
     "name": "stdout",
     "output_type": "stream",
     "text": [
      "Mean after standardization:\n",
      "Alcohol=-0.00, Malic acid=-0.00\n",
      "\n",
      "Standard deviation after standardization:\n",
      "Alcohol=1.00, Malic acid=1.00\n"
     ]
    }
   ],
   "source": [
    "print('Mean after standardization:\\nAlcohol={:.2f}, Malic acid={:.2f}'\n",
    "      .format(X_train_total_scaled[:,0].mean(), X_train_total_scaled[:,1].mean()))\n",
    "print('\\nStandard deviation after standardization:\\nAlcohol={:.2f}, Malic acid={:.2f}'\n",
    "      .format(X_train_total_scaled[:,0].std(), X_train_total_scaled[:,1].std()))"
   ]
  },
  {
   "cell_type": "markdown",
   "metadata": {},
   "source": [
    "Apply the same normalization to the X_train, X_valid, and X_test datasets."
   ]
  },
  {
   "cell_type": "code",
   "execution_count": 28,
   "metadata": {
    "collapsed": true
   },
   "outputs": [],
   "source": [
    "X_train_scaled = std_scale.transform(X_train)\n",
    "X_valid_scaled = std_scale.transform(X_valid)\n",
    "X_test_scaled = std_scale.transform(X_test)"
   ]
  },
  {
   "cell_type": "markdown",
   "metadata": {},
   "source": [
    "Note: The means and the stds of the above normalized data sets will be close to mean=0 and std=1 but not exact."
   ]
  },
  {
   "cell_type": "markdown",
   "metadata": {},
   "source": [
    "### Question 7: \n",
    "Train k-nn model on train + validation data and report accuracy on test data. Use Euclidean distance and k=3.\n",
    "\n",
    "Parameter 'p' is the Power parameter for the Minkowski metric.\n",
    "    \n",
    "    p = 1 --> Manhattan distance\n",
    "    p = 2 --> Euclidean distance"
   ]
  },
  {
   "cell_type": "code",
   "execution_count": 29,
   "metadata": {},
   "outputs": [
    {
     "name": "stdout",
     "output_type": "stream",
     "text": [
      "For Euclidean distance and k = 3, the test accuracy is 0.871794871795\n"
     ]
    }
   ],
   "source": [
    "clf = KNeighborsClassifier(n_neighbors=3, p= 2)\n",
    "clf.fit(X_train_total_scaled, y_train_total.ravel())\n",
    "y_pred = clf.predict(X_test_scaled)\n",
    "accuracy = np.sum(y_pred == y_test['class'].values)*1.0/len(y_test['class'].values)\n",
    "print('For Euclidean distance and k = 3, the test accuracy is', accuracy)"
   ]
  },
  {
   "cell_type": "markdown",
   "metadata": {},
   "source": [
    "### Question 8: \n",
    "Train the model on train data for distance metrics defined by l1, linf , l2. Report the accuracies on the validation data. Select the best metric and report the accuracy on the test data for the selected metric. Use k=3.\n",
    "\n",
    "From documentation:\n",
    "http://scikit-learn.org/stable/modules/generated/sklearn.neighbors.DistanceMetric.html\n",
    "\n",
    "    “euclidean”\tEuclideanDistance (l1)\t    sqrt(sum((x - y)^2))\n",
    "    “manhattan”\tManhattanDistance (l2)\t    sum(|x - y|)\n",
    "    “chebyshev”\tChebyshevDistance (linf)\tmax(|x - y|)"
   ]
  },
  {
   "cell_type": "code",
   "execution_count": 30,
   "metadata": {},
   "outputs": [
    {
     "name": "stdout",
     "output_type": "stream",
     "text": [
      "For metric = euclidean the validation accuracy = 0.923076923077\n",
      "For metric = manhattan the validation accuracy = 0.948717948718\n",
      "For metric = chebyshev the validation accuracy = 0.923076923077\n",
      "The best metric is manhattan with a validation accuracy of 0.948717948718\n"
     ]
    },
    {
     "name": "stderr",
     "output_type": "stream",
     "text": [
      "C:\\Users\\Orysya\\Anaconda\\envs\\py36\\lib\\site-packages\\ipykernel\\__main__.py:4: DataConversionWarning: A column-vector y was passed when a 1d array was expected. Please change the shape of y to (n_samples, ), for example using ravel().\n"
     ]
    }
   ],
   "source": [
    "best_acc = 0.0\n",
    "for i in ['euclidean', 'manhattan', 'chebyshev']:\n",
    "    clf = KNeighborsClassifier(n_neighbors=3,metric= i)\n",
    "    clf.fit(X_train_scaled, y_train)\n",
    "    y_pred = clf.predict(X_valid_scaled)\n",
    "    accuracy = np.sum(y_pred == y_valid['class'].values)*1.0/len(y_valid['class'].values)\n",
    "    print('For metric =', i, 'the validation accuracy = ' + str(accuracy))\n",
    "    if (accuracy > best_acc):\n",
    "        best_metric = i\n",
    "        best_acc = accuracy\n",
    "print('The best metric is', best_metric, 'with a validation accuracy of', best_acc)"
   ]
  },
  {
   "cell_type": "markdown",
   "metadata": {},
   "source": [
    "Note: Corresponds to Manhattan_distance (l2)."
   ]
  },
  {
   "cell_type": "code",
   "execution_count": 31,
   "metadata": {},
   "outputs": [
    {
     "name": "stdout",
     "output_type": "stream",
     "text": [
      "The test accuracy using metric = manhattan is 0.974358974359\n"
     ]
    }
   ],
   "source": [
    "clf = KNeighborsClassifier(n_neighbors=3, metric= best_metric)\n",
    "clf.fit(X_train_total_scaled, y_train_total.ravel())\n",
    "y_pred = clf.predict(X_test_scaled)\n",
    "print('The test accuracy using metric =', best_metric, 'is ' + str(np.sum(y_pred == y_test['class'].values)*1.0/len(y_test['class'].values)))"
   ]
  },
  {
   "cell_type": "markdown",
   "metadata": {},
   "source": [
    "### Question 9: \n",
    "Train the k-nn model on train data for k=1,3,5,7,9. Report and plot the accuracies on the validation data. Select the best 'k' value and report the accuracy on the test data for the selected 'k'. Use Euclidean distance."
   ]
  },
  {
   "cell_type": "code",
   "execution_count": 32,
   "metadata": {},
   "outputs": [
    {
     "name": "stdout",
     "output_type": "stream",
     "text": [
      "For k = 1 the validation accuracy = 0.948717948718\n",
      "For k = 3 the validation accuracy = 0.923076923077\n",
      "For k = 5 the validation accuracy = 0.948717948718\n",
      "For k = 7 the validation accuracy = 0.974358974359\n",
      "For k = 9 the validation accuracy = 0.948717948718\n",
      "The best k is 7 with a validation accuracy of 0.974358974359\n"
     ]
    },
    {
     "name": "stderr",
     "output_type": "stream",
     "text": [
      "C:\\Users\\Orysya\\Anaconda\\envs\\py36\\lib\\site-packages\\ipykernel\\__main__.py:6: DataConversionWarning: A column-vector y was passed when a 1d array was expected. Please change the shape of y to (n_samples, ), for example using ravel().\n"
     ]
    },
    {
     "data": {
      "image/png": "[encoded data removed]",
      "text/plain": [
       "<matplotlib.figure.Figure at 0x17b3323e0b8>"
      ]
     },
     "metadata": {},
     "output_type": "display_data"
    }
   ],
   "source": [
    "best_acc = 0.0\n",
    "acc = []\n",
    "ks = [1, 3, 5, 7, 9]\n",
    "for i in ks:\n",
    "    clf = KNeighborsClassifier(n_neighbors= i, p = 2)\n",
    "    clf.fit(X_train_scaled, y_train)\n",
    "    y_pred = clf.predict(X_valid_scaled)\n",
    "    accuracy = np.sum(y_pred == y_valid['class'].values)*1.0/len(y_valid['class'].values)\n",
    "    print('For k =', i, 'the validation accuracy = ' + str(accuracy))\n",
    "    acc.append(accuracy)\n",
    "    if (accuracy > best_acc):\n",
    "        best_k = i\n",
    "        best_acc = accuracy\n",
    "print('The best k is', best_k, 'with a validation accuracy of', best_acc)\n",
    "\n",
    "plot(ks, acc);\n",
    "plt.title('The trend for varying training data size');\n",
    "plt.xlabel('First n samples from the train data');\n",
    "plt.ylabel('Model accuracy');"
   ]
  },
  {
   "cell_type": "code",
   "execution_count": 33,
   "metadata": {},
   "outputs": [
    {
     "name": "stdout",
     "output_type": "stream",
     "text": [
      "The test accuracy using k = 7 is 0.923076923077\n"
     ]
    }
   ],
   "source": [
    "clf = KNeighborsClassifier(n_neighbors= best_k, p = 2)\n",
    "clf.fit(X_train_total_scaled, y_train_total.ravel())\n",
    "y_pred = clf.predict(X_test_scaled)\n",
    "print('The test accuracy using k =', best_k, 'is ' + str(np.sum(y_pred == y_test['class'].values)*1.0/len(y_test['class'].values)))"
   ]
  },
  {
   "cell_type": "markdown",
   "metadata": {},
   "source": [
    "### Question 10: \n",
    "Instead of using full train data, train the model using the first 20, 40, 60, 80 and 100 data samples from train data. Keep the validation set unchanged during this analysis. Report and plot the accuracies on the validation data. Use Euclidean distance and k=3. Note: Don't shuffe the data and use only the 'first n samples', otherwise your answers may differ."
   ]
  },
  {
   "cell_type": "code",
   "execution_count": 34,
   "metadata": {},
   "outputs": [
    {
     "name": "stderr",
     "output_type": "stream",
     "text": [
      "C:\\Users\\Orysya\\Anaconda\\envs\\py36\\lib\\site-packages\\ipykernel\\__main__.py:5: DataConversionWarning: A column-vector y was passed when a 1d array was expected. Please change the shape of y to (n_samples, ), for example using ravel().\n"
     ]
    }
   ],
   "source": [
    "x_train_sampling = [20, 40, 60, 80, 100]\n",
    "acc = []\n",
    "for i in x_train_sampling:\n",
    "    clf = KNeighborsClassifier(n_neighbors= 3, p= 2)\n",
    "    clf.fit(X_train_scaled[:i], y_train[:i])\n",
    "    y_pred = clf.predict(X_valid_scaled)\n",
    "    accuracy = np.sum(y_pred == y_valid['class'].values)*1.0/len(y_valid['class'].values)\n",
    "    acc.append(accuracy)"
   ]
  },
  {
   "cell_type": "code",
   "execution_count": 35,
   "metadata": {},
   "outputs": [
    {
     "name": "stdout",
     "output_type": "stream",
     "text": [
      "Using the first 20 samples, the validation accuracy is 0.948717948718\n",
      "Using the first 40 samples, the validation accuracy is 1.0\n",
      "Using the first 60 samples, the validation accuracy is 1.0\n",
      "Using the first 80 samples, the validation accuracy is 1.0\n",
      "Using the first 100 samples, the validation accuracy is 0.923076923077\n"
     ]
    },
    {
     "data": {
      "image/png": "[encoded data removed]",
      "text/plain": [
       "<matplotlib.figure.Figure at 0x17b34359358>"
      ]
     },
     "metadata": {},
     "output_type": "display_data"
    }
   ],
   "source": [
    "acc_dict = {}\n",
    "acc_dict = dict(zip(x_train_sampling, acc))\n",
    "for i, j in acc_dict.items():\n",
    "    print('Using the first', i, 'samples, the validation accuracy is', j)\n",
    "    \n",
    "plot(x_train_sampling, acc);\n",
    "plt.title('The trend for varying training data size');\n",
    "plt.xlabel('First n samples from the train data');\n",
    "plt.ylabel('Model accuracy');"
   ]
  },
  {
   "cell_type": "code",
   "execution_count": null,
   "metadata": {
    "collapsed": true
   },
   "outputs": [],
   "source": []
  }
 ],
 "metadata": {
  "anaconda-cloud": {},
  "kernelspec": {
   "display_name": "Python [conda env:py36]",
   "language": "python",
   "name": "conda-env-py36-py"
  },
  "language_info": {
   "codemirror_mode": {
    "name": "ipython",
    "version": 3
   },
   "file_extension": ".py",
   "mimetype": "text/x-python",
   "name": "python",
   "nbconvert_exporter": "python",
   "pygments_lexer": "ipython3",
   "version": "3.6.0"
  }
 },
 "nbformat": 4,
 "nbformat_minor": 1
}
