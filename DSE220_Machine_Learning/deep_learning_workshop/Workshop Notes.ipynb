{
 "cells": [
  {
   "cell_type": "markdown",
   "metadata": {},
   "source": [
    "Workshop Notes\n",
    "\n",
    "Convolutional Neural Networks (CNN) --> give it image, model find, then let it run\n",
    "- check out convolution operator matrix creation\n",
    "Recursive Neural Networks (RNN --> ie. speach recognition\n",
    "Generative Adversarial Networks (GNN)"
   ]
  }
 ],
 "metadata": {
  "kernelspec": {
   "display_name": "Python 3",
   "language": "python",
   "name": "python3"
  },
  "language_info": {
   "codemirror_mode": {
    "name": "ipython",
    "version": 3
   },
   "file_extension": ".py",
   "mimetype": "text/x-python",
   "name": "python",
   "nbconvert_exporter": "python",
   "pygments_lexer": "ipython3",
   "version": "3.5.3"
  }
 },
 "nbformat": 4,
 "nbformat_minor": 2
}
