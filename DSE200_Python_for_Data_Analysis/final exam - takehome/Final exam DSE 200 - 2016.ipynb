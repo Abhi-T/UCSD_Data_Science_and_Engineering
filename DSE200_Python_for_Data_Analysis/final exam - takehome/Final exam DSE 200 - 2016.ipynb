{
 "cells": [
  {
   "cell_type": "markdown",
   "metadata": {},
   "source": [
    "# Final exam DSE 200\n",
    "## Orysya Stus"
   ]
  },
  {
   "cell_type": "markdown",
   "metadata": {},
   "source": [
    "Your task in this take-home exam is to analyze the evolution of poverty and income distribution in the United States.\n",
    "\n",
    "### Data source: \n",
    "\n",
    "https://www.census.gov/did/www/saipe/data/statecounty/data/index.html\n",
    "\n",
    "Use the given code snippet to access the data files\n",
    "\n",
    "The data fields are described here:https://www.census.gov/did/www/saipe/data/statecounty/data/2000.html \n",
    "Extract the required fields. The required fields are: \n",
    "   'State FIPS', 'County FIPS','Poverty Estimate All Ages', 'Poverty Percent All Ages', \n",
    "   'Poverty Estimate Under Age 18', 'Poverty Percent Under Age 18', 'Poverty Estimate Ages 5-17', \n",
    "   'Poverty Percent Ages 5-17', 'Median Household Income','Name','Postal'\n",
    " \n",
    "### Pandas Data-Frames\n",
    "\n",
    "1)\n",
    "    - create a data frame with just the country-wide data\n",
    "    - create a data frame with just the data of the states\n",
    "    - create a data frame with just the data of the counties\n",
    "\n",
    "    \n",
    "2) Plot a graph of 'Poverty Percent All Ages' of the entire country vs year (line graph).\n",
    "   Plot a graph of 'Median Household Income' of the entire country vs year (line graph)\n",
    "\n",
    "3) Plot the total poverty in each state across the years and compare it with the country-wide poverty\n",
    "\n",
    "4) Plot county-wide poverty stats\n",
    "\n",
    "- Create a dataframe with the Unique FIPS code (obtained by combining the state and county FIPS), 'Poverty Percent All Ages' in every county in 2000, 'Poverty Percent All Ages' in every county in 2013 and the change ratio between 2000 and 2013. (change ratio = poverty % in 2013 / poverty % in 2000. Divide this by the nationwide change ratio for normalization. A value > 1 indicates that poverty is higher compared to the nation-wide poverty and a value < 1 indicates that poverty is lower compared to the nationwide poverty.)\n",
    "\n",
    "\n",
    "FIPS code is a unique code to identify counties and states in the US. In this data you have been given state code and county code separately. You will have to combine the state code and the county code to generate a unique code for each place, which will be used to plot on the map. Please note that before combining, make sure the state code is 2 digits and county code is 3 digits by adding zeroes to the front.\n",
    "\n",
    "\n",
    "- Plot the 'Poverty Percent All Ages' for each county on the map for the years 2000 and 2013.\n",
    "- Plot the normalized change ratio on the map.\n",
    "- Find the counties which witnessed the most positive and most negative change in poverty,\n",
    "\n",
    "For this visualization, we will use a library called Vincent, which lets you plot data for places using their FIPS code instead of using latitude/longitude. \n",
    "\n",
    "To install vincent do\n",
    "`pip install vincent` or `conda install vincent`\n",
    "\n",
    "\n",
    "To use it in the notebook and display the maps inside the notebook do\n",
    "\n",
    "`import vincent`\n",
    "\n",
    "`vincent.core.initialize_notebook()`\n",
    "\n",
    "You can find further details about how to use it here - http://wrobstory.github.io/2013/10/mapping-data-python.html and https://github.com/wrobstory/vincent\n",
    "\n",
    "Before closing your notebook, please clear the output of the vincent maps as it becomes difficult of reload the notebook later. For plotting the counties on the map, you will need to use the file us_counties.topo.json present in the exam folder.\n",
    "\n",
    "Tips: -  \n",
    "    Check the type of datafields before operating on them. It will also help you debug for errors.\n",
    "    Clean the data before using it. Drop those rows before using them."
   ]
  },
  {
   "cell_type": "code",
   "execution_count": null,
   "metadata": {
    "collapsed": false,
    "scrolled": true
   },
   "outputs": [],
   "source": [
    "import urllib2\n",
    "import re\n",
    "\n",
    "urls = ['https://www.census.gov/did/www/saipe/downloads/estmod93/est93ALL.dat',\n",
    "        'https://www.census.gov/did/www/saipe/downloads/estmod95/est95ALL.dat',\n",
    "        'https://www.census.gov/did/www/saipe/downloads/estmod97/est97ALL.dat',\n",
    "        'https://www.census.gov/did/www/saipe/downloads/estmod98/est98ALL.dat',\n",
    "        'https://www.census.gov/did/www/saipe/downloads/estmod99/est99ALL.dat',\n",
    "        'https://www.census.gov/did/www/saipe/downloads/estmod00/est00ALL.dat',\n",
    "        'https://www.census.gov/did/www/saipe/downloads/estmod01/est01ALL.dat',\n",
    "        'https://www.census.gov/did/www/saipe/downloads/estmod02/est02ALL.dat',\n",
    "        'https://www.census.gov/did/www/saipe/downloads/estmod03/est03ALL.dat',\n",
    "        'https://www.census.gov/did/www/saipe/downloads/estmod04/est04ALL.txt',\n",
    "        'https://www.census.gov/did/www/saipe/downloads/estmod05/est05ALL.txt',\n",
    "        'https://www.census.gov/did/www/saipe/downloads/estmod06/est06ALL.txt',\n",
    "        'https://www.census.gov/did/www/saipe/downloads/estmod07/est07ALL.txt',\n",
    "        'https://www.census.gov/did/www/saipe/downloads/estmod08/est08ALL.txt',\n",
    "        'https://www.census.gov/did/www/saipe/downloads/estmod09/est09ALL.txt',\n",
    "        'https://www.census.gov/did/www/saipe/downloads/estmod10/est10ALL.txt',\n",
    "        'https://www.census.gov/did/www/saipe/downloads/estmod11/est11all.txt',\n",
    "        'https://www.census.gov/did/www/saipe/downloads/estmod12/est12ALL.txt',\n",
    "        'https://www.census.gov/did/www/saipe/downloads/estmod13/est13ALL.txt']\n",
    "\n",
    "State_FIPS = []\n",
    "County_FIPS = []\n",
    "Poverty_Estimate_All_Ages = []\n",
    "Poverty_Percent_All_Ages = []\n",
    "Poverty_Estimate_Under_Age_18 = []\n",
    "Poverty_Percent_Under_Age_18 = []\n",
    "Poverty_Estimate_Ages_5_17 = []\n",
    "Poverty_Percent_Ages_5_17 = []\n",
    "Median_Household_Income = []\n",
    "Name = []\n",
    "Postal = []\n",
    "URL = []\n",
    "\n",
    "def getUrl(urls):\n",
    "    for url in urls:\n",
    "        response = urllib2.urlopen(url)\n",
    "        lines = response.read().split('\\n')\n",
    "        del lines[-1]\n",
    "        for i in lines:\n",
    "            State_FIPS.append(i[0:2])\n",
    "            County_FIPS.append(i[3:6])\n",
    "            Poverty_Estimate_All_Ages.append(i[7:15])\n",
    "            Poverty_Percent_All_Ages.append(i[34:38])\n",
    "            Poverty_Estimate_Under_Age_18.append(i[49:57])\n",
    "            Poverty_Percent_Under_Age_18.append(i[76:80])\n",
    "            Poverty_Estimate_Ages_5_17.append(i[91:99])\n",
    "            Poverty_Percent_Ages_5_17.append(i[118:122])\n",
    "            Median_Household_Income.append(i[133:139])\n",
    "            Name.append(i[193:238])\n",
    "            Postal.append(i[239:241])\n",
    "            URL.append(url)\n",
    "                 \n",
    "getUrl(urls)"
   ]
  },
  {
   "cell_type": "code",
   "execution_count": null,
   "metadata": {
    "collapsed": false,
    "scrolled": false
   },
   "outputs": [],
   "source": [
    "import datetime as dt\n",
    "import numpy as np\n",
    "import pandas as pd\n",
    "\n",
    "data = pd.DataFrame()\n",
    "data['State FIPS'] = State_FIPS\n",
    "data['County FIPS'] = County_FIPS\n",
    "data['County FIPS'] = data['County FIPS'].str.lstrip(' ')\n",
    "data['County FIPS'] = data['County FIPS'].str.zfill(3)\n",
    "data['FIPS'] = data['State FIPS']+data['County FIPS']\n",
    "\n",
    "data['Poverty Estimate All Ages'] = Poverty_Estimate_All_Ages\n",
    "data['Poverty Estimate All Ages'] = data['Poverty Estimate All Ages'].apply(lambda x: re.sub(\"[^0-9]\",\"\", x))\n",
    "#data['Poverty Estimate All Ages'] = data['Poverty Estimate All Ages'].apply(lambda x: int(x))\n",
    "data['Poverty Estimate All Ages'] = pd.to_numeric(data['Poverty Estimate All Ages'], errors='coerce')\n",
    "#Check with others if have empty row ie. ''\n",
    "\n",
    "data['Poverty Percent All Ages'] = Poverty_Percent_All_Ages\n",
    "data['Poverty Percent All Ages'] = pd.to_numeric(data['Poverty Percent All Ages'], errors='coerce')\n",
    "\n",
    "data['Poverty Estimate Under Age 18'] = Poverty_Estimate_Under_Age_18\n",
    "data['Poverty Estimate Under Age 18'] = pd.to_numeric(data['Poverty Estimate Under Age 18'], errors='coerce')\n",
    "\n",
    "data['Poverty Percent Under Age 18'] = Poverty_Percent_Under_Age_18\n",
    "data['Poverty Percent Under Age 18'] = pd.to_numeric(data['Poverty Percent Under Age 18'], errors='coerce')\n",
    "\n",
    "data['Poverty Estimate Ages 5-17'] = Poverty_Estimate_Ages_5_17\n",
    "data['Poverty Estimate Ages 5-17'] = pd.to_numeric(data['Poverty Estimate Ages 5-17'], errors='coerce')\n",
    "\n",
    "data['Poverty Percent Under Age 5-17'] = Poverty_Percent_Ages_5_17\n",
    "data['Poverty Percent Under Age 5-17'] = pd.to_numeric(data['Poverty Percent Under Age 5-17'], errors='coerce')\n",
    "\n",
    "data['Median Household Income'] = Median_Household_Income\n",
    "data['Median Household Income'] = pd.to_numeric(data['Median Household Income'], errors='coerce')\n",
    "\n",
    "data['Name'] = Name\n",
    "data['Postal'] = Postal\n",
    "data['url'] = URL\n",
    "data['year'] = data['url'].str[-9:-7]\n",
    "data['year'] = data['year'].apply(lambda x: '19'+str(x) if int(x)>50 else '20'+str(x))\n",
    "data['year'] = pd.to_datetime(data['year'])\n",
    "data['year'] = data['year'].dt.year\n",
    "\n",
    "print 'Complete dataset for data collected from all of the URLs\"'\n",
    "print data.shape\n",
    "#Check datatypes of each column\n",
    "cols = data.columns\n",
    "print 'Check the datatypes of each column:'\n",
    "for i in cols:\n",
    "    print 'The datatype for %s is' %(i), type(data[i][0])\n",
    "\n",
    "data.head()"
   ]
  },
  {
   "cell_type": "markdown",
   "metadata": {},
   "source": [
    "### Q1: Create the dataframes\n",
    "\n",
    "Download and parse the data files and create the following three pandas dataframes: (your dataframes should have data in the format shown below)\n",
    "\n",
    " * US_stat: statistics for the whole United States.\n",
    " * states_stat: Statistics for each state.\n",
    " * county_stat: Statistics for each county."
   ]
  },
  {
   "cell_type": "code",
   "execution_count": null,
   "metadata": {
    "collapsed": false,
    "scrolled": true
   },
   "outputs": [],
   "source": [
    "US_stat = data[data['FIPS'] == '00000']\n",
    "US_stat = US_stat.set_index('year')\n",
    "del US_stat['url']\n",
    "US_stat.head()"
   ]
  },
  {
   "cell_type": "code",
   "execution_count": null,
   "metadata": {
    "collapsed": false
   },
   "outputs": [],
   "source": [
    "states_stat = data[(data['County FIPS'] == '000') & (data['State FIPS'] != '00')]\n",
    "states_stat = states_stat.sort_values(by=['Postal', 'year'])\n",
    "states_stat = states_stat.set_index(['Postal', 'year'])\n",
    "del states_stat['url']\n",
    "states_stat.head()"
   ]
  },
  {
   "cell_type": "code",
   "execution_count": null,
   "metadata": {
    "collapsed": false
   },
   "outputs": [],
   "source": [
    "county_stat = data[(data['State FIPS'] != '00') & (data['County FIPS'] != '000')]\n",
    "county_stat = county_stat.sort_values(by=['Postal', 'FIPS', 'year'])\n",
    "county_stat = county_stat.set_index(['Postal', 'FIPS', 'year'])\n",
    "del county_stat['url']\n",
    "county_stat.head()"
   ]
  },
  {
   "cell_type": "code",
   "execution_count": null,
   "metadata": {
    "collapsed": false
   },
   "outputs": [],
   "source": [
    "import matplotlib.pyplot as plt\n",
    "%pylab inline"
   ]
  },
  {
   "cell_type": "markdown",
   "metadata": {},
   "source": [
    "### Q2. Plot the US-wide statistics on poverty.\n",
    "\n",
    "Plot the 'Poverty Percent All Ages' and 'Median Household Income' across entire US over the years. \n",
    "\n",
    "Compute the percentage of increase in poverty in the US between 2000 and 2013. - [poverty % in 2013] / [poverty % in 2000]"
   ]
  },
  {
   "cell_type": "code",
   "execution_count": null,
   "metadata": {
    "collapsed": false
   },
   "outputs": [],
   "source": [
    "US_poverty_change = float(US_stat['Poverty Percent All Ages'][US_stat.index == 2013])/float(US_stat['Poverty Percent All Ages'][US_stat.index == 2000])"
   ]
  },
  {
   "cell_type": "code",
   "execution_count": null,
   "metadata": {
    "collapsed": false
   },
   "outputs": [],
   "source": [
    "print 'poverty percent change ratio from 2000 to 2013 =', US_poverty_change\n",
    "\n",
    "f, (ax1, ax2) = plt.subplots(1, 2, sharex=True, figsize=(8,3))\n",
    "\n",
    "ax1.plot(US_stat.index, US_stat['Median Household Income'])\n",
    "ax1.set_title('Median Household Income')\n",
    "ax1.grid(True)\n",
    "ax2.plot(US_stat.index, US_stat['Poverty Percent All Ages'])\n",
    "ax2.set_title('Poverty Percent All Ages')\n",
    "ax2.grid(True)"
   ]
  },
  {
   "cell_type": "markdown",
   "metadata": {},
   "source": [
    "### 2000 was a good year\n",
    "\n",
    "We see from these graphs that even though the median household in the US keeps increasing at a more or less constant rate, the poverty levels reached a minimum at 2000 and have increased dramatically , by 40% since then.\n",
    "\n",
    "We will now attempt to identify the geographic distribution of the rise in poverty since 2000.\n",
    "\n",
    "We start by plotting the time evolution of poverty for each of the states.\n",
    "\n",
    "### Q3: Plot the change in poverty percentages by state.\n",
    "\n",
    "For each state, plot the poverty levels across time and compare it with the nation-wide poverty level. Produce a graph similar to the ones below."
   ]
  },
  {
   "cell_type": "code",
   "execution_count": null,
   "metadata": {
    "collapsed": false
   },
   "outputs": [],
   "source": [
    "fig, axs = plt.subplots(nrows = 11, ncols=5, sharex=True, sharey=True, figsize=(20,40))\n",
    "axs = axs.ravel()\n",
    "i = 0\n",
    "for state in (states_stat.index.get_level_values('Postal')).unique():\n",
    "    A = states_stat.iloc[states_stat.index.get_level_values('Postal') == state]\n",
    "    A = A.reset_index(level=0, drop=True)\n",
    "    axs[i].plot(A.index, A['Poverty Percent All Ages'], label='State')\n",
    "    axs[i].plot(US_stat.index, US_stat['Poverty Percent All Ages'], label='US')\n",
    "    axs[i].set_title(state)\n",
    "    axs[i].legend(loc='upper center', ncol=2)\n",
    "    axs[i].grid(True)\n",
    "    i += 1    \n",
    "plt.gcf().autofmt_xdate()\n",
    "# plt.xticks(US_stat.index)"
   ]
  },
  {
   "cell_type": "markdown",
   "metadata": {},
   "source": [
    "### Q4: plot poverty statistics by county\n",
    "\n",
    "Using the vincent library and the dataframe `county_stat`, generate the following three maps.\n",
    "\n",
    "1. Overall percentage of poverty for each county in 2000.\n",
    "![poverty2000](Poverty2000.jpg)\n",
    "1. Overall percentage of poverty for each county in 2013.\n",
    "![poverty2013](Poverty2013.jpg)\n",
    "1. Ratio between percentage of change in poverty from 2000 to 2013 for each county. Divided by the nation-wide change in poverty (1.39).\n",
    "![povertyChange](PovertyChange.jpg)"
   ]
  },
  {
   "cell_type": "code",
   "execution_count": null,
   "metadata": {
    "collapsed": false
   },
   "outputs": [],
   "source": [
    "#!python -m pip install --upgrade pip\n",
    "#!pip install vincent"
   ]
  },
  {
   "cell_type": "markdown",
   "metadata": {},
   "source": [
    "Create a dataframe with the Unique FIPS code (obtained by combining the state and county FIPS), 'Poverty Percent All Ages' in every county in 2000, 'Poverty Percent All Ages' in every county in 2013 and the change ratio between 2000 and 2013. (change ratio = poverty % in 2013 / poverty % in 2000. Divide this by the nationwide change ratio for normalization. A value > 1 indicates that poverty is higher compared to the nation-wide poverty and a value < 1 indicates that poverty is lower compared to the nationwide poverty.)"
   ]
  },
  {
   "cell_type": "code",
   "execution_count": null,
   "metadata": {
    "collapsed": false
   },
   "outputs": [],
   "source": [
    "A = county_stat.iloc[(county_stat.index.get_level_values('year') == 2000) | (county_stat.index.get_level_values('year') == 2013)]\n",
    "FIPS = pd.DataFrame()\n",
    "FIPS['Poverty Percent All Ages'] = A['Poverty Percent All Ages']\n",
    "FIPS = FIPS.unstack('year')\n",
    "FIPS = FIPS.xs('Poverty Percent All Ages', axis=1, drop_level=True)\n",
    "FIPS['change ratio'] = FIPS[2013]/FIPS[2000]\n",
    "FIPS['normalized change ratio'] = FIPS['change ratio']/US_poverty_change\n",
    "FIPS = FIPS.reset_index(level=0, drop=True)\n",
    "FIPS['FIPS'] = FIPS.index\n",
    "FIPS = FIPS.reset_index(level=0, drop=True)\n",
    "FIPS['FIPS'] = FIPS['FIPS'].astype(int)\n",
    "print FIPS.shape\n",
    "FIPS.head()"
   ]
  },
  {
   "cell_type": "markdown",
   "metadata": {},
   "source": [
    "Plot the 'Poverty Percent All Ages' for each county on the map for the years 2000 and 2013. Plot the normalized change ratio on the map. Find the counties which witnessed the most positive and most negative change in poverty."
   ]
  },
  {
   "cell_type": "code",
   "execution_count": null,
   "metadata": {
    "collapsed": false,
    "scrolled": false
   },
   "outputs": [],
   "source": [
    "#To initialize the map; create a sample\n",
    "import vincent\n",
    "vincent.core.initialize_notebook()\n",
    "import json\n",
    "\n",
    "county_topo = r'us_counties.topo.json'\n",
    "geo_data = [{'name': 'counties',\n",
    "         'url': county_topo,\n",
    "         'feature': 'us_counties.geo'}]\n",
    "vis = vincent.Map(geo_data=geo_data, scale=1000, projection='albersUsa')\n",
    "vis"
   ]
  },
  {
   "cell_type": "code",
   "execution_count": null,
   "metadata": {
    "collapsed": false
   },
   "outputs": [],
   "source": [
    "#Referenced the following link: http://wrobstory.github.io/2013/10/mapping-data-python.html\n",
    "import json\n",
    "\n",
    "#Map the county code we have in our geometry to those in the FIPS file\n",
    "with open('us_counties.topo.json', 'r') as f:\n",
    "    get_id = json.load(f)\n",
    "\n",
    "#A little FIPS code type casting to ensure key match\n",
    "new_geoms = []\n",
    "for geom in get_id['objects']['us_counties.geo']['geometries']:\n",
    "    geom['properties']['FIPS'] = int(geom['properties']['FIPS'])\n",
    "    new_geoms.append(geom)\n",
    "    \n",
    "get_id['objects']['us_counties.geo']['geometries'] = new_geoms\n",
    "\n",
    "with open('us_counties.topo.json', 'w') as f:\n",
    "    json.dump(get_id, f)\n",
    "\n",
    "geometries = get_id['objects']['us_counties.geo']['geometries']\n",
    "county_codes = [x['properties']['FIPS'] for x in geometries]\n",
    "county_df = pd.DataFrame({'FIPS': county_codes}, dtype=str)\n",
    "county_df = county_df.astype(int)\n",
    "print county_df.shape\n",
    "\n",
    "#Perform an inner join, pad NA's with data from nearest county\n",
    "merged = pd.merge(FIPS, county_df, on='FIPS', how=\"inner\")\n",
    "merged = merged.fillna(method='pad')\n",
    "print merged.shape\n",
    "merged = merged.rename(columns={2000: '2000', 2013:'2013'})\n",
    "merged.head()"
   ]
  },
  {
   "cell_type": "code",
   "execution_count": null,
   "metadata": {
    "collapsed": false
   },
   "outputs": [],
   "source": [
    "import vincent\n",
    "vincent.core.initialize_notebook()\n",
    "import json\n",
    "\n",
    "county_topo = r'us_counties.topo.json'\n",
    "geo_data = [{'name': 'counties',\n",
    "            'url': county_topo,\n",
    "            'feature': 'us_counties.geo'}]\n",
    "\n",
    "vis = vincent.Map(data=merged, geo_data=geo_data, scale=1100,\n",
    "                  projection='albersUsa', data_bind='2000',\n",
    "                  data_key='FIPS', map_key={'counties': 'properties.FIPS'})\n",
    "vis.scales['color'].type = 'threshold'\n",
    "vis.scales['color'].domain = [0, 4, 6, 8, 10, 12, 20, 30]\n",
    "vis.legend(title='Poverty 2000 (%)')\n",
    "# vis.to_json('graph1.json')\n",
    "vis"
   ]
  },
  {
   "cell_type": "code",
   "execution_count": null,
   "metadata": {
    "collapsed": false,
    "scrolled": false
   },
   "outputs": [],
   "source": [
    "county_topo = r'us_counties.topo.json'\n",
    "geo_data = [{'name': 'counties',\n",
    "            'url': county_topo,\n",
    "            'feature': 'us_counties.geo'}]\n",
    "\n",
    "vis1 = vincent.Map(data=merged, geo_data=geo_data, scale=1100,\n",
    "                  projection='albersUsa', data_bind='2013',\n",
    "                  data_key='FIPS', map_key={'counties': 'properties.FIPS'})\n",
    "vis1.scales['color'].type = 'threshold'\n",
    "vis1.scales['color'].domain = [0, 4, 6, 8, 10, 12, 20, 30]\n",
    "vis1.legend(title='Poverty 2013 (%)')\n",
    "# vis.to_json('graph1.json')\n",
    "vis1"
   ]
  },
  {
   "cell_type": "code",
   "execution_count": null,
   "metadata": {
    "collapsed": true
   },
   "outputs": [],
   "source": [
    "county_topo = r'us_counties.topo.json'\n",
    "geo_data = [{'name': 'counties',\n",
    "            'url': county_topo,\n",
    "            'feature': 'us_counties.geo'}]\n",
    "\n",
    "vis1 = vincent.Map(data=merged, geo_data=geo_data, scale=1100,\n",
    "                  projection='albersUsa', data_bind='normalized change ratio',\n",
    "                  data_key='FIPS', map_key={'counties': 'properties.FIPS'})\n",
    "vis1.scales['color'].type = 'threshold'\n",
    "vis1.scales['color'].domain = [0, 0.8, 0.9, 1.0, 1.1, 1.2, 1.3]\n",
    "vis1.legend(title='Change in Poverty (%)')\n",
    "# vis.to_json('graph1.json')\n",
    "vis1"
   ]
  },
  {
   "cell_type": "markdown",
   "metadata": {},
   "source": [
    "### Q5: Identify the extremes.\n",
    "Find out which are the counties in which the poverty percentage increased or decreased the most during the period 2000 - 2013."
   ]
  },
  {
   "cell_type": "code",
   "execution_count": null,
   "metadata": {
    "collapsed": true
   },
   "outputs": [],
   "source": []
  },
  {
   "cell_type": "code",
   "execution_count": null,
   "metadata": {
    "collapsed": false,
    "scrolled": true
   },
   "outputs": [],
   "source": []
  },
  {
   "cell_type": "code",
   "execution_count": null,
   "metadata": {
    "collapsed": true
   },
   "outputs": [],
   "source": []
  }
 ],
 "metadata": {
  "anaconda-cloud": {},
  "kernelspec": {
   "display_name": "Python 2",
   "language": "python",
   "name": "python2"
  },
  "language_info": {
   "codemirror_mode": {
    "name": "ipython",
    "version": 2
   },
   "file_extension": ".py",
   "mimetype": "text/x-python",
   "name": "python",
   "nbconvert_exporter": "python",
   "pygments_lexer": "ipython2",
   "version": "2.7.10"
  }
 },
 "nbformat": 4,
 "nbformat_minor": 0
}
