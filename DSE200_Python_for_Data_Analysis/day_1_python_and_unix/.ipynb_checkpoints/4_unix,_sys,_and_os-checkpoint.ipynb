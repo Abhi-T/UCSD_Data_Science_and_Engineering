{
 "cells": [
  {
   "cell_type": "markdown",
   "metadata": {},
   "source": [
    "## The unix system\n",
    "\n",
    "* Prepending commands with !\n",
    "* Files, directories and paths\n",
    "* AWS, virtual machines and AMI's\n",
    "* Bash scripts (just to know what they are)\n",
    "* grep, wc, sort\n",
    "* .bashrc, environmental variables, paths."
   ]
  },
  {
   "cell_type": "code",
   "execution_count": 1,
   "metadata": {
    "collapsed": false
   },
   "outputs": [
    {
     "name": "stdout",
     "output_type": "stream",
     "text": [
      "/home/orysya\n"
     ]
    }
   ],
   "source": [
    "%cd ~"
   ]
  },
  {
   "cell_type": "markdown",
   "metadata": {},
   "source": [
    "## listing files\n",
    "* The `ls` command lists the files in the current directory\n",
    "* `ls -F` identifies each files as directory, executable, text\n",
    "* `ls -lrta`: \n",
    "    * `l` (long) lists extensive information about each file\n",
    "    * `rt` (reverse time): list files in reverse order in time.\n",
    "    * `a` show hidden files (whose names start with .)"
   ]
  },
  {
   "cell_type": "code",
   "execution_count": 2,
   "metadata": {
    "collapsed": false
   },
   "outputs": [
    {
     "name": "stdout",
     "output_type": "stream",
     "text": [
      "/home/orysya\n",
      "anaconda2  Documents  examples.desktop\tPictures  Templates\n",
      "Desktop    Downloads  Music\t\tPublic\t  Videos\n"
     ]
    }
   ],
   "source": [
    "%cd ~\n",
    "!ls"
   ]
  },
  {
   "cell_type": "code",
   "execution_count": 3,
   "metadata": {
    "collapsed": false
   },
   "outputs": [
    {
     "name": "stdout",
     "output_type": "stream",
     "text": [
      "anaconda2/  Documents/\texamples.desktop  Pictures/  Templates/\r\n",
      "Desktop/    Downloads/\tMusic/\t\t  Public/    Videos/\r\n"
     ]
    }
   ],
   "source": [
    "!ls -F"
   ]
  },
  {
   "cell_type": "code",
   "execution_count": 4,
   "metadata": {
    "collapsed": false
   },
   "outputs": [
    {
     "name": "stdout",
     "output_type": "stream",
     "text": [
      "total 132\r\n",
      "drwxr-xr-x  3 root   root   4096 Oct 13 11:10 ..\r\n",
      "-rw-r--r--  1 orysya orysya  655 Oct 13 11:10 .profile\r\n",
      "-rw-r--r--  1 orysya orysya 8980 Oct 13 11:10 examples.desktop\r\n",
      "-rw-r--r--  1 orysya orysya  220 Oct 13 11:10 .bash_logout\r\n",
      "-rw-r--r--  1 orysya orysya   25 Oct 13 11:16 .dmrc\r\n",
      "drwxr-xr-x  2 orysya orysya 4096 Oct 13 11:16 Desktop\r\n",
      "drwxr-xr-x  2 orysya orysya 4096 Oct 13 11:16 Videos\r\n",
      "drwxr-xr-x  2 orysya orysya 4096 Oct 13 11:16 Templates\r\n",
      "drwxr-xr-x  2 orysya orysya 4096 Oct 13 11:16 Public\r\n",
      "drwxr-xr-x  2 orysya orysya 4096 Oct 13 11:16 Pictures\r\n",
      "drwxr-xr-x  2 orysya orysya 4096 Oct 13 11:16 Music\r\n",
      "drwx------  3 orysya orysya 4096 Oct 13 11:16 .local\r\n",
      "drwx------ 14 orysya orysya 4096 Oct 13 11:28 .config\r\n",
      "-rw-------  1 orysya orysya 2202 Oct 13 15:32 .xsession-errors.old\r\n",
      "-rw-------  1 orysya orysya   51 Oct 13 15:32 .Xauthority\r\n",
      "-rw-------  1 orysya orysya   82 Oct 13 15:32 .xsession-errors\r\n",
      "drwx------  3 orysya orysya 4096 Oct 13 15:32 .gnupg\r\n",
      "-rw-------  1 orysya orysya  640 Oct 13 15:32 .ICEauthority\r\n",
      "drwxr-xr-x  2 orysya orysya 4096 Oct 13 15:41 Downloads\r\n",
      "drwx------  4 orysya orysya 4096 Oct 13 15:42 .mozilla\r\n",
      "drwx------  2 orysya orysya 4096 Oct 13 15:42 .gconf\r\n",
      "drwxr-xr-x  3 orysya orysya 4096 Oct 13 15:50 Documents\r\n",
      "drwxrwxr-x  2 orysya orysya 4096 Oct 13 16:01 .continuum\r\n",
      "-rw-r--r--  1 orysya orysya 3771 Oct 13 16:18 .bashrc-anaconda2.bak\r\n",
      "-rw-r--r--  1 orysya orysya 3856 Oct 13 16:18 .bashrc\r\n",
      "drwx------ 12 orysya orysya 4096 Oct 13 16:39 .cache\r\n",
      "drwxr-xr-x  5 orysya orysya 4096 Oct 13 16:40 .ipython\r\n",
      "-rw-------  1 orysya orysya  300 Oct 13 17:15 .bash_history\r\n",
      "drwxr-xr-x  2 orysya orysya 4096 Oct 13 17:16 .jupyter\r\n",
      "drwxr-xr-x 20 orysya orysya 4096 Oct 13 17:16 .\r\n",
      "drwxrwxr-x 14 orysya orysya 4096 Oct 13 17:36 anaconda2\r\n"
     ]
    }
   ],
   "source": [
    "!ls -lrta"
   ]
  },
  {
   "cell_type": "code",
   "execution_count": 9,
   "metadata": {
    "collapsed": false,
    "scrolled": true
   },
   "outputs": [
    {
     "name": "stdout",
     "output_type": "stream",
     "text": [
      "anaconda2/bin/2to3:                                         a /home/orysya/anaconda2/bin/python script, ASCII text executable\n",
      "anaconda2/bin/activate:                                     Bourne-Again shell script, ASCII text executable\n",
      "anaconda2/bin/activate-global-python-argcomplete:           a /home/orysya/anaconda2/bin/python script, ASCII text executable\n",
      "anaconda2/bin/anaconda:                                     a /home/orysya/anaconda2/bin/python script, ASCII text executable\n",
      "anaconda2/bin/anaconda-navigator:                           a /home/orysya/anaconda2/bin/python script, ASCII text executable\n",
      "anaconda2/bin/asadmin:                                      a /home/orysya/anaconda2/bin/python script, ASCII text executable\n",
      "anaconda2/bin/assistant-qt4:                                ELF 64-bit LSB executable, x86-64, version 1 (SYSV), dynamically linked, interpreter /lib64/ld-linux-x86-64.so.2, for GNU/Linux 2.6.9, stripped\n",
      "anaconda2/bin/binstar:                                      a /home/orysya/anaconda2/bin/python script, ASCII text executable\n",
      "anaconda2/bin/bokeh:                                        a /home/orysya/anaconda2/bin/python script, ASCII text executable\n",
      "anaconda2/bin/bokeh-server:                                 a /home/orysya/anaconda2/bin/python script, ASCII text executable\n",
      "anaconda2/bin/bundle_image:                                 a /home/orysya/anaconda2/bin/python script, ASCII text executable\n",
      "anaconda2/bin/c_rehash:                                     a /usr/bin/perl script, ASCII text executable\n",
      "anaconda2/bin/cairo-trace:                                  POSIX shell script, ASCII text executable\n",
      "anaconda2/bin/cfadmin:                                      a /home/orysya/anaconda2/bin/python script, ASCII text executable\n",
      "anaconda2/bin/conda:                                        a /home/orysya/anaconda2/bin/python script, ASCII text executable\n",
      "anaconda2/bin/conda-build:                                  a /home/orysya/anaconda2/bin/python script, ASCII text executable\n",
      "anaconda2/bin/conda-convert:                                a /home/orysya/anaconda2/bin/python script, ASCII text executable\n",
      "anaconda2/bin/conda-develop:                                a /home/orysya/anaconda2/bin/python script, ASCII text executable\n",
      "anaconda2/bin/conda-env:                                    a /home/orysya/anaconda2/bin/python script, ASCII text executable\n",
      "anaconda2/bin/conda-index:                                  a /home/orysya/anaconda2/bin/python script, ASCII text executable\n",
      "anaconda2/bin/conda-inspect:                                a /home/orysya/anaconda2/bin/python script, ASCII text executable\n",
      "anaconda2/bin/conda-metapackage:                            a /home/orysya/anaconda2/bin/python script, ASCII text executable\n",
      "anaconda2/bin/conda-pipbuild:                               a /home/orysya/anaconda2/bin/python script, ASCII text executable\n",
      "anaconda2/bin/conda-render:                                 a /home/orysya/anaconda2/bin/python script, ASCII text executable\n",
      "anaconda2/bin/conda-server:                                 a /home/orysya/anaconda2/bin/python script, ASCII text executable\n",
      "anaconda2/bin/conda-sign:                                   a /home/orysya/anaconda2/bin/python script, ASCII text executable\n",
      "anaconda2/bin/conda-skeleton:                               a /home/orysya/anaconda2/bin/python script, ASCII text executable\n",
      "anaconda2/bin/cq:                                           a /home/orysya/anaconda2/bin/python script, ASCII text executable\n",
      "anaconda2/bin/curl:                                         ELF 64-bit LSB executable, x86-64, version 1 (SYSV), dynamically linked, interpreter /lib64/ld-linux-x86-64.so.2, for GNU/Linux 2.6.9, not stripped\n",
      "anaconda2/bin/curl-config:                                  POSIX shell script, ASCII text executable\n",
      "anaconda2/bin/curve_keygen:                                 ELF 64-bit LSB executable, x86-64, version 1 (SYSV), dynamically linked, interpreter /lib64/ld-linux-x86-64.so.2, for GNU/Linux 2.6.9, not stripped\n",
      "anaconda2/bin/cwutil:                                       a /home/orysya/anaconda2/bin/python script, ASCII text executable\n",
      "anaconda2/bin/cygdb:                                        a /home/orysya/anaconda2/bin/python script, ASCII text executable\n",
      "anaconda2/bin/cython:                                       a /home/orysya/anaconda2/bin/python script, ASCII text executable\n",
      "anaconda2/bin/cythonize:                                    a /home/orysya/anaconda2/bin/python script, ASCII text executable\n",
      "anaconda2/bin/deactivate:                                   Bourne-Again shell script, ASCII text executable\n",
      "anaconda2/bin/designer-qt4:                                 ELF 64-bit LSB executable, x86-64, version 1 (SYSV), dynamically linked, interpreter /lib64/ld-linux-x86-64.so.2, for GNU/Linux 2.6.9, stripped\n",
      "anaconda2/bin/dynamodb_dump:                                a /home/orysya/anaconda2/bin/python script, ASCII text executable\n",
      "anaconda2/bin/dynamodb_load:                                a /home/orysya/anaconda2/bin/python script, ASCII text executable\n",
      "anaconda2/bin/easy_install:                                 a /home/orysya/anaconda2/bin/python script, ASCII text executable\n",
      "anaconda2/bin/easy_install-2.7:                             symbolic link to easy_install\n",
      "anaconda2/bin/elbadmin:                                     a /home/orysya/anaconda2/bin/python script, ASCII text executable\n",
      "anaconda2/bin/f2py:                                         a /home/orysya/anaconda2/bin/python script, ASCII text executable\n",
      "anaconda2/bin/fc-cache:                                     ELF 64-bit LSB executable, x86-64, version 1 (SYSV), dynamically linked, interpreter /lib64/ld-linux-x86-64.so.2, for GNU/Linux 2.6.9, not stripped\n",
      "anaconda2/bin/fc-cat:                                       ELF 64-bit LSB executable, x86-64, version 1 (SYSV), dynamically linked, interpreter /lib64/ld-linux-x86-64.so.2, for GNU/Linux 2.6.9, not stripped\n",
      "anaconda2/bin/fc-list:                                      ELF 64-bit LSB executable, x86-64, version 1 (SYSV), dynamically linked, interpreter /lib64/ld-linux-x86-64.so.2, for GNU/Linux 2.6.9, not stripped\n",
      "anaconda2/bin/fc-match:                                     ELF 64-bit LSB executable, x86-64, version 1 (SYSV), dynamically linked, interpreter /lib64/ld-linux-x86-64.so.2, for GNU/Linux 2.6.9, not stripped\n",
      "anaconda2/bin/fc-pattern:                                   ELF 64-bit LSB executable, x86-64, version 1 (SYSV), dynamically linked, interpreter /lib64/ld-linux-x86-64.so.2, for GNU/Linux 2.6.9, not stripped\n",
      "anaconda2/bin/fc-query:                                     ELF 64-bit LSB executable, x86-64, version 1 (SYSV), dynamically linked, interpreter /lib64/ld-linux-x86-64.so.2, for GNU/Linux 2.6.9, not stripped\n",
      "anaconda2/bin/fc-scan:                                      ELF 64-bit LSB executable, x86-64, version 1 (SYSV), dynamically linked, interpreter /lib64/ld-linux-x86-64.so.2, for GNU/Linux 2.6.9, not stripped\n",
      "anaconda2/bin/fc-validate:                                  ELF 64-bit LSB executable, x86-64, version 1 (SYSV), dynamically linked, interpreter /lib64/ld-linux-x86-64.so.2, for GNU/Linux 2.6.9, not stripped\n",
      "anaconda2/bin/fetch_file:                                   a /home/orysya/anaconda2/bin/python script, ASCII text executable\n",
      "anaconda2/bin/fits2bitmap:                                  a /home/orysya/anaconda2/bin/python script, ASCII text executable\n",
      "anaconda2/bin/fitscheck:                                    a /home/orysya/anaconda2/bin/python script, ASCII text executable\n",
      "anaconda2/bin/fitsdiff:                                     a /home/orysya/anaconda2/bin/python script, ASCII text executable\n",
      "anaconda2/bin/fitsheader:                                   a /home/orysya/anaconda2/bin/python script, ASCII text executable\n",
      "anaconda2/bin/fitsinfo:                                     a /home/orysya/anaconda2/bin/python script, ASCII text executable\n",
      "anaconda2/bin/flask:                                        a /home/orysya/anaconda2/bin/python script, ASCII text executable\n",
      "anaconda2/bin/freetype-config:                              POSIX shell script, ASCII text executable\n",
      "anaconda2/bin/get_objgraph.py:                              a /home/orysya/anaconda2/bin/python script, ASCII text executable\n",
      "anaconda2/bin/gif2h5:                                       ELF 64-bit LSB executable, x86-64, version 1 (SYSV), dynamically linked, interpreter /lib64/ld-linux-x86-64.so.2, for GNU/Linux 2.6.9, not stripped\n",
      "anaconda2/bin/glacier:                                      a /home/orysya/anaconda2/bin/python script, ASCII text executable\n",
      "anaconda2/bin/grin:                                         a /home/orysya/anaconda2/bin/python script, ASCII text executable\n",
      "anaconda2/bin/grind:                                        a /home/orysya/anaconda2/bin/python script, ASCII text executable\n",
      "anaconda2/bin/h52gif:                                       ELF 64-bit LSB executable, x86-64, version 1 (SYSV), dynamically linked, interpreter /lib64/ld-linux-x86-64.so.2, for GNU/Linux 2.6.9, not stripped\n",
      "anaconda2/bin/h5c++:                                        POSIX shell script, ASCII text executable\n",
      "anaconda2/bin/h5cc:                                         POSIX shell script, ASCII text executable\n",
      "anaconda2/bin/h5copy:                                       ELF 64-bit LSB executable, x86-64, version 1 (SYSV), dynamically linked, interpreter /lib64/ld-linux-x86-64.so.2, for GNU/Linux 2.6.9, not stripped\n",
      "anaconda2/bin/h5debug:                                      ELF 64-bit LSB executable, x86-64, version 1 (SYSV), dynamically linked, interpreter /lib64/ld-linux-x86-64.so.2, for GNU/Linux 2.6.9, not stripped\n",
      "anaconda2/bin/h5diff:                                       ELF 64-bit LSB executable, x86-64, version 1 (SYSV), dynamically linked, interpreter /lib64/ld-linux-x86-64.so.2, for GNU/Linux 2.6.9, not stripped\n",
      "anaconda2/bin/h5dump:                                       ELF 64-bit LSB executable, x86-64, version 1 (SYSV), dynamically linked, interpreter /lib64/ld-linux-x86-64.so.2, for GNU/Linux 2.6.9, not stripped\n",
      "anaconda2/bin/h5import:                                     ELF 64-bit LSB executable, x86-64, version 1 (SYSV), dynamically linked, interpreter /lib64/ld-linux-x86-64.so.2, for GNU/Linux 2.6.9, not stripped\n",
      "anaconda2/bin/h5jam:                                        ELF 64-bit LSB executable, x86-64, version 1 (SYSV), dynamically linked, interpreter /lib64/ld-linux-x86-64.so.2, for GNU/Linux 2.6.9, not stripped\n",
      "anaconda2/bin/h5ls:                                         ELF 64-bit LSB executable, x86-64, version 1 (SYSV), dynamically linked, interpreter /lib64/ld-linux-x86-64.so.2, for GNU/Linux 2.6.9, not stripped\n",
      "anaconda2/bin/h5mkgrp:                                      ELF 64-bit LSB executable, x86-64, version 1 (SYSV), dynamically linked, interpreter /lib64/ld-linux-x86-64.so.2, for GNU/Linux 2.6.9, not stripped\n",
      "anaconda2/bin/h5perf_serial:                                ELF 64-bit LSB executable, x86-64, version 1 (SYSV), dynamically linked, interpreter /lib64/ld-linux-x86-64.so.2, for GNU/Linux 2.6.9, not stripped\n",
      "anaconda2/bin/h5redeploy:                                   POSIX shell script, ASCII text executable\n",
      "anaconda2/bin/h5repack:                                     ELF 64-bit LSB executable, x86-64, version 1 (SYSV), dynamically linked, interpreter /lib64/ld-linux-x86-64.so.2, for GNU/Linux 2.6.9, not stripped\n",
      "anaconda2/bin/h5repart:                                     ELF 64-bit LSB executable, x86-64, version 1 (SYSV), dynamically linked, interpreter /lib64/ld-linux-x86-64.so.2, for GNU/Linux 2.6.9, not stripped\n",
      "anaconda2/bin/h5stat:                                       ELF 64-bit LSB executable, x86-64, version 1 (SYSV), dynamically linked, interpreter /lib64/ld-linux-x86-64.so.2, for GNU/Linux 2.6.9, not stripped\n",
      "anaconda2/bin/h5unjam:                                      ELF 64-bit LSB executable, x86-64, version 1 (SYSV), dynamically linked, interpreter /lib64/ld-linux-x86-64.so.2, for GNU/Linux 2.6.9, not stripped\n",
      "anaconda2/bin/idle:                                         a /home/orysya/anaconda2/bin/python script, ASCII text executable\n",
      "anaconda2/bin/instance_events:                              a /home/orysya/anaconda2/bin/python script, ASCII text executable\n",
      "anaconda2/bin/iptest:                                       a /home/orysya/anaconda2/bin/python script, ASCII text executable\n",
      "anaconda2/bin/iptest2:                                      a /home/orysya/anaconda2/bin/python script, ASCII text executable\n",
      "anaconda2/bin/ipython:                                      a /home/orysya/anaconda2/bin/python script, ASCII text executable\n",
      "anaconda2/bin/ipython2:                                     a /home/orysya/anaconda2/bin/python script, ASCII text executable\n",
      "anaconda2/bin/isympy:                                       a /home/orysya/anaconda2/bin/python script, ASCII text executable\n",
      "anaconda2/bin/jsonschema:                                   a /home/orysya/anaconda2/bin/python script, ASCII text executable\n",
      "anaconda2/bin/jupyter:                                      a /home/orysya/anaconda2/bin/python script, ASCII text executable\n",
      "anaconda2/bin/jupyter-console:                              a /home/orysya/anaconda2/bin/python script, ASCII text executable\n",
      "anaconda2/bin/jupyter-kernelspec:                           a /home/orysya/anaconda2/bin/python script, ASCII text executable\n",
      "anaconda2/bin/jupyter-migrate:                              a /home/orysya/anaconda2/bin/python script, ASCII text executable\n",
      "anaconda2/bin/jupyter-nbconvert:                            a /home/orysya/anaconda2/bin/python script, ASCII text executable\n",
      "anaconda2/bin/jupyter-nbextension:                          a /home/orysya/anaconda2/bin/python script, ASCII text executable\n",
      "anaconda2/bin/jupyter-notebook:                             a /home/orysya/anaconda2/bin/python script, ASCII text executable\n",
      "anaconda2/bin/jupyter-qtconsole:                            a /home/orysya/anaconda2/bin/python script, ASCII text executable\n",
      "anaconda2/bin/jupyter-serverextension:                      a /home/orysya/anaconda2/bin/python script, ASCII text executable\n",
      "anaconda2/bin/jupyter-trust:                                a /home/orysya/anaconda2/bin/python script, ASCII text executable\n",
      "anaconda2/bin/kill_instance:                                a /home/orysya/anaconda2/bin/python script, ASCII text executable\n",
      "anaconda2/bin/launch_instance:                              a /home/orysya/anaconda2/bin/python script, ASCII text executable, with very long lines\n",
      "anaconda2/bin/lconvert-qt4:                                 ELF 64-bit LSB executable, x86-64, version 1 (SYSV), dynamically linked, interpreter /lib64/ld-linux-x86-64.so.2, for GNU/Linux 2.6.9, stripped\n",
      "anaconda2/bin/libdynd-config:                               a /usr/bin/env sh script, ASCII text executable\n",
      "anaconda2/bin/libpng-config:                                symbolic link to libpng16-config\n",
      "anaconda2/bin/libpng16-config:                              POSIX shell script, ASCII text executable\n",
      "anaconda2/bin/linguist-qt4:                                 ELF 64-bit LSB executable, x86-64, version 1 (SYSV), dynamically linked, interpreter /lib64/ld-linux-x86-64.so.2, for GNU/Linux 2.6.9, stripped\n",
      "anaconda2/bin/list_instances:                               a /home/orysya/anaconda2/bin/python script, ASCII text executable\n",
      "anaconda2/bin/lrelease-qt4:                                 ELF 64-bit LSB executable, x86-64, version 1 (SYSV), dynamically linked, interpreter /lib64/ld-linux-x86-64.so.2, for GNU/Linux 2.6.9, stripped\n",
      "anaconda2/bin/lss3:                                         a /home/orysya/anaconda2/bin/python script, ASCII text executable\n",
      "anaconda2/bin/lupdate-qt4:                                  ELF 64-bit LSB executable, x86-64, version 1 (SYSV), dynamically linked, interpreter /lib64/ld-linux-x86-64.so.2, for GNU/Linux 2.6.9, stripped\n",
      "anaconda2/bin/moc-qt4:                                      ELF 64-bit LSB executable, x86-64, version 1 (SYSV), dynamically linked, interpreter /lib64/ld-linux-x86-64.so.2, for GNU/Linux 2.6.9, stripped\n",
      "anaconda2/bin/mturk:                                        a /home/orysya/anaconda2/bin/python script, ASCII text executable\n",
      "anaconda2/bin/nbpresent:                                    a /home/orysya/anaconda2/bin/python script, ASCII text executable\n",
      "anaconda2/bin/nosetests:                                    a /home/orysya/anaconda2/bin/python script, ASCII text executable\n",
      "anaconda2/bin/numba:                                        a /home/orysya/anaconda2/bin/python script, ASCII text executable\n",
      "anaconda2/bin/odo:                                          a /home/orysya/anaconda2/bin/python script, ASCII text executable\n",
      "anaconda2/bin/openssl:                                      ELF 64-bit LSB executable, x86-64, version 1 (SYSV), dynamically linked, interpreter /lib64/ld-linux-x86-64.so.2, for GNU/Linux 2.6.9, not stripped\n",
      "anaconda2/bin/patchelf:                                     ELF 64-bit LSB executable, x86-64, version 1 (SYSV), dynamically linked, interpreter /lib64/ld-linux-x86-64.so.2, for GNU/Linux 2.6.9, not stripped\n",
      "anaconda2/bin/pep8:                                         a /home/orysya/anaconda2/bin/python script, ASCII text executable\n",
      "anaconda2/bin/pip:                                          a /home/orysya/anaconda2/bin/python script, ASCII text executable\n",
      "anaconda2/bin/pixeltool-qt4:                                ELF 64-bit LSB executable, x86-64, version 1 (SYSV), dynamically linked, interpreter /lib64/ld-linux-x86-64.so.2, for GNU/Linux 2.6.9, stripped\n",
      "anaconda2/bin/png-fix-itxt:                                 ELF 64-bit LSB executable, x86-64, version 1 (SYSV), dynamically linked, interpreter /lib64/ld-linux-x86-64.so.2, for GNU/Linux 2.6.9, not stripped\n",
      "anaconda2/bin/pngfix:                                       ELF 64-bit LSB executable, x86-64, version 1 (SYSV), dynamically linked, interpreter /lib64/ld-linux-x86-64.so.2, for GNU/Linux 2.6.9, not stripped\n",
      "anaconda2/bin/pt2to3:                                       a /home/orysya/anaconda2/bin/python script, ASCII text executable\n",
      "anaconda2/bin/ptdump:                                       a /home/orysya/anaconda2/bin/python script, ASCII text executable\n",
      "anaconda2/bin/ptrepack:                                     a /home/orysya/anaconda2/bin/python script, ASCII text executable\n",
      "anaconda2/bin/pttree:                                       a /home/orysya/anaconda2/bin/python script, ASCII text executable\n",
      "anaconda2/bin/py.test:                                      a /home/orysya/anaconda2/bin/python script, ASCII text executable\n",
      "anaconda2/bin/pyami_sendmail:                               a /home/orysya/anaconda2/bin/python script, ASCII text executable\n",
      "anaconda2/bin/pybabel:                                      a /home/orysya/anaconda2/bin/python script, ASCII text executable\n",
      "anaconda2/bin/pycc:                                         a /home/orysya/anaconda2/bin/python script, ASCII text executable\n",
      "anaconda2/bin/pydoc:                                        a /home/orysya/anaconda2/bin/python script, ASCII text executable\n",
      "anaconda2/bin/pyflakes:                                     a /home/orysya/anaconda2/bin/python script, ASCII text executable\n",
      "anaconda2/bin/pygmentize:                                   a /home/orysya/anaconda2/bin/python script, ASCII text executable\n",
      "anaconda2/bin/pylupdate4:                                   ELF 64-bit LSB executable, x86-64, version 1 (SYSV), dynamically linked, interpreter /lib64/ld-linux-x86-64.so.2, for GNU/Linux 2.6.9, not stripped\n",
      "anaconda2/bin/pyrcc4:                                       ELF 64-bit LSB executable, x86-64, version 1 (SYSV), dynamically linked, interpreter /lib64/ld-linux-x86-64.so.2, for GNU/Linux 2.6.9, not stripped\n",
      "anaconda2/bin/python:                                       symbolic link to python2.7\n",
      "anaconda2/bin/python-argcomplete-check-easy-install-script: a /home/orysya/anaconda2/bin/python script, ASCII text executable\n",
      "anaconda2/bin/python-config:                                a /home/orysya/anaconda2/bin/python script, ASCII text executable\n",
      "anaconda2/bin/python2:                                      symbolic link to python2.7\n",
      "anaconda2/bin/python2.7:                                    ELF 64-bit LSB executable, x86-64, version 1 (SYSV), dynamically linked, interpreter /lib64/ld-linux-x86-64.so.2, for GNU/Linux 2.6.9, not stripped\n",
      "anaconda2/bin/pyuic4:                                       POSIX shell script, ASCII text executable\n",
      "anaconda2/bin/qcollectiongenerator-qt4:                     ELF 64-bit LSB executable, x86-64, version 1 (SYSV), dynamically linked, interpreter /lib64/ld-linux-x86-64.so.2, for GNU/Linux 2.6.9, stripped\n",
      "anaconda2/bin/qdbus-qt4:                                    ELF 64-bit LSB executable, x86-64, version 1 (SYSV), dynamically linked, interpreter /lib64/ld-linux-x86-64.so.2, for GNU/Linux 2.6.9, stripped\n",
      "anaconda2/bin/qdbuscpp2xml-qt4:                             ELF 64-bit LSB executable, x86-64, version 1 (SYSV), dynamically linked, interpreter /lib64/ld-linux-x86-64.so.2, for GNU/Linux 2.6.9, stripped\n",
      "anaconda2/bin/qdbusviewer-qt4:                              ELF 64-bit LSB executable, x86-64, version 1 (SYSV), dynamically linked, interpreter /lib64/ld-linux-x86-64.so.2, for GNU/Linux 2.6.9, stripped\n",
      "anaconda2/bin/qdbusxml2cpp-qt4:                             ELF 64-bit LSB executable, x86-64, version 1 (SYSV), dynamically linked, interpreter /lib64/ld-linux-x86-64.so.2, for GNU/Linux 2.6.9, stripped\n",
      "anaconda2/bin/qdoc3-qt4:                                    ELF 64-bit LSB executable, x86-64, version 1 (SYSV), dynamically linked, interpreter /lib64/ld-linux-x86-64.so.2, for GNU/Linux 2.6.9, stripped\n",
      "anaconda2/bin/qhelpconverter-qt4:                           ELF 64-bit LSB executable, x86-64, version 1 (SYSV), dynamically linked, interpreter /lib64/ld-linux-x86-64.so.2, for GNU/Linux 2.6.9, stripped\n",
      "anaconda2/bin/qhelpgenerator-qt4:                           ELF 64-bit LSB executable, x86-64, version 1 (SYSV), dynamically linked, interpreter /lib64/ld-linux-x86-64.so.2, for GNU/Linux 2.6.9, stripped\n",
      "anaconda2/bin/qmake-qt4:                                    ELF 64-bit LSB executable, x86-64, version 1 (SYSV), dynamically linked, interpreter /lib64/ld-linux-x86-64.so.2, for GNU/Linux 2.6.9, stripped\n",
      "anaconda2/bin/qmlplugindump-qt4:                            ELF 64-bit LSB executable, x86-64, version 1 (SYSV), dynamically linked, interpreter /lib64/ld-linux-x86-64.so.2, for GNU/Linux 2.6.9, stripped\n",
      "anaconda2/bin/qmlviewer-qt4:                                ELF 64-bit LSB executable, x86-64, version 1 (SYSV), dynamically linked, interpreter /lib64/ld-linux-x86-64.so.2, for GNU/Linux 2.6.9, stripped\n",
      "anaconda2/bin/qt.conf:                                      ASCII text\n",
      "anaconda2/bin/qt3to4-qt4:                                   ELF 64-bit LSB executable, x86-64, version 1 (SYSV), dynamically linked, interpreter /lib64/ld-linux-x86-64.so.2, for GNU/Linux 2.6.9, stripped\n",
      "anaconda2/bin/qtconfig-qt4:                                 ELF 64-bit LSB executable, x86-64, version 1 (SYSV), dynamically linked, interpreter /lib64/ld-linux-x86-64.so.2, for GNU/Linux 2.6.9, stripped\n",
      "anaconda2/bin/qttracereplay-qt4:                            ELF 64-bit LSB executable, x86-64, version 1 (SYSV), dynamically linked, interpreter /lib64/ld-linux-x86-64.so.2, for GNU/Linux 2.6.9, stripped\n",
      "anaconda2/bin/rcc-qt4:                                      ELF 64-bit LSB executable, x86-64, version 1 (SYSV), dynamically linked, interpreter /lib64/ld-linux-x86-64.so.2, for GNU/Linux 2.6.9, stripped\n",
      "anaconda2/bin/redis-benchmark:                              ELF 64-bit LSB executable, x86-64, version 1 (SYSV), dynamically linked, interpreter /lib64/ld-linux-x86-64.so.2, for GNU/Linux 2.6.9, not stripped\n",
      "anaconda2/bin/redis-check-aof:                              ELF 64-bit LSB executable, x86-64, version 1 (SYSV), dynamically linked, interpreter /lib64/ld-linux-x86-64.so.2, for GNU/Linux 2.6.9, not stripped\n",
      "anaconda2/bin/redis-check-rdb:                              ELF 64-bit LSB executable, x86-64, version 1 (SYSV), dynamically linked, interpreter /lib64/ld-linux-x86-64.so.2, for GNU/Linux 2.6.9, not stripped\n",
      "anaconda2/bin/redis-cli:                                    ELF 64-bit LSB executable, x86-64, version 1 (SYSV), dynamically linked, interpreter /lib64/ld-linux-x86-64.so.2, for GNU/Linux 2.6.9, not stripped\n",
      "anaconda2/bin/redis-sentinel:                               symbolic link to redis-server\n",
      "anaconda2/bin/redis-server:                                 ELF 64-bit LSB executable, x86-64, version 1 (SYSV), dynamically linked, interpreter /lib64/ld-linux-x86-64.so.2, for GNU/Linux 2.6.9, not stripped\n",
      "anaconda2/bin/register-python-argcomplete:                  a /home/orysya/anaconda2/bin/python script, ASCII text executable\n",
      "anaconda2/bin/route53:                                      a /home/orysya/anaconda2/bin/python script, ASCII text executable\n",
      "anaconda2/bin/rst2html.py:                                  a /home/orysya/anaconda2/bin/python script, ASCII text executable\n",
      "anaconda2/bin/rst2latex.py:                                 a /home/orysya/anaconda2/bin/python script, ASCII text executable\n",
      "anaconda2/bin/rst2man.py:                                   a /home/orysya/anaconda2/bin/python script, ASCII text executable\n",
      "anaconda2/bin/rst2odt.py:                                   a /home/orysya/anaconda2/bin/python script, ASCII text executable\n",
      "anaconda2/bin/rst2odt_prepstyles.py:                        a /home/orysya/anaconda2/bin/python script, ASCII text executable\n",
      "anaconda2/bin/rst2pseudoxml.py:                             a /home/orysya/anaconda2/bin/python script, ASCII text executable\n",
      "anaconda2/bin/rst2s5.py:                                    a /home/orysya/anaconda2/bin/python script, ASCII text executable\n",
      "anaconda2/bin/rst2xetex.py:                                 a /home/orysya/anaconda2/bin/python script, ASCII text executable\n",
      "anaconda2/bin/rst2xml.py:                                   a /home/orysya/anaconda2/bin/python script, ASCII text executable\n",
      "anaconda2/bin/rstpep2html.py:                               a /home/orysya/anaconda2/bin/python script, ASCII text executable\n",
      "anaconda2/bin/runxlrd.py:                                   a /home/orysya/anaconda2/bin/python script, ASCII text executable\n",
      "anaconda2/bin/s3put:                                        a /home/orysya/anaconda2/bin/python script, ASCII text executable\n",
      "anaconda2/bin/samp_hub:                                     a /home/orysya/anaconda2/bin/python script, ASCII text executable\n",
      "anaconda2/bin/sdbadmin:                                     a /home/orysya/anaconda2/bin/python script, ASCII text executable\n",
      "anaconda2/bin/sip:                                          ELF 64-bit LSB executable, x86-64, version 1 (SYSV), dynamically linked, interpreter /lib64/ld-linux-x86-64.so.2, for GNU/Linux 2.6.9, not stripped\n",
      "anaconda2/bin/skivi:                                        a /home/orysya/anaconda2/bin/python script, ASCII text executable\n",
      "anaconda2/bin/smtpd.py:                                     a /home/orysya/anaconda2/bin/python script, ASCII text executable\n",
      "anaconda2/bin/sphinx-apidoc:                                a /home/orysya/anaconda2/bin/python script, ASCII text executable\n",
      "anaconda2/bin/sphinx-autogen:                               a /home/orysya/anaconda2/bin/python script, ASCII text executable\n",
      "anaconda2/bin/sphinx-build:                                 a /home/orysya/anaconda2/bin/python script, ASCII text executable\n",
      "anaconda2/bin/sphinx-quickstart:                            a /home/orysya/anaconda2/bin/python script, ASCII text executable\n",
      "anaconda2/bin/spyder:                                       a /home/orysya/anaconda2/bin/python script, ASCII text executable\n",
      "anaconda2/bin/sqlite3:                                      ELF 64-bit LSB executable, x86-64, version 1 (SYSV), dynamically linked, interpreter /lib64/ld-linux-x86-64.so.2, for GNU/Linux 2.6.9, not stripped\n",
      "anaconda2/bin/taskadmin:                                    a /home/orysya/anaconda2/bin/python script, ASCII text executable\n",
      "anaconda2/bin/tclsh8.5:                                     ELF 64-bit LSB executable, x86-64, version 1 (SYSV), dynamically linked, interpreter /lib64/ld-linux-x86-64.so.2, for GNU/Linux 2.6.9, not stripped\n",
      "anaconda2/bin/test_libdynd:                                 ELF 64-bit LSB executable, x86-64, version 1 (GNU/Linux), dynamically linked, interpreter /lib64/ld-linux-x86-64.so.2, for GNU/Linux 2.6.24, BuildID[sha1]=f59e4cdc6f85949c3fd6f9c1a6c49f7dbe6a9f58, not stripped\n",
      "anaconda2/bin/uic-qt4:                                      ELF 64-bit LSB executable, x86-64, version 1 (SYSV), dynamically linked, interpreter /lib64/ld-linux-x86-64.so.2, for GNU/Linux 2.6.9, stripped\n",
      "anaconda2/bin/unpickle.py:                                  a /home/orysya/anaconda2/bin/python script, ASCII text executable\n",
      "anaconda2/bin/unxz:                                         symbolic link to xz\n",
      "anaconda2/bin/vba_extract.py:                               a /home/orysya/anaconda2/bin/python script, ASCII text executable\n",
      "anaconda2/bin/volint:                                       a /home/orysya/anaconda2/bin/python script, ASCII text executable\n",
      "anaconda2/bin/wcslint:                                      a /home/orysya/anaconda2/bin/python script, ASCII text executable\n",
      "anaconda2/bin/wheel:                                        a /home/orysya/anaconda2/bin/python script, ASCII text executable\n",
      "anaconda2/bin/wish8.5:                                      ELF 64-bit LSB executable, x86-64, version 1 (SYSV), dynamically linked, interpreter /lib64/ld-linux-x86-64.so.2, for GNU/Linux 2.6.9, not stripped\n",
      "anaconda2/bin/xml2-config:                                  POSIX shell script, ASCII text executable\n",
      "anaconda2/bin/xmlcatalog:                                   ELF 64-bit LSB executable, x86-64, version 1 (SYSV), dynamically linked, interpreter /lib64/ld-linux-x86-64.so.2, for GNU/Linux 2.6.9, not stripped\n",
      "anaconda2/bin/xmllint:                                      ELF 64-bit LSB executable, x86-64, version 1 (SYSV), dynamically linked, interpreter /lib64/ld-linux-x86-64.so.2, for GNU/Linux 2.6.9, not stripped\n",
      "anaconda2/bin/xmlpatterns-qt4:                              ELF 64-bit LSB executable, x86-64, version 1 (SYSV), dynamically linked, interpreter /lib64/ld-linux-x86-64.so.2, for GNU/Linux 2.6.9, stripped\n",
      "anaconda2/bin/xmlpatternsvalidator-qt4:                     ELF 64-bit LSB executable, x86-64, version 1 (SYSV), dynamically linked, interpreter /lib64/ld-linux-x86-64.so.2, for GNU/Linux 2.6.9, stripped\n",
      "anaconda2/bin/xslt-config:                                  POSIX shell script, ASCII text executable\n",
      "anaconda2/bin/xsltproc:                                     ELF 64-bit LSB executable, x86-64, version 1 (SYSV), dynamically linked, interpreter /lib64/ld-linux-x86-64.so.2, for GNU/Linux 2.6.9, not stripped\n",
      "anaconda2/bin/xz:                                           ELF 64-bit LSB executable, x86-64, version 1 (SYSV), dynamically linked, interpreter /lib64/ld-linux-x86-64.so.2, for GNU/Linux 2.6.9, not stripped\n"
     ]
    }
   ],
   "source": [
    "## Find out type of file\n",
    "!file anaconda2/bin/*"
   ]
  },
  {
   "cell_type": "markdown",
   "metadata": {},
   "source": [
    "## Navigating file paths"
   ]
  },
  {
   "cell_type": "code",
   "execution_count": 6,
   "metadata": {
    "collapsed": false,
    "scrolled": true
   },
   "outputs": [
    {
     "name": "stdout",
     "output_type": "stream",
     "text": [
      "/home/orysya\r\n"
     ]
    }
   ],
   "source": [
    "# pwd identifies the current working directory\n",
    "!pwd"
   ]
  },
  {
   "cell_type": "code",
   "execution_count": 10,
   "metadata": {
    "collapsed": false
   },
   "outputs": [
    {
     "name": "stdout",
     "output_type": "stream",
     "text": [
      "ls: cannot access '/home/ubuntu': No such file or directory\r\n"
     ]
    }
   ],
   "source": [
    "# /home/ubuntu is the home directory of the user \"ubuntu\" that is - you!\n",
    "!ls -lrt /home/ubuntu"
   ]
  },
  {
   "cell_type": "code",
   "execution_count": 14,
   "metadata": {
    "collapsed": false
   },
   "outputs": [
    {
     "name": "stdout",
     "output_type": "stream",
     "text": [
      "/home/orysya\n"
     ]
    }
   ],
   "source": [
    "# A shorthand for the home directory of the current user is \"~\"\n",
    "%cd ~"
   ]
  },
  {
   "cell_type": "code",
   "execution_count": 16,
   "metadata": {
    "collapsed": false
   },
   "outputs": [
    {
     "name": "stdout",
     "output_type": "stream",
     "text": [
      "/home/orysya\r\n"
     ]
    }
   ],
   "source": [
    "# !cd causes unix to move to a different directory, but leaves python behind\n",
    "!cd /home/orysya/Documents/\n",
    "!pwd"
   ]
  },
  {
   "cell_type": "code",
   "execution_count": 18,
   "metadata": {
    "collapsed": false
   },
   "outputs": [
    {
     "name": "stdout",
     "output_type": "stream",
     "text": [
      "/home/orysya/Documents/DSE/DSE200-notebooks\n"
     ]
    }
   ],
   "source": [
    "# To actually change the directory use the magic %cd, which actually moves us and reports where we landed\n",
    "%cd ~/Documents/DSE/DSE200-notebooks/"
   ]
  },
  {
   "cell_type": "markdown",
   "metadata": {},
   "source": [
    "Some useful shorthands for navigating directories\n",
    "* **~** home directory of current user\n",
    "* **~john** home directory of the user \"john\"\n",
    "* **.** the current directory\n",
    "* **..** the parent directory of the current directory.\n"
   ]
  },
  {
   "cell_type": "code",
   "execution_count": 21,
   "metadata": {
    "collapsed": false
   },
   "outputs": [
    {
     "name": "stdout",
     "output_type": "stream",
     "text": [
      "/home/orysya/Documents/DSE/DSE200-notebooks/data\n",
      "!ls -F\n",
      "economics/  SQL/\t     ThinkStatsData/\t weather/\n",
      "NLTK/\t    thinkstatsdata/  twitter-diversity/\n",
      "!ls ../\n",
      "data\t\t\t      day_3_models_and_learning    README.md\n",
      "day_1_python_and_unix\t      day_4_OOP_and_matplotlib\n",
      "day_2_github_io_numpy_pandas  day_5_mining_the_Social_web\n"
     ]
    }
   ],
   "source": [
    "%cd ~/Documents/DSE/DSE200-notebooks/data\n",
    "print \"!ls -F\"\n",
    "!ls -F\n",
    "print \"!ls ../\"\n",
    "!ls ../"
   ]
  },
  {
   "cell_type": "markdown",
   "metadata": {},
   "source": [
    "### Symbolic links"
   ]
  },
  {
   "cell_type": "code",
   "execution_count": 22,
   "metadata": {
    "collapsed": false,
    "scrolled": true
   },
   "outputs": [
    {
     "name": "stdout",
     "output_type": "stream",
     "text": [
      "/home/orysya/Documents/DSE/DSE200-notebooks/data\n",
      "economics:\n",
      "AAA.csv  CPILFESL.csv  GS10.csv  INDPRO.csv\n",
      "BAA.csv  GDPC1.csv     GS1.csv\t UNRATE.csv\n",
      "\n",
      "NLTK:\n",
      "BrownNews.txt  Chopped\n",
      "\n",
      "SQL:\n",
      "data.csv  usa_lat_long.csv\n",
      "\n",
      "thinkstatsdata:\n",
      "\n",
      "ThinkStatsData:\n",
      "2002FemPreg.dat  binaryFile  pickle0.pkl  pickle.pkl\tpicklez2.pkl\n",
      "2002FemResp.dat  json.jsn    pickle1.pkl  picklez0.pkl\tsurvey.pl\n",
      "2002Male.dat\t json.pkl    pickle2.pkl  picklez1.pkl\tsurvey.tmp\n",
      "\n",
      "twitter-diversity:\n",
      "README.md  tag-volume.csv  total-volume.csv\n",
      "\n",
      "weather:\n",
      "ALL.corrupted.csv  ghcnd-stations_buffered.txt\tSAMPLE_TMAX.csv\n",
      "ALL.head.csv\t   ghcnd-stations.txt\t\tTMAX.10.csv\n",
      "data-source.txt    ghcnd-version.txt\t\tTMAX.head.csv\n",
      "ghcnd-readme.txt   make_covar.raw_256\n"
     ]
    }
   ],
   "source": [
    "# \"scripts\" and \"data\" are not actual directories, rather they are symbolic links to directories\n",
    "%cd ~/Documents/DSE/DSE200-notebooks/data\n",
    "!ls *"
   ]
  },
  {
   "cell_type": "code",
   "execution_count": 25,
   "metadata": {
    "collapsed": false
   },
   "outputs": [
    {
     "name": "stdout",
     "output_type": "stream",
     "text": [
      "/home/orysya\n",
      "ln: failed to create symbolic link 'minced': File exists\n",
      "lrwxrwxrwx 1 orysya orysya 24 Oct 13 17:46 minced -> DSE200/data/NLTK/Chopped\n",
      "cat: minced/F0: No such file or directory\n"
     ]
    }
   ],
   "source": [
    "# Symbolic links are created by the command \"ln -s\" \n",
    "# Here we create a link from the home directory to the directory DSE200/data/NLTK/Chopped\n",
    "%cd ~\n",
    "!ln -s Documents/DSE/DSE200-notebooks/data/NLTK/Chopped minced\n",
    "!ls -l minced\n",
    "# the unix command \"cat\" prints out the contents of a file.\n",
    "!cat minced/F0"
   ]
  },
  {
   "cell_type": "code",
   "execution_count": 26,
   "metadata": {
    "collapsed": false
   },
   "outputs": [
    {
     "name": "stdout",
     "output_type": "stream",
     "text": [
      "[Errno 2] No such file or directory: 'minced/'\n",
      "/home/orysya\n",
      "/home/orysya\r\n"
     ]
    }
   ],
   "source": [
    "%cd minced/\n",
    "!pwd"
   ]
  },
  {
   "cell_type": "markdown",
   "metadata": {},
   "source": [
    "### Creating files and directories"
   ]
  },
  {
   "cell_type": "code",
   "execution_count": 27,
   "metadata": {
    "collapsed": false
   },
   "outputs": [
    {
     "name": "stdout",
     "output_type": "stream",
     "text": [
      "/home/orysya/tmp\n"
     ]
    }
   ],
   "source": [
    "# to create a directory, use `mkdir`\n",
    "!mkdir ~/tmp\n",
    "%cd ~/tmp"
   ]
  },
  {
   "cell_type": "code",
   "execution_count": 28,
   "metadata": {
    "collapsed": false,
    "scrolled": true
   },
   "outputs": [
    {
     "name": "stdout",
     "output_type": "stream",
     "text": [
      "total 0\r\n",
      "-rw-rw-r-- 1 orysya orysya 0 Oct 13 17:48 file0\r\n",
      "-rw-rw-r-- 1 orysya orysya 0 Oct 13 17:48 file1\r\n",
      "-rw-rw-r-- 1 orysya orysya 0 Oct 13 17:48 file2\r\n",
      "-rw-rw-r-- 1 orysya orysya 0 Oct 13 17:48 file3\r\n",
      "-rw-rw-r-- 1 orysya orysya 0 Oct 13 17:48 file4\r\n",
      "-rw-rw-r-- 1 orysya orysya 0 Oct 13 17:48 file5\r\n",
      "-rw-rw-r-- 1 orysya orysya 0 Oct 13 17:48 file6\r\n",
      "-rw-rw-r-- 1 orysya orysya 0 Oct 13 17:48 file7\r\n",
      "-rw-rw-r-- 1 orysya orysya 0 Oct 13 17:48 file8\r\n",
      "-rw-rw-r-- 1 orysya orysya 0 Oct 13 17:48 file9\r\n"
     ]
    }
   ],
   "source": [
    "# to create a file or update the time-stamp of the file use `touch`\n",
    "for i in range(10):\n",
    "    !touch file$i\n",
    "!ls -l\n",
    "#path into operating system from python uses $"
   ]
  },
  {
   "cell_type": "markdown",
   "metadata": {},
   "source": [
    "### Moving and copying files"
   ]
  },
  {
   "cell_type": "code",
   "execution_count": 31,
   "metadata": {
    "collapsed": false,
    "scrolled": true
   },
   "outputs": [
    {
     "name": "stdout",
     "output_type": "stream",
     "text": [
      "/home/orysya/Documents/DSE/DSE200-notebooks/data/NLTK/Chopped\n",
      "Caesar.txt  F120  F141\tF164  F187  F209  F231\tF42  F64  F85\r\n",
      "F0\t    F121  F142\tF165  F189  F210  F232\tF43  F65  F86\r\n",
      "F1\t    F122  F144\tF166  F19   F211  F233\tF44  F66  F87\r\n",
      "F10\t    F123  F145\tF167  F190  F212  F24\tF45  F67  F88\r\n",
      "F100\t    F124  F146\tF168  F191  F213  F25\tF46  F68  F9\r\n",
      "F101\t    F125  F147\tF169  F192  F214  F26\tF48  F69  F90\r\n",
      "F102\t    F126  F148\tF170  F193  F215  F27\tF49  F7   F91\r\n",
      "F104\t    F127  F149\tF171  F194  F216  F28\tF5   F70  F93\r\n",
      "F106\t    F128  F15\tF172  F195  F218  F29\tF50  F71  F94\r\n",
      "F107\t    F129  F151\tF173  F196  F219  F3\tF51  F72  F95\r\n",
      "F108\t    F13   F152\tF174  F197  F22   F30\tF52  F73  F96\r\n",
      "F109\t    F130  F153\tF175  F198  F220  F31\tF53  F74  F97\r\n",
      "F11\t    F131  F154\tF176  F199  F221  F32\tF54  F75  F99\r\n",
      "F110\t    F132  F155\tF177  F2    F222  F33\tF55  F76  kings.txt\r\n",
      "F111\t    F133  F156\tF178  F20   F223  F34\tF56  F77  Leonidas.txt\r\n",
      "F112\t    F134  F157\tF179  F200  F224  F35\tF57  F78  reconstructedF.txt\r\n",
      "F113\t    F135  F158\tF18   F201  F225  F36\tF58  F79  subdir2\r\n",
      "F114\t    F136  F159\tF180  F202  F226  F37\tF59  F8\r\n",
      "F115\t    F137  F16\tF181  F204  F227  F38\tF6   F80\r\n",
      "F117\t    F138  F160\tF182  F205  F228  F39\tF60  F81\r\n",
      "F118\t    F139  F161\tF183  F206  F229  F4\tF61  F82\r\n",
      "F119\t    F14   F162\tF185  F207  F23   F40\tF62  F83\r\n",
      "F12\t    F140  F163\tF186  F208  F230  F41\tF63  F84\r\n"
     ]
    }
   ],
   "source": [
    "%cd ~/Documents/DSE/DSE200-notebooks/data/NLTK/Chopped/\n",
    "!ls"
   ]
  },
  {
   "cell_type": "code",
   "execution_count": 32,
   "metadata": {
    "collapsed": false
   },
   "outputs": [
    {
     "name": "stdout",
     "output_type": "stream",
     "text": [
      "[Errno 2] No such file or directory: '/home/orysya/DSE200/DSE200-notebooks-2015/data/'\n",
      "/home/orysya/Documents/DSE/DSE200-notebooks/data/NLTK/Chopped\n"
     ]
    }
   ],
   "source": [
    "%cd ~/DSE200/DSE200-notebooks-2015/data/\n",
    "#check out what was missed here"
   ]
  },
  {
   "cell_type": "code",
   "execution_count": 33,
   "metadata": {
    "collapsed": false
   },
   "outputs": [
    {
     "name": "stdout",
     "output_type": "stream",
     "text": [
      "  982 1006 act `` to have these la\r",
      "\r\n"
     ]
    }
   ],
   "source": [
    "!cat F138\n",
    "#shows contents of the file"
   ]
  },
  {
   "cell_type": "code",
   "execution_count": 39,
   "metadata": {
    "collapsed": false
   },
   "outputs": [
    {
     "name": "stdout",
     "output_type": "stream",
     "text": [
      "-rwxr--r-- 1 orysya orysya   20 Sep 30 16:08 F87\r\n",
      "\r\n",
      "tmp:\r\n",
      "total 8\r\n",
      "-rwxr--r-- 1 orysya orysya 20 Oct 13 17:51 F87\r\n",
      "-rwxr--r-- 1 orysya orysya 20 Oct 13 17:51 newname\r\n"
     ]
    }
   ],
   "source": [
    "# cp copies a file to a new location, maintaining the original copy\n",
    "!mkdir tmp\n",
    "!cp F87 tmp   # copy a file to a new location, maintaining the name\n",
    "!cp F87 tmp/newname # copy a file to a new location + name\n",
    "!ls -l F87 tmp"
   ]
  },
  {
   "cell_type": "code",
   "execution_count": 40,
   "metadata": {
    "collapsed": false
   },
   "outputs": [],
   "source": [
    "# you can also copy a whole directory and all it's subdirectories\n",
    "!cp -r tmp newtmp\n",
    "# -r is for recursive copy"
   ]
  },
  {
   "cell_type": "code",
   "execution_count": 41,
   "metadata": {
    "collapsed": false
   },
   "outputs": [
    {
     "name": "stdout",
     "output_type": "stream",
     "text": [
      "tmp/F87  tmp/newname\r\n",
      "\r\n",
      "tmp/newtmp:\r\n",
      "F87  newname\r\n"
     ]
    }
   ],
   "source": [
    "# mv moves a file, or a whole directory, to a new location or a new name.\n",
    "# it just manipulates pointers, so it is much faster than copy. (similar to \n",
    "# the difference between deep and shallow copy in python)\n",
    "!mv newtmp tmp # move directory to a new location\n",
    "!ls tmp/*"
   ]
  },
  {
   "cell_type": "code",
   "execution_count": 42,
   "metadata": {
    "collapsed": false
   },
   "outputs": [
    {
     "name": "stdout",
     "output_type": "stream",
     "text": [
      "tmp/F87  tmp/newername\r\n",
      "\r\n",
      "tmp/newtmp:\r\n",
      "F87  newname\r\n"
     ]
    }
   ],
   "source": [
    "# mv file or directory to a new name (=rename)\n",
    "!mv tmp/newname tmp/newername\n",
    "!ls tmp/*"
   ]
  },
  {
   "cell_type": "code",
   "execution_count": 38,
   "metadata": {
    "collapsed": false
   },
   "outputs": [],
   "source": [
    "#cleanup\n",
    "!rm -r tmp"
   ]
  },
  {
   "cell_type": "markdown",
   "metadata": {},
   "source": [
    "### Removing files and directories"
   ]
  },
  {
   "cell_type": "code",
   "execution_count": 43,
   "metadata": {
    "collapsed": false,
    "scrolled": true
   },
   "outputs": [
    {
     "name": "stdout",
     "output_type": "stream",
     "text": [
      "rm: cannot remove 'file1': No such file or directory\n",
      "rm: cannot remove 'file3': No such file or directory\n",
      "rm: cannot remove 'file5': No such file or directory\n",
      "rm: cannot remove 'file7': No such file or directory\n",
      "rm: cannot remove 'file9': No such file or directory\n",
      "total 900\n",
      "-rw-rw-rw- 1 orysya orysya  501 Oct 13 17:18 Caesar.txt\n",
      "-rwxr--r-- 1 orysya orysya   24 Sep 30 16:08 F0\n",
      "-rwxr--r-- 1 orysya orysya   15 Sep 30 16:08 F1\n",
      "-rwxr--r-- 1 orysya orysya   22 Sep 30 16:08 F10\n",
      "-rwxr--r-- 1 orysya orysya   14 Sep 30 16:08 F100\n",
      "-rwxr--r-- 1 orysya orysya   16 Sep 30 16:08 F101\n",
      "-rwxr--r-- 1 orysya orysya   25 Sep 30 16:08 F102\n",
      "-rwxr--r-- 1 orysya orysya   20 Sep 30 16:08 F104\n",
      "-rwxr--r-- 1 orysya orysya   28 Sep 30 16:08 F106\n",
      "-rwxr--r-- 1 orysya orysya   14 Sep 30 16:08 F107\n",
      "-rwxr--r-- 1 orysya orysya   16 Sep 30 16:08 F108\n",
      "-rwxr--r-- 1 orysya orysya   19 Sep 30 16:08 F109\n",
      "-rwxr--r-- 1 orysya orysya   20 Sep 30 16:08 F11\n",
      "-rwxr--r-- 1 orysya orysya   14 Sep 30 16:08 F110\n",
      "-rwxr--r-- 1 orysya orysya   16 Sep 30 16:08 F111\n",
      "-rwxr--r-- 1 orysya orysya   23 Sep 30 16:08 F112\n",
      "-rwxr--r-- 1 orysya orysya   13 Sep 30 16:08 F113\n",
      "-rwxr--r-- 1 orysya orysya   27 Sep 30 16:08 F114\n",
      "-rwxr--r-- 1 orysya orysya   15 Sep 30 16:08 F115\n",
      "-rwxr--r-- 1 orysya orysya   15 Sep 30 16:08 F117\n",
      "-rwxr--r-- 1 orysya orysya   13 Sep 30 16:08 F118\n",
      "-rwxr--r-- 1 orysya orysya   29 Sep 30 16:08 F119\n",
      "-rwxr--r-- 1 orysya orysya   31 Sep 30 16:08 F12\n",
      "-rwxr--r-- 1 orysya orysya   13 Sep 30 16:08 F120\n",
      "-rwxr--r-- 1 orysya orysya   15 Sep 30 16:08 F121\n",
      "-rwxr--r-- 1 orysya orysya   17 Sep 30 16:08 F122\n",
      "-rwxr--r-- 1 orysya orysya   16 Sep 30 16:08 F123\n",
      "-rwxr--r-- 1 orysya orysya   16 Sep 30 16:08 F124\n",
      "-rwxr--r-- 1 orysya orysya   19 Sep 30 16:08 F125\n",
      "-rwxr--r-- 1 orysya orysya   16 Sep 30 16:08 F126\n",
      "-rwxr--r-- 1 orysya orysya   16 Sep 30 16:08 F127\n",
      "-rwxr--r-- 1 orysya orysya   13 Sep 30 16:08 F128\n",
      "-rwxr--r-- 1 orysya orysya   13 Sep 30 16:08 F129\n",
      "-rwxr--r-- 1 orysya orysya   13 Sep 30 16:08 F13\n",
      "-rwxr--r-- 1 orysya orysya   21 Sep 30 16:08 F130\n",
      "-rwxr--r-- 1 orysya orysya   22 Sep 30 16:08 F131\n",
      "-rwxr--r-- 1 orysya orysya   18 Sep 30 16:08 F132\n",
      "-rwxr--r-- 1 orysya orysya   17 Sep 30 16:08 F133\n",
      "-rwxr--r-- 1 orysya orysya   23 Sep 30 16:08 F134\n",
      "-rwxr--r-- 1 orysya orysya   20 Sep 30 16:08 F135\n",
      "-rwxr--r-- 1 orysya orysya   13 Sep 30 16:08 F136\n",
      "-rwxr--r-- 1 orysya orysya   14 Sep 30 16:08 F137\n",
      "-rwxr--r-- 1 orysya orysya   36 Sep 30 16:08 F138\n",
      "-rwxr--r-- 1 orysya orysya   37 Sep 30 16:08 F139\n",
      "-rwxr--r-- 1 orysya orysya   14 Sep 30 16:08 F14\n",
      "-rwxr--r-- 1 orysya orysya   19 Sep 30 16:08 F140\n",
      "-rwxr--r-- 1 orysya orysya   19 Sep 30 16:08 F141\n",
      "-rwxr--r-- 1 orysya orysya   35 Sep 30 16:08 F142\n",
      "-rwxr--r-- 1 orysya orysya   19 Sep 30 16:08 F144\n",
      "-rwxr--r-- 1 orysya orysya   23 Sep 30 16:08 F145\n",
      "-rwxr--r-- 1 orysya orysya   17 Sep 30 16:08 F146\n",
      "-rwxr--r-- 1 orysya orysya   18 Sep 30 16:08 F147\n",
      "-rwxr--r-- 1 orysya orysya   21 Sep 30 16:08 F148\n",
      "-rwxr--r-- 1 orysya orysya   20 Sep 30 16:08 F149\n",
      "-rwxr--r-- 1 orysya orysya   20 Sep 30 16:08 F15\n",
      "-rwxr--r-- 1 orysya orysya   19 Sep 30 16:08 F151\n",
      "-rwxr--r-- 1 orysya orysya   20 Sep 30 16:08 F152\n",
      "-rwxr--r-- 1 orysya orysya   14 Sep 30 16:08 F153\n",
      "-rwxr--r-- 1 orysya orysya   15 Sep 30 16:08 F154\n",
      "-rwxr--r-- 1 orysya orysya   13 Sep 30 16:08 F155\n",
      "-rwxr--r-- 1 orysya orysya   16 Sep 30 16:08 F156\n",
      "-rwxr--r-- 1 orysya orysya   15 Sep 30 16:08 F157\n",
      "-rwxr--r-- 1 orysya orysya   14 Sep 30 16:08 F158\n",
      "-rwxr--r-- 1 orysya orysya   31 Sep 30 16:08 F159\n",
      "-rwxr--r-- 1 orysya orysya   20 Sep 30 16:08 F16\n",
      "-rwxr--r-- 1 orysya orysya   25 Sep 30 16:08 F160\n",
      "-rwxr--r-- 1 orysya orysya   20 Sep 30 16:08 F161\n",
      "-rwxr--r-- 1 orysya orysya   23 Sep 30 16:08 F162\n",
      "-rwxr--r-- 1 orysya orysya   25 Sep 30 16:08 F163\n",
      "-rwxr--r-- 1 orysya orysya   18 Sep 30 16:08 F164\n",
      "-rwxr--r-- 1 orysya orysya   13 Sep 30 16:08 F165\n",
      "-rwxr--r-- 1 orysya orysya   16 Sep 30 16:08 F166\n",
      "-rwxr--r-- 1 orysya orysya   28 Sep 30 16:08 F167\n",
      "-rwxr--r-- 1 orysya orysya   31 Sep 30 16:08 F168\n",
      "-rwxr--r-- 1 orysya orysya   25 Sep 30 16:08 F169\n",
      "-rwxr--r-- 1 orysya orysya   20 Sep 30 16:08 F170\n",
      "-rwxr--r-- 1 orysya orysya   17 Sep 30 16:08 F171\n",
      "-rwxr--r-- 1 orysya orysya   15 Sep 30 16:08 F172\n",
      "-rwxr--r-- 1 orysya orysya   20 Sep 30 16:08 F173\n",
      "-rwxr--r-- 1 orysya orysya   15 Sep 30 16:08 F174\n",
      "-rwxr--r-- 1 orysya orysya   14 Sep 30 16:08 F175\n",
      "-rwxr--r-- 1 orysya orysya   20 Sep 30 16:08 F176\n",
      "-rwxr--r-- 1 orysya orysya   31 Sep 30 16:08 F177\n",
      "-rwxr--r-- 1 orysya orysya   13 Sep 30 16:08 F178\n",
      "-rwxr--r-- 1 orysya orysya   20 Sep 30 16:08 F179\n",
      "-rwxr--r-- 1 orysya orysya   19 Sep 30 16:08 F18\n",
      "-rwxr--r-- 1 orysya orysya   13 Sep 30 16:08 F180\n",
      "-rwxr--r-- 1 orysya orysya   36 Sep 30 16:08 F181\n",
      "-rwxr--r-- 1 orysya orysya   22 Sep 30 16:08 F182\n",
      "-rwxr--r-- 1 orysya orysya   13 Sep 30 16:08 F183\n",
      "-rwxr--r-- 1 orysya orysya   13 Sep 30 16:08 F185\n",
      "-rwxr--r-- 1 orysya orysya   16 Sep 30 16:08 F186\n",
      "-rwxr--r-- 1 orysya orysya   14 Sep 30 16:08 F187\n",
      "-rwxr--r-- 1 orysya orysya   19 Sep 30 16:08 F189\n",
      "-rwxr--r-- 1 orysya orysya   43 Sep 30 16:08 F19\n",
      "-rwxr--r-- 1 orysya orysya   20 Sep 30 16:08 F190\n",
      "-rwxr--r-- 1 orysya orysya   30 Sep 30 16:08 F191\n",
      "-rwxr--r-- 1 orysya orysya   13 Sep 30 16:08 F192\n",
      "-rwxr--r-- 1 orysya orysya   14 Sep 30 16:08 F193\n",
      "-rwxr--r-- 1 orysya orysya   14 Sep 30 16:08 F194\n",
      "-rwxr--r-- 1 orysya orysya   13 Sep 30 16:08 F195\n",
      "-rwxr--r-- 1 orysya orysya   14 Sep 30 16:08 F196\n",
      "-rwxr--r-- 1 orysya orysya   15 Sep 30 16:08 F197\n",
      "-rwxr--r-- 1 orysya orysya   22 Sep 30 16:08 F198\n",
      "-rwxr--r-- 1 orysya orysya   31 Sep 30 16:08 F199\n",
      "-rwxr--r-- 1 orysya orysya   31 Sep 30 16:08 F2\n",
      "-rwxr--r-- 1 orysya orysya   35 Sep 30 16:08 F20\n",
      "-rwxr--r-- 1 orysya orysya   16 Sep 30 16:08 F200\n",
      "-rwxr--r-- 1 orysya orysya   13 Sep 30 16:08 F201\n",
      "-rwxr--r-- 1 orysya orysya   17 Sep 30 16:08 F202\n",
      "-rwxr--r-- 1 orysya orysya   24 Sep 30 16:08 F204\n",
      "-rwxr--r-- 1 orysya orysya   15 Sep 30 16:08 F205\n",
      "-rwxr--r-- 1 orysya orysya   23 Sep 30 16:08 F206\n",
      "-rwxr--r-- 1 orysya orysya   17 Sep 30 16:08 F207\n",
      "-rwxr--r-- 1 orysya orysya   27 Sep 30 16:08 F208\n",
      "-rwxr--r-- 1 orysya orysya   18 Sep 30 16:08 F209\n",
      "-rwxr--r-- 1 orysya orysya   20 Sep 30 16:08 F210\n",
      "-rwxr--r-- 1 orysya orysya   13 Sep 30 16:08 F211\n",
      "-rwxr--r-- 1 orysya orysya   18 Sep 30 16:08 F212\n",
      "-rwxr--r-- 1 orysya orysya   23 Sep 30 16:08 F213\n",
      "-rwxr--r-- 1 orysya orysya   22 Sep 30 16:08 F214\n",
      "-rwxr--r-- 1 orysya orysya   13 Sep 30 16:08 F215\n",
      "-rwxr--r-- 1 orysya orysya   32 Sep 30 16:08 F216\n",
      "-rwxr--r-- 1 orysya orysya   26 Sep 30 16:08 F218\n",
      "-rwxr--r-- 1 orysya orysya   14 Sep 30 16:08 F219\n",
      "-rwxr--r-- 1 orysya orysya   22 Sep 30 16:08 F22\n",
      "-rwxr--r-- 1 orysya orysya   19 Sep 30 16:08 F220\n",
      "-rwxr--r-- 1 orysya orysya   29 Sep 30 16:08 F221\n",
      "-rwxr--r-- 1 orysya orysya   13 Sep 30 16:08 F222\n",
      "-rwxr--r-- 1 orysya orysya   15 Sep 30 16:08 F223\n",
      "-rwxr--r-- 1 orysya orysya   34 Sep 30 16:08 F224\n",
      "-rwxr--r-- 1 orysya orysya   21 Sep 30 16:08 F225\n",
      "-rwxr--r-- 1 orysya orysya   13 Sep 30 16:08 F226\n",
      "-rwxr--r-- 1 orysya orysya   14 Sep 30 16:08 F227\n",
      "-rwxr--r-- 1 orysya orysya   26 Sep 30 16:08 F228\n",
      "-rwxr--r-- 1 orysya orysya   14 Sep 30 16:08 F229\n",
      "-rwxr--r-- 1 orysya orysya   30 Sep 30 16:08 F23\n",
      "-rwxr--r-- 1 orysya orysya   19 Sep 30 16:08 F230\n",
      "-rwxr--r-- 1 orysya orysya   14 Sep 30 16:08 F231\n",
      "-rwxr--r-- 1 orysya orysya   25 Sep 30 16:08 F232\n",
      "-rwxr--r-- 1 orysya orysya   21 Sep 30 16:08 F233\n",
      "-rwxr--r-- 1 orysya orysya   28 Sep 30 16:08 F24\n",
      "-rwxr--r-- 1 orysya orysya   15 Sep 30 16:08 F25\n",
      "-rwxr--r-- 1 orysya orysya   20 Sep 30 16:08 F26\n",
      "-rwxr--r-- 1 orysya orysya   20 Sep 30 16:08 F27\n",
      "-rwxr--r-- 1 orysya orysya   22 Sep 30 16:08 F28\n",
      "-rwxr--r-- 1 orysya orysya   14 Sep 30 16:08 F29\n",
      "-rwxr--r-- 1 orysya orysya   15 Sep 30 16:08 F3\n",
      "-rwxr--r-- 1 orysya orysya   17 Sep 30 16:08 F30\n",
      "-rwxr--r-- 1 orysya orysya   35 Sep 30 16:08 F31\n",
      "-rwxr--r-- 1 orysya orysya   14 Sep 30 16:08 F32\n",
      "-rwxr--r-- 1 orysya orysya   19 Sep 30 16:08 F33\n",
      "-rwxr--r-- 1 orysya orysya   17 Sep 30 16:08 F34\n",
      "-rwxr--r-- 1 orysya orysya   17 Sep 30 16:08 F35\n",
      "-rwxr--r-- 1 orysya orysya   19 Sep 30 16:08 F36\n",
      "-rwxr--r-- 1 orysya orysya   15 Sep 30 16:08 F37\n",
      "-rwxr--r-- 1 orysya orysya   13 Sep 30 16:08 F38\n",
      "-rwxr--r-- 1 orysya orysya   25 Sep 30 16:08 F39\n",
      "-rwxr--r-- 1 orysya orysya   15 Sep 30 16:08 F4\n",
      "-rwxr--r-- 1 orysya orysya   21 Sep 30 16:08 F40\n",
      "-rwxr--r-- 1 orysya orysya   13 Sep 30 16:08 F41\n",
      "-rwxr--r-- 1 orysya orysya   21 Sep 30 16:08 F42\n",
      "-rwxr--r-- 1 orysya orysya   14 Sep 30 16:08 F43\n",
      "-rwxr--r-- 1 orysya orysya   31 Sep 30 16:08 F44\n",
      "-rwxr--r-- 1 orysya orysya   15 Sep 30 16:08 F45\n",
      "-rwxr--r-- 1 orysya orysya   13 Sep 30 16:08 F46\n",
      "-rwxr--r-- 1 orysya orysya   15 Sep 30 16:08 F48\n",
      "-rwxr--r-- 1 orysya orysya   18 Sep 30 16:08 F49\n",
      "-rwxr--r-- 1 orysya orysya   13 Sep 30 16:08 F5\n",
      "-rwxr--r-- 1 orysya orysya   14 Sep 30 16:08 F50\n",
      "-rwxr--r-- 1 orysya orysya   15 Sep 30 16:08 F51\n",
      "-rwxr--r-- 1 orysya orysya   22 Sep 30 16:08 F52\n",
      "-rwxr--r-- 1 orysya orysya   70 Sep 30 16:08 F53\n",
      "-rwxr--r-- 1 orysya orysya   14 Sep 30 16:08 F54\n",
      "-rwxr--r-- 1 orysya orysya   15 Sep 30 16:08 F55\n",
      "-rwxr--r-- 1 orysya orysya   18 Sep 30 16:08 F56\n",
      "-rwxr--r-- 1 orysya orysya   14 Sep 30 16:08 F57\n",
      "-rwxr--r-- 1 orysya orysya   17 Sep 30 16:08 F58\n",
      "-rwxr--r-- 1 orysya orysya   13 Sep 30 16:08 F59\n",
      "-rwxr--r-- 1 orysya orysya   13 Sep 30 16:08 F6\n",
      "-rwxr--r-- 1 orysya orysya   31 Sep 30 16:08 F60\n",
      "-rwxr--r-- 1 orysya orysya   29 Sep 30 16:08 F61\n",
      "-rwxr--r-- 1 orysya orysya   13 Sep 30 16:08 F62\n",
      "-rwxr--r-- 1 orysya orysya   16 Sep 30 16:08 F63\n",
      "-rwxr--r-- 1 orysya orysya   14 Sep 30 16:08 F64\n",
      "-rwxr--r-- 1 orysya orysya   23 Sep 30 16:08 F65\n",
      "-rwxr--r-- 1 orysya orysya   17 Sep 30 16:08 F66\n",
      "-rwxr--r-- 1 orysya orysya   13 Sep 30 16:08 F67\n",
      "-rwxr--r-- 1 orysya orysya   16 Sep 30 16:08 F68\n",
      "-rwxr--r-- 1 orysya orysya   17 Sep 30 16:08 F69\n",
      "-rwxr--r-- 1 orysya orysya   23 Sep 30 16:08 F7\n",
      "-rwxr--r-- 1 orysya orysya   26 Sep 30 16:08 F70\n",
      "-rwxr--r-- 1 orysya orysya   18 Sep 30 16:08 F71\n",
      "-rwxr--r-- 1 orysya orysya   14 Sep 30 16:08 F72\n",
      "-rwxr--r-- 1 orysya orysya   14 Sep 30 16:08 F73\n",
      "-rwxr--r-- 1 orysya orysya   20 Sep 30 16:08 F74\n",
      "-rwxr--r-- 1 orysya orysya   19 Sep 30 16:08 F75\n",
      "-rwxr--r-- 1 orysya orysya   15 Sep 30 16:08 F76\n",
      "-rwxr--r-- 1 orysya orysya   22 Sep 30 16:08 F77\n",
      "-rwxr--r-- 1 orysya orysya   32 Sep 30 16:08 F78\n",
      "-rwxr--r-- 1 orysya orysya   22 Sep 30 16:08 F79\n",
      "-rwxr--r-- 1 orysya orysya   13 Sep 30 16:08 F8\n",
      "-rwxr--r-- 1 orysya orysya   33 Sep 30 16:08 F80\n",
      "-rwxr--r-- 1 orysya orysya   15 Sep 30 16:08 F81\n",
      "-rwxr--r-- 1 orysya orysya   16 Sep 30 16:08 F82\n",
      "-rwxr--r-- 1 orysya orysya   14 Sep 30 16:08 F83\n",
      "-rwxr--r-- 1 orysya orysya   13 Sep 30 16:08 F84\n",
      "-rwxr--r-- 1 orysya orysya   21 Sep 30 16:08 F85\n",
      "-rwxr--r-- 1 orysya orysya   25 Sep 30 16:08 F86\n",
      "-rwxr--r-- 1 orysya orysya   20 Sep 30 16:08 F87\n",
      "-rwxr--r-- 1 orysya orysya   20 Sep 30 16:08 F88\n",
      "-rwxr--r-- 1 orysya orysya   13 Sep 30 16:08 F9\n",
      "-rwxr--r-- 1 orysya orysya   16 Sep 30 16:08 F90\n",
      "-rwxr--r-- 1 orysya orysya   19 Sep 30 16:08 F91\n",
      "-rwxr--r-- 1 orysya orysya   15 Sep 30 16:08 F93\n",
      "-rwxr--r-- 1 orysya orysya   15 Sep 30 16:08 F94\n",
      "-rwxr--r-- 1 orysya orysya   21 Sep 30 16:08 F95\n",
      "-rwxr--r-- 1 orysya orysya   15 Sep 30 16:08 F96\n",
      "-rwxr--r-- 1 orysya orysya   18 Sep 30 16:08 F97\n",
      "-rwxr--r-- 1 orysya orysya   21 Sep 30 16:08 F99\n",
      "-rw-rw-r-- 1 orysya orysya  708 Oct 13 17:18 kings.txt\n",
      "-rw-rw-r-- 1 orysya orysya  207 Oct 13 17:18 Leonidas.txt\n",
      "-rw-rw-r-- 1 orysya orysya 1636 Oct 13 17:18 reconstructedF.txt\n",
      "drwxrwxr-x 2 orysya orysya 4096 Oct 13 17:18 subdir2\n",
      "drwxrwxr-x 3 orysya orysya 4096 Oct 13 17:51 tmp\n"
     ]
    }
   ],
   "source": [
    "# to remove a file use the command `rm`\n",
    "for i in range(1,10,2):\n",
    "    !rm file$i\n",
    "!ls -l"
   ]
  },
  {
   "cell_type": "code",
   "execution_count": null,
   "metadata": {
    "collapsed": false
   },
   "outputs": [],
   "source": [
    "# to remove an empry directory, use 'rmdir'\n",
    "# If you want to remove a directory and everything that is in it use `rm -rf`. Note that this\n",
    "# is an irreversible action, it is NOT like moving a file to the trash bin.\n",
    "%cd ~\n",
    "!rm -rf tmp\n",
    "!ls -l tmp"
   ]
  },
  {
   "cell_type": "markdown",
   "metadata": {},
   "source": [
    "### Groups and Unix File Permissions\n",
    "\n",
    "It is often the case that a file should not be readable/writeable by all users of a machine (IE private data, system configuration).  \n",
    "To enforce this there are a number of file properties which UNIX enforces.\n",
    "\n",
    "Each user falls into one of three relationships with the file:\n",
    "\n",
    "* **Owner** - The user who created the file and is able to modify permissions\n",
    "* **Group** - The user is in a the user group assigned to the file (we won't talk about this much)\n",
    "* **World** - Everybody else\n",
    "\n",
    "Each file has three permissions for each of these user sets:\n",
    "\n",
    "* **Read**  - The ability to view the file's contents\n",
    "* **Write** - The ability to modify the file\n",
    "* **Excecute** - The ability to run the file (if it is a script or program).  \n",
    "\n",
    "Since there are three user sets and three permissions, there are 9 distinct true/false permissions which can be granted.  Thus each file has 9 bits to define these permissions.\n",
    "\n",
    "#### Viewing permissions\n",
    "\n",
    "To view permissions of a file use the -l option for ls"
   ]
  },
  {
   "cell_type": "code",
   "execution_count": 44,
   "metadata": {
    "collapsed": false
   },
   "outputs": [
    {
     "name": "stdout",
     "output_type": "stream",
     "text": [
      "/home/orysya/Documents/DSE/DSE200-notebooks/data/NLTK/Chopped/examples\n",
      "total 0\n",
      "-r--r--r-- 1 orysya orysya 0 Oct 13 17:52 AllRead\n",
      "-rwxrwxrwx 1 orysya orysya 0 Oct 13 17:52 FullPermission\n",
      "----rwx--- 1 orysya orysya 0 Oct 13 17:52 GroupOnly\n",
      "---------- 1 orysya orysya 0 Oct 13 17:52 NoPermissions\n",
      "-rwx------ 1 orysya orysya 0 Oct 13 17:52 OwnerOnly\n",
      "-------rwx 1 orysya orysya 0 Oct 13 17:52 WorldOnly\n",
      "/home/orysya/Documents/DSE/DSE200-notebooks/data/NLTK/Chopped\n"
     ]
    }
   ],
   "source": [
    "#First we create some files:\n",
    "#Disregard the chmod command for now\n",
    "!mkdir examples\n",
    "%cd examples\n",
    "!touch NoPermissions\n",
    "!chmod 000 NoPermissions #user, group, world for each 0 \n",
    "!touch AllRead\n",
    "!chmod 444 AllRead \n",
    "!touch FullPermission\n",
    "!chmod 777 FullPermission \n",
    "!touch OwnerOnly\n",
    "!chmod 700 OwnerOnly \n",
    "!touch GroupOnly\n",
    "!chmod 070 GroupOnly \n",
    "!touch WorldOnly\n",
    "!chmod 007 WorldOnly \n",
    "\n",
    "#Now we list the permissions of the files\n",
    "!ls -l\n",
    "\n",
    "#Return to old working directory\n",
    "%cd ../\n"
   ]
  },
  {
   "cell_type": "markdown",
   "metadata": {},
   "source": [
    "In the first column of the output you see dashes for ungranted permissions and letters (r, w, or x) for granted permissions.  \n",
    "\n",
    "Lets break this down:\n",
    "\n",
    "| Bit | Definition |\n",
    "|---|------------------|\n",
    "| 1 | Sticky Bit\\* |\n",
    "| 2 | Owner Read |\n",
    "| 3 | Owner Write |\n",
    "| 4 | Owner Execute |\n",
    "| 5 | Group Read |\n",
    "| 6 | Group Write |\n",
    "| 7 | Group Execute |\n",
    "| 8 | World Read |\n",
    "| 9 | World Write |\n",
    "| 10| World Execute |\n",
    "\n",
    "\\* The sticky bit is a special permission we won't be going into\n",
    "\n",
    "Since you have three groups of three binary permissions, a common way to refer to permissions is via the octal representation of bits 2-10.  This yields a 3 digit octal number with the left most digit being owner permissions, middle digit group permissions, and right most bit the world permissions.\n",
    "\n",
    "For example: -r--rw---x translates to 461 in octal\n",
    "\n",
    "#### Changing Permissions\n",
    "\n",
    "To change permissions, the owner of a file can use the command *chmod*.  The main use case is you specify the octal code of your desired permissions followed by the file name.  For examples of this look at the code we used to create the files above."
   ]
  },
  {
   "cell_type": "markdown",
   "metadata": {},
   "source": [
    "## manual pages"
   ]
  },
  {
   "cell_type": "code",
   "execution_count": 45,
   "metadata": {
    "collapsed": false
   },
   "outputs": [],
   "source": [
    "%man ls"
   ]
  },
  {
   "cell_type": "markdown",
   "metadata": {},
   "source": [
    "## Exploring the computer"
   ]
  },
  {
   "cell_type": "code",
   "execution_count": 46,
   "metadata": {
    "collapsed": false
   },
   "outputs": [
    {
     "name": "stdout",
     "output_type": "stream",
     "text": [
      "No LSB modules are available.\r\n",
      "Distributor ID:\tUbuntu\r\n",
      "Description:\tUbuntu 16.04.1 LTS\r\n",
      "Release:\t16.04\r\n",
      "Codename:\txenial\r\n"
     ]
    }
   ],
   "source": [
    "# Find out which version of Ubuntu you are running \n",
    "!lsb_release -a"
   ]
  },
  {
   "cell_type": "code",
   "execution_count": 47,
   "metadata": {
    "collapsed": false,
    "scrolled": true
   },
   "outputs": [
    {
     "name": "stdout",
     "output_type": "stream",
     "text": [
      "processor\t: 0\r\n",
      "vendor_id\t: GenuineIntel\r\n",
      "cpu family\t: 6\r\n",
      "model\t\t: 61\r\n",
      "model name\t: Intel(R) Core(TM) i5-5200U CPU @ 2.20GHz\r\n",
      "stepping\t: 4\r\n",
      "microcode\t: 0x21\r\n",
      "cpu MHz\t\t: 2201.000\r\n",
      "cache size\t: 3072 KB\r\n",
      "physical id\t: 0\r\n",
      "siblings\t: 1\r\n",
      "core id\t\t: 0\r\n",
      "cpu cores\t: 1\r\n",
      "apicid\t\t: 0\r\n",
      "initial apicid\t: 0\r\n",
      "fpu\t\t: yes\r\n",
      "fpu_exception\t: yes\r\n",
      "cpuid level\t: 20\r\n",
      "wp\t\t: yes\r\n",
      "flags\t\t: fpu vme de pse tsc msr pae mce cx8 apic sep mtrr pge mca cmov pat pse36 clflush dts mmx fxsr sse sse2 ss syscall nx pdpe1gb rdtscp lm constant_tsc arch_perfmon pebs bts nopl xtopology tsc_reliable nonstop_tsc aperfmperf eagerfpu pni pclmulqdq ssse3 fma cx16 pcid sse4_1 sse4_2 x2apic movbe popcnt tsc_deadline_timer aes xsave avx f16c rdrand hypervisor lahf_lm abm 3dnowprefetch epb fsgsbase tsc_adjust bmi1 avx2 smep bmi2 invpcid rdseed adx smap xsaveopt dtherm ida arat pln pts\r\n",
      "bugs\t\t:\r\n",
      "bogomips\t: 4402.00\r\n",
      "clflush size\t: 64\r\n",
      "cache_alignment\t: 64\r\n",
      "address sizes\t: 42 bits physical, 48 bits virtual\r\n",
      "power management:\r\n",
      "\r\n"
     ]
    }
   ],
   "source": [
    "# find out about the hardware\n",
    "!cat /proc/cpuinfo"
   ]
  },
  {
   "cell_type": "code",
   "execution_count": 48,
   "metadata": {
    "collapsed": false
   },
   "outputs": [
    {
     "name": "stdout",
     "output_type": "stream",
     "text": [
      "              total        used        free      shared  buff/cache   available\r\n",
      "Mem:            975         712          69          15         193          66\r\n",
      "Swap:          1021         598         423\r\n"
     ]
    }
   ],
   "source": [
    "# find out how much memory you are using\n",
    "!free -m"
   ]
  },
  {
   "cell_type": "code",
   "execution_count": 49,
   "metadata": {
    "collapsed": false
   },
   "outputs": [
    {
     "name": "stdout",
     "output_type": "stream",
     "text": [
      "Filesystem      Size  Used Avail Use% Mounted on\r\n",
      "udev            469M     0  469M   0% /dev\r\n",
      "tmpfs            98M  8.8M   89M   9% /run\r\n",
      "/dev/sda1        19G  7.7G   10G  44% /\r\n",
      "tmpfs           488M  216K  488M   1% /dev/shm\r\n",
      "tmpfs           5.0M  4.0K  5.0M   1% /run/lock\r\n",
      "tmpfs           488M     0  488M   0% /sys/fs/cgroup\r\n",
      "/dev/sr0         71M   71M     0 100% /media/orysya/VMware Tools\r\n",
      "tmpfs            98M  4.0K   98M   1% /run/user/108\r\n",
      "tmpfs            98M   92K   98M   1% /run/user/1000\r\n"
     ]
    }
   ],
   "source": [
    "# find out how much disk space you are using\n",
    "!df -h"
   ]
  },
  {
   "cell_type": "code",
   "execution_count": 50,
   "metadata": {
    "collapsed": false,
    "scrolled": true
   },
   "outputs": [
    {
     "name": "stdout",
     "output_type": "stream",
     "text": [
      "/home/orysya/Documents/DSE/DSE200-notebooks/data/NLTK/Chopped\r\n"
     ]
    }
   ],
   "source": [
    "!pwd"
   ]
  },
  {
   "cell_type": "code",
   "execution_count": 51,
   "metadata": {
    "collapsed": false
   },
   "outputs": [
    {
     "name": "stdout",
     "output_type": "stream",
     "text": [
      "ls: cannot access '.ipynb_checkpoints/': No such file or directory\r\n"
     ]
    }
   ],
   "source": [
    "!ls -a .ipynb_checkpoints/\n",
    "#to find the checkpoints taken\n",
    "#can revert to checkpoints as needed"
   ]
  },
  {
   "cell_type": "code",
   "execution_count": 53,
   "metadata": {
    "collapsed": false,
    "scrolled": true
   },
   "outputs": [
    {
     "name": "stdout",
     "output_type": "stream",
     "text": [
      "/home/orysya\n",
      "0\tminced\n",
      "4\tDesktop\n",
      "4\tMusic\n",
      "4\tPictures\n",
      "4\tPublic\n",
      "4\tTemplates\n",
      "4\ttmp\n",
      "4\tVideos\n",
      "12\texamples.desktop\n",
      "154640\tDocuments\n",
      "408396\tDownloads\n",
      "1636880\tanaconda2\n"
     ]
    }
   ],
   "source": [
    "#find out which directories consume most of this disk space\n",
    "%cd ~\n",
    "!du -s * | sort -n\n",
    "#Can also code nrt for sort by number in reverse time"
   ]
  },
  {
   "cell_type": "code",
   "execution_count": 54,
   "metadata": {
    "collapsed": false
   },
   "outputs": [
    {
     "name": "stdout",
     "output_type": "stream",
     "text": [
      "1248\tanaconda2/Examples\n",
      "8\tanaconda2/LICENSE.txt\n",
      "60056\tanaconda2/bin\n",
      "2816\tanaconda2/conda-meta\n",
      "4\tanaconda2/envs\n",
      "52\tanaconda2/etc\n",
      "26056\tanaconda2/include\n",
      "1502604\tanaconda2/lib\n",
      "41804\tanaconda2/pkgs\n",
      "2204\tanaconda2/share\n",
      "8\tanaconda2/ssl\n",
      "12\tanaconda2/var\n"
     ]
    }
   ],
   "source": [
    "# based on what we see here, we check the directory anaconda\n",
    "!du -s anaconda2/*"
   ]
  },
  {
   "cell_type": "markdown",
   "metadata": {},
   "source": [
    "## analyzing data\n",
    "head, tail, more, grep, wc, sort, cut (awk)"
   ]
  },
  {
   "cell_type": "code",
   "execution_count": 56,
   "metadata": {
    "collapsed": false
   },
   "outputs": [
    {
     "name": "stdout",
     "output_type": "stream",
     "text": [
      "/home/orysya/Documents/DSE/DSE200-notebooks/data/ThinkStatsData\n",
      "2002FemPreg.dat  binaryFile  pickle0.pkl  pickle.pkl\tpicklez2.pkl\r\n",
      "2002FemResp.dat  json.jsn    pickle1.pkl  picklez0.pkl\tsurvey.pl\r\n",
      "2002Male.dat\t json.pkl    pickle2.pkl  picklez1.pkl\tsurvey.tmp\r\n"
     ]
    }
   ],
   "source": [
    "%cd ~/Documents/DSE/DSE200-notebooks/data/ThinkStatsData/\n",
    "!ls"
   ]
  },
  {
   "cell_type": "code",
   "execution_count": null,
   "metadata": {
    "collapsed": false
   },
   "outputs": [],
   "source": [
    "# print the number of lines, words and characters in each file\n",
    "!wc *\n",
    "#useful when loading files"
   ]
  },
  {
   "cell_type": "code",
   "execution_count": 7,
   "metadata": {
    "collapsed": false
   },
   "outputs": [
    {
     "name": "stderr",
     "output_type": "stream",
     "text": [
      "head: cannot open `2002FemPreg.dat' for reading: No such file or directory\n"
     ]
    }
   ],
   "source": [
    "# print the first 2 lines of a file\n",
    "!head -2 2002FemPreg.dat"
   ]
  },
  {
   "cell_type": "code",
   "execution_count": 8,
   "metadata": {
    "collapsed": false
   },
   "outputs": [],
   "source": [
    "## This list of tuples defines the names and locations of the elements.\n",
    "fields=[\n",
    "    ('caseid', 1, 12, int),\n",
    "    ('nbrnaliv', 22, 22, int),\n",
    "    ('babysex', 56, 56, int),\n",
    "    ('birthwgt_lb', 57, 58, int),\n",
    "    ('birthwgt_oz', 59, 60, int),\n",
    "    ('prglength', 275, 276, int),\n",
    "    ('outcome', 277, 277, int),\n",
    "    ('birthord', 278, 279, int),\n",
    "    ('agepreg', 284, 287, int),\n",
    "    ('finalwgt', 423, 440, float),\n",
    "]"
   ]
  },
  {
   "cell_type": "code",
   "execution_count": 9,
   "metadata": {
    "collapsed": false
   },
   "outputs": [
    {
     "data": {
      "text/plain": [
       "{'agepreg': (284, 287, int),\n",
       " 'babysex': (56, 56, int),\n",
       " 'birthord': (278, 279, int),\n",
       " 'birthwgt_lb': (57, 58, int),\n",
       " 'birthwgt_oz': (59, 60, int),\n",
       " 'caseid': (1, 12, int),\n",
       " 'finalwgt': (423, 440, float),\n",
       " 'nbrnaliv': (22, 22, int),\n",
       " 'outcome': (277, 277, int),\n",
       " 'prglength': (275, 276, int)}"
      ]
     },
     "execution_count": 9,
     "metadata": {},
     "output_type": "execute_result"
    }
   ],
   "source": [
    "## Lets transform it into a dictionary whose keys are the names of the field\n",
    "fields_dict={name:(f,t,typ) for (name,f,t,typ) in fields}\n",
    "fields_dict"
   ]
  },
  {
   "cell_type": "code",
   "execution_count": 10,
   "metadata": {
    "collapsed": false
   },
   "outputs": [
    {
     "name": "stderr",
     "output_type": "stream",
     "text": [
      "grep: 2002FemPreg.dat: No such file or directory\n"
     ]
    }
   ],
   "source": [
    "# print the lines that contain a particular string\n",
    "string='3116'\n",
    "!grep $string 2002FemPreg.dat\n",
    "#grep -> goes through line by line, if finds string then will print the line"
   ]
  },
  {
   "cell_type": "code",
   "execution_count": 11,
   "metadata": {
    "collapsed": false
   },
   "outputs": [
    {
     "name": "stderr",
     "output_type": "stream",
     "text": [
      "wc: 2002FemPreg.dat: No such file or directory\n"
     ]
    },
    {
     "name": "stdout",
     "output_type": "stream",
     "text": [
      "      0       0       0\n"
     ]
    },
    {
     "name": "stderr",
     "output_type": "stream",
     "text": [
      "grep: 2002FemPreg.dat: No such file or directory\n"
     ]
    }
   ],
   "source": [
    "#suppose we just want to know how many lines have this string inside them.\n",
    "# this is our first use of pipes\n",
    "#the output from grep serves as the input to wc\n",
    "!wc 2002FemPreg.dat\n",
    "!grep $string 2002FemPreg.dat | wc"
   ]
  },
  {
   "cell_type": "code",
   "execution_count": null,
   "metadata": {
    "collapsed": false
   },
   "outputs": [],
   "source": [
    "#cut is a command that cuts specific fields from from each line \n",
    "%man cut"
   ]
  },
  {
   "cell_type": "code",
   "execution_count": 12,
   "metadata": {
    "collapsed": false
   },
   "outputs": [
    {
     "name": "stdout",
     "output_type": "stream",
     "text": [
      "babysex 56 56 55-56\n"
     ]
    },
    {
     "name": "stderr",
     "output_type": "stream",
     "text": [
      "cut: 2002FemPreg.dat: No such file or directory\n"
     ]
    }
   ],
   "source": [
    "# Extract from each line a specific field\n",
    "field='babysex'\n",
    "(fr,to,typ)=fields_dict[field]\n",
    "Range=str(fr-1)+'-'+str(to)\n",
    "print field,fr,to,Range\n",
    "!cut -c $Range 2002FemPreg.dat | head -5"
   ]
  },
  {
   "cell_type": "code",
   "execution_count": 13,
   "metadata": {
    "collapsed": false
   },
   "outputs": [
    {
     "name": "stderr",
     "output_type": "stream",
     "text": [
      "cut: 2002FemPreg.dat: No such file or directory\n",
      "-nThe system cannot find the file specified.\n",
      "\n"
     ]
    }
   ],
   "source": [
    "# lets sort these lines numerically, and look at the end, also known as the tail\n",
    "!cut -c $Range 2002FemPreg.dat | sort -n | tail"
   ]
  },
  {
   "cell_type": "code",
   "execution_count": 14,
   "metadata": {
    "collapsed": false
   },
   "outputs": [
    {
     "name": "stderr",
     "output_type": "stream",
     "text": [
      "-nThe system cannot find the file specified.\n",
      "\n",
      "cut: 2002FemPreg.dat: No such file or directory\n"
     ]
    }
   ],
   "source": [
    "#count the number of times each value appears using uniq\n",
    "!cut -c $Range 2002FemPreg.dat | sort -n | uniq -c"
   ]
  },
  {
   "cell_type": "code",
   "execution_count": null,
   "metadata": {
    "collapsed": false
   },
   "outputs": [],
   "source": [
    "# do the same thing but using an intermediary file\n",
    "!cut -c $Range 2002FemPreg.dat > cut$Range\n",
    "print 'head of cut',Range\n",
    "!head cut$Range\n",
    "!ls\n",
    "print 'output from uniq'\n",
    "!cat cut$Range | sort -n | uniq -c"
   ]
  },
  {
   "cell_type": "markdown",
   "metadata": {},
   "source": [
    "## Environment variables\n",
    "\n",
    "Environment variables are strings that define the set up of the session. Environment variables allow the user to avoid\n",
    "retyping the same parameters over and over."
   ]
  },
  {
   "cell_type": "code",
   "execution_count": null,
   "metadata": {
    "collapsed": false
   },
   "outputs": [],
   "source": [
    "#view all of the currently defined environment variable\n",
    "%env"
   ]
  },
  {
   "cell_type": "code",
   "execution_count": 15,
   "metadata": {
    "collapsed": false
   },
   "outputs": [
    {
     "name": "stdout",
     "output_type": "stream",
     "text": [
      "'hello world!'\n",
      "$HOME $USER\n"
     ]
    }
   ],
   "source": [
    "#view the valuse of a particular variables \n",
    "!echo 'hello world!'\n",
    "!echo $HOME $USER\n",
    "#prints out values"
   ]
  },
  {
   "cell_type": "code",
   "execution_count": null,
   "metadata": {
    "collapsed": false
   },
   "outputs": [],
   "source": [
    "#The $ symbol is required as a prefix of the variable names\n",
    "#When used inside ipython, this $ can be used to refer to any currently defined variable\n",
    "i=25\n",
    "!echo $i"
   ]
  },
  {
   "cell_type": "code",
   "execution_count": 16,
   "metadata": {
    "collapsed": false
   },
   "outputs": [
    {
     "name": "stdout",
     "output_type": "stream",
     "text": [
      "PSMODULEPATH=C:\\Users\\Orysya\\Documents\\WindowsPowerShell\\Modules;C:\\Program Files (x86)\\WindowsPowerShell\\Modules;C:\\WINDOWS\\system32\\WindowsPowerShell\\v1.0\\Modules\\;C:\\Program Files (x86)\\Microsoft SQL Server\\120\\Tools\\PowerShell\\Modules\\;c:\\Program Files (x86)\\Microsoft SQL Server\\110\\Tools\\PowerShell\\Modules\\\n",
      "HOMEPATH=\\Users\\Orysya\n",
      "PATH=C:\\Users\\Orysya\\Anaconda\\Library\\bin;C:\\Users\\Orysya\\Anaconda\\Library\\bin;C:\\Users\\Orysya\\AppData\\Local\\GitHub\\PortableGit_284a859b0e6deba86edc624fef1e4db2aa8241a9\\cmd;C:\\Users\\Orysya\\AppData\\Local\\GitHub\\PortableGit_284a859b0e6deba86edc624fef1e4db2aa8241a9\\usr\\bin;C:\\Users\\Orysya\\AppData\\Local\\GitHub\\PortableGit_284a859b0e6deba86edc624fef1e4db2aa8241a9\\usr\\share\\git-tfs;C:\\Users\\Orysya\\AppData\\Local\\Apps\\2.0\\TR9BQ6QV.4Y1\\RO553A3D.HRE\\gith..tion_317444273a93ac29_0003.0003_92b520eb113e6614;C:\\Users\\Orysya\\AppData\\Local\\GitHub\\lfs-amd64_1.3.1;C:\\ProgramData\\Oracle\\Java\\javapath;C:\\Program Files (x86)\\Intel\\iCLS Client\\;C:\\Program Files\\Intel\\iCLS Client\\;C:\\WINDOWS\\system32;C:\\WINDOWS;C:\\WINDOWS\\System32\\Wbem;C:\\WINDOWS\\System32\\WindowsPowerShell\\v1.0\\;C:\\Program Files (x86)\\Intel\\Intel(R) Management Engine Components\\DAL;C:\\Program Files\\Intel\\Intel(R) Management Engine Components\\DAL;C:\\Program Files (x86)\\Intel\\Intel(R) Management Engine Components\\IPT;C:\\Program Files\\Intel\\Intel(R) Management Engine Components\\IPT;C:\\Program Files (x86)\\Skype\\Phone\\;C:\\Program Files\\SASHome\\x86\\Secure\\ccme4;C:\\Program Files\\SASHome\\Secure\\ccme4;C:\\Program Files (x86)\\Microsoft SQL Server\\Client SDK\\ODBC\\110\\Tools\\Binn\\;C:\\Program Files (x86)\\Microsoft SQL Server\\120\\Tools\\Binn\\;C:\\Program Files (x86)\\Microsoft SQL Server\\120\\DTS\\Binn\\;C:\\Program Files (x86)\\Microsoft SQL Server\\120\\Tools\\Binn\\ManagementStudio\\;C:\\Program Files (x86)\\sbt\\\\bin;C:\\Program Files (x86)\\Gow\\bin;C:\\Program Files\\Intel\\WiFi\\bin\\;C:\\Program Files\\Common Files\\Intel\\WirelessCommon\\;C:\\Strawberry\\c\\bin;C:\\Strawberry\\perl\\site\\bin;C:\\Strawberry\\perl\\bin;C:\\Program Files (x86)\\PuTTY\\;c:\\Program Files (x86)\\Microsoft SQL Server\\110\\Tools\\Binn\\;c:\\Program Files\\Microsoft SQL Server\\110\\Tools\\Binn\\;c:\\Program Files\\Microsoft SQL Server\\110\\DTS\\Binn\\;C:\\Program Files\\Git\\cmd;C:\\Users\\Orysya\\Anaconda;C:\\Users\\Orysya\\Anaconda\\Scripts;C:\\Users\\Orysya\\AppData\\Local\\Microsoft\\WindowsApps;;C:\\Windows\\Microsoft.NET\\Framework\\v4.0.30319\\\n",
      "PATHEXT=.COM;.EXE;.BAT;.CMD;.VBS;.VBE;.JS;.JSE;.WSF;.WSH;.MSC;.CPL\n",
      "UOIPME_REG_PATH=C:\\Program Files\\Intel Corporation\\USB over IP\n"
     ]
    }
   ],
   "source": [
    "#Particularly important are environment variables called \"paths\"\n",
    "!env | grep -i path"
   ]
  },
  {
   "cell_type": "code",
   "execution_count": 17,
   "metadata": {
    "collapsed": false
   },
   "outputs": [
    {
     "name": "stdout",
     "output_type": "stream",
     "text": [
      "C:\\WINDOWS\\system32\\sort.EXE\n"
     ]
    }
   ],
   "source": [
    "# The path defines where the system will look for commands and in what order.\n",
    "# PATH tells the unix shell (bash) where to find the executables corresponding to commands\n",
    "# while PYTHONPATH tells python from where to `import` packages.\n",
    "# lets see where unix finds the command \"sort\"\n",
    "!which sort\n",
    "# Check on the variable PATH and you will see that /usr/bin is on it."
   ]
  },
  {
   "cell_type": "code",
   "execution_count": 18,
   "metadata": {
    "collapsed": false
   },
   "outputs": [
    {
     "name": "stdout",
     "output_type": "stream",
     "text": [
      "C:\\Windows\\System32\\sort.exe\n"
     ]
    }
   ],
   "source": [
    "# You can also find all of the places along the path that have a definition relevant to sort\n",
    "!whereis sort\n",
    "# The last one is the manual page for sort which you can view using the command %man sort"
   ]
  },
  {
   "cell_type": "markdown",
   "metadata": {},
   "source": [
    "#### Excercise \n",
    "find where the location of the commands `python`,`ipython` and `mail`"
   ]
  },
  {
   "cell_type": "code",
   "execution_count": 21,
   "metadata": {
    "collapsed": false
   },
   "outputs": [
    {
     "name": "stdout",
     "output_type": "stream",
     "text": [
      "C:\\Users\\Orysya\\Anaconda\\python.EXE\n"
     ]
    }
   ],
   "source": [
    "!which python"
   ]
  },
  {
   "cell_type": "markdown",
   "metadata": {},
   "source": [
    "## Wildcards and glob\n",
    "\n",
    "We have seen the most used wild-card `*`, which matches any sequence of (non blank) characters.\n",
    "For example `B*.py` will match any filename that starts with `B` and ends with `.py`.\n",
    "\n",
    "Other useful wildcards are:\n",
    "\n",
    "wild card | Description\n",
    "--------|--------------------------------------------------------   \n",
    "    `*`   |  An asterisk matches any number of characters in a filename, including none.\n",
    "    `?`   |  The question mark matches any single character.\n",
    "    `[ ]` |  Brackets enclose a set of characters, any one of which may match a single character at that position.\n",
    "    `-`   |  A hyphen used within [ ] denotes a range of characters.\n",
    "    `~`   |  A tilde at the beginning of a word expands to the name of your home directory.  If you append another user's login name to the character, it refers to that user's home directory.\n",
    "    \n",
    "**Here are some examples:**\n",
    "\n",
    "1. **cat c* ** lists the contect of any file whose name begins with c including the file c, if it exists.\n",
    "1. **ls *.c ** lists all files that have a .c extension.\n",
    "1. **cp ../rmt?. ** copies every file in the parent directory that is four characters long and begins with rmt to the working directory. (The names will remain the same.)\n",
    "1. **ls rmt[34567] ** lists every file that begins with rmt and has a 3, 4, 5, 6, or 7 at the end.\n",
    "1. **ls rmt[3-7] ** does exactly the same thing as the previous example.\n",
    "1. **ls ~ ** lists your home directory.\n",
    "1. **ls ~hessen ** lists the home directory of the guy1 with the user id hessen."
   ]
  },
  {
   "cell_type": "markdown",
   "metadata": {},
   "source": [
    "#### within python, use glob()\n",
    "\n",
    "You get the same functionality as wildcards by using the function `glob`, but instead of getting the result printed out, you get it as a list of strings."
   ]
  },
  {
   "cell_type": "code",
   "execution_count": 26,
   "metadata": {
    "collapsed": false
   },
   "outputs": [
    {
     "name": "stderr",
     "output_type": "stream",
     "text": [
      "ls: li*: Invalid argument\n",
      "ls: #: No such file or directory\n",
      "ls: do: No such file or directory\n",
      "ls: not: No such file or directory\n",
      "ls: descent: No such file or directory\n",
      "ls: into: No such file or directory\n",
      "ls: directories: No such file or directory\n"
     ]
    },
    {
     "data": {
      "text/plain": [
       "['1_pregnancy_length_analysis.ipynb',\n",
       " '2_python_basics.ipynb',\n",
       " '3_python_basics_excercises.ipynb',\n",
       " '4_unix,_sys,_and_os.ipynb',\n",
       " '5_unix_exercises.ipynb',\n",
       " '8queen.jpg',\n",
       " 'LockFile.md']"
      ]
     },
     "execution_count": 26,
     "metadata": {},
     "output_type": "execute_result"
    }
   ],
   "source": [
    "!ls -d li* # do not descent into directories\n",
    "from glob import glob\n",
    "L=glob('*')\n",
    "L\n",
    "#will work outside of ipython notebook as well"
   ]
  },
  {
   "cell_type": "markdown",
   "metadata": {},
   "source": [
    "## Loading and saving files\n",
    "\n",
    "It is often useful to load short files into the notebook, alter them, and save them back into the file system. The magics `%load` and `%%writefile` are used to do that.\n"
   ]
  },
  {
   "cell_type": "code",
   "execution_count": 27,
   "metadata": {
    "collapsed": false
   },
   "outputs": [
    {
     "name": "stdout",
     "output_type": "stream",
     "text": [
      "1_pregnancy_length_analysis.ipynb\n",
      "2_python_basics.ipynb\n",
      "3_python_basics_excercises.ipynb\n",
      "4_unix,_sys,_and_os.ipynb\n",
      "5_unix_exercises.ipynb\n",
      "8queen.jpg\n",
      "LockFile.md\n"
     ]
    }
   ],
   "source": [
    "!ls"
   ]
  },
  {
   "cell_type": "code",
   "execution_count": 28,
   "metadata": {
    "collapsed": true
   },
   "outputs": [
    {
     "ename": "ValueError",
     "evalue": "'survey.pl' was not found in history, as a file, url, nor in the user namespace.",
     "output_type": "error",
     "traceback": [
      "\u001b[1;31m---------------------------------------------------------------------------\u001b[0m",
      "\u001b[1;31mValueError\u001b[0m                                Traceback (most recent call last)",
      "\u001b[1;32m<ipython-input-28-3b8967ff42db>\u001b[0m in \u001b[0;36m<module>\u001b[1;34m()\u001b[0m\n\u001b[0;32m      1\u001b[0m \u001b[1;31m# the magic %load, unlike using !cat, creates a new cell that can be executed inside the notebook\u001b[0m\u001b[1;33m\u001b[0m\u001b[1;33m\u001b[0m\u001b[0m\n\u001b[1;32m----> 2\u001b[1;33m \u001b[0mget_ipython\u001b[0m\u001b[1;33m(\u001b[0m\u001b[1;33m)\u001b[0m\u001b[1;33m.\u001b[0m\u001b[0mmagic\u001b[0m\u001b[1;33m(\u001b[0m\u001b[1;34mu'load survey.pl'\u001b[0m\u001b[1;33m)\u001b[0m\u001b[1;33m\u001b[0m\u001b[0m\n\u001b[0m",
      "\u001b[1;32mC:\\Users\\Orysya\\Anaconda\\lib\\site-packages\\IPython\\core\\interactiveshell.pyc\u001b[0m in \u001b[0;36mmagic\u001b[1;34m(self, arg_s)\u001b[0m\n\u001b[0;32m   2305\u001b[0m         \u001b[0mmagic_name\u001b[0m\u001b[1;33m,\u001b[0m \u001b[0m_\u001b[0m\u001b[1;33m,\u001b[0m \u001b[0mmagic_arg_s\u001b[0m \u001b[1;33m=\u001b[0m \u001b[0marg_s\u001b[0m\u001b[1;33m.\u001b[0m\u001b[0mpartition\u001b[0m\u001b[1;33m(\u001b[0m\u001b[1;34m' '\u001b[0m\u001b[1;33m)\u001b[0m\u001b[1;33m\u001b[0m\u001b[0m\n\u001b[0;32m   2306\u001b[0m         \u001b[0mmagic_name\u001b[0m \u001b[1;33m=\u001b[0m \u001b[0mmagic_name\u001b[0m\u001b[1;33m.\u001b[0m\u001b[0mlstrip\u001b[0m\u001b[1;33m(\u001b[0m\u001b[0mprefilter\u001b[0m\u001b[1;33m.\u001b[0m\u001b[0mESC_MAGIC\u001b[0m\u001b[1;33m)\u001b[0m\u001b[1;33m\u001b[0m\u001b[0m\n\u001b[1;32m-> 2307\u001b[1;33m         \u001b[1;32mreturn\u001b[0m \u001b[0mself\u001b[0m\u001b[1;33m.\u001b[0m\u001b[0mrun_line_magic\u001b[0m\u001b[1;33m(\u001b[0m\u001b[0mmagic_name\u001b[0m\u001b[1;33m,\u001b[0m \u001b[0mmagic_arg_s\u001b[0m\u001b[1;33m)\u001b[0m\u001b[1;33m\u001b[0m\u001b[0m\n\u001b[0m\u001b[0;32m   2308\u001b[0m \u001b[1;33m\u001b[0m\u001b[0m\n\u001b[0;32m   2309\u001b[0m     \u001b[1;31m#-------------------------------------------------------------------------\u001b[0m\u001b[1;33m\u001b[0m\u001b[1;33m\u001b[0m\u001b[0m\n",
      "\u001b[1;32mC:\\Users\\Orysya\\Anaconda\\lib\\site-packages\\IPython\\core\\interactiveshell.pyc\u001b[0m in \u001b[0;36mrun_line_magic\u001b[1;34m(self, magic_name, line)\u001b[0m\n\u001b[0;32m   2226\u001b[0m                 \u001b[0mkwargs\u001b[0m\u001b[1;33m[\u001b[0m\u001b[1;34m'local_ns'\u001b[0m\u001b[1;33m]\u001b[0m \u001b[1;33m=\u001b[0m \u001b[0msys\u001b[0m\u001b[1;33m.\u001b[0m\u001b[0m_getframe\u001b[0m\u001b[1;33m(\u001b[0m\u001b[0mstack_depth\u001b[0m\u001b[1;33m)\u001b[0m\u001b[1;33m.\u001b[0m\u001b[0mf_locals\u001b[0m\u001b[1;33m\u001b[0m\u001b[0m\n\u001b[0;32m   2227\u001b[0m             \u001b[1;32mwith\u001b[0m \u001b[0mself\u001b[0m\u001b[1;33m.\u001b[0m\u001b[0mbuiltin_trap\u001b[0m\u001b[1;33m:\u001b[0m\u001b[1;33m\u001b[0m\u001b[0m\n\u001b[1;32m-> 2228\u001b[1;33m                 \u001b[0mresult\u001b[0m \u001b[1;33m=\u001b[0m \u001b[0mfn\u001b[0m\u001b[1;33m(\u001b[0m\u001b[1;33m*\u001b[0m\u001b[0margs\u001b[0m\u001b[1;33m,\u001b[0m\u001b[1;33m**\u001b[0m\u001b[0mkwargs\u001b[0m\u001b[1;33m)\u001b[0m\u001b[1;33m\u001b[0m\u001b[0m\n\u001b[0m\u001b[0;32m   2229\u001b[0m             \u001b[1;32mreturn\u001b[0m \u001b[0mresult\u001b[0m\u001b[1;33m\u001b[0m\u001b[0m\n\u001b[0;32m   2230\u001b[0m \u001b[1;33m\u001b[0m\u001b[0m\n",
      "\u001b[1;32mC:\\Users\\Orysya\\Anaconda\\lib\\site-packages\\IPython\\core\\magics\\code.pyc\u001b[0m in \u001b[0;36mload\u001b[1;34m(self, arg_s)\u001b[0m\n",
      "\u001b[1;32mC:\\Users\\Orysya\\Anaconda\\lib\\site-packages\\IPython\\core\\magic.pyc\u001b[0m in \u001b[0;36m<lambda>\u001b[1;34m(f, *a, **k)\u001b[0m\n\u001b[0;32m    191\u001b[0m     \u001b[1;31m# but it's overkill for just that one bit of state.\u001b[0m\u001b[1;33m\u001b[0m\u001b[1;33m\u001b[0m\u001b[0m\n\u001b[0;32m    192\u001b[0m     \u001b[1;32mdef\u001b[0m \u001b[0mmagic_deco\u001b[0m\u001b[1;33m(\u001b[0m\u001b[0marg\u001b[0m\u001b[1;33m)\u001b[0m\u001b[1;33m:\u001b[0m\u001b[1;33m\u001b[0m\u001b[0m\n\u001b[1;32m--> 193\u001b[1;33m         \u001b[0mcall\u001b[0m \u001b[1;33m=\u001b[0m \u001b[1;32mlambda\u001b[0m \u001b[0mf\u001b[0m\u001b[1;33m,\u001b[0m \u001b[1;33m*\u001b[0m\u001b[0ma\u001b[0m\u001b[1;33m,\u001b[0m \u001b[1;33m**\u001b[0m\u001b[0mk\u001b[0m\u001b[1;33m:\u001b[0m \u001b[0mf\u001b[0m\u001b[1;33m(\u001b[0m\u001b[1;33m*\u001b[0m\u001b[0ma\u001b[0m\u001b[1;33m,\u001b[0m \u001b[1;33m**\u001b[0m\u001b[0mk\u001b[0m\u001b[1;33m)\u001b[0m\u001b[1;33m\u001b[0m\u001b[0m\n\u001b[0m\u001b[0;32m    194\u001b[0m \u001b[1;33m\u001b[0m\u001b[0m\n\u001b[0;32m    195\u001b[0m         \u001b[1;32mif\u001b[0m \u001b[0mcallable\u001b[0m\u001b[1;33m(\u001b[0m\u001b[0marg\u001b[0m\u001b[1;33m)\u001b[0m\u001b[1;33m:\u001b[0m\u001b[1;33m\u001b[0m\u001b[0m\n",
      "\u001b[1;32mC:\\Users\\Orysya\\Anaconda\\lib\\site-packages\\IPython\\core\\magics\\code.pyc\u001b[0m in \u001b[0;36mload\u001b[1;34m(self, arg_s)\u001b[0m\n\u001b[0;32m    312\u001b[0m         \u001b[0msearch_ns\u001b[0m \u001b[1;33m=\u001b[0m \u001b[1;34m'n'\u001b[0m \u001b[1;32min\u001b[0m \u001b[0mopts\u001b[0m\u001b[1;33m\u001b[0m\u001b[0m\n\u001b[0;32m    313\u001b[0m \u001b[1;33m\u001b[0m\u001b[0m\n\u001b[1;32m--> 314\u001b[1;33m         \u001b[0mcontents\u001b[0m \u001b[1;33m=\u001b[0m \u001b[0mself\u001b[0m\u001b[1;33m.\u001b[0m\u001b[0mshell\u001b[0m\u001b[1;33m.\u001b[0m\u001b[0mfind_user_code\u001b[0m\u001b[1;33m(\u001b[0m\u001b[0margs\u001b[0m\u001b[1;33m,\u001b[0m \u001b[0msearch_ns\u001b[0m\u001b[1;33m=\u001b[0m\u001b[0msearch_ns\u001b[0m\u001b[1;33m)\u001b[0m\u001b[1;33m\u001b[0m\u001b[0m\n\u001b[0m\u001b[0;32m    315\u001b[0m \u001b[1;33m\u001b[0m\u001b[0m\n\u001b[0;32m    316\u001b[0m         \u001b[1;32mif\u001b[0m \u001b[1;34m's'\u001b[0m \u001b[1;32min\u001b[0m \u001b[0mopts\u001b[0m\u001b[1;33m:\u001b[0m\u001b[1;33m\u001b[0m\u001b[0m\n",
      "\u001b[1;32mC:\\Users\\Orysya\\Anaconda\\lib\\site-packages\\IPython\\core\\interactiveshell.pyc\u001b[0m in \u001b[0;36mfind_user_code\u001b[1;34m(self, target, raw, py_only, skip_encoding_cookie, search_ns)\u001b[0m\n\u001b[0;32m   3334\u001b[0m         \u001b[1;32mexcept\u001b[0m \u001b[0mException\u001b[0m\u001b[1;33m:\u001b[0m\u001b[1;33m\u001b[0m\u001b[0m\n\u001b[0;32m   3335\u001b[0m             raise ValueError((\"'%s' was not found in history, as a file, url, \"\n\u001b[1;32m-> 3336\u001b[1;33m                                 \"nor in the user namespace.\") % target)\n\u001b[0m\u001b[0;32m   3337\u001b[0m \u001b[1;33m\u001b[0m\u001b[0m\n\u001b[0;32m   3338\u001b[0m         \u001b[1;32mif\u001b[0m \u001b[0misinstance\u001b[0m\u001b[1;33m(\u001b[0m\u001b[0mcodeobj\u001b[0m\u001b[1;33m,\u001b[0m \u001b[0mstring_types\u001b[0m\u001b[1;33m)\u001b[0m\u001b[1;33m:\u001b[0m\u001b[1;33m\u001b[0m\u001b[0m\n",
      "\u001b[1;31mValueError\u001b[0m: 'survey.pl' was not found in history, as a file, url, nor in the user namespace."
     ]
    }
   ],
   "source": [
    "# the magic %load, unlike using !cat, creates a new cell that can be executed inside the notebook\n",
    "%load survey.pl\n",
    "#can load code into ipython"
   ]
  },
  {
   "cell_type": "markdown",
   "metadata": {},
   "source": [
    "## Processes\n",
    "\n",
    "A process is a sequence of commands that are executed in sequence, one after the other.\n",
    "By using \"time sharing\" a single CPU can compute many processes at the same time, frequently switching from one process to the next. In a multi-core machine, there are several CPUs and so even more processes can execute at the same time."
   ]
  },
  {
   "cell_type": "code",
   "execution_count": 29,
   "metadata": {
    "collapsed": false
   },
   "outputs": [
    {
     "name": "stderr",
     "output_type": "stream",
     "text": [
      "'top' is not recognized as an internal or external command,\n",
      "operable program or batch file.\n"
     ]
    }
   ],
   "source": [
    "# You can find out the current processes on your system using the command \"top\"\n",
    "# without flags, the command will open a window that will constantly update and that also\n",
    "# allows you to quit (or kill) processes. Here we use the flags to specify that top should only run once.\n",
    "!top -b -n 1\n",
    "#run top in terminal to determine what programs are running"
   ]
  },
  {
   "cell_type": "markdown",
   "metadata": {},
   "source": [
    "## Pipes\n",
    "We used pipes above to communicate between two or more unix commands.\n",
    "We now discuss this in more detail.\n",
    "\n",
    "Unix processes have three default input and output channels\n",
    "* **stdin** the standard input channel - by default - the keyboard\n",
    "* **stdout** the standard output channel - by default - the terminal.\n",
    "* **stderr** the standard error channel - by default - the terminal.\n",
    "\n",
    "Channels can be used to connect programs to each other and to connect programs and files. This is called **I/O redirection**.\n",
    "\n",
    "Connecting a standard channel to files is done using the following symbols\n",
    "(in bash, which is the standard shell in both ubuntu and os-x).\n",
    "\n",
    "| command      | result |\n",
    "|--------------|-----------------------------------------------------|\n",
    "| < filename   | Redirect stdin to read from the file \"filename\" |\n",
    "| > filename  | Redirect stdout to file \"filename.\" |\n",
    "| >>filename  | Redirect and append stdout to file \"filename.\" |\n",
    "| 1>filename   | Redirect stdout to file \"filename.\" |\n",
    "| 1>>filename  | Redirect and append stdout to file \"filename.\" |\n",
    "| 2>filename   | Redirect stderr to file \"filename.\" |\n",
    "| 2>>filename  | Redirect and append stderr to file \"filename.\" |\n",
    "| &>filename   | Redirect both stdout and stderr to file \"filename.\" |\n"
   ]
  },
  {
   "cell_type": "code",
   "execution_count": null,
   "metadata": {
    "collapsed": false
   },
   "outputs": [],
   "source": [
    "# One of the most basic unix command is cat\n",
    "%cd ~\n",
    "!cat < .bash_logout\n",
    "#cat copies the standard input to standard output"
   ]
  },
  {
   "cell_type": "code",
   "execution_count": null,
   "metadata": {
    "collapsed": false
   },
   "outputs": [],
   "source": [
    "# echo is another basic command, it pipes the string it gets as a parameter to std-out\n",
    "# To create a file with some specific line we can use\n",
    "!echo \"MAS-DSE is the best\" | cat > \"MAS-FILE\"\n",
    "!ls MAS*\n",
    "!cat MAS-FILE\n",
    "!rm MAS-FILE"
   ]
  },
  {
   "cell_type": "code",
   "execution_count": null,
   "metadata": {
    "collapsed": false
   },
   "outputs": [],
   "source": [
    "# some time we want to supress the error messages.\n",
    "# To do that we redirect stderr to a fictitious file called /dev/null\n",
    "# In addition, we can take the output and sort it (numerically, in reverse) according to the size\n",
    "!du -s /Users/Orysya/Documents/DSE/*  | sort -nr\n",
    "#dev/null sends to trash\n",
    "#shows subdirectories under DSE"
   ]
  },
  {
   "cell_type": "markdown",
   "metadata": {},
   "source": [
    "## Interacting with external programs through pipes"
   ]
  },
  {
   "cell_type": "code",
   "execution_count": 31,
   "metadata": {
    "collapsed": false
   },
   "outputs": [
    {
     "name": "stderr",
     "output_type": "stream",
     "text": [
      "'top' is not recognized as an internal or external command,\n",
      "operable program or batch file.\n"
     ]
    }
   ],
   "source": [
    "#the command top gives us a snapshot of the currently running processes\n",
    "!top -l 1 -n 10"
   ]
  },
  {
   "cell_type": "code",
   "execution_count": 32,
   "metadata": {
    "collapsed": true
   },
   "outputs": [
    {
     "ename": "WindowsError",
     "evalue": "[Error 2] The system cannot find the file specified",
     "output_type": "error",
     "traceback": [
      "\u001b[1;31m---------------------------------------------------------------------------\u001b[0m",
      "\u001b[1;31mWindowsError\u001b[0m                              Traceback (most recent call last)",
      "\u001b[1;32m<ipython-input-32-65d28b92897a>\u001b[0m in \u001b[0;36m<module>\u001b[1;34m()\u001b[0m\n\u001b[0;32m      4\u001b[0m \u001b[1;32mimport\u001b[0m \u001b[0msubprocess\u001b[0m\u001b[1;33m\u001b[0m\u001b[0m\n\u001b[0;32m      5\u001b[0m \u001b[1;33m\u001b[0m\u001b[0m\n\u001b[1;32m----> 6\u001b[1;33m \u001b[0moutput\u001b[0m \u001b[1;33m=\u001b[0m \u001b[0msubprocess\u001b[0m\u001b[1;33m.\u001b[0m\u001b[0mcheck_output\u001b[0m\u001b[1;33m(\u001b[0m\u001b[1;33m[\u001b[0m\u001b[1;34m'top'\u001b[0m\u001b[1;33m,\u001b[0m \u001b[1;34m'-l'\u001b[0m\u001b[1;33m,\u001b[0m \u001b[1;34m'1'\u001b[0m\u001b[1;33m,\u001b[0m \u001b[1;34m'-n'\u001b[0m\u001b[1;33m,\u001b[0m\u001b[1;34m'1'\u001b[0m\u001b[1;33m]\u001b[0m\u001b[1;33m)\u001b[0m\u001b[1;33m\u001b[0m\u001b[0m\n\u001b[0m\u001b[0;32m      7\u001b[0m \u001b[1;32mprint\u001b[0m \u001b[1;34m'Have %d bytes in output'\u001b[0m \u001b[1;33m%\u001b[0m \u001b[0mlen\u001b[0m\u001b[1;33m(\u001b[0m\u001b[0moutput\u001b[0m\u001b[1;33m)\u001b[0m\u001b[1;33m\u001b[0m\u001b[0m\n\u001b[0;32m      8\u001b[0m \u001b[1;33m\u001b[0m\u001b[0m\n",
      "\u001b[1;32mC:\\Users\\Orysya\\Anaconda\\lib\\subprocess.pyc\u001b[0m in \u001b[0;36mcheck_output\u001b[1;34m(*popenargs, **kwargs)\u001b[0m\n\u001b[0;32m    564\u001b[0m     \u001b[1;32mif\u001b[0m \u001b[1;34m'stdout'\u001b[0m \u001b[1;32min\u001b[0m \u001b[0mkwargs\u001b[0m\u001b[1;33m:\u001b[0m\u001b[1;33m\u001b[0m\u001b[0m\n\u001b[0;32m    565\u001b[0m         \u001b[1;32mraise\u001b[0m \u001b[0mValueError\u001b[0m\u001b[1;33m(\u001b[0m\u001b[1;34m'stdout argument not allowed, it will be overridden.'\u001b[0m\u001b[1;33m)\u001b[0m\u001b[1;33m\u001b[0m\u001b[0m\n\u001b[1;32m--> 566\u001b[1;33m     \u001b[0mprocess\u001b[0m \u001b[1;33m=\u001b[0m \u001b[0mPopen\u001b[0m\u001b[1;33m(\u001b[0m\u001b[0mstdout\u001b[0m\u001b[1;33m=\u001b[0m\u001b[0mPIPE\u001b[0m\u001b[1;33m,\u001b[0m \u001b[1;33m*\u001b[0m\u001b[0mpopenargs\u001b[0m\u001b[1;33m,\u001b[0m \u001b[1;33m**\u001b[0m\u001b[0mkwargs\u001b[0m\u001b[1;33m)\u001b[0m\u001b[1;33m\u001b[0m\u001b[0m\n\u001b[0m\u001b[0;32m    567\u001b[0m     \u001b[0moutput\u001b[0m\u001b[1;33m,\u001b[0m \u001b[0munused_err\u001b[0m \u001b[1;33m=\u001b[0m \u001b[0mprocess\u001b[0m\u001b[1;33m.\u001b[0m\u001b[0mcommunicate\u001b[0m\u001b[1;33m(\u001b[0m\u001b[1;33m)\u001b[0m\u001b[1;33m\u001b[0m\u001b[0m\n\u001b[0;32m    568\u001b[0m     \u001b[0mretcode\u001b[0m \u001b[1;33m=\u001b[0m \u001b[0mprocess\u001b[0m\u001b[1;33m.\u001b[0m\u001b[0mpoll\u001b[0m\u001b[1;33m(\u001b[0m\u001b[1;33m)\u001b[0m\u001b[1;33m\u001b[0m\u001b[0m\n",
      "\u001b[1;32mC:\\Users\\Orysya\\Anaconda\\lib\\subprocess.pyc\u001b[0m in \u001b[0;36m__init__\u001b[1;34m(self, args, bufsize, executable, stdin, stdout, stderr, preexec_fn, close_fds, shell, cwd, env, universal_newlines, startupinfo, creationflags)\u001b[0m\n\u001b[0;32m    708\u001b[0m                                 \u001b[0mp2cread\u001b[0m\u001b[1;33m,\u001b[0m \u001b[0mp2cwrite\u001b[0m\u001b[1;33m,\u001b[0m\u001b[1;33m\u001b[0m\u001b[0m\n\u001b[0;32m    709\u001b[0m                                 \u001b[0mc2pread\u001b[0m\u001b[1;33m,\u001b[0m \u001b[0mc2pwrite\u001b[0m\u001b[1;33m,\u001b[0m\u001b[1;33m\u001b[0m\u001b[0m\n\u001b[1;32m--> 710\u001b[1;33m                                 errread, errwrite)\n\u001b[0m\u001b[0;32m    711\u001b[0m         \u001b[1;32mexcept\u001b[0m \u001b[0mException\u001b[0m\u001b[1;33m:\u001b[0m\u001b[1;33m\u001b[0m\u001b[0m\n\u001b[0;32m    712\u001b[0m             \u001b[1;31m# Preserve original exception in case os.close raises.\u001b[0m\u001b[1;33m\u001b[0m\u001b[1;33m\u001b[0m\u001b[0m\n",
      "\u001b[1;32mC:\\Users\\Orysya\\Anaconda\\lib\\subprocess.pyc\u001b[0m in \u001b[0;36m_execute_child\u001b[1;34m(self, args, executable, preexec_fn, close_fds, cwd, env, universal_newlines, startupinfo, creationflags, shell, to_close, p2cread, p2cwrite, c2pread, c2pwrite, errread, errwrite)\u001b[0m\n\u001b[0;32m    956\u001b[0m                                          \u001b[0menv\u001b[0m\u001b[1;33m,\u001b[0m\u001b[1;33m\u001b[0m\u001b[0m\n\u001b[0;32m    957\u001b[0m                                          \u001b[0mcwd\u001b[0m\u001b[1;33m,\u001b[0m\u001b[1;33m\u001b[0m\u001b[0m\n\u001b[1;32m--> 958\u001b[1;33m                                          startupinfo)\n\u001b[0m\u001b[0;32m    959\u001b[0m             \u001b[1;32mexcept\u001b[0m \u001b[0mpywintypes\u001b[0m\u001b[1;33m.\u001b[0m\u001b[0merror\u001b[0m\u001b[1;33m,\u001b[0m \u001b[0me\u001b[0m\u001b[1;33m:\u001b[0m\u001b[1;33m\u001b[0m\u001b[0m\n\u001b[0;32m    960\u001b[0m                 \u001b[1;31m# Translate pywintypes.error to WindowsError, which is\u001b[0m\u001b[1;33m\u001b[0m\u001b[1;33m\u001b[0m\u001b[0m\n",
      "\u001b[1;31mWindowsError\u001b[0m: [Error 2] The system cannot find the file specified"
     ]
    }
   ],
   "source": [
    "# We can run the program from within a python script (using ! requires running inside ipython)\n",
    "\n",
    "# here we use python to find those processes that take a non-zero part of the memory.\n",
    "import subprocess\n",
    "\n",
    "output = subprocess.check_output(['top', '-l', '1', '-n','1'])\n",
    "print 'Have %d bytes in output' % len(output)\n",
    "\n",
    "lines=output.splitlines() # break output into lines\n",
    "len(lines)\n",
    "for line in lines:\n",
    "    percent = line[47:50]\n",
    "    try:\n",
    "        p=float(percent)\n",
    "    except:\n",
    "        continue\n",
    "    if p>0:\n",
    "        print line,"
   ]
  },
  {
   "cell_type": "raw",
   "metadata": {},
   "source": [
    "    1 root      20   0 24336 1492  536 S  0.0  0.2   0:00.40 init       \n",
    "0123456789012345678901234567890123456789012345678901234567890123456789\n",
    "0         1         2         3         4         5         6         "
   ]
  },
  {
   "cell_type": "code",
   "execution_count": null,
   "metadata": {
    "collapsed": false
   },
   "outputs": [],
   "source": [
    "# If we use top in it's default non-batch form, the program crashes\n",
    "output = subprocess.check_output(['top'])\n",
    "print 'Have %d bytes in output' % len(output)\n"
   ]
  },
  {
   "cell_type": "code",
   "execution_count": null,
   "metadata": {
    "collapsed": false
   },
   "outputs": [],
   "source": [
    "# it runs fine with !\n",
    "!top"
   ]
  },
  {
   "cell_type": "code",
   "execution_count": null,
   "metadata": {
    "collapsed": false
   },
   "outputs": [],
   "source": [
    "# what we need to do is run the process 'top' in the background - in parallel to the ipython session\n",
    "# and print what the program outputs to stdout as it becomes available\n",
    "\n",
    "# The slight problem is that this code has a bug and it does not work right, can you make it work?\n",
    "\n",
    "import select\n",
    "from time import sleep\n",
    "\n",
    "def dataWaiting(source):\n",
    "    \" Check if data is waiting to be read \"\n",
    "    return select.select([source], [], [], 0) == ([source], [], [])\n",
    "\n",
    "proc = subprocess.Popen(['top'], \n",
    "                        stdout=subprocess.PIPE,\n",
    "                        shell=False\n",
    "                        )\n",
    "\n",
    "while True:\n",
    "    sleep(0.1)\n",
    "    try:\n",
    "        for line in proc.stdout.readline():\n",
    "            print line\n",
    "    except:\n",
    "        print 'exception'\n",
    "        \n",
    "#while True:\n",
    "#    sleep(0.1)\n",
    "#    if dataWaiting(proc.stdout):\n",
    "#        print 'Data Available'\n",
    "#        line=proc.stdout.readline()\n",
    "#        print line,\n",
    "#    else:\n",
    "#        print 'not available'\n"
   ]
  },
  {
   "cell_type": "code",
   "execution_count": null,
   "metadata": {
    "collapsed": false
   },
   "outputs": [],
   "source": []
  },
  {
   "cell_type": "code",
   "execution_count": null,
   "metadata": {
    "collapsed": false
   },
   "outputs": [],
   "source": []
  },
  {
   "cell_type": "code",
   "execution_count": null,
   "metadata": {
    "collapsed": false
   },
   "outputs": [],
   "source": []
  },
  {
   "cell_type": "code",
   "execution_count": null,
   "metadata": {
    "collapsed": false
   },
   "outputs": [],
   "source": []
  }
 ],
 "metadata": {
  "kernelspec": {
   "display_name": "Python [Root]",
   "language": "python",
   "name": "Python [Root]"
  },
  "language_info": {
   "codemirror_mode": {
    "name": "ipython",
    "version": 2
   },
   "file_extension": ".py",
   "mimetype": "text/x-python",
   "name": "python",
   "nbconvert_exporter": "python",
   "pygments_lexer": "ipython2",
   "version": "2.7.11"
  }
 },
 "nbformat": 4,
 "nbformat_minor": 0
}
