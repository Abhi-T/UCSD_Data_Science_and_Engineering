{
 "cells": [
  {
   "cell_type": "code",
   "execution_count": null,
   "metadata": {
    "collapsed": false
   },
   "outputs": [],
   "source": [
    "import pandas as pd\n",
    "from pandas import DataFrame, Series\n",
    "import numpy as np\n",
    "import matplotlib.pyplot as plt\n",
    "import matplotlib"
   ]
  },
  {
   "cell_type": "markdown",
   "metadata": {},
   "source": [
    "### Which Application Programming Interface?\n",
    "The 1 worlds of Matplotlib (2 broad ways of using pyplot):\n",
    "1. The 1st (& most common) way is not pythonic. It relie on global functions to build & display a global figure using matplotlib as a global state machine. (This is an easy approach for interactive use).\n",
    "2. The 2nd way is pythonic & object orientated. You obtain an empty Figure from a global factory, & then build the plot explicitly using the methods of the Figure & the classes it contains. (This is the best approach for programmatic use).\n",
    "\n",
    "Which API?\n",
    "While these notes focus on 2nd approach, let's begin w/a quick look @ the 1st."
   ]
  },
  {
   "cell_type": "markdown",
   "metadata": {},
   "source": [
    "### Using matplotlib in a non-pythonic way"
   ]
  },
  {
   "cell_type": "code",
   "execution_count": null,
   "metadata": {
    "collapsed": true
   },
   "outputs": [],
   "source": [
    "#1. Get some (fake) data - monthly time series\n",
    "x = pd.period_range('1980-01-01', periods=410, freq='M').to_timestamp().to_pydatetime()\n",
    "y = np.random.randn(len(x)).cumsum()"
   ]
  },
  {
   "cell_type": "code",
   "execution_count": null,
   "metadata": {
    "collapsed": false
   },
   "outputs": [],
   "source": [
    "#2. Plot the data\n",
    "%matplotlib inline\n",
    "plt.plot(x, y, label='FDI')"
   ]
  },
  {
   "cell_type": "code",
   "execution_count": null,
   "metadata": {
    "collapsed": false
   },
   "outputs": [],
   "source": [
    "#3. Add your labels & pretty-up the plot\n",
    "%matplotlib inline\n",
    "plt.plot(x, y, label='FDI')\n",
    "plt.title('Fake Date Index')\n",
    "plt.xlabel('Date')\n",
    "plt.ylabel('Index')\n",
    "plt.grid(True)\n",
    "plt.figtext(0.995, 0.01, 'Footnote', ha='right', va='bottom')\n",
    "plt.legend(loc='best', framealpha=0.5, prop={'size':'small'})\n",
    "plt.tight_layout(pad=1)\n",
    "plt.gcf().set_size_inches(8, 4)"
   ]
  },
  {
   "cell_type": "code",
   "execution_count": null,
   "metadata": {
    "collapsed": false
   },
   "outputs": [],
   "source": [
    "!mkdir Matplotlib_figures\n",
    "%cd Matplotlib_figures/\n",
    "!ls "
   ]
  },
  {
   "cell_type": "code",
   "execution_count": null,
   "metadata": {
    "collapsed": false
   },
   "outputs": [],
   "source": [
    "#4. Save the figure\n",
    "plt.savefig('Non-pythonic_way.png')"
   ]
  },
  {
   "cell_type": "code",
   "execution_count": null,
   "metadata": {
    "collapsed": true
   },
   "outputs": [],
   "source": [
    "#5. Finally, close the figure\n",
    "plt.close()"
   ]
  },
  {
   "cell_type": "code",
   "execution_count": null,
   "metadata": {
    "collapsed": false
   },
   "outputs": [],
   "source": [
    "#Alternatively, show the figure --> w/ipython, follow steps 1-3 above then:\n",
    "plt.show() #Note: also closes the figure"
   ]
  },
  {
   "cell_type": "markdown",
   "metadata": {},
   "source": [
    "### Matplotlib: intro to the object orientated way\n",
    "The Figure\n",
    "Figure is the top-level container for everything on a canvas. We get an empty figure from the global Figure factory."
   ]
  },
  {
   "cell_type": "code",
   "execution_count": null,
   "metadata": {
    "collapsed": false
   },
   "outputs": [],
   "source": [
    "fig = plt.figure(num=None, figsize=None, dpi=None, facecolor=None, edgecolor=None)\n",
    "\n",
    "#num - integer or string identifier of figure if num exists, it is selected if num is None, a new 1 is allocated\n",
    "#figsize - tuple of (width, height) in inches\n",
    "#dpi - dots per inch\n",
    "#facecolor - background\n",
    "#edgecolor - border"
   ]
  },
  {
   "cell_type": "code",
   "execution_count": null,
   "metadata": {
    "collapsed": false
   },
   "outputs": [],
   "source": [
    "#Iterating over the open figures\n",
    "for i in plt.get_fignums():\n",
    "    fig = plt.figure(i) #get the figure\n",
    "    print (fig.number) #do something"
   ]
  },
  {
   "cell_type": "code",
   "execution_count": null,
   "metadata": {
    "collapsed": false
   },
   "outputs": [],
   "source": [
    "#Close a figure\n",
    "#plt.close(fig.number) #close known figure\n",
    "#plt.close() #close the current figure\n",
    "#plt.close(i) #close figure numbered i\n",
    "#pt.close(name) #close figure by str name\n",
    "#plt.close('all') #close all figures"
   ]
  },
  {
   "cell_type": "code",
   "execution_count": null,
   "metadata": {
    "collapsed": true
   },
   "outputs": [],
   "source": [
    "#An Axes or Subplot (a subclass of Axes)\n",
    "#An Axes is a container class for a specific plot. A figure may contin man Axes &/| subplots. Subplots are laid out in a \n",
    "#grid w/in the Figure. Axes can be placed anywhere on the Figure. There are a number of methods that yeild an Axes, ie.:\n",
    "ax = fig.add_subplot(2,2,2) #rows-cols-nul\n",
    "ax = fig.add_axes([0.1, 0.1, 0.8, 0.8])"
   ]
  },
  {
   "cell_type": "code",
   "execution_count": null,
   "metadata": {
    "collapsed": false
   },
   "outputs": [],
   "source": [
    "#All at once\n",
    "#We can use the subplots factory to get the Figure & all the desired Axes @ once\n",
    "fig, ax = plt.subplots()\n",
    "fig, (ax1, ax2, ax3) = plt.subplots(nrows=3, ncols=1, sharex=True, figsize=(8,4))"
   ]
  },
  {
   "cell_type": "code",
   "execution_count": null,
   "metadata": {
    "collapsed": false
   },
   "outputs": [],
   "source": [
    "#Iterating the Axes w/in a Figure\n",
    "#for ax in fig.get_axes():\n",
    "    #do something"
   ]
  },
  {
   "cell_type": "code",
   "execution_count": null,
   "metadata": {
    "collapsed": false
   },
   "outputs": [],
   "source": [
    "#Remove an Axes from a Figure\n",
    "#fig.delaxes(ax)"
   ]
  },
  {
   "cell_type": "markdown",
   "metadata": {},
   "source": [
    "### Line Plots - using ax.plot()"
   ]
  },
  {
   "cell_type": "code",
   "execution_count": null,
   "metadata": {
    "collapsed": false
   },
   "outputs": [],
   "source": [
    "#Single plot constructed w/Figure & Axes\n",
    "x = np.linspace(0,16,800)\n",
    "y = np.sin(x)\n",
    "# -- get an empty figure & add an Axes\n",
    "fig = plt.figure(figsize=(8,4))\n",
    "ax = fig.add_subplot(1,1,1) #rows-cols-num\n",
    "# --- line plot data on the Axes\n",
    "ax.plot(x,y, 'b-', linewidth=2, label=r'$y=\\sin(x)$')\n",
    "# --- add title, labels, & legend, etc.\n",
    "ax.set_ylabel(r'$y$', fontsize =16)\n",
    "ax.set_xlabel(r'$x$', fontsize =16)\n",
    "ax.legend(loc='best')\n",
    "ax.grid(True)\n",
    "fig.suptitle('The Sine Wave')\n",
    "fig.tight_layout(pad=1)\n",
    "fig.savefig('line_plots.png', dpi=125)"
   ]
  },
  {
   "cell_type": "code",
   "execution_count": null,
   "metadata": {
    "collapsed": false
   },
   "outputs": [],
   "source": [
    "#Multiple lines w/markers on a line plot\n",
    "# --- get the Figure & Axes all @ once\n",
    "fig, ax = plt.subplots()\n",
    "# --- plot some lines\n",
    "N = 8 #the number of lines we will plot\n",
    "styles = ['-', '--', '-.',':']\n",
    "markers = list('+ox^psDv')\n",
    "x = np.linspace(0, 100, 20)\n",
    "for i in range(N): #add line-by-line\n",
    "    y = x + x/5*i + i\n",
    "    s = styles[i % len(styles)]\n",
    "    m = markers[i % len(markers)]\n",
    "    ax.plot(x, y,\n",
    "           label='Line '+str(i+1)+' '+s+m,\n",
    "           marker=m, linewidth=2, linestyle=s)\n",
    "    \n",
    "# --- add grid, legend, title and save\n",
    "ax.grid(True)\n",
    "ax.legend(loc='best', prop={'size':'large'})\n",
    "fig.suptitle('A Simple Line Plot')\n",
    "fig.savefig('Multiple_lines_on_line_plot.png', dpi=125)"
   ]
  },
  {
   "cell_type": "markdown",
   "metadata": {},
   "source": [
    "### Scatter plots -using ax.scatter()"
   ]
  },
  {
   "cell_type": "code",
   "execution_count": null,
   "metadata": {
    "collapsed": false
   },
   "outputs": [],
   "source": [
    "#A simple scatter plot\n",
    "x = np.random.randn(100)\n",
    "y = x + np.random.randn(100)\n",
    "fig, ax = plt.subplots(figsize=(8, 3.5))\n",
    "ax.scatter(x,y,alpha=0.5, color='orchid')\n",
    "fig.suptitle('Example Simple Scatter Plot')\n",
    "fig.tight_layout(pad=2);\n",
    "ax.grid(True)\n",
    "fig.savefig('Simple_scatter_plot.png', dpi=125)"
   ]
  },
  {
   "cell_type": "code",
   "execution_count": null,
   "metadata": {
    "collapsed": false
   },
   "outputs": [],
   "source": [
    "#Add a regression line\n",
    "x = np.random.randn(100)\n",
    "y = x + np.random.randn(100)\n",
    "fig, ax = plt.subplots(figsize=(8, 3.5))\n",
    "ax.scatter(x,y,alpha=0.5, color='orchid')\n",
    "fig.suptitle('Example Simple Scatter Plot')\n",
    "fig.tight_layout(pad=2);\n",
    "ax.grid(True)\n",
    "fit = np.polyfit(x, y, deg=1)\n",
    "ax.plot(x, fit[0]*x + fit[1], '-', color='darkorchid', linewidth=2)\n",
    "fig.savefig('Simple_scatter_plot_and_regression_line', dpi=125)"
   ]
  },
  {
   "cell_type": "code",
   "execution_count": null,
   "metadata": {
    "collapsed": false,
    "scrolled": true
   },
   "outputs": [],
   "source": [
    "!pip install seaborn\n",
    "!pip install moss"
   ]
  },
  {
   "cell_type": "code",
   "execution_count": null,
   "metadata": {
    "collapsed": false
   },
   "outputs": [],
   "source": [
    "#Add confidence bands for the regression line\n",
    "#Confidence bands adapted from Seaborn \n",
    "import moss\n",
    "ci = 95\n",
    "xx = np.linspace(min(x), max(x), 100)\n",
    "def _btstrap_r(x, y):\n",
    "    fit = np.polyfit(x, y, deg=1)\n",
    "    return np.polyval(fit, xx)\n",
    "\n",
    "boots = moss.bootstrap(x, y, func=_bootstrap_r)\n",
    "lims = [50 - ci / 2., 50 + ci / 2.]\n",
    "bands = moss.percentiles(boots, lims, axis=0)\n",
    "ax.fill_between(xx, *bands, color='#888888', alpha=.3)\n",
    "fig.savefig('Confidence_bands.png', dpi=125)"
   ]
  },
  {
   "cell_type": "code",
   "execution_count": null,
   "metadata": {
    "collapsed": false
   },
   "outputs": [],
   "source": [
    "!pip install design\n",
    "#having issues running above code bc/ cannot install design properly which would allow moss (a seaborn dependency to run)"
   ]
  },
  {
   "cell_type": "code",
   "execution_count": null,
   "metadata": {
    "collapsed": false
   },
   "outputs": [],
   "source": [
    "#Changing the marker size & color\n",
    "N = 100\n",
    "x = np.random.randn(N)\n",
    "y = np.random.rand(N)\n",
    "size = ((np.random.rand(N) + 1) * 8) ** 2\n",
    "colours = np.random.rand(N)\n",
    "fig, ax = plt.subplots(figsize=(8,4))\n",
    "l = ax.scatter(x, y, s=size, c=colours)\n",
    "fig.colorbar(l)\n",
    "ax.set_xlim((0,1))\n",
    "ax.set_ylim((0,1))\n",
    "fig.suptitle('Dramatic Scatter Plot')\n",
    "fig.tight_layout(pad=1);\n",
    "ax.grid(True)\n",
    "fig.savefig('Change_marker_size_colour.png', dpi=125)\n",
    "\n",
    "#Matplotlib has a huge range of colour maps in addition to the default used here"
   ]
  },
  {
   "cell_type": "code",
   "execution_count": null,
   "metadata": {
    "collapsed": false
   },
   "outputs": [],
   "source": [
    "#Changing the marker symbol\n",
    "fig, ax = plt.subplots(figsize=(8,5))\n",
    "markers = list('ov^<>12348sphHdD+x*|_')\n",
    "N = 10;\n",
    "for i, m in enumerate(markers):\n",
    "    x = np.arange(N)\n",
    "    y = np.repeat(i+1, N)\n",
    "    ax.scatter(x, y, marker=m, label=m, s=50, c='cornflowerblue')\n",
    "    \n",
    "ax.set_xlim((-1, N))\n",
    "ax.set_ylim((0, len(markers)+1))\n",
    "ax.legend(loc='upper left', ncol=3, prop={'size':'xx-large'}, shadow=True, title='Marker Legend')\n",
    "ax.get_legend().get_title().set_color(\"red\")\n",
    "fig.suptitle('Markers ' + '(with an oversized legend)')\n",
    "fig.tight_layout(pad=2);\n",
    "fig.savefig('Changing_marker_symbol.png', dpi=125)"
   ]
  },
  {
   "cell_type": "markdown",
   "metadata": {},
   "source": [
    "### Bar plots - using ax.bar() and ax.barh()"
   ]
  },
  {
   "cell_type": "code",
   "execution_count": null,
   "metadata": {
    "collapsed": false
   },
   "outputs": [],
   "source": [
    "#A simple bar chart\n",
    "#The bars in a bar-plot are placed to the right of the bar x-axis location by default. Centered labels require a little\n",
    "#jiggling w/the bar & label positions\n",
    "\n",
    "# --- get the data\n",
    "N = 5\n",
    "labels = list('ABCDEFGHIJKLMNOPQRSTUVW'[0:N])\n",
    "data = np.array(range(N)) + np.random.rand(N)\n",
    "# --- plot the data\n",
    "fig, ax = plt.subplots(figsize=(8, 3.5))\n",
    "width = 0.8;\n",
    "tickLocations = np.arange(N)\n",
    "rectLocations = tickLocations - (width/2.0)\n",
    "ax.bar(rectLocations, data, width, color='wheat', edgecolor='#8B7E66', linewidth=4.0)\n",
    "# --- pretty-up the plot\n",
    "ax.set_xticks(ticks=tickLocations)\n",
    "ax.set_xticklabels(labels)\n",
    "ax.set_xlim(min(tickLocations)-0.6, max(tickLocations)+0.6)\n",
    "ax.set_yticks(range(N)[1:])\n",
    "ax.set_ylim((0, N))\n",
    "ax.yaxis.grid(True)\n",
    "# --- title & save\n",
    "fig.suptitle(\"Bar Plot with Oversized Edges\")\n",
    "fig.tight_layout(pad=2)\n",
    "fig.savefig('A_simple_bar_chart.png', dpi=125)"
   ]
  },
  {
   "cell_type": "code",
   "execution_count": null,
   "metadata": {
    "collapsed": false
   },
   "outputs": [],
   "source": [
    "#Side by side bar chart\n",
    "# -- get the data\n",
    "before = np.array([10, 11, 9, 12])\n",
    "after = np.array([11, 12, 8, 17])\n",
    "labels = ['Group' + x for x in list('ABCD')]\n",
    "# --- the plot - left then right\n",
    "fig, ax = plt.subplots()\n",
    "width = 0.4 #bar width\n",
    "xlocs = np.arange(len(before))\n",
    "ax.bar(xlocs-width, before, width, color='wheat', label='Males')\n",
    "ax.bar(xlocs, after, width, label='Females')\n",
    "# --- labels, grids and title, then save\n",
    "ax.set_xticks(ticks = range(len(before)))\n",
    "ax.set_xticklabels(labels)\n",
    "ax.yaxis.grid(True)\n",
    "ax.legend(loc='best')\n",
    "ax.set_ylabel('Mean Group Result')\n",
    "fig.suptitle('Group Results by Gender')\n",
    "fig.tight_layout(pad=1)\n",
    "fig.savefig('side_by_side_bar_chart.png', dpi=125)"
   ]
  },
  {
   "cell_type": "code",
   "execution_count": null,
   "metadata": {
    "collapsed": false
   },
   "outputs": [],
   "source": [
    "#Stacked bar\n",
    "# -- get some data\n",
    "alphas = np.array([23, 44, 52, 32])\n",
    "betas = np.array([38, 49, 32, 61])\n",
    "labels = ['Sydney', 'Melb', 'Canb', 'Bris']\n",
    "# --- the plot\n",
    "fig, ax = plt.subplots(figsize=(8, 3.5))\n",
    "width = 0.8;\n",
    "xlocations = np.array(range(len(alphas) + 2))\n",
    "adjlocs = xlocations[1:-1] - width/2.0\n",
    "ax.bar(adjlocs, alphas, width, label='alpha', color='tan')\n",
    "ax.bar(adjlocs, betas, width, label='betas', color='wheat', bottom=alphas)\n",
    "# --- pretty-up & save\n",
    "ax.set_xticks(ticks = xlocations[1:-1])\n",
    "ax.set_xticklabels(labels)\n",
    "ax.yaxis.grid(True)\n",
    "ax.legend(loc='best', prop={'size':'small'})\n",
    "fig.suptitle(\"Stacked Nonsense\")\n",
    "fig.tight_layout(pad=2)\n",
    "fig.savefig('Stacked_bar.png', dpi=125)"
   ]
  },
  {
   "cell_type": "code",
   "execution_count": null,
   "metadata": {
    "collapsed": false
   },
   "outputs": [],
   "source": [
    "#Horizontal bar charts\n",
    "#Just as tick placement needs to be managed w/vertical bars; so w/horizontal bars (which are above the y-tick mark)\n",
    "\n",
    "labels = ['Males', 'Females', 'Persons']\n",
    "data = [6.3, 7.2, 6.8]\n",
    "width = 0.8\n",
    "yTickPos = np.arange(len(data))\n",
    "yBarPos = yTickPos - (width/2.0)\n",
    "fig, ax = plt.subplots(figsize=(8, 3.5))\n",
    "ax.barh(yBarPos, data, width, color='wheat')\n",
    "ax.set_yticks(ticks= yTickPos)\n",
    "ax.set_yticklabels(labels)\n",
    "ax.set_ylim((min(yTickPos) - 0.6, max(yTickPos)+0.6))\n",
    "ax.xaxis.grid(True)\n",
    "ax.set_ylabel('Gender');\n",
    "ax.set_xlabel('Rate (Percent)')\n",
    "fig.suptitle(\"Horizontal Nonsense\")\n",
    "fig.tight_layout(pad=2)\n",
    "fig.savefig('Horizontal_bar_charts.png', dpi=125)"
   ]
  },
  {
   "cell_type": "markdown",
   "metadata": {},
   "source": [
    "### Pie Chart - using ax.pie()"
   ]
  },
  {
   "cell_type": "code",
   "execution_count": null,
   "metadata": {
    "collapsed": false
   },
   "outputs": [],
   "source": [
    "#As nice as pie\n",
    "# --- get some data\n",
    "data = np.array([5,3,4,6])\n",
    "labels = ['bats', 'cats', 'gnats', 'rats']\n",
    "explode = (0, 0.1, 0, 0) # explode cats slice\n",
    "colors = ['khaki', 'goldenrod', 'tan', 'wheat']\n",
    "# --- the plot\n",
    "fig, ax = plt.subplots(figsize=(8, 3.5))\n",
    "ax.pie(data, explode=explode, labels=labels, autopct='%1.1f%%', startangle=270, colors=colors)\n",
    "ax.axis('equal') #keep it a circle\n",
    "# --- tidy-up and save\n",
    "fig.suptitle(\"Delicious Pie Ingredients\")\n",
    "fig.savefig('Pie_chart.png', dpi=125)"
   ]
  },
  {
   "cell_type": "markdown",
   "metadata": {},
   "source": [
    "### Polar - using ax.plot()"
   ]
  },
  {
   "cell_type": "code",
   "execution_count": null,
   "metadata": {
    "collapsed": false
   },
   "outputs": [],
   "source": [
    "#Polar coordinates\n",
    "# --- theta\n",
    "theta = np.linspace(-np.pi, np.pi, 800)\n",
    "# --- get us a Figure\n",
    "fig = plt.figure(figsize=(8,4))\n",
    "# --- left hand plot\n",
    "ax = fig.add_subplot(1,2,1, polar=True)\n",
    "r = 3 + np.cos(5*theta)\n",
    "ax.plot(theta, r)\n",
    "ax.set_yticks([1,2,3,4])\n",
    "# --- right hand plot\n",
    "ax = fig.add_subplot(1,2,2, polar=True)\n",
    "r = (np.sin(theta)) - (np.cos(10*theta))\n",
    "ax.plot(theta, r, color='green')\n",
    "ax.set_yticks([1,2])\n",
    "# --- title, explanatory text & save\n",
    "fig.text(x=0.24, y=0.05, s =r'$r = 3 + \\cos(5 \\theta)$')\n",
    "fig.text(x=0.64, y=0.05, s=r'$r = \\sin(\\theta) - \\cos(10 \\theta)$')\n",
    "fig.savefig('Polar_coordinates.png', dpi=125)"
   ]
  },
  {
   "cell_type": "markdown",
   "metadata": {},
   "source": [
    "### Plot spines"
   ]
  },
  {
   "cell_type": "code",
   "execution_count": null,
   "metadata": {
    "collapsed": false
   },
   "outputs": [],
   "source": [
    "#Hiding the top & right spines\n",
    "x = np.linspace(-np.pi, np.pi, 800)\n",
    "y = np.sin(x)\n",
    "fig, ax = plt.subplots()\n",
    "ax.plot(x, y, label='Sine', color='red')\n",
    "ax.set_axis_bgcolor('#e5e5e5') #nice gray for background\n",
    "ax.spines['right'].set_color('none')\n",
    "ax.spines['top'].set_position(('outward', 10))\n",
    "ax.spines['bottom'].set_position(('outward', 10))\n",
    "ax.xaxis.set_ticks_position('bottom')\n",
    "ax.yaxis.set_ticks_position('left')\n",
    "#do the ax.grid() after setting ticks\n",
    "ax.grid(b=True, which='both', color='white', linestyle='-', linewidth=1.5)\n",
    "ax.set_axisbelow(True)\n",
    "ax.legend(loc='best', frameon=False)\n",
    "fig.savefig('Hiding_the_top_and_right_spines.png', dpi=125)"
   ]
  },
  {
   "cell_type": "code",
   "execution_count": null,
   "metadata": {
    "collapsed": false
   },
   "outputs": [],
   "source": [
    "#Spines in the middle\n",
    "x = np.linspace(-np.pi, np.pi, 800)\n",
    "y = np.sin(x)\n",
    "fig, ax = plt.subplots(figsize=(8,4))\n",
    "ax.plot(x, y, label='Sine')\n",
    "ax.spines['right'].set_color('none')\n",
    "ax.spines['top'].set_color('none')\n",
    "ax.xaxis.set_ticks_position('bottom')\n",
    "ax.spines['bottom'].set_position(('data', 0))\n",
    "ax.yaxis.set_ticks_position('left')\n",
    "ax.spines['left'].set_position(('data', 0))\n",
    "ax.grid(b=True, which='both', color='#888888', linestyle='-', linewidth=0.5)\n",
    "fig.suptitle('Sine')\n",
    "fig.savefig('Spines_in_the_middle.png', dpi=125)"
   ]
  },
  {
   "cell_type": "markdown",
   "metadata": {},
   "source": [
    "### Legends"
   ]
  },
  {
   "cell_type": "code",
   "execution_count": null,
   "metadata": {
    "collapsed": false
   },
   "outputs": [],
   "source": [
    "#Legend w/in the plot\n",
    "#Use the 'loc' argument to place the legend\n",
    "\n",
    "N = 5\n",
    "x = np.arange(N)\n",
    "fig, ax = plt.subplots(figsize=(8, 3))\n",
    "for j in range(5):\n",
    "    ax.plot(x, x*(j+1), label='Line '+str(j))\n",
    "    \n",
    "ax.legend(loc='upper left')\n",
    "fig.savefig('Legend_within_the_plot.png', dpi=125)"
   ]
  },
  {
   "cell_type": "code",
   "execution_count": null,
   "metadata": {
    "collapsed": false
   },
   "outputs": [],
   "source": [
    "#Legend slightly outside of the plot\n",
    "N = 5\n",
    "x = np.arange(N)\n",
    "fig, ax = plt.subplots(figsize=(8, 3))\n",
    "for j in range(5):\n",
    "    ax.plot(x, x*(j+1), label='Line '+str(j))\n",
    "    \n",
    "ax.legend(bbox_to_anchor=(1.1, 1.05))\n",
    "fig.savefig('Legend_slightly_outside_of_the_plot.png', dpi=125)"
   ]
  },
  {
   "cell_type": "code",
   "execution_count": null,
   "metadata": {
    "collapsed": false
   },
   "outputs": [],
   "source": [
    "#Legend to the right of the plot\n",
    "N = 5\n",
    "x = np.arange(N)\n",
    "fig, ax = plt.subplots(figsize=(8, 3))\n",
    "for j in range(5):\n",
    "    ax.plot(x, x*(j+1), label='Line '+str(j))\n",
    "  \n",
    "box = ax.get_position() #1. shrink plot\n",
    "ax.set_position([box.x0, box.y0, box.width*0.8, box.height])\n",
    "ax.legend(bbox_to_anchor=(1, 0.5), loc='center left') #p. Put legend\n",
    "fig.savefig('Legend_to_the_right_of_the_plot.png', dpi=125)"
   ]
  },
  {
   "cell_type": "code",
   "execution_count": null,
   "metadata": {
    "collapsed": false
   },
   "outputs": [],
   "source": [
    "#Legend below the plot\n",
    "N = 5\n",
    "x = np.arange(N)\n",
    "fig, ax = plt.subplots(figsize=(8, 3))\n",
    "for j in range(5):\n",
    "    ax.plot(x, x*(j+1), label='Line '+str(j))\n",
    "  \n",
    "box = ax.get_position() #1. shrink plot\n",
    "ax.set_position([box.x0, box.y0 + box.height * 0.15, box.width*0.8, box.height * 0.85])\n",
    "ax.legend(bbox_to_anchor=(0.5, -0.075), loc='upper center', ncol=N)\n",
    "fig.savefig('Legend_below_the_plot.png', dpi=125)"
   ]
  },
  {
   "cell_type": "markdown",
   "metadata": {},
   "source": [
    "### Multiple plots on a canvas"
   ]
  },
  {
   "cell_type": "code",
   "execution_count": null,
   "metadata": {
    "collapsed": false
   },
   "outputs": [],
   "source": [
    "#Using Axes to place a plot within a plot\n",
    "fig = plt.figure(figsize=(8,4))\n",
    "fig.text(x=0.01, y=0.01, s='Figure', color='#888888', ha='left', va='bottom', fontsize=20)\n",
    "# --- Main Axes\n",
    "ax = fig.add_axes([0.1, 0.1, 0.8, 0.8])\n",
    "ax.text(x=0.01, y=0.01, s='Main Axes', color='red', ha='left', va='bottom', fontsize=20)\n",
    "ax.set_xticks([]); ax.set_yticks([])\n",
    "# --- Insert Axes\n",
    "ax = fig.add_axes([0.15, 0.65, 0.2, 0.2])\n",
    "ax.text(x=0.01, y=0.01, s='Insert Axes', color='blue', ha='left', va='bottom', fontsize=20)\n",
    "ax.set_xticks([]); ax.set_yticks([])\n",
    "fig.suptitle('An Axes within an Axes')\n",
    "fig.savefig('Using_axes_to_place_a_plot_within_a_plot.png', dpi=125)"
   ]
  },
  {
   "cell_type": "code",
   "execution_count": null,
   "metadata": {
    "collapsed": false
   },
   "outputs": [],
   "source": [
    "#Simple subplot grid layouts\n",
    "fig = plt.figure(figsize=(8,4))\n",
    "fig.text(x=0.01, y=0.01, s='Figure', color='#888888', ha='left', va='bottom', fontsize=20)\n",
    "\n",
    "for i in range(4):\n",
    "    #fig.add_subplot(nrows, ncols, num)\n",
    "    ax = fig.add_subplot(2, 2, i+1)\n",
    "    ax.text(x=0.01, y=0.01, s='Subplot 2 2 '+str(i+1), color='red', ha='left', va='bottom', fontsize=20)\n",
    "    ax.set_xticks([]); ax.set_yticks([])\n",
    "\n",
    "ax.set_xticks([]); ax.set_yticks([])\n",
    "fig.suptitle('Subplots')\n",
    "fig.savefig('Simple_subplot_grid_layout.png', dpi=125)"
   ]
  },
  {
   "cell_type": "code",
   "execution_count": null,
   "metadata": {
    "collapsed": false
   },
   "outputs": [],
   "source": [
    "#Using GridSpec layouts (like list slicing)\n",
    "import matplotlib.gridspec as gs\n",
    "gs = gs.GridSpec(3, 3) #nrows, ncols\n",
    "fig = plt.figure(figsize=(8,4))\n",
    "fig.text(x=0.01, y=0.01, s='Figure', color='#888888', ha='left', va='bottom', fontsize=20)\n",
    "ax1 = fig.add_subplot(gs[0, :]) #row, col\n",
    "ax1.text(x=0.2, y=0.2, s='0, :', color='b')\n",
    "ax2 = fig.add_subplot(gs[1, :])\n",
    "ax2.text(x=0.2, y=0.2, s='1, :-1', color='b')\n",
    "ax3 = fig.add_subplot(gs[1, :])\n",
    "ax3.text(x=0.2, y=0.2, s='1, :-1', color='b')\n",
    "ax4 = fig.add_subplot(gs[-1,0])\n",
    "ax4.text(x=0.2, y=0.2, s='-1, :0', color='b')\n",
    "ax5 = fig.add_subplot(gs[-1,-2])\n",
    "ax5.text(x=0.2, y=0.2, s='-1, :-2', color='b')\n",
    "for a in fig.get_axes():\n",
    "    a.set_xticks([])\n",
    "    a.set_yticks([])\n",
    "\n",
    "fig.suptitle('GridSpec Layout')\n",
    "fig.savefig('Using_GridSpec_layout.png', dpi=125)"
   ]
  },
  {
   "cell_type": "markdown",
   "metadata": {},
   "source": [
    "### Plotting - defaults"
   ]
  },
  {
   "cell_type": "code",
   "execution_count": null,
   "metadata": {
    "collapsed": false
   },
   "outputs": [],
   "source": [
    "#Configuration files\n",
    "#Matplotlib uses configuration to set the defaults. SO that you can edit it, the location of the configuration file can\n",
    "#be found as follows:\n",
    "print (matplotlib.matplotlib_fname())"
   ]
  },
  {
   "cell_type": "code",
   "execution_count": null,
   "metadata": {
    "collapsed": false,
    "scrolled": true
   },
   "outputs": [],
   "source": [
    "#Configuration settings\n",
    "#The current configuration settings\n",
    "print (matplotlib.rcParams)"
   ]
  },
  {
   "cell_type": "code",
   "execution_count": null,
   "metadata": {
    "collapsed": true
   },
   "outputs": [],
   "source": [
    "#Change the default settings \n",
    "#plt.rc('figure', figsize=(8,4), dpi=125, facecolor='white', edgecolor='white')\n",
    "#plt.rc('axes', facecolor='#e5e5e5', grid=True, linewidth=1.0, axisbelow=True)\n",
    "#plt.rc('grid', color='white', linestyle='-', linewidth=2.0, alpha=1.0)\n",
    "#plt.rc('xtick', direction='out')\n",
    "#plt.rc('legend', loc='best')"
   ]
  },
  {
   "cell_type": "code",
   "execution_count": null,
   "metadata": {
    "collapsed": true
   },
   "outputs": [],
   "source": []
  }
 ],
 "metadata": {
  "anaconda-cloud": {},
  "kernelspec": {
   "display_name": "Python [conda root]",
   "language": "python",
   "name": "conda-root-py"
  },
  "language_info": {
   "codemirror_mode": {
    "name": "ipython",
    "version": 2
   },
   "file_extension": ".py",
   "mimetype": "text/x-python",
   "name": "python",
   "nbconvert_exporter": "python",
   "pygments_lexer": "ipython2",
   "version": "2.7.12"
  }
 },
 "nbformat": 4,
 "nbformat_minor": 1
}
