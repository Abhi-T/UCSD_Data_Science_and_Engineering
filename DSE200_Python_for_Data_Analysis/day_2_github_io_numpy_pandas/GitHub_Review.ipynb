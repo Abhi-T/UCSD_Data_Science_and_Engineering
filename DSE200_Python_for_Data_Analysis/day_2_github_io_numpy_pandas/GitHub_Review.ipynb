{
 "cells": [
  {
   "cell_type": "markdown",
   "metadata": {},
   "source": [
    "# GitHub Review"
   ]
  },
  {
   "cell_type": "code",
   "execution_count": null,
   "metadata": {
    "collapsed": true
   },
   "outputs": [],
   "source": [
    "git remote -v\n",
    "#determine default push & pull"
   ]
  },
  {
   "cell_type": "code",
   "execution_count": null,
   "metadata": {
    "collapsed": true
   },
   "outputs": [],
   "source": [
    "git status\n",
    "#shows the changes made to which repos\n",
    "#what will happen when commit"
   ]
  },
  {
   "cell_type": "code",
   "execution_count": null,
   "metadata": {
    "collapsed": true
   },
   "outputs": [],
   "source": [
    "#Order of operations\n",
    "#made changes \n",
    "git add file1 file2\n",
    "git status\n",
    "git commit -m \"Note\"\n",
    "git push\n",
    "#if inconsistent -> error message; do:\n",
    "git pull\n",
    "#if there are merge problems (if you changed file and another person did as well) -> inconsistent changes -> resolve:\n",
    "#change your copy & recommit"
   ]
  },
  {
   "cell_type": "code",
   "execution_count": null,
   "metadata": {
    "collapsed": true
   },
   "outputs": [],
   "source": [
    "#at root have file .git ignore -. ie. if want to add * but might have some things to ignore\n",
    "#prog.c -> prog.o (never put into github)\n",
    ".git ignore *.o #ignore adding anything with .o extension"
   ]
  },
  {
   "cell_type": "code",
   "execution_count": null,
   "metadata": {
    "collapsed": true
   },
   "outputs": [],
   "source": [
    "#to have access to past files\n",
    "#find ID of the update & do git checkout to access the version that you want"
   ]
  },
  {
   "cell_type": "code",
   "execution_count": null,
   "metadata": {
    "collapsed": true
   },
   "outputs": [],
   "source": []
  },
  {
   "cell_type": "code",
   "execution_count": null,
   "metadata": {
    "collapsed": true
   },
   "outputs": [],
   "source": []
  },
  {
   "cell_type": "code",
   "execution_count": null,
   "metadata": {
    "collapsed": true
   },
   "outputs": [],
   "source": []
  }
 ],
 "metadata": {
  "kernelspec": {
   "display_name": "Python 2",
   "language": "python",
   "name": "python2"
  },
  "language_info": {
   "codemirror_mode": {
    "name": "ipython",
    "version": 2
   },
   "file_extension": ".py",
   "mimetype": "text/x-python",
   "name": "python",
   "nbconvert_exporter": "python",
   "pygments_lexer": "ipython2",
   "version": "2.7.10"
  }
 },
 "nbformat": 4,
 "nbformat_minor": 0
}
