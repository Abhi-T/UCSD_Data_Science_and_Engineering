{
 "cells": [
  {
   "cell_type": "code",
   "execution_count": 1,
   "metadata": {
    "collapsed": true
   },
   "outputs": [],
   "source": [
    "import numpy as np\n",
    "import pandas as pd\n",
    "from pandas import DataFrame, Series"
   ]
  },
  {
   "cell_type": "code",
   "execution_count": 4,
   "metadata": {
    "collapsed": false
   },
   "outputs": [
    {
     "name": "stdout",
     "output_type": "stream",
     "text": [
      "s1: \n",
      "0    0\n",
      "1    1\n",
      "2    2\n",
      "3    3\n",
      "dtype: int64\n",
      "s2: \n",
      "0    1\n",
      "1    2\n",
      "2    3\n",
      "3    4\n",
      "dtype: int64\n",
      "s3: \n",
      "0    1\n",
      "1    3\n",
      "2    5\n",
      "3    7\n",
      "dtype: int64\n",
      "s4: \n",
      "0    aaa\n",
      "1    bbb\n",
      "dtype: object\n"
     ]
    }
   ],
   "source": [
    "s1 = Series(range(0,4))\n",
    "s2 = Series(range(1,5))\n",
    "s3 = s1 + s2\n",
    "s4 = Series(['a', 'b'])*3\n",
    "print 's1: \\n', s1\n",
    "print 's2: \\n', s2\n",
    "print 's3: \\n', s3\n",
    "print 's4: \\n', s4\n",
    "#Series object: an ordered, 1-D array of data w/an index. All the data in a Series is of the same data type. Series \n",
    "#arithmetic is vectorise after 1st aligning the Series index for each of the operands"
   ]
  },
  {
   "cell_type": "code",
   "execution_count": 6,
   "metadata": {
    "collapsed": false
   },
   "outputs": [
    {
     "data": {
      "text/html": [
       "<div>\n",
       "<table border=\"1\" class=\"dataframe\">\n",
       "  <thead>\n",
       "    <tr style=\"text-align: right;\">\n",
       "      <th></th>\n",
       "      <th>0</th>\n",
       "      <th>1</th>\n",
       "    </tr>\n",
       "  </thead>\n",
       "  <tbody>\n",
       "    <tr>\n",
       "      <th>0</th>\n",
       "      <td>0.0</td>\n",
       "      <td>NaN</td>\n",
       "    </tr>\n",
       "    <tr>\n",
       "      <th>1</th>\n",
       "      <td>1.0</td>\n",
       "      <td>NaN</td>\n",
       "    </tr>\n",
       "    <tr>\n",
       "      <th>2</th>\n",
       "      <td>2.0</td>\n",
       "      <td>0.0</td>\n",
       "    </tr>\n",
       "    <tr>\n",
       "      <th>3</th>\n",
       "      <td>3.0</td>\n",
       "      <td>1.0</td>\n",
       "    </tr>\n",
       "    <tr>\n",
       "      <th>4</th>\n",
       "      <td>4.0</td>\n",
       "      <td>4.0</td>\n",
       "    </tr>\n",
       "    <tr>\n",
       "      <th>5</th>\n",
       "      <td>5.0</td>\n",
       "      <td>9.0</td>\n",
       "    </tr>\n",
       "    <tr>\n",
       "      <th>6</th>\n",
       "      <td>NaN</td>\n",
       "      <td>16.0</td>\n",
       "    </tr>\n",
       "    <tr>\n",
       "      <th>7</th>\n",
       "      <td>NaN</td>\n",
       "      <td>25.0</td>\n",
       "    </tr>\n",
       "  </tbody>\n",
       "</table>\n",
       "</div>"
      ],
      "text/plain": [
       "     0     1\n",
       "0  0.0   NaN\n",
       "1  1.0   NaN\n",
       "2  2.0   0.0\n",
       "3  3.0   1.0\n",
       "4  4.0   4.0\n",
       "5  5.0   9.0\n",
       "6  NaN  16.0\n",
       "7  NaN  25.0"
      ]
     },
     "execution_count": 6,
     "metadata": {},
     "output_type": "execute_result"
    }
   ],
   "source": [
    "#data in series then combine into a DataFrame\n",
    "s1 = Series(range(6))\n",
    "s2 = s1 * s1\n",
    "s2.index = s2.index + 2 #misaligned indexes\n",
    "df = pd.concat([s1, s2], axis=1)\n",
    "df"
   ]
  },
  {
   "cell_type": "code",
   "execution_count": 17,
   "metadata": {
    "collapsed": false
   },
   "outputs": [
    {
     "name": "stdout",
     "output_type": "stream",
     "text": [
      "         A     B\n",
      "Dick   4.0   2.0\n",
      "Harry  9.0   NaN\n",
      "Mary   NaN  11.0\n",
      "Tom    1.0   3.0\n",
      "A  Dick      4\n",
      "   Harry     9\n",
      "   Tom       1\n",
      "B  Dick      2\n",
      "   Mary     11\n",
      "   Tom       3\n",
      "dtype: int64\n"
     ]
    }
   ],
   "source": [
    "s3 = Series({'Tom': 1, 'Dick': 4, 'Harry': 9})\n",
    "s4 = Series({'Tom': 3, 'Dick': 2, 'Mary': 11})\n",
    "df = pd.concat({'A': s3, 'B': s4}, axis=1) #axis = 1 --> A & B become column headers\n",
    "df1 = pd.concat({'A': s3, 'B': s4}, axis=0) #axis = 0 --> A & B become row indexes\n",
    "print df\n",
    "print df1"
   ]
  },
  {
   "cell_type": "code",
   "execution_count": 14,
   "metadata": {
    "collapsed": false
   },
   "outputs": [
    {
     "name": "stdout",
     "output_type": "stream",
     "text": [
      "      col0 col1\n",
      "row0     0    A\n",
      "row1     1    B\n",
      ">>>>>>>>>>>>>>>>>>>>>>>>>>>>>>>>>\n",
      "      0       1  2\n",
      "row0  1  (1+1j)  A\n",
      "row1  2  (2+2j)  B\n"
     ]
    }
   ],
   "source": [
    "#get a DataFrame from a Python Dictionary\n",
    "#default - assume your data in columns\n",
    "df = DataFrame({\n",
    "        'col0' : [1.0, 2.0, 3.0, 4.0],\n",
    "        'col1' : [100, 200, 300, 400]\n",
    "    })\n",
    "\n",
    "#use helper method for data in rows\n",
    "df = DataFrame.from_dict({ #data by row\n",
    "    'row0' : {'col0': 0, 'col1':'A'},\n",
    "    'row1' : {'col0': 1, 'col1':'B'}\n",
    "    }, orient='index')\n",
    "print df\n",
    "print '>>>>>>>>>>>>>>>>>>>>>>>>>>>>>>>>>'\n",
    "#replaces column headers of 0 & 1 with something else\n",
    "\n",
    "df = DataFrame.from_dict({ # data by row\n",
    "    'row0' : [1, 1+1j, 'A'],\n",
    "    'row1' : [2, 2+2j, 'B']\n",
    "    }, orient='index')\n",
    "print df\n",
    "#does not replace column headers, headers are generated automatically and numerically"
   ]
  },
  {
   "cell_type": "markdown",
   "metadata": {},
   "source": [
    "### Working w/row & column indexes"
   ]
  },
  {
   "cell_type": "code",
   "execution_count": 18,
   "metadata": {
    "collapsed": false
   },
   "outputs": [
    {
     "data": {
      "text/plain": [
       "Index([u'A', u'B'], dtype='object')"
      ]
     },
     "execution_count": 18,
     "metadata": {},
     "output_type": "execute_result"
    }
   ],
   "source": [
    "idx = df.columns\n",
    "idx\n",
    "#get col indexes"
   ]
  },
  {
   "cell_type": "code",
   "execution_count": null,
   "metadata": {
    "collapsed": true
   },
   "outputs": [],
   "source": [
    "label = df.column[0]\n",
    "#1st col label"
   ]
  },
  {
   "cell_type": "code",
   "execution_count": 24,
   "metadata": {
    "collapsed": false
   },
   "outputs": [
    {
     "data": {
      "text/plain": [
       "['A', 'B']"
      ]
     },
     "execution_count": 24,
     "metadata": {},
     "output_type": "execute_result"
    }
   ],
   "source": [
    "st = df.columns.tolist()\n",
    "st\n",
    "#get col names as a list"
   ]
  },
  {
   "cell_type": "code",
   "execution_count": 26,
   "metadata": {
    "collapsed": false,
    "scrolled": true
   },
   "outputs": [
    {
     "data": {
      "text/html": [
       "<div>\n",
       "<table border=\"1\" class=\"dataframe\">\n",
       "  <thead>\n",
       "    <tr style=\"text-align: right;\">\n",
       "      <th></th>\n",
       "      <th>newA</th>\n",
       "      <th>B</th>\n",
       "    </tr>\n",
       "  </thead>\n",
       "  <tbody>\n",
       "    <tr>\n",
       "      <th>Dick</th>\n",
       "      <td>4.0</td>\n",
       "      <td>2.0</td>\n",
       "    </tr>\n",
       "    <tr>\n",
       "      <th>Harry</th>\n",
       "      <td>9.0</td>\n",
       "      <td>NaN</td>\n",
       "    </tr>\n",
       "    <tr>\n",
       "      <th>Mary</th>\n",
       "      <td>NaN</td>\n",
       "      <td>11.0</td>\n",
       "    </tr>\n",
       "    <tr>\n",
       "      <th>Tom</th>\n",
       "      <td>1.0</td>\n",
       "      <td>3.0</td>\n",
       "    </tr>\n",
       "  </tbody>\n",
       "</table>\n",
       "</div>"
      ],
      "text/plain": [
       "       newA     B\n",
       "Dick    4.0   2.0\n",
       "Harry   9.0   NaN\n",
       "Mary    NaN  11.0\n",
       "Tom     1.0   3.0"
      ]
     },
     "execution_count": 26,
     "metadata": {},
     "output_type": "execute_result"
    }
   ],
   "source": [
    "df.rename(columns={'A':'newA'},inplace=True)\n",
    "df\n",
    "#change column labels"
   ]
  },
  {
   "cell_type": "code",
   "execution_count": 27,
   "metadata": {
    "collapsed": false
   },
   "outputs": [
    {
     "data": {
      "text/plain": [
       "Index([u'Dick', u'Harry', u'Mary', u'Tom'], dtype='object')"
      ]
     },
     "execution_count": 27,
     "metadata": {},
     "output_type": "execute_result"
    }
   ],
   "source": [
    "idx = df.index\n",
    "idx\n",
    "#get row index"
   ]
  },
  {
   "cell_type": "code",
   "execution_count": 29,
   "metadata": {
    "collapsed": false
   },
   "outputs": [
    {
     "data": {
      "text/plain": [
       "'Dick'"
      ]
     },
     "execution_count": 29,
     "metadata": {},
     "output_type": "execute_result"
    }
   ],
   "source": [
    "label = df.index[0]\n",
    "label\n",
    "#get the 1st row label"
   ]
  },
  {
   "cell_type": "code",
   "execution_count": 30,
   "metadata": {
    "collapsed": false
   },
   "outputs": [
    {
     "data": {
      "text/plain": [
       "['Dick', 'Harry', 'Mary', 'Tom']"
      ]
     },
     "execution_count": 30,
     "metadata": {},
     "output_type": "execute_result"
    }
   ],
   "source": [
    "lst = df.index.tolist()\n",
    "lst\n",
    "#get indexes as a list"
   ]
  },
  {
   "cell_type": "code",
   "execution_count": 31,
   "metadata": {
    "collapsed": false
   },
   "outputs": [
    {
     "data": {
      "text/html": [
       "<div>\n",
       "<table border=\"1\" class=\"dataframe\">\n",
       "  <thead>\n",
       "    <tr style=\"text-align: right;\">\n",
       "      <th></th>\n",
       "      <th>index</th>\n",
       "      <th>newA</th>\n",
       "      <th>B</th>\n",
       "    </tr>\n",
       "  </thead>\n",
       "  <tbody>\n",
       "    <tr>\n",
       "      <th>0</th>\n",
       "      <td>0</td>\n",
       "      <td>4.0</td>\n",
       "      <td>2.0</td>\n",
       "    </tr>\n",
       "    <tr>\n",
       "      <th>1</th>\n",
       "      <td>1</td>\n",
       "      <td>9.0</td>\n",
       "      <td>NaN</td>\n",
       "    </tr>\n",
       "    <tr>\n",
       "      <th>2</th>\n",
       "      <td>2</td>\n",
       "      <td>NaN</td>\n",
       "      <td>11.0</td>\n",
       "    </tr>\n",
       "    <tr>\n",
       "      <th>3</th>\n",
       "      <td>3</td>\n",
       "      <td>1.0</td>\n",
       "      <td>3.0</td>\n",
       "    </tr>\n",
       "  </tbody>\n",
       "</table>\n",
       "</div>"
      ],
      "text/plain": [
       "   index  newA     B\n",
       "0      0   4.0   2.0\n",
       "1      1   9.0   NaN\n",
       "2      2   NaN  11.0\n",
       "3      3   1.0   3.0"
      ]
     },
     "execution_count": 31,
     "metadata": {},
     "output_type": "execute_result"
    }
   ],
   "source": [
    "df.index = idx\n",
    "df.index = range(len(df))\n",
    "df = df.reset_index()\n",
    "df\n",
    "#replace old w/new, note: old index stored as a col in df"
   ]
  },
  {
   "cell_type": "code",
   "execution_count": 37,
   "metadata": {
    "collapsed": false
   },
   "outputs": [
    {
     "data": {
      "text/plain": [
       "0"
      ]
     },
     "execution_count": 37,
     "metadata": {},
     "output_type": "execute_result"
    }
   ],
   "source": [
    "i = df.index.get_loc(0)\n",
    "i\n",
    "#get the integer position of a row index label"
   ]
  },
  {
   "cell_type": "code",
   "execution_count": 39,
   "metadata": {
    "collapsed": false
   },
   "outputs": [
    {
     "data": {
      "text/html": [
       "<div>\n",
       "<table border=\"1\" class=\"dataframe\">\n",
       "  <thead>\n",
       "    <tr style=\"text-align: right;\">\n",
       "      <th></th>\n",
       "      <th>index</th>\n",
       "      <th>newA</th>\n",
       "      <th>B</th>\n",
       "    </tr>\n",
       "  </thead>\n",
       "  <tbody>\n",
       "    <tr>\n",
       "      <th>0</th>\n",
       "      <td>0</td>\n",
       "      <td>4.0</td>\n",
       "      <td>2.0</td>\n",
       "    </tr>\n",
       "    <tr>\n",
       "      <th>1</th>\n",
       "      <td>1</td>\n",
       "      <td>9.0</td>\n",
       "      <td>NaN</td>\n",
       "    </tr>\n",
       "    <tr>\n",
       "      <th>2</th>\n",
       "      <td>2</td>\n",
       "      <td>NaN</td>\n",
       "      <td>11.0</td>\n",
       "    </tr>\n",
       "    <tr>\n",
       "      <th>3</th>\n",
       "      <td>3</td>\n",
       "      <td>1.0</td>\n",
       "      <td>3.0</td>\n",
       "    </tr>\n",
       "  </tbody>\n",
       "</table>\n",
       "</div>"
      ],
      "text/plain": [
       "   index  newA     B\n",
       "0      0   4.0   2.0\n",
       "1      1   9.0   NaN\n",
       "2      2   NaN  11.0\n",
       "3      3   1.0   3.0"
      ]
     },
     "execution_count": 39,
     "metadata": {},
     "output_type": "execute_result"
    }
   ],
   "source": [
    "df.sort_index(inplace=True)\n",
    "df\n",
    "#sort df by its rows"
   ]
  },
  {
   "cell_type": "code",
   "execution_count": 40,
   "metadata": {
    "collapsed": false
   },
   "outputs": [
    {
     "data": {
      "text/html": [
       "<div>\n",
       "<table border=\"1\" class=\"dataframe\">\n",
       "  <thead>\n",
       "    <tr style=\"text-align: right;\">\n",
       "      <th></th>\n",
       "      <th>index</th>\n",
       "      <th>newA</th>\n",
       "      <th>B</th>\n",
       "    </tr>\n",
       "  </thead>\n",
       "  <tbody>\n",
       "    <tr>\n",
       "      <th>0</th>\n",
       "      <td>0</td>\n",
       "      <td>4.0</td>\n",
       "      <td>2.0</td>\n",
       "    </tr>\n",
       "    <tr>\n",
       "      <th>1</th>\n",
       "      <td>1</td>\n",
       "      <td>9.0</td>\n",
       "      <td>NaN</td>\n",
       "    </tr>\n",
       "    <tr>\n",
       "      <th>2</th>\n",
       "      <td>2</td>\n",
       "      <td>NaN</td>\n",
       "      <td>11.0</td>\n",
       "    </tr>\n",
       "    <tr>\n",
       "      <th>3</th>\n",
       "      <td>3</td>\n",
       "      <td>1.0</td>\n",
       "      <td>3.0</td>\n",
       "    </tr>\n",
       "  </tbody>\n",
       "</table>\n",
       "</div>"
      ],
      "text/plain": [
       "   index  newA     B\n",
       "0      0   4.0   2.0\n",
       "1      1   9.0   NaN\n",
       "2      2   NaN  11.0\n",
       "3      3   1.0   3.0"
      ]
     },
     "execution_count": 40,
     "metadata": {},
     "output_type": "execute_result"
    }
   ],
   "source": [
    "df.sort_index(axis=1)\n",
    "df\n",
    "#sort df by its cols"
   ]
  },
  {
   "cell_type": "code",
   "execution_count": 41,
   "metadata": {
    "collapsed": true
   },
   "outputs": [],
   "source": [
    "#test if the index values ae unique/monotonic\n",
    "if df.index.is_unique: pass #do something\n",
    "if df.columns.is_unique: pass #do something\n",
    "if df.index.is_monotonic: pass # do something\n",
    "if df.columns.is_monotonic: pass #do something\n",
    "#for a monotonic index, each element is greater or equal to the previous element"
   ]
  },
  {
   "cell_type": "code",
   "execution_count": 44,
   "metadata": {
    "collapsed": false
   },
   "outputs": [
    {
     "name": "stdout",
     "output_type": "stream",
     "text": [
      "   index  newA     B\n",
      "0      0   4.0   2.0\n",
      "1      1   9.0   NaN\n",
      "2      2   NaN  11.0\n",
      "3      3   1.0   3.0\n",
      "   index  newA     B\n",
      "0      0   4.0   2.0\n",
      "1      1   9.0   NaN\n",
      "2      2   NaN  11.0\n",
      "3      3   1.0   3.0\n",
      "   newA     B\n",
      "0   4.0   2.0\n",
      "1   9.0   NaN\n",
      "2   NaN  11.0\n",
      "3   1.0   3.0\n",
      "   newA     B\n",
      "0   4.0   2.0\n",
      "1   9.0   NaN\n",
      "2   NaN  11.0\n",
      "3   1.0   3.0\n"
     ]
    },
    {
     "name": "stderr",
     "output_type": "stream",
     "text": [
      "/home/orysya/anaconda2/lib/python2.7/site-packages/ipykernel/__main__.py:4: FutureWarning: the take_last=True keyword is deprecated, use keep='last' instead\n"
     ]
    }
   ],
   "source": [
    "#drop duplicates in the row index\n",
    "df['index'] = df.index #1. create new col\n",
    "print df\n",
    "df = df.drop_duplicates('index', take_last=True) #2. use new col\n",
    "print df\n",
    "del df['index'] #3. del the col\n",
    "print df\n",
    "df.sort_index(inplace=True) #4. tidy up\n",
    "print df"
   ]
  },
  {
   "cell_type": "code",
   "execution_count": 46,
   "metadata": {
    "collapsed": false
   },
   "outputs": [],
   "source": [
    "#test if 2 dataframes/series have same index\n",
    "len(a) == len(b) and all(a.index == b.index)"
   ]
  },
  {
   "cell_type": "markdown",
   "metadata": {},
   "source": [
    "### Working w/columns of data (axis=1)"
   ]
  },
  {
   "cell_type": "code",
   "execution_count": 49,
   "metadata": {
    "collapsed": false,
    "scrolled": true
   },
   "outputs": [
    {
     "name": "stdout",
     "output_type": "stream",
     "text": [
      "0    4.0\n",
      "1    9.0\n",
      "2    NaN\n",
      "3    1.0\n",
      "Name: newA, dtype: float64\n",
      "   newA     B\n",
      "0   4.0   2.0\n",
      "1   9.0   NaN\n",
      "2   NaN  11.0\n",
      "3   1.0   3.0\n",
      "      B  newA\n",
      "0   2.0   4.0\n",
      "1   NaN   9.0\n",
      "2  11.0   NaN\n",
      "3   3.0   1.0\n",
      "0    4.0\n",
      "1    9.0\n",
      "2    NaN\n",
      "3    1.0\n",
      "Name: newA, dtype: float64\n"
     ]
    }
   ],
   "source": [
    "s = df['newA'] #select column by name\n",
    "print s\n",
    "d = df[['newA', 'B']] #select 2+ cols\n",
    "print d\n",
    "c = df[['B', 'newA']] #change column order\n",
    "print c\n",
    "f = df[df.columns[0]] #select col by num\n",
    "print f"
   ]
  },
  {
   "cell_type": "code",
   "execution_count": 51,
   "metadata": {
    "collapsed": false
   },
   "outputs": [
    {
     "name": "stdout",
     "output_type": "stream",
     "text": [
      "0    4.0\n",
      "1    9.0\n",
      "2    NaN\n",
      "3    1.0\n",
      "Name: newA, dtype: float64\n",
      "   newA     B  existing_col\n",
      "0   4.0   2.0           6.0\n",
      "1   9.0   NaN           NaN\n",
      "2   NaN  11.0           NaN\n",
      "3   1.0   3.0           4.0\n"
     ]
    }
   ],
   "source": [
    "s = df.newA #same as s = df['a]\n",
    "print s\n",
    "df['existing_col'] = df.newA + df.B #cannot create new columns by attribute \n",
    "print df\n",
    "#column names must be valid identifiers"
   ]
  },
  {
   "cell_type": "code",
   "execution_count": 52,
   "metadata": {
    "collapsed": false
   },
   "outputs": [
    {
     "name": "stdout",
     "output_type": "stream",
     "text": [
      "   newA     B  existing_col  new_col\n",
      "0   4.0   2.0           6.0        0\n",
      "1   9.0   NaN           NaN        1\n",
      "2   NaN  11.0           NaN        2\n",
      "3   1.0   3.0           4.0        3\n",
      "   newA     B  existing_col  new_col  new_col1\n",
      "0   4.0   2.0           6.0        0       NaN\n",
      "1   9.0   NaN           NaN        1       NaN\n",
      "2   NaN  11.0           NaN        2       NaN\n",
      "3   1.0   3.0           4.0        3       NaN\n",
      "   newA     B  existing_col  new_col  new_col1  new_col2\n",
      "0   4.0   2.0           6.0        0       NaN  0.266016\n",
      "1   9.0   NaN           NaN        1       NaN  0.453079\n",
      "2   NaN  11.0           NaN        2       NaN  0.299152\n",
      "3   1.0   3.0           4.0        3       NaN  0.067527\n",
      "   newA     B  existing_col  new_col  new_col1  new_col2  index_as_col\n",
      "0   4.0   2.0           6.0        0       NaN  0.266016             0\n",
      "1   9.0   NaN           NaN        1       NaN  0.453079             1\n",
      "2   NaN  11.0           NaN        2       NaN  0.299152             2\n",
      "3   1.0   3.0           4.0        3       NaN  0.067527             3\n"
     ]
    }
   ],
   "source": [
    "df['new_col'] = range(len(df)) #ie. index\n",
    "print df\n",
    "df['new_col1'] = np.repeat(np.nan, len(df)) #just a column of NaNs\n",
    "print df\n",
    "df['new_col2'] = np.random.rand(len(df)) #a list of random numbers\n",
    "print df\n",
    "df['index_as_col'] = df.index #indexes into column\n",
    "print df"
   ]
  },
  {
   "cell_type": "code",
   "execution_count": 53,
   "metadata": {
    "collapsed": false
   },
   "outputs": [
    {
     "name": "stdout",
     "output_type": "stream",
     "text": [
      "   newA     B  existing_col  new_col  new_col1  new_col2\n",
      "0   4.0   2.0           6.0        0       NaN  0.266016\n",
      "1   9.0   NaN           NaN        1       NaN  0.453079\n",
      "2   NaN  11.0           NaN        2       NaN  0.299152\n",
      "3   1.0   3.0           4.0        3       NaN  0.067527\n",
      "   newA     B  existing_col  new_col  new_col1\n",
      "0   4.0   2.0           6.0        0       NaN\n",
      "1   9.0   NaN           NaN        1       NaN\n",
      "2   NaN  11.0           NaN        2       NaN\n",
      "3   1.0   3.0           4.0        3       NaN\n",
      "   newA     B  existing_col  new_col  new_col1\n",
      "0   4.0   2.0           6.0        0       NaN\n",
      "1   9.0   NaN           NaN        1       NaN\n",
      "2   NaN  11.0           NaN        2       NaN\n",
      "3   1.0   3.0           4.0        3       NaN\n",
      "   newA     B  new_col  new_col1\n",
      "0   4.0   2.0        0       NaN\n",
      "1   9.0   NaN        1       NaN\n",
      "2   NaN  11.0        2       NaN\n",
      "3   1.0   3.0        3       NaN\n"
     ]
    }
   ],
   "source": [
    "#dropping columns (by label)\n",
    "df = df.drop('index_as_col', axis=1)\n",
    "print df\n",
    "df.drop('new_col2', axis=1, inplace=True)\n",
    "print df\n",
    "df.drop(['new_col', 'new_col1'], axis=1)\n",
    "print df\n",
    "del df['existing_col']\n",
    "print df"
   ]
  },
  {
   "cell_type": "code",
   "execution_count": 54,
   "metadata": {
    "collapsed": false
   },
   "outputs": [
    {
     "name": "stdout",
     "output_type": "stream",
     "text": [
      "   newA     B  new_col\n",
      "0   4.0   2.0        0\n",
      "1   9.0   NaN        1\n",
      "2   NaN  11.0        2\n",
      "3   1.0   3.0        3\n",
      "   newA     B\n",
      "0   4.0   2.0\n",
      "1   9.0   NaN\n",
      "2   NaN  11.0\n",
      "3   1.0   3.0\n"
     ]
    }
   ],
   "source": [
    "#select columns with .loc, .iloc, and .ix\n",
    "a = df.loc[:, 'newA': 'new_col'] #inclusive \"to\"\n",
    "print a\n",
    "b = df.iloc[:, 0:2] #exclusive \"to\n",
    "print b\n",
    "#a slice of columns can be selected by label (using df.loc[rows, cols]); by integer position (using df.iloc[rowsm cols]);\n",
    "#or a hybrid of the 2 (using df.ix[row, cols])\n",
    "#Note: the row slice object copies all rows\n",
    "#Note: for .loc, the indexes can be: a single label (ie. 'A'), a list/array of labels (ie. ['A', 'B']), a slice object of\n",
    "#labels (ie. 'A':'C'), a Boolean array\n",
    "#Note: for .iloc, the indexes can be a single integer (ie. 27), a list/array of integers (ie. [1,2,6]), a slice w/integers\n",
    "#ie. (1:9)"
   ]
  },
  {
   "cell_type": "code",
   "execution_count": 55,
   "metadata": {
    "collapsed": false
   },
   "outputs": [
    {
     "name": "stdout",
     "output_type": "stream",
     "text": [
      "   newA     B  new_col  new_col1  proporation\n",
      "0   4.0   2.0        0       NaN     2.000000\n",
      "1   9.0   NaN        1       NaN          NaN\n",
      "2   NaN  11.0        2       NaN          NaN\n",
      "3   1.0   3.0        3       NaN     0.333333\n"
     ]
    }
   ],
   "source": [
    "#vectorised arithmetic on columns\n",
    "df['proporation'] = df['newA'] /df['B']\n",
    "print df"
   ]
  },
  {
   "cell_type": "code",
   "execution_count": 59,
   "metadata": {
    "collapsed": false
   },
   "outputs": [
    {
     "name": "stdout",
     "output_type": "stream",
     "text": [
      "   newA     B  new_col  new_col1  proporation  log_data  rounded\n",
      "0   4.0   2.0        0       NaN     2.000000  1.386294      4.0\n",
      "1   9.0   NaN        1       NaN          NaN  2.197225      9.0\n",
      "2   NaN  11.0        2       NaN          NaN       NaN      NaN\n",
      "3   1.0   3.0        3       NaN     0.333333  0.000000      1.0\n",
      "   newA     B  new_col  new_col1  proporation  log_data  rounded\n",
      "0   4.0   2.0        0       NaN     2.000000  1.386294      1.4\n",
      "1   9.0   NaN        1       NaN          NaN  2.197225      2.2\n",
      "2   NaN  11.0        2       NaN          NaN       NaN      NaN\n",
      "3   1.0   3.0        3       NaN     0.333333  0.000000      0.0\n"
     ]
    }
   ],
   "source": [
    "#apply numpy mathematical fxns on cols\n",
    "df['log_data'] = np.log(df['newA'])\n",
    "print df\n",
    "df['rounded'] = np.round(df['log_data'], 1)\n",
    "print df"
   ]
  },
  {
   "cell_type": "code",
   "execution_count": 65,
   "metadata": {
    "collapsed": false
   },
   "outputs": [
    {
     "name": "stdout",
     "output_type": "stream",
     "text": [
      "   newA     B  new_col  new_col1  proporation  log_data  rounded  new_B\n",
      "0   4.0   2.0        0       NaN     2.000000  1.386294      1.4    2.0\n",
      "1   4.0   NaN        1       NaN          NaN  2.197225      2.2    0.0\n",
      "2   4.0  11.0        2       NaN          NaN       NaN      NaN   11.0\n",
      "3   4.0   3.0        3       NaN     0.333333  0.000000      0.0    3.0\n",
      "   newA     B  new_col  new_col1  proporation  log_data  rounded  new_B\n",
      "0   4.0   2.0        0       NaN     2.000000  1.386294      1.4    2.0\n",
      "1   4.0   NaN        1       NaN          NaN  2.197225      2.2    0.0\n",
      "2   4.0  11.0        2       NaN          NaN       NaN      NaN   11.0\n",
      "3   4.0   3.0        3       NaN     0.333333  0.000000      0.0    3.0\n"
     ]
    },
    {
     "name": "stderr",
     "output_type": "stream",
     "text": [
      "/home/orysya/anaconda2/lib/python2.7/site-packages/ipykernel/__main__.py:3: SettingWithCopyWarning: \n",
      "A value is trying to be set on a copy of a slice from a DataFrame.\n",
      "Try using .loc[row_indexer,col_indexer] = value instead\n",
      "\n",
      "See the caveats in the documentation: http://pandas.pydata.org/pandas-docs/stable/indexing.html#indexing-view-versus-copy\n",
      "  app.launch_new_instance()\n"
     ]
    }
   ],
   "source": [
    "#columns value set based on criteria\n",
    "df['newA'] = 4.0\n",
    "df[df['B'] > 0]['newA'] = df['B']\n",
    "print df\n",
    "#option 1: using a mask\n",
    "\n",
    "df['new_B'] = df['B'].where(df['B'] > 0, other=0)\n",
    "print df\n",
    "#option 2: using the where statement\n",
    "\n",
    "#Note: multiple conditions can be combined using & and | with conditions in parentheses\n",
    "#Note: where other can be a Series or a scalar\n",
    "#NoteL ~ the boolean not operator for pandas"
   ]
  },
  {
   "cell_type": "code",
   "execution_count": 66,
   "metadata": {
    "collapsed": false
   },
   "outputs": [
    {
     "name": "stdout",
     "output_type": "stream",
     "text": [
      "newA\n",
      "B\n",
      "new_col\n",
      "new_col1\n",
      "proporation\n",
      "log_data\n",
      "rounded\n",
      "new_B\n"
     ]
    }
   ],
   "source": [
    "#iterating oer the df cols\n",
    "for (column, series) in df.iteritems():\n",
    "    print column #do something\n",
    "#Where column is the label and series is a pandas series that contains the column data"
   ]
  },
  {
   "cell_type": "code",
   "execution_count": 67,
   "metadata": {
    "collapsed": true
   },
   "outputs": [],
   "source": [
    "#Common column-wide methods/attributes\n",
    "value = df['new_col'].dtype #type of data\n",
    "value = df['new_col'].size #col dimensions\n",
    "value = df['new_col'].count() #non-NA count\n",
    "value = df['new_col'].sum()\n",
    "value = df['new_col'].prod()\n",
    "value = df['new_col'].min()\n",
    "value = df['new_col'].max()\n",
    "value = df['new_col'].mean()\n",
    "value = df['new_col'].median()\n",
    "value = df['new_col'].cov(df['new_B'])\n",
    "value = df['new_col'].describe()\n",
    "value = df['new_col'].value_counts()"
   ]
  },
  {
   "cell_type": "code",
   "execution_count": 73,
   "metadata": {
    "collapsed": false
   },
   "outputs": [
    {
     "name": "stdout",
     "output_type": "stream",
     "text": [
      "0\n",
      "2\n"
     ]
    }
   ],
   "source": [
    "#Fiind index for min/max values in column\n",
    "value = df['B'].idxmin() #returns label\n",
    "print value\n",
    "values = df['B'].idxmax()\n",
    "print values"
   ]
  },
  {
   "cell_type": "code",
   "execution_count": null,
   "metadata": {
    "collapsed": true
   },
   "outputs": [],
   "source": [
    "#Common element-wise methods\n",
    "s = df['B'].to_datetime()\n",
    "s = df['B'].isnull()\n",
    "s = df['B'].notnull() #not isnull()\n",
    "s = df['B'].astype('float') #type convert\n",
    "s = df['B'].round(decimals=0) \n",
    "s = df['B'].diff(periods=1)\n",
    "s = df['B'].shift(periods=1)\n",
    "s = df['B'].fillna(0) #replace NaN with 0\n",
    "s = df['B'].pct_change(periods=4)\n",
    "s = df['B'].rolling_min(periods=4, window=4)\n",
    "s = df['B'].rolling_max(periods=4, window=4)\n",
    "s = df['B'].rolling_sum(periods=4, window=4)"
   ]
  },
  {
   "cell_type": "code",
   "execution_count": 77,
   "metadata": {
    "collapsed": false
   },
   "outputs": [
    {
     "name": "stdout",
     "output_type": "stream",
     "text": [
      "   newA     B  new_col  new_col1  proporation  log_data  rounded  new_B  \\\n",
      "0   4.0   2.0        0       NaN     2.000000  1.386294      1.4    2.0   \n",
      "1   4.0   NaN        1       NaN          NaN  2.197225      2.2    0.0   \n",
      "2   4.0  11.0        2       NaN          NaN       NaN      NaN   11.0   \n",
      "3   4.0   3.0        3       NaN     0.333333  0.000000      0.0    3.0   \n",
      "\n",
      "       Total  \n",
      "0  12.786294  \n",
      "1   9.397225  \n",
      "2  28.000000  \n",
      "3  13.333333  \n",
      "   newA     B  new_col  new_col1  proporation  log_data  rounded  new_B  \\\n",
      "0   4.0   2.0        0       NaN     2.000000  1.386294      1.4    2.0   \n",
      "1   4.0   NaN        1       NaN          NaN  2.197225      2.2    0.0   \n",
      "2   4.0  11.0        2       NaN          NaN       NaN      NaN   11.0   \n",
      "3   4.0   3.0        3       NaN     0.333333  0.000000      0.0    3.0   \n",
      "\n",
      "       Total  New  \n",
      "0  12.786294  NaN  \n",
      "1   9.397225  NaN  \n",
      "2  28.000000  NaN  \n",
      "3  13.333333  NaN  \n"
     ]
    }
   ],
   "source": [
    "#Append a column of row total to a df\n",
    "df['Total'] = df.sum(axis=1)\n",
    "print df\n",
    "#Note: can do row means, mins, maxs, etc. in a similar manner\n",
    "\n",
    "df['New'] = df.sum(axis=0)\n",
    "print df"
   ]
  },
  {
   "cell_type": "code",
   "execution_count": 78,
   "metadata": {
    "collapsed": false
   },
   "outputs": [
    {
     "name": "stdout",
     "output_type": "stream",
     "text": [
      "B\n",
      "2.0     2.000000\n",
      "3.0     0.333333\n",
      "11.0         NaN\n",
      "Name: proporation, dtype: float64\n",
      "      newA  new_col  new_col1  proporation  log_data  rounded  new_B  \\\n",
      "B                                                                      \n",
      "2.0    4.0        0       NaN     2.000000  1.386294      1.4    2.0   \n",
      "3.0    4.0        3       NaN     0.333333  0.000000      0.0    3.0   \n",
      "11.0   4.0        2       NaN          NaN       NaN      NaN   11.0   \n",
      "\n",
      "          Total  New  \n",
      "B                     \n",
      "2.0   12.786294  NaN  \n",
      "3.0   13.333333  NaN  \n",
      "11.0  28.000000  NaN  \n"
     ]
    }
   ],
   "source": [
    "#Group by a column\n",
    "s = df.groupby('B')['proporation'].sum()\n",
    "print s\n",
    "sd = df.groupby('B').sum()\n",
    "print sd"
   ]
  },
  {
   "cell_type": "code",
   "execution_count": 79,
   "metadata": {
    "collapsed": false
   },
   "outputs": [
    {
     "name": "stdout",
     "output_type": "stream",
     "text": [
      "         newA     B  new_col  new_col1  proporation  log_data  new_B  \\\n",
      "rounded                                                                \n",
      " 1.4      4.0   2.0        0       NaN     2.000000  1.386294    2.0   \n",
      " 2.2      4.0   NaN        1       NaN          NaN  2.197225    0.0   \n",
      "NaN       4.0  11.0        2       NaN          NaN       NaN   11.0   \n",
      " 0.0      4.0   3.0        3       NaN     0.333333  0.000000    3.0   \n",
      "\n",
      "             Total  New  \n",
      "rounded                  \n",
      " 1.4     12.786294  NaN  \n",
      " 2.2      9.397225  NaN  \n",
      "NaN      28.000000  NaN  \n",
      " 0.0     13.333333  NaN  \n",
      "rounded\n",
      "0.0    3.0\n",
      "1.4    2.0\n",
      "2.2    NaN\n",
      "Name: B, dtype: float64\n",
      "         newA    B  new_col  new_col1  proporation  log_data  new_B  \\\n",
      "rounded                                                               \n",
      "0.0       4.0  3.0        3       NaN     0.333333  0.000000    3.0   \n",
      "1.4       4.0  2.0        0       NaN     2.000000  1.386294    2.0   \n",
      "2.2       4.0  NaN        1       NaN          NaN  2.197225    0.0   \n",
      "\n",
      "             Total  New  \n",
      "rounded                  \n",
      "0.0      13.333333  NaN  \n",
      "1.4      12.786294  NaN  \n",
      "2.2       9.397225  NaN  \n"
     ]
    }
   ],
   "source": [
    "#Group by a row index (non-hierarchical index)\n",
    "dj = df.set_index(keys='rounded')\n",
    "print dj\n",
    "s = dj.groupby(level=0)['B'].sum()\n",
    "print s\n",
    "djs = dj.groupby(level=0).sum()\n",
    "print djs"
   ]
  },
  {
   "cell_type": "markdown",
   "metadata": {},
   "source": [
    "### Working w/rows (axis=0)"
   ]
  },
  {
   "cell_type": "code",
   "execution_count": 83,
   "metadata": {
    "collapsed": false
   },
   "outputs": [
    {
     "data": {
      "text/html": [
       "<div>\n",
       "<table border=\"1\" class=\"dataframe\">\n",
       "  <thead>\n",
       "    <tr style=\"text-align: right;\">\n",
       "      <th></th>\n",
       "      <th>newA</th>\n",
       "      <th>B</th>\n",
       "      <th>new_col</th>\n",
       "      <th>new_col1</th>\n",
       "      <th>proporation</th>\n",
       "      <th>log_data</th>\n",
       "      <th>rounded</th>\n",
       "      <th>new_B</th>\n",
       "      <th>Total</th>\n",
       "      <th>New</th>\n",
       "    </tr>\n",
       "  </thead>\n",
       "  <tbody>\n",
       "    <tr>\n",
       "      <th>0</th>\n",
       "      <td>4.0</td>\n",
       "      <td>2.0</td>\n",
       "      <td>0</td>\n",
       "      <td>NaN</td>\n",
       "      <td>2.000000</td>\n",
       "      <td>1.386294</td>\n",
       "      <td>1.4</td>\n",
       "      <td>2.0</td>\n",
       "      <td>12.786294</td>\n",
       "      <td>NaN</td>\n",
       "    </tr>\n",
       "    <tr>\n",
       "      <th>1</th>\n",
       "      <td>4.0</td>\n",
       "      <td>NaN</td>\n",
       "      <td>1</td>\n",
       "      <td>NaN</td>\n",
       "      <td>NaN</td>\n",
       "      <td>2.197225</td>\n",
       "      <td>2.2</td>\n",
       "      <td>0.0</td>\n",
       "      <td>9.397225</td>\n",
       "      <td>NaN</td>\n",
       "    </tr>\n",
       "    <tr>\n",
       "      <th>2</th>\n",
       "      <td>4.0</td>\n",
       "      <td>11.0</td>\n",
       "      <td>2</td>\n",
       "      <td>NaN</td>\n",
       "      <td>NaN</td>\n",
       "      <td>NaN</td>\n",
       "      <td>NaN</td>\n",
       "      <td>11.0</td>\n",
       "      <td>28.000000</td>\n",
       "      <td>NaN</td>\n",
       "    </tr>\n",
       "    <tr>\n",
       "      <th>3</th>\n",
       "      <td>4.0</td>\n",
       "      <td>3.0</td>\n",
       "      <td>3</td>\n",
       "      <td>NaN</td>\n",
       "      <td>0.333333</td>\n",
       "      <td>0.000000</td>\n",
       "      <td>0.0</td>\n",
       "      <td>3.0</td>\n",
       "      <td>13.333333</td>\n",
       "      <td>NaN</td>\n",
       "    </tr>\n",
       "  </tbody>\n",
       "</table>\n",
       "</div>"
      ],
      "text/plain": [
       "   newA     B  new_col  new_col1  proporation  log_data  rounded  new_B  \\\n",
       "0   4.0   2.0        0       NaN     2.000000  1.386294      1.4    2.0   \n",
       "1   4.0   NaN        1       NaN          NaN  2.197225      2.2    0.0   \n",
       "2   4.0  11.0        2       NaN          NaN       NaN      NaN   11.0   \n",
       "3   4.0   3.0        3       NaN     0.333333  0.000000      0.0    3.0   \n",
       "\n",
       "       Total  New  \n",
       "0  12.786294  NaN  \n",
       "1   9.397225  NaN  \n",
       "2  28.000000  NaN  \n",
       "3  13.333333  NaN  "
      ]
     },
     "execution_count": 83,
     "metadata": {},
     "output_type": "execute_result"
    }
   ],
   "source": [
    "df"
   ]
  },
  {
   "cell_type": "code",
   "execution_count": null,
   "metadata": {
    "collapsed": true
   },
   "outputs": [],
   "source": [
    "#adding rows\n",
    "df = df1.append(more_rows_in_df)\n",
    "#Hint: convert to a df & then append. Both dfs should have col labels"
   ]
  },
  {
   "cell_type": "code",
   "execution_count": 82,
   "metadata": {
    "collapsed": false
   },
   "outputs": [],
   "source": [
    "#dropping rows (by name)\n",
    "df = df.drop('row_label')\n",
    "df = df.drop(['row1', 'row2'])"
   ]
  },
  {
   "cell_type": "code",
   "execution_count": 85,
   "metadata": {
    "collapsed": false
   },
   "outputs": [
    {
     "name": "stdout",
     "output_type": "stream",
     "text": [
      "   newA     B  new_col  new_col1  proporation  log_data  rounded  new_B  \\\n",
      "1   4.0   NaN        1       NaN          NaN  2.197225      2.2    0.0   \n",
      "2   4.0  11.0        2       NaN          NaN       NaN      NaN   11.0   \n",
      "3   4.0   3.0        3       NaN     0.333333  0.000000      0.0    3.0   \n",
      "\n",
      "       Total  New  \n",
      "1   9.397225  NaN  \n",
      "2  28.000000  NaN  \n",
      "3  13.333333  NaN  \n",
      "   newA     B  new_col  new_col1  proporation  log_data  rounded  new_B  \\\n",
      "1   4.0   NaN        1       NaN          NaN  2.197225      2.2    0.0   \n",
      "2   4.0  11.0        2       NaN          NaN       NaN      NaN   11.0   \n",
      "3   4.0   3.0        3       NaN     0.333333  0.000000      0.0    3.0   \n",
      "\n",
      "       Total  New  \n",
      "1   9.397225  NaN  \n",
      "2  28.000000  NaN  \n",
      "3  13.333333  NaN  \n",
      "   newA    B  new_col  new_col1  proporation  log_data  rounded  new_B  \\\n",
      "3   4.0  3.0        3       NaN     0.333333       0.0      0.0    3.0   \n",
      "\n",
      "       Total  New  \n",
      "3  13.333333  NaN  \n",
      "   newA     B  new_col  new_col1  proporation  log_data  rounded  new_B  \\\n",
      "0   4.0   2.0        0       NaN          2.0  1.386294      1.4    2.0   \n",
      "1   4.0   NaN        1       NaN          NaN  2.197225      2.2    0.0   \n",
      "2   4.0  11.0        2       NaN          NaN       NaN      NaN   11.0   \n",
      "\n",
      "       Total  New  \n",
      "0  12.786294  NaN  \n",
      "1   9.397225  NaN  \n",
      "2  28.000000  NaN  \n"
     ]
    }
   ],
   "source": [
    "#Boolean row selection by values in a column\n",
    "a = df[df['new_col'] >= 1]\n",
    "print a\n",
    "a = df[(df['new_col'] >= 1) | (df['proporation'] < 0.0)]\n",
    "print a\n",
    "a = df[df['log_data'].isin([0])]\n",
    "print a\n",
    "a = df[~df['log_data'].isin([0])]\n",
    "print a\n",
    "#a = df[df['newA'].str.contains('hello')]\n",
    "#print a\n",
    "\n",
    "#Trap: bitwise \"or\" and \"and\" co-opted to be Boolean operators on a Series of Boolean --> also note parentheses around\n",
    "#comparisons"
   ]
  },
  {
   "cell_type": "code",
   "execution_count": 86,
   "metadata": {
    "collapsed": false
   },
   "outputs": [
    {
     "name": "stdout",
     "output_type": "stream",
     "text": [
      "   newA     B  new_col  new_col1  proporation  log_data  rounded  new_B  \\\n",
      "0   4.0   2.0        0       NaN     2.000000  1.386294      1.4    2.0   \n",
      "1   4.0   NaN        1       NaN          NaN  2.197225      2.2    0.0   \n",
      "2   4.0  11.0        2       NaN          NaN       NaN      NaN   11.0   \n",
      "3   4.0   3.0        3       NaN     0.333333  0.000000      0.0    3.0   \n",
      "\n",
      "       Total  New  \n",
      "0  12.786294  NaN  \n",
      "1   9.397225  NaN  \n",
      "2  28.000000  NaN  \n",
      "3  13.333333  NaN  \n",
      "   newA    B  new_col  new_col1  proporation  log_data  rounded  new_B  \\\n",
      "0   4.0  2.0        0       NaN          2.0  1.386294      1.4    2.0   \n",
      "1   4.0  NaN        1       NaN          NaN  2.197225      2.2    0.0   \n",
      "\n",
      "       Total  New  \n",
      "0  12.786294  NaN  \n",
      "1   9.397225  NaN  \n",
      "   newA    B  new_col  new_col1  proporation  log_data  rounded  new_B  \\\n",
      "3   4.0  3.0        3       NaN     0.333333       0.0      0.0    3.0   \n",
      "\n",
      "       Total  New  \n",
      "3  13.333333  NaN  \n",
      "   newA     B  new_col  new_col1  proporation  log_data  rounded  new_B  \\\n",
      "2   4.0  11.0        2       NaN          NaN       NaN      NaN   11.0   \n",
      "\n",
      "   Total  New  \n",
      "2   28.0  NaN  \n",
      "   newA     B  new_col  new_col1  proporation  log_data  rounded  new_B  \\\n",
      "0   4.0   2.0        0       NaN          2.0  1.386294      1.4    2.0   \n",
      "1   4.0   NaN        1       NaN          NaN  2.197225      2.2    0.0   \n",
      "2   4.0  11.0        2       NaN          NaN       NaN      NaN   11.0   \n",
      "\n",
      "       Total  New  \n",
      "0  12.786294  NaN  \n",
      "1   9.397225  NaN  \n",
      "2  28.000000  NaN  \n",
      "   newA     B  new_col  new_col1  proporation  log_data  rounded  new_B  \\\n",
      "0   4.0   2.0        0       NaN          2.0  1.386294      1.4    2.0   \n",
      "2   4.0  11.0        2       NaN          NaN       NaN      NaN   11.0   \n",
      "\n",
      "       Total  New  \n",
      "0  12.786294  NaN  \n",
      "2  28.000000  NaN  \n"
     ]
    }
   ],
   "source": [
    "#Select a slice of rows by integer position\n",
    "# [inclusive-from : exclusive-to]\n",
    "# [inclusive-from : exclusive-to : step]\n",
    "#default start is 0; default end is len(df)\n",
    "a = df[:] #copy df\n",
    "print a\n",
    "a = df[0:2] # rows 0 & 1\n",
    "print a\n",
    "a = df[-1:] #the last row\n",
    "print a\n",
    "a = df[2:3] #row 2 (the 3rd row)\n",
    "print a\n",
    "a = df[:-1] #all but the last row\n",
    "print a\n",
    "a = df[::2] #every 2nd row (0 2 ...)\n",
    "print a\n",
    "\n",
    "#Trap: a single integer w/o a colon is a column index for numbered columns"
   ]
  },
  {
   "cell_type": "code",
   "execution_count": 87,
   "metadata": {
    "collapsed": true
   },
   "outputs": [],
   "source": [
    "#Select a slice of rows by label/index\n",
    "# [inclusive-from : inclusive-to [ : step]]\n",
    "#a = df['a':'c'] #rows a through c\n",
    "\n",
    "#Trap: doesn't work on integer labelled rows"
   ]
  },
  {
   "cell_type": "code",
   "execution_count": 92,
   "metadata": {
    "collapsed": false
   },
   "outputs": [
    {
     "name": "stdout",
     "output_type": "stream",
     "text": [
      "{'B': 48, 'rounded': 48, 'new_col1': 48, 'newA': 48, 'proporation': 48, 'log_data': 48, 'new_B': 48, 'new_col': 48, 'New': 48, 'Total': 48}\n",
      "        B  New  Total  log_data  newA  new_B  new_col  new_col1  proporation  \\\n",
      "Total  48   48     48        48    48     48       48        48           48   \n",
      "\n",
      "       rounded  \n",
      "Total       48  \n",
      "          B   New      Total   log_data  newA  new_B  new_col  new_col1  \\\n",
      "0       2.0   NaN  12.786294   1.386294   4.0    2.0        0       NaN   \n",
      "1       NaN   NaN   9.397225   2.197225   4.0    0.0        1       NaN   \n",
      "2      11.0   NaN  28.000000        NaN   4.0   11.0        2       NaN   \n",
      "3       3.0   NaN  13.333333   0.000000   4.0    3.0        3       NaN   \n",
      "Total   6.0   6.0   6.000000   6.000000   6.0    6.0        6       6.0   \n",
      "Total  12.0  12.0  12.000000  12.000000  12.0   12.0       12      12.0   \n",
      "Total  24.0  24.0  24.000000  24.000000  24.0   24.0       24      24.0   \n",
      "Total  48.0  48.0  48.000000  48.000000  48.0   48.0       48      48.0   \n",
      "\n",
      "       proporation  rounded  \n",
      "0         2.000000      1.4  \n",
      "1              NaN      2.2  \n",
      "2              NaN      NaN  \n",
      "3         0.333333      0.0  \n",
      "Total     6.000000      6.0  \n",
      "Total    12.000000     12.0  \n",
      "Total    24.000000     24.0  \n",
      "Total    48.000000     48.0  \n"
     ]
    }
   ],
   "source": [
    "#Append a row of column total to a df\n",
    "#option 1: using a dictionary comprehension\n",
    "sums = {col: df['new_col'].sum() for col in df}\n",
    "print sums\n",
    "sums_df = DataFrame(sums, index=['Total'])\n",
    "print sums_df\n",
    "df = df.append(sums_df)\n",
    "print df\n",
    "\n",
    "#option 2: all done with pandas\n",
    "#df = df.append(DataFrame(df.sum(), columns= 'Cools').T) #.T is transpose\n",
    "#print df"
   ]
  },
  {
   "cell_type": "code",
   "execution_count": 96,
   "metadata": {
    "collapsed": false
   },
   "outputs": [
    {
     "name": "stdout",
     "output_type": "stream",
     "text": [
      "0\n",
      "1\n",
      "2\n",
      "3\n",
      "Total\n",
      "Total\n",
      "Total\n",
      "Total\n"
     ]
    }
   ],
   "source": [
    "#Iterating over df rows\n",
    "for (index, row) in df.iterrows():\n",
    "    print index\n",
    "\n",
    "#Trap: row data type may be coerced   "
   ]
  },
  {
   "cell_type": "code",
   "execution_count": 97,
   "metadata": {
    "collapsed": false
   },
   "outputs": [
    {
     "data": {
      "text/html": [
       "<div>\n",
       "<table border=\"1\" class=\"dataframe\">\n",
       "  <thead>\n",
       "    <tr style=\"text-align: right;\">\n",
       "      <th></th>\n",
       "      <th>B</th>\n",
       "      <th>New</th>\n",
       "      <th>Total</th>\n",
       "      <th>log_data</th>\n",
       "      <th>newA</th>\n",
       "      <th>new_B</th>\n",
       "      <th>new_col</th>\n",
       "      <th>new_col1</th>\n",
       "      <th>proporation</th>\n",
       "      <th>rounded</th>\n",
       "    </tr>\n",
       "  </thead>\n",
       "  <tbody>\n",
       "    <tr>\n",
       "      <th>0</th>\n",
       "      <td>2.0</td>\n",
       "      <td>NaN</td>\n",
       "      <td>12.786294</td>\n",
       "      <td>1.386294</td>\n",
       "      <td>4.0</td>\n",
       "      <td>2.0</td>\n",
       "      <td>0</td>\n",
       "      <td>NaN</td>\n",
       "      <td>2.000000</td>\n",
       "      <td>1.4</td>\n",
       "    </tr>\n",
       "    <tr>\n",
       "      <th>1</th>\n",
       "      <td>NaN</td>\n",
       "      <td>NaN</td>\n",
       "      <td>9.397225</td>\n",
       "      <td>2.197225</td>\n",
       "      <td>4.0</td>\n",
       "      <td>0.0</td>\n",
       "      <td>1</td>\n",
       "      <td>NaN</td>\n",
       "      <td>NaN</td>\n",
       "      <td>2.2</td>\n",
       "    </tr>\n",
       "    <tr>\n",
       "      <th>2</th>\n",
       "      <td>11.0</td>\n",
       "      <td>NaN</td>\n",
       "      <td>28.000000</td>\n",
       "      <td>NaN</td>\n",
       "      <td>4.0</td>\n",
       "      <td>11.0</td>\n",
       "      <td>2</td>\n",
       "      <td>NaN</td>\n",
       "      <td>NaN</td>\n",
       "      <td>NaN</td>\n",
       "    </tr>\n",
       "    <tr>\n",
       "      <th>3</th>\n",
       "      <td>3.0</td>\n",
       "      <td>NaN</td>\n",
       "      <td>13.333333</td>\n",
       "      <td>0.000000</td>\n",
       "      <td>4.0</td>\n",
       "      <td>3.0</td>\n",
       "      <td>3</td>\n",
       "      <td>NaN</td>\n",
       "      <td>0.333333</td>\n",
       "      <td>0.0</td>\n",
       "    </tr>\n",
       "    <tr>\n",
       "      <th>Total</th>\n",
       "      <td>6.0</td>\n",
       "      <td>6.0</td>\n",
       "      <td>6.000000</td>\n",
       "      <td>6.000000</td>\n",
       "      <td>6.0</td>\n",
       "      <td>6.0</td>\n",
       "      <td>6</td>\n",
       "      <td>6.0</td>\n",
       "      <td>6.000000</td>\n",
       "      <td>6.0</td>\n",
       "    </tr>\n",
       "    <tr>\n",
       "      <th>Total</th>\n",
       "      <td>12.0</td>\n",
       "      <td>12.0</td>\n",
       "      <td>12.000000</td>\n",
       "      <td>12.000000</td>\n",
       "      <td>12.0</td>\n",
       "      <td>12.0</td>\n",
       "      <td>12</td>\n",
       "      <td>12.0</td>\n",
       "      <td>12.000000</td>\n",
       "      <td>12.0</td>\n",
       "    </tr>\n",
       "    <tr>\n",
       "      <th>Total</th>\n",
       "      <td>24.0</td>\n",
       "      <td>24.0</td>\n",
       "      <td>24.000000</td>\n",
       "      <td>24.000000</td>\n",
       "      <td>24.0</td>\n",
       "      <td>24.0</td>\n",
       "      <td>24</td>\n",
       "      <td>24.0</td>\n",
       "      <td>24.000000</td>\n",
       "      <td>24.0</td>\n",
       "    </tr>\n",
       "    <tr>\n",
       "      <th>Total</th>\n",
       "      <td>48.0</td>\n",
       "      <td>48.0</td>\n",
       "      <td>48.000000</td>\n",
       "      <td>48.000000</td>\n",
       "      <td>48.0</td>\n",
       "      <td>48.0</td>\n",
       "      <td>48</td>\n",
       "      <td>48.0</td>\n",
       "      <td>48.000000</td>\n",
       "      <td>48.0</td>\n",
       "    </tr>\n",
       "  </tbody>\n",
       "</table>\n",
       "</div>"
      ],
      "text/plain": [
       "          B   New      Total   log_data  newA  new_B  new_col  new_col1  \\\n",
       "0       2.0   NaN  12.786294   1.386294   4.0    2.0        0       NaN   \n",
       "1       NaN   NaN   9.397225   2.197225   4.0    0.0        1       NaN   \n",
       "2      11.0   NaN  28.000000        NaN   4.0   11.0        2       NaN   \n",
       "3       3.0   NaN  13.333333   0.000000   4.0    3.0        3       NaN   \n",
       "Total   6.0   6.0   6.000000   6.000000   6.0    6.0        6       6.0   \n",
       "Total  12.0  12.0  12.000000  12.000000  12.0   12.0       12      12.0   \n",
       "Total  24.0  24.0  24.000000  24.000000  24.0   24.0       24      24.0   \n",
       "Total  48.0  48.0  48.000000  48.000000  48.0   48.0       48      48.0   \n",
       "\n",
       "       proporation  rounded  \n",
       "0         2.000000      1.4  \n",
       "1              NaN      2.2  \n",
       "2              NaN      NaN  \n",
       "3         0.333333      0.0  \n",
       "Total     6.000000      6.0  \n",
       "Total    12.000000     12.0  \n",
       "Total    24.000000     24.0  \n",
       "Total    48.000000     48.0  "
      ]
     },
     "execution_count": 97,
     "metadata": {},
     "output_type": "execute_result"
    }
   ],
   "source": [
    "df"
   ]
  },
  {
   "cell_type": "code",
   "execution_count": 101,
   "metadata": {
    "collapsed": false
   },
   "outputs": [
    {
     "name": "stdout",
     "output_type": "stream",
     "text": [
      "          B   New      Total   log_data  newA  new_B  new_col  new_col1  \\\n",
      "Total  48.0  48.0  48.000000  48.000000  48.0   48.0       48      48.0   \n",
      "Total  24.0  24.0  24.000000  24.000000  24.0   24.0       24      24.0   \n",
      "Total  12.0  12.0  12.000000  12.000000  12.0   12.0       12      12.0   \n",
      "2      11.0   NaN  28.000000        NaN   4.0   11.0        2       NaN   \n",
      "Total   6.0   6.0   6.000000   6.000000   6.0    6.0        6       6.0   \n",
      "3       3.0   NaN  13.333333   0.000000   4.0    3.0        3       NaN   \n",
      "0       2.0   NaN  12.786294   1.386294   4.0    2.0        0       NaN   \n",
      "1       NaN   NaN   9.397225   2.197225   4.0    0.0        1       NaN   \n",
      "\n",
      "       proporation  rounded  \n",
      "Total    48.000000     48.0  \n",
      "Total    24.000000     24.0  \n",
      "Total    12.000000     12.0  \n",
      "2              NaN      NaN  \n",
      "Total     6.000000      6.0  \n",
      "3         0.333333      0.0  \n",
      "0         2.000000      1.4  \n",
      "1              NaN      2.2  \n"
     ]
    },
    {
     "name": "stderr",
     "output_type": "stream",
     "text": [
      "/home/orysya/anaconda2/lib/python2.7/site-packages/ipykernel/__main__.py:2: FutureWarning: sort(columns=....) is deprecated, use sort_values(by=.....)\n",
      "  from ipykernel import kernelapp as app\n"
     ]
    },
    {
     "data": {
      "text/html": [
       "<div>\n",
       "<table border=\"1\" class=\"dataframe\">\n",
       "  <thead>\n",
       "    <tr style=\"text-align: right;\">\n",
       "      <th></th>\n",
       "      <th>B</th>\n",
       "      <th>New</th>\n",
       "      <th>Total</th>\n",
       "      <th>log_data</th>\n",
       "      <th>newA</th>\n",
       "      <th>new_B</th>\n",
       "      <th>new_col</th>\n",
       "      <th>new_col1</th>\n",
       "      <th>proporation</th>\n",
       "      <th>rounded</th>\n",
       "    </tr>\n",
       "  </thead>\n",
       "  <tbody>\n",
       "    <tr>\n",
       "      <th>0</th>\n",
       "      <td>2.0</td>\n",
       "      <td>NaN</td>\n",
       "      <td>12.786294</td>\n",
       "      <td>1.386294</td>\n",
       "      <td>4.0</td>\n",
       "      <td>2.0</td>\n",
       "      <td>0</td>\n",
       "      <td>NaN</td>\n",
       "      <td>2.000000</td>\n",
       "      <td>1.4</td>\n",
       "    </tr>\n",
       "    <tr>\n",
       "      <th>3</th>\n",
       "      <td>3.0</td>\n",
       "      <td>NaN</td>\n",
       "      <td>13.333333</td>\n",
       "      <td>0.000000</td>\n",
       "      <td>4.0</td>\n",
       "      <td>3.0</td>\n",
       "      <td>3</td>\n",
       "      <td>NaN</td>\n",
       "      <td>0.333333</td>\n",
       "      <td>0.0</td>\n",
       "    </tr>\n",
       "    <tr>\n",
       "      <th>Total</th>\n",
       "      <td>6.0</td>\n",
       "      <td>6.0</td>\n",
       "      <td>6.000000</td>\n",
       "      <td>6.000000</td>\n",
       "      <td>6.0</td>\n",
       "      <td>6.0</td>\n",
       "      <td>6</td>\n",
       "      <td>6.0</td>\n",
       "      <td>6.000000</td>\n",
       "      <td>6.0</td>\n",
       "    </tr>\n",
       "    <tr>\n",
       "      <th>2</th>\n",
       "      <td>11.0</td>\n",
       "      <td>NaN</td>\n",
       "      <td>28.000000</td>\n",
       "      <td>NaN</td>\n",
       "      <td>4.0</td>\n",
       "      <td>11.0</td>\n",
       "      <td>2</td>\n",
       "      <td>NaN</td>\n",
       "      <td>NaN</td>\n",
       "      <td>NaN</td>\n",
       "    </tr>\n",
       "    <tr>\n",
       "      <th>Total</th>\n",
       "      <td>12.0</td>\n",
       "      <td>12.0</td>\n",
       "      <td>12.000000</td>\n",
       "      <td>12.000000</td>\n",
       "      <td>12.0</td>\n",
       "      <td>12.0</td>\n",
       "      <td>12</td>\n",
       "      <td>12.0</td>\n",
       "      <td>12.000000</td>\n",
       "      <td>12.0</td>\n",
       "    </tr>\n",
       "    <tr>\n",
       "      <th>Total</th>\n",
       "      <td>24.0</td>\n",
       "      <td>24.0</td>\n",
       "      <td>24.000000</td>\n",
       "      <td>24.000000</td>\n",
       "      <td>24.0</td>\n",
       "      <td>24.0</td>\n",
       "      <td>24</td>\n",
       "      <td>24.0</td>\n",
       "      <td>24.000000</td>\n",
       "      <td>24.0</td>\n",
       "    </tr>\n",
       "    <tr>\n",
       "      <th>Total</th>\n",
       "      <td>48.0</td>\n",
       "      <td>48.0</td>\n",
       "      <td>48.000000</td>\n",
       "      <td>48.000000</td>\n",
       "      <td>48.0</td>\n",
       "      <td>48.0</td>\n",
       "      <td>48</td>\n",
       "      <td>48.0</td>\n",
       "      <td>48.000000</td>\n",
       "      <td>48.0</td>\n",
       "    </tr>\n",
       "    <tr>\n",
       "      <th>1</th>\n",
       "      <td>NaN</td>\n",
       "      <td>NaN</td>\n",
       "      <td>9.397225</td>\n",
       "      <td>2.197225</td>\n",
       "      <td>4.0</td>\n",
       "      <td>0.0</td>\n",
       "      <td>1</td>\n",
       "      <td>NaN</td>\n",
       "      <td>NaN</td>\n",
       "      <td>2.2</td>\n",
       "    </tr>\n",
       "  </tbody>\n",
       "</table>\n",
       "</div>"
      ],
      "text/plain": [
       "          B   New      Total   log_data  newA  new_B  new_col  new_col1  \\\n",
       "0       2.0   NaN  12.786294   1.386294   4.0    2.0        0       NaN   \n",
       "3       3.0   NaN  13.333333   0.000000   4.0    3.0        3       NaN   \n",
       "Total   6.0   6.0   6.000000   6.000000   6.0    6.0        6       6.0   \n",
       "2      11.0   NaN  28.000000        NaN   4.0   11.0        2       NaN   \n",
       "Total  12.0  12.0  12.000000  12.000000  12.0   12.0       12      12.0   \n",
       "Total  24.0  24.0  24.000000  24.000000  24.0   24.0       24      24.0   \n",
       "Total  48.0  48.0  48.000000  48.000000  48.0   48.0       48      48.0   \n",
       "1       NaN   NaN   9.397225   2.197225   4.0    0.0        1       NaN   \n",
       "\n",
       "       proporation  rounded  \n",
       "0         2.000000      1.4  \n",
       "3         0.333333      0.0  \n",
       "Total     6.000000      6.0  \n",
       "2              NaN      NaN  \n",
       "Total    12.000000     12.0  \n",
       "Total    24.000000     24.0  \n",
       "Total    48.000000     48.0  \n",
       "1              NaN      2.2  "
      ]
     },
     "execution_count": 101,
     "metadata": {},
     "output_type": "execute_result"
    }
   ],
   "source": [
    "#Sorting df rows by column values\n",
    "a = df.sort(df.columns[0], ascending=False)\n",
    "print a\n",
    "df.sort_values(by=['B', 'New'], inplace=True)\n",
    "df"
   ]
  },
  {
   "cell_type": "code",
   "execution_count": 103,
   "metadata": {
    "collapsed": false
   },
   "outputs": [
    {
     "name": "stdout",
     "output_type": "stream",
     "text": [
      "0         2.0\n",
      "3         3.0\n",
      "Total     6.0\n",
      "2        11.0\n",
      "Total    12.0\n",
      "Total    24.0\n",
      "Total    48.0\n",
      "1         NaN\n",
      "Name: B, dtype: float64\n",
      "          B   New\n",
      "0       2.0   NaN\n",
      "3       3.0   NaN\n",
      "Total   6.0   6.0\n",
      "2      11.0   NaN\n",
      "Total  12.0  12.0\n",
      "Total  24.0  24.0\n",
      "Total  48.0  48.0\n",
      "1       NaN   NaN\n",
      "          B  New      Total  log_data  newA  new_B  new_col  new_col1  \\\n",
      "3       3.0  NaN  13.333333       0.0   4.0    3.0        3       NaN   \n",
      "Total   6.0  6.0   6.000000       6.0   6.0    6.0        6       6.0   \n",
      "2      11.0  NaN  28.000000       NaN   4.0   11.0        2       NaN   \n",
      "\n",
      "       proporation  rounded  \n",
      "3         0.333333      0.0  \n",
      "Total     6.000000      6.0  \n",
      "2              NaN      NaN  \n"
     ]
    }
   ],
   "source": [
    "#Remember!\n",
    "w = df['B'] #a selected column\n",
    "print w\n",
    "x = df[['B', 'New']] #selected columns\n",
    "print x\n",
    "#y = df['Total':'Total'] #selected rows\n",
    "#print y\n",
    "z = df[1:4] #where i & j are ints, -> rows\n",
    "print z"
   ]
  },
  {
   "cell_type": "markdown",
   "metadata": {},
   "source": [
    "### Working with cells"
   ]
  },
  {
   "cell_type": "code",
   "execution_count": 105,
   "metadata": {
    "collapsed": false
   },
   "outputs": [
    {
     "name": "stdout",
     "output_type": "stream",
     "text": [
      "1 [  6.  12.  24.  48.]\n",
      "2 Total     6.0\n",
      "Total    12.0\n",
      "Total    24.0\n",
      "Total    48.0\n",
      "Name: B, dtype: float64\n",
      "3 Total     6.0\n",
      "Total    12.0\n",
      "Total    24.0\n",
      "Total    48.0\n",
      "Name: B, dtype: float64\n"
     ]
    }
   ],
   "source": [
    "#selecting a cell by row & column labels\n",
    "value = df.at['Total', 'B'] #value = df.at['row', 'col']\n",
    "print '1', value\n",
    "value = df.loc['Total', 'B'] #value = df.loc['row', 'col']\n",
    "print '2', value\n",
    "value = df['B']['Total'] #tricky -> value = df['col]['row]\n",
    "print '3', value\n",
    "\n",
    "#Note: .at[] fastest label based scalar lookup"
   ]
  },
  {
   "cell_type": "code",
   "execution_count": 107,
   "metadata": {
    "collapsed": false
   },
   "outputs": [
    {
     "name": "stdout",
     "output_type": "stream",
     "text": [
      "Total     6.0\n",
      "Total    12.0\n",
      "Total    24.0\n",
      "Total    48.0\n",
      "Name: B, dtype: float64\n",
      "Total     6.0\n",
      "Total    12.0\n",
      "Total    24.0\n",
      "Total    48.0\n",
      "Name: B, dtype: float64\n"
     ]
    },
    {
     "name": "stderr",
     "output_type": "stream",
     "text": [
      "/home/orysya/anaconda2/lib/python2.7/site-packages/ipykernel/__main__.py:6: SettingWithCopyWarning: \n",
      "A value is trying to be set on a copy of a slice from a DataFrame\n",
      "\n",
      "See the caveats in the documentation: http://pandas.pydata.org/pandas-docs/stable/indexing.html#indexing-view-versus-copy\n"
     ]
    }
   ],
   "source": [
    "#Setting a cell by row & column labels\n",
    "df.at['Total', 'B'] = value #df.at['row', 'col'] = value\n",
    "print value\n",
    "#df.loc['Total', 'B'] = value #df.loc['row', 'col'] = value\n",
    "#print value\n",
    "df['B']['Total'] = value #df['col]['row] = value\n",
    "print value"
   ]
  },
  {
   "cell_type": "code",
   "execution_count": 116,
   "metadata": {
    "collapsed": false
   },
   "outputs": [
    {
     "data": {
      "text/html": [
       "<div>\n",
       "<table border=\"1\" class=\"dataframe\">\n",
       "  <thead>\n",
       "    <tr style=\"text-align: right;\">\n",
       "      <th></th>\n",
       "      <th>index</th>\n",
       "      <th>B</th>\n",
       "      <th>New</th>\n",
       "      <th>Total</th>\n",
       "      <th>log_data</th>\n",
       "      <th>newA</th>\n",
       "      <th>new_B</th>\n",
       "      <th>new_col</th>\n",
       "      <th>new_col1</th>\n",
       "      <th>proporation</th>\n",
       "      <th>rounded</th>\n",
       "    </tr>\n",
       "  </thead>\n",
       "  <tbody>\n",
       "    <tr>\n",
       "      <th>0</th>\n",
       "      <td>0</td>\n",
       "      <td>2.0</td>\n",
       "      <td>NaN</td>\n",
       "      <td>12.786294</td>\n",
       "      <td>1.386294</td>\n",
       "      <td>4.0</td>\n",
       "      <td>2.0</td>\n",
       "      <td>0</td>\n",
       "      <td>NaN</td>\n",
       "      <td>2.000000</td>\n",
       "      <td>1.4</td>\n",
       "    </tr>\n",
       "    <tr>\n",
       "      <th>1</th>\n",
       "      <td>3</td>\n",
       "      <td>3.0</td>\n",
       "      <td>NaN</td>\n",
       "      <td>13.333333</td>\n",
       "      <td>0.000000</td>\n",
       "      <td>4.0</td>\n",
       "      <td>3.0</td>\n",
       "      <td>3</td>\n",
       "      <td>NaN</td>\n",
       "      <td>0.333333</td>\n",
       "      <td>0.0</td>\n",
       "    </tr>\n",
       "    <tr>\n",
       "      <th>2</th>\n",
       "      <td>Total</td>\n",
       "      <td>6.0</td>\n",
       "      <td>6.0</td>\n",
       "      <td>6.000000</td>\n",
       "      <td>6.000000</td>\n",
       "      <td>6.0</td>\n",
       "      <td>6.0</td>\n",
       "      <td>6</td>\n",
       "      <td>6.0</td>\n",
       "      <td>6.000000</td>\n",
       "      <td>6.0</td>\n",
       "    </tr>\n",
       "    <tr>\n",
       "      <th>3</th>\n",
       "      <td>2</td>\n",
       "      <td>11.0</td>\n",
       "      <td>NaN</td>\n",
       "      <td>28.000000</td>\n",
       "      <td>NaN</td>\n",
       "      <td>4.0</td>\n",
       "      <td>11.0</td>\n",
       "      <td>2</td>\n",
       "      <td>NaN</td>\n",
       "      <td>NaN</td>\n",
       "      <td>NaN</td>\n",
       "    </tr>\n",
       "    <tr>\n",
       "      <th>4</th>\n",
       "      <td>Total</td>\n",
       "      <td>12.0</td>\n",
       "      <td>12.0</td>\n",
       "      <td>12.000000</td>\n",
       "      <td>12.000000</td>\n",
       "      <td>12.0</td>\n",
       "      <td>12.0</td>\n",
       "      <td>12</td>\n",
       "      <td>12.0</td>\n",
       "      <td>12.000000</td>\n",
       "      <td>12.0</td>\n",
       "    </tr>\n",
       "    <tr>\n",
       "      <th>5</th>\n",
       "      <td>Total</td>\n",
       "      <td>24.0</td>\n",
       "      <td>24.0</td>\n",
       "      <td>24.000000</td>\n",
       "      <td>24.000000</td>\n",
       "      <td>24.0</td>\n",
       "      <td>24.0</td>\n",
       "      <td>24</td>\n",
       "      <td>24.0</td>\n",
       "      <td>24.000000</td>\n",
       "      <td>24.0</td>\n",
       "    </tr>\n",
       "    <tr>\n",
       "      <th>6</th>\n",
       "      <td>Total</td>\n",
       "      <td>48.0</td>\n",
       "      <td>48.0</td>\n",
       "      <td>48.000000</td>\n",
       "      <td>48.000000</td>\n",
       "      <td>48.0</td>\n",
       "      <td>48.0</td>\n",
       "      <td>48</td>\n",
       "      <td>48.0</td>\n",
       "      <td>48.000000</td>\n",
       "      <td>48.0</td>\n",
       "    </tr>\n",
       "    <tr>\n",
       "      <th>7</th>\n",
       "      <td>1</td>\n",
       "      <td>NaN</td>\n",
       "      <td>NaN</td>\n",
       "      <td>9.397225</td>\n",
       "      <td>2.197225</td>\n",
       "      <td>4.0</td>\n",
       "      <td>0.0</td>\n",
       "      <td>1</td>\n",
       "      <td>NaN</td>\n",
       "      <td>NaN</td>\n",
       "      <td>2.2</td>\n",
       "    </tr>\n",
       "  </tbody>\n",
       "</table>\n",
       "</div>"
      ],
      "text/plain": [
       "   index     B   New      Total   log_data  newA  new_B  new_col  new_col1  \\\n",
       "0      0   2.0   NaN  12.786294   1.386294   4.0    2.0        0       NaN   \n",
       "1      3   3.0   NaN  13.333333   0.000000   4.0    3.0        3       NaN   \n",
       "2  Total   6.0   6.0   6.000000   6.000000   6.0    6.0        6       6.0   \n",
       "3      2  11.0   NaN  28.000000        NaN   4.0   11.0        2       NaN   \n",
       "4  Total  12.0  12.0  12.000000  12.000000  12.0   12.0       12      12.0   \n",
       "5  Total  24.0  24.0  24.000000  24.000000  24.0   24.0       24      24.0   \n",
       "6  Total  48.0  48.0  48.000000  48.000000  48.0   48.0       48      48.0   \n",
       "7      1   NaN   NaN   9.397225   2.197225   4.0    0.0        1       NaN   \n",
       "\n",
       "   proporation  rounded  \n",
       "0     2.000000      1.4  \n",
       "1     0.333333      0.0  \n",
       "2     6.000000      6.0  \n",
       "3          NaN      NaN  \n",
       "4    12.000000     12.0  \n",
       "5    24.000000     24.0  \n",
       "6    48.000000     48.0  \n",
       "7          NaN      2.2  "
      ]
     },
     "execution_count": 116,
     "metadata": {},
     "output_type": "execute_result"
    }
   ],
   "source": [
    "df = df.reset_index()\n",
    "df"
   ]
  },
  {
   "cell_type": "code",
   "execution_count": 111,
   "metadata": {
    "collapsed": false
   },
   "outputs": [],
   "source": [
    "#Selecting and slicing on labels\n",
    "#a = df.loc['Total':'Total', 'B': 'log_data']\n",
    "#print a\n",
    "\n",
    "#Note: the \"to\" on this slice is inclusive"
   ]
  },
  {
   "cell_type": "code",
   "execution_count": 119,
   "metadata": {
    "collapsed": false
   },
   "outputs": [
    {
     "name": "stdout",
     "output_type": "stream",
     "text": [
      "   index     B   New      Total   log_data  newA  new_B  new_col  new_col1  \\\n",
      "0      0   2.0   NaN  12.786294   1.386294   4.0    2.0        0       NaN   \n",
      "1      0   0.0   NaN  13.333333   0.000000   4.0    3.0        3       NaN   \n",
      "2      0   0.0   6.0   6.000000   6.000000   6.0    6.0        6       6.0   \n",
      "3      2  11.0   NaN  28.000000        NaN   4.0   11.0        2       NaN   \n",
      "4  Total  12.0  12.0  12.000000  12.000000  12.0   12.0       12      12.0   \n",
      "5  Total  24.0  24.0  24.000000  24.000000  24.0   24.0       24      24.0   \n",
      "6  Total  48.0  48.0  48.000000  48.000000  48.0   48.0       48      48.0   \n",
      "7      1   NaN   NaN   9.397225   2.197225   4.0    0.0        1       NaN   \n",
      "\n",
      "   proporation  rounded  \n",
      "0     2.000000      1.4  \n",
      "1     0.333333      0.0  \n",
      "2     6.000000      6.0  \n",
      "3          NaN      NaN  \n",
      "4    12.000000     12.0  \n",
      "5    24.000000     24.0  \n",
      "6    48.000000     48.0  \n",
      "7          NaN      2.2  \n"
     ]
    }
   ],
   "source": [
    "#Setting a cross-section by labels\n",
    "#df.loc['A:'C', 'col1':'col2] = np.nan\n",
    "df.loc[1:2, 'index':'B'] = np.zeros((2,2))\n",
    "print df\n",
    "#df.loc[1:2, 'index':'B'] = other.loc[1:2, 'A':'C']\n",
    "#print df\n",
    "\n",
    "#Remember: inclusive from:to in the slice"
   ]
  },
  {
   "cell_type": "code",
   "execution_count": 120,
   "metadata": {
    "collapsed": false
   },
   "outputs": [
    {
     "name": "stdout",
     "output_type": "stream",
     "text": [
      "28.0\n",
      "0\n",
      "2.2\n"
     ]
    }
   ],
   "source": [
    "#Selecting a cell by integer position\n",
    "value = df.iat[3,3] #[row, col]\n",
    "print value\n",
    "value = df.iloc[0,0] #[row, col]\n",
    "print value\n",
    "value = df.iloc[len(df)-1, len(df.columns)-1]\n",
    "print value"
   ]
  },
  {
   "cell_type": "code",
   "execution_count": 121,
   "metadata": {
    "collapsed": false
   },
   "outputs": [
    {
     "name": "stdout",
     "output_type": "stream",
     "text": [
      "   New  Total\n",
      "2  6.0    6.0\n",
      "3  NaN   28.0\n",
      "   index     B   New      Total   log_data\n",
      "0      0   2.0   NaN  12.786294   1.386294\n",
      "1      0   0.0   NaN  13.333333   0.000000\n",
      "2      0   0.0   6.0   6.000000   6.000000\n",
      "3      2  11.0   NaN  28.000000        NaN\n",
      "4  Total  12.0  12.0  12.000000  12.000000\n",
      "index          Total\n",
      "B                 24\n",
      "New               24\n",
      "Total             24\n",
      "log_data          24\n",
      "newA              24\n",
      "new_B             24\n",
      "new_col           24\n",
      "new_col1          24\n",
      "proporation       24\n",
      "rounded           24\n",
      "Name: 5, dtype: object\n",
      "   index     B   New  Total  log_data  newA  new_B  new_col  new_col1  \\\n",
      "5  Total  24.0  24.0   24.0      24.0  24.0   24.0       24      24.0   \n",
      "\n",
      "   proporation  rounded  \n",
      "5         24.0     24.0  \n"
     ]
    }
   ],
   "source": [
    "#Selecting a range of cells by int position\n",
    "a = df.iloc[2:4, 2:4] #a subset pf tje df\n",
    "print a\n",
    "a = df.iloc[:5, :5] #top left corner\n",
    "print a\n",
    "a = df.iloc[5, :] #returns row as Series\n",
    "print a\n",
    "a = df.iloc[5:6, :] #returns row as a row\n",
    "print a\n",
    "\n",
    "#Note: exclusive \"to\" - same as list slicing"
   ]
  },
  {
   "cell_type": "code",
   "execution_count": 122,
   "metadata": {
    "collapsed": false
   },
   "outputs": [
    {
     "data": {
      "text/html": [
       "<div>\n",
       "<table border=\"1\" class=\"dataframe\">\n",
       "  <thead>\n",
       "    <tr style=\"text-align: right;\">\n",
       "      <th></th>\n",
       "      <th>index</th>\n",
       "      <th>B</th>\n",
       "      <th>New</th>\n",
       "      <th>Total</th>\n",
       "      <th>log_data</th>\n",
       "      <th>newA</th>\n",
       "      <th>new_B</th>\n",
       "      <th>new_col</th>\n",
       "      <th>new_col1</th>\n",
       "      <th>proporation</th>\n",
       "      <th>rounded</th>\n",
       "    </tr>\n",
       "  </thead>\n",
       "  <tbody>\n",
       "    <tr>\n",
       "      <th>0</th>\n",
       "      <td>5</td>\n",
       "      <td>222.0</td>\n",
       "      <td>NaN</td>\n",
       "      <td>12.786294</td>\n",
       "      <td>1.386294</td>\n",
       "      <td>4.0</td>\n",
       "      <td>2.0</td>\n",
       "      <td>0</td>\n",
       "      <td>NaN</td>\n",
       "      <td>2.000000</td>\n",
       "      <td>1.4</td>\n",
       "    </tr>\n",
       "    <tr>\n",
       "      <th>1</th>\n",
       "      <td>0</td>\n",
       "      <td>0.0</td>\n",
       "      <td>NaN</td>\n",
       "      <td>13.333333</td>\n",
       "      <td>0.000000</td>\n",
       "      <td>4.0</td>\n",
       "      <td>3.0</td>\n",
       "      <td>3</td>\n",
       "      <td>NaN</td>\n",
       "      <td>0.333333</td>\n",
       "      <td>0.0</td>\n",
       "    </tr>\n",
       "    <tr>\n",
       "      <th>2</th>\n",
       "      <td>0</td>\n",
       "      <td>0.0</td>\n",
       "      <td>6.0</td>\n",
       "      <td>6.000000</td>\n",
       "      <td>6.000000</td>\n",
       "      <td>6.0</td>\n",
       "      <td>6.0</td>\n",
       "      <td>6</td>\n",
       "      <td>6.0</td>\n",
       "      <td>6.000000</td>\n",
       "      <td>6.0</td>\n",
       "    </tr>\n",
       "    <tr>\n",
       "      <th>3</th>\n",
       "      <td>2</td>\n",
       "      <td>11.0</td>\n",
       "      <td>NaN</td>\n",
       "      <td>28.000000</td>\n",
       "      <td>NaN</td>\n",
       "      <td>4.0</td>\n",
       "      <td>11.0</td>\n",
       "      <td>2</td>\n",
       "      <td>NaN</td>\n",
       "      <td>NaN</td>\n",
       "      <td>NaN</td>\n",
       "    </tr>\n",
       "    <tr>\n",
       "      <th>4</th>\n",
       "      <td>Total</td>\n",
       "      <td>12.0</td>\n",
       "      <td>12.0</td>\n",
       "      <td>12.000000</td>\n",
       "      <td>12.000000</td>\n",
       "      <td>12.0</td>\n",
       "      <td>12.0</td>\n",
       "      <td>12</td>\n",
       "      <td>12.0</td>\n",
       "      <td>12.000000</td>\n",
       "      <td>12.0</td>\n",
       "    </tr>\n",
       "    <tr>\n",
       "      <th>5</th>\n",
       "      <td>Total</td>\n",
       "      <td>24.0</td>\n",
       "      <td>24.0</td>\n",
       "      <td>24.000000</td>\n",
       "      <td>24.000000</td>\n",
       "      <td>24.0</td>\n",
       "      <td>24.0</td>\n",
       "      <td>24</td>\n",
       "      <td>24.0</td>\n",
       "      <td>24.000000</td>\n",
       "      <td>24.0</td>\n",
       "    </tr>\n",
       "    <tr>\n",
       "      <th>6</th>\n",
       "      <td>Total</td>\n",
       "      <td>48.0</td>\n",
       "      <td>48.0</td>\n",
       "      <td>48.000000</td>\n",
       "      <td>48.000000</td>\n",
       "      <td>48.0</td>\n",
       "      <td>48.0</td>\n",
       "      <td>48</td>\n",
       "      <td>48.0</td>\n",
       "      <td>48.000000</td>\n",
       "      <td>48.0</td>\n",
       "    </tr>\n",
       "    <tr>\n",
       "      <th>7</th>\n",
       "      <td>1</td>\n",
       "      <td>NaN</td>\n",
       "      <td>NaN</td>\n",
       "      <td>9.397225</td>\n",
       "      <td>2.197225</td>\n",
       "      <td>4.0</td>\n",
       "      <td>0.0</td>\n",
       "      <td>1</td>\n",
       "      <td>NaN</td>\n",
       "      <td>NaN</td>\n",
       "      <td>2.2</td>\n",
       "    </tr>\n",
       "  </tbody>\n",
       "</table>\n",
       "</div>"
      ],
      "text/plain": [
       "   index      B   New      Total   log_data  newA  new_B  new_col  new_col1  \\\n",
       "0      5  222.0   NaN  12.786294   1.386294   4.0    2.0        0       NaN   \n",
       "1      0    0.0   NaN  13.333333   0.000000   4.0    3.0        3       NaN   \n",
       "2      0    0.0   6.0   6.000000   6.000000   6.0    6.0        6       6.0   \n",
       "3      2   11.0   NaN  28.000000        NaN   4.0   11.0        2       NaN   \n",
       "4  Total   12.0  12.0  12.000000  12.000000  12.0   12.0       12      12.0   \n",
       "5  Total   24.0  24.0  24.000000  24.000000  24.0   24.0       24      24.0   \n",
       "6  Total   48.0  48.0  48.000000  48.000000  48.0   48.0       48      48.0   \n",
       "7      1    NaN   NaN   9.397225   2.197225   4.0    0.0        1       NaN   \n",
       "\n",
       "   proporation  rounded  \n",
       "0     2.000000      1.4  \n",
       "1     0.333333      0.0  \n",
       "2     6.000000      6.0  \n",
       "3          NaN      NaN  \n",
       "4    12.000000     12.0  \n",
       "5    24.000000     24.0  \n",
       "6    48.000000     48.0  \n",
       "7          NaN      2.2  "
      ]
     },
     "execution_count": 122,
     "metadata": {},
     "output_type": "execute_result"
    }
   ],
   "source": [
    "#Setting cell by integer position\n",
    "df.iloc[0,0] = 5 #[row, col]\n",
    "df\n",
    "df.iat[0,1] = 222 \n",
    "df"
   ]
  },
  {
   "cell_type": "code",
   "execution_count": 123,
   "metadata": {
    "collapsed": false
   },
   "outputs": [
    {
     "data": {
      "text/html": [
       "<div>\n",
       "<table border=\"1\" class=\"dataframe\">\n",
       "  <thead>\n",
       "    <tr style=\"text-align: right;\">\n",
       "      <th></th>\n",
       "      <th>index</th>\n",
       "      <th>B</th>\n",
       "      <th>New</th>\n",
       "      <th>Total</th>\n",
       "      <th>log_data</th>\n",
       "      <th>newA</th>\n",
       "      <th>new_B</th>\n",
       "      <th>new_col</th>\n",
       "      <th>new_col1</th>\n",
       "      <th>proporation</th>\n",
       "      <th>rounded</th>\n",
       "    </tr>\n",
       "  </thead>\n",
       "  <tbody>\n",
       "    <tr>\n",
       "      <th>0</th>\n",
       "      <td>4</td>\n",
       "      <td>4.0</td>\n",
       "      <td>NaN</td>\n",
       "      <td>12.786294</td>\n",
       "      <td>1.386294</td>\n",
       "      <td>4.0</td>\n",
       "      <td>2.0</td>\n",
       "      <td>0</td>\n",
       "      <td>NaN</td>\n",
       "      <td>2.000000</td>\n",
       "      <td>1.4</td>\n",
       "    </tr>\n",
       "    <tr>\n",
       "      <th>1</th>\n",
       "      <td>4</td>\n",
       "      <td>4.0</td>\n",
       "      <td>NaN</td>\n",
       "      <td>13.333333</td>\n",
       "      <td>1.000000</td>\n",
       "      <td>1.0</td>\n",
       "      <td>1.0</td>\n",
       "      <td>3</td>\n",
       "      <td>NaN</td>\n",
       "      <td>0.333333</td>\n",
       "      <td>0.0</td>\n",
       "    </tr>\n",
       "    <tr>\n",
       "      <th>2</th>\n",
       "      <td>4</td>\n",
       "      <td>4.0</td>\n",
       "      <td>6.0</td>\n",
       "      <td>6.000000</td>\n",
       "      <td>1.000000</td>\n",
       "      <td>1.0</td>\n",
       "      <td>1.0</td>\n",
       "      <td>6</td>\n",
       "      <td>6.0</td>\n",
       "      <td>6.000000</td>\n",
       "      <td>6.0</td>\n",
       "    </tr>\n",
       "    <tr>\n",
       "      <th>3</th>\n",
       "      <td>2</td>\n",
       "      <td>11.0</td>\n",
       "      <td>NaN</td>\n",
       "      <td>28.000000</td>\n",
       "      <td>NaN</td>\n",
       "      <td>4.0</td>\n",
       "      <td>11.0</td>\n",
       "      <td>2</td>\n",
       "      <td>NaN</td>\n",
       "      <td>NaN</td>\n",
       "      <td>NaN</td>\n",
       "    </tr>\n",
       "    <tr>\n",
       "      <th>4</th>\n",
       "      <td>Total</td>\n",
       "      <td>12.0</td>\n",
       "      <td>12.0</td>\n",
       "      <td>12.000000</td>\n",
       "      <td>12.000000</td>\n",
       "      <td>12.0</td>\n",
       "      <td>12.0</td>\n",
       "      <td>12</td>\n",
       "      <td>12.0</td>\n",
       "      <td>12.000000</td>\n",
       "      <td>12.0</td>\n",
       "    </tr>\n",
       "    <tr>\n",
       "      <th>5</th>\n",
       "      <td>Total</td>\n",
       "      <td>24.0</td>\n",
       "      <td>24.0</td>\n",
       "      <td>24.000000</td>\n",
       "      <td>24.000000</td>\n",
       "      <td>24.0</td>\n",
       "      <td>24.0</td>\n",
       "      <td>24</td>\n",
       "      <td>24.0</td>\n",
       "      <td>24.000000</td>\n",
       "      <td>24.0</td>\n",
       "    </tr>\n",
       "    <tr>\n",
       "      <th>6</th>\n",
       "      <td>Total</td>\n",
       "      <td>48.0</td>\n",
       "      <td>48.0</td>\n",
       "      <td>48.000000</td>\n",
       "      <td>48.000000</td>\n",
       "      <td>48.0</td>\n",
       "      <td>48.0</td>\n",
       "      <td>48</td>\n",
       "      <td>48.0</td>\n",
       "      <td>48.000000</td>\n",
       "      <td>48.0</td>\n",
       "    </tr>\n",
       "    <tr>\n",
       "      <th>7</th>\n",
       "      <td>1</td>\n",
       "      <td>NaN</td>\n",
       "      <td>NaN</td>\n",
       "      <td>9.397225</td>\n",
       "      <td>2.197225</td>\n",
       "      <td>4.0</td>\n",
       "      <td>0.0</td>\n",
       "      <td>1</td>\n",
       "      <td>NaN</td>\n",
       "      <td>NaN</td>\n",
       "      <td>2.2</td>\n",
       "    </tr>\n",
       "  </tbody>\n",
       "</table>\n",
       "</div>"
      ],
      "text/plain": [
       "   index     B   New      Total   log_data  newA  new_B  new_col  new_col1  \\\n",
       "0      4   4.0   NaN  12.786294   1.386294   4.0    2.0        0       NaN   \n",
       "1      4   4.0   NaN  13.333333   1.000000   1.0    1.0        3       NaN   \n",
       "2      4   4.0   6.0   6.000000   1.000000   1.0    1.0        6       6.0   \n",
       "3      2  11.0   NaN  28.000000        NaN   4.0   11.0        2       NaN   \n",
       "4  Total  12.0  12.0  12.000000  12.000000  12.0   12.0       12      12.0   \n",
       "5  Total  24.0  24.0  24.000000  24.000000  24.0   24.0       24      24.0   \n",
       "6  Total  48.0  48.0  48.000000  48.000000  48.0   48.0       48      48.0   \n",
       "7      1   NaN   NaN   9.397225   2.197225   4.0    0.0        1       NaN   \n",
       "\n",
       "   proporation  rounded  \n",
       "0     2.000000      1.4  \n",
       "1     0.333333      0.0  \n",
       "2     6.000000      6.0  \n",
       "3          NaN      NaN  \n",
       "4    12.000000     12.0  \n",
       "5    24.000000     24.0  \n",
       "6    48.000000     48.0  \n",
       "7          NaN      2.2  "
      ]
     },
     "execution_count": 123,
     "metadata": {},
     "output_type": "execute_result"
    }
   ],
   "source": [
    "#Setting cell range by integer position\n",
    "df.iloc[0:3, 0:2] = 4\n",
    "df.iloc[1:3, 4:7] = np.ones((2,3))\n",
    "df\n",
    "\n",
    "#Remember: exclusive from:to in the slice"
   ]
  },
  {
   "cell_type": "code",
   "execution_count": 124,
   "metadata": {
    "collapsed": false
   },
   "outputs": [
    {
     "data": {
      "text/html": [
       "<div>\n",
       "<table border=\"1\" class=\"dataframe\">\n",
       "  <thead>\n",
       "    <tr style=\"text-align: right;\">\n",
       "      <th></th>\n",
       "      <th>index</th>\n",
       "      <th>B</th>\n",
       "      <th>New</th>\n",
       "      <th>Total</th>\n",
       "      <th>log_data</th>\n",
       "      <th>newA</th>\n",
       "      <th>new_B</th>\n",
       "      <th>new_col</th>\n",
       "      <th>new_col1</th>\n",
       "      <th>proporation</th>\n",
       "      <th>rounded</th>\n",
       "    </tr>\n",
       "  </thead>\n",
       "  <tbody>\n",
       "    <tr>\n",
       "      <th>0</th>\n",
       "      <td>4</td>\n",
       "      <td>4.0</td>\n",
       "      <td>0.0</td>\n",
       "      <td>12.786294</td>\n",
       "      <td>1.386294</td>\n",
       "      <td>4.0</td>\n",
       "      <td>2.0</td>\n",
       "      <td>0</td>\n",
       "      <td>0.0</td>\n",
       "      <td>2.000000</td>\n",
       "      <td>1.4</td>\n",
       "    </tr>\n",
       "    <tr>\n",
       "      <th>1</th>\n",
       "      <td>4</td>\n",
       "      <td>4.0</td>\n",
       "      <td>0.0</td>\n",
       "      <td>13.333333</td>\n",
       "      <td>1.000000</td>\n",
       "      <td>1.0</td>\n",
       "      <td>1.0</td>\n",
       "      <td>3</td>\n",
       "      <td>0.0</td>\n",
       "      <td>0.333333</td>\n",
       "      <td>0.0</td>\n",
       "    </tr>\n",
       "    <tr>\n",
       "      <th>2</th>\n",
       "      <td>4</td>\n",
       "      <td>4.0</td>\n",
       "      <td>6.0</td>\n",
       "      <td>6.000000</td>\n",
       "      <td>1.000000</td>\n",
       "      <td>1.0</td>\n",
       "      <td>1.0</td>\n",
       "      <td>6</td>\n",
       "      <td>6.0</td>\n",
       "      <td>6.000000</td>\n",
       "      <td>6.0</td>\n",
       "    </tr>\n",
       "    <tr>\n",
       "      <th>3</th>\n",
       "      <td>2</td>\n",
       "      <td>11.0</td>\n",
       "      <td>0.0</td>\n",
       "      <td>28.000000</td>\n",
       "      <td>0.000000</td>\n",
       "      <td>4.0</td>\n",
       "      <td>11.0</td>\n",
       "      <td>2</td>\n",
       "      <td>0.0</td>\n",
       "      <td>0.000000</td>\n",
       "      <td>0.0</td>\n",
       "    </tr>\n",
       "    <tr>\n",
       "      <th>4</th>\n",
       "      <td>Total</td>\n",
       "      <td>12.0</td>\n",
       "      <td>12.0</td>\n",
       "      <td>12.000000</td>\n",
       "      <td>12.000000</td>\n",
       "      <td>12.0</td>\n",
       "      <td>12.0</td>\n",
       "      <td>12</td>\n",
       "      <td>12.0</td>\n",
       "      <td>12.000000</td>\n",
       "      <td>12.0</td>\n",
       "    </tr>\n",
       "    <tr>\n",
       "      <th>5</th>\n",
       "      <td>Total</td>\n",
       "      <td>24.0</td>\n",
       "      <td>24.0</td>\n",
       "      <td>24.000000</td>\n",
       "      <td>24.000000</td>\n",
       "      <td>24.0</td>\n",
       "      <td>24.0</td>\n",
       "      <td>24</td>\n",
       "      <td>24.0</td>\n",
       "      <td>24.000000</td>\n",
       "      <td>24.0</td>\n",
       "    </tr>\n",
       "    <tr>\n",
       "      <th>6</th>\n",
       "      <td>Total</td>\n",
       "      <td>48.0</td>\n",
       "      <td>48.0</td>\n",
       "      <td>48.000000</td>\n",
       "      <td>48.000000</td>\n",
       "      <td>48.0</td>\n",
       "      <td>48.0</td>\n",
       "      <td>48</td>\n",
       "      <td>48.0</td>\n",
       "      <td>48.000000</td>\n",
       "      <td>48.0</td>\n",
       "    </tr>\n",
       "    <tr>\n",
       "      <th>7</th>\n",
       "      <td>1</td>\n",
       "      <td>0.0</td>\n",
       "      <td>0.0</td>\n",
       "      <td>9.397225</td>\n",
       "      <td>2.197225</td>\n",
       "      <td>4.0</td>\n",
       "      <td>0.0</td>\n",
       "      <td>1</td>\n",
       "      <td>0.0</td>\n",
       "      <td>0.000000</td>\n",
       "      <td>2.2</td>\n",
       "    </tr>\n",
       "  </tbody>\n",
       "</table>\n",
       "</div>"
      ],
      "text/plain": [
       "   index     B   New      Total   log_data  newA  new_B  new_col  new_col1  \\\n",
       "0      4   4.0   0.0  12.786294   1.386294   4.0    2.0        0       0.0   \n",
       "1      4   4.0   0.0  13.333333   1.000000   1.0    1.0        3       0.0   \n",
       "2      4   4.0   6.0   6.000000   1.000000   1.0    1.0        6       6.0   \n",
       "3      2  11.0   0.0  28.000000   0.000000   4.0   11.0        2       0.0   \n",
       "4  Total  12.0  12.0  12.000000  12.000000  12.0   12.0       12      12.0   \n",
       "5  Total  24.0  24.0  24.000000  24.000000  24.0   24.0       24      24.0   \n",
       "6  Total  48.0  48.0  48.000000  48.000000  48.0   48.0       48      48.0   \n",
       "7      1   0.0   0.0   9.397225   2.197225   4.0    0.0        1       0.0   \n",
       "\n",
       "   proporation  rounded  \n",
       "0     2.000000      1.4  \n",
       "1     0.333333      0.0  \n",
       "2     6.000000      6.0  \n",
       "3     0.000000      0.0  \n",
       "4    12.000000     12.0  \n",
       "5    24.000000     24.0  \n",
       "6    48.000000     48.0  \n",
       "7     0.000000      2.2  "
      ]
     },
     "execution_count": 124,
     "metadata": {},
     "output_type": "execute_result"
    }
   ],
   "source": [
    "#Operate on the whole df\n",
    "#replace np.nan w/0\n",
    "df.fillna(0, inplace=True)\n",
    "#replace white space with np.nan\n",
    "df = df.replace(r'\\s+', np.nan, regex=True)\n",
    "df\n",
    "\n",
    "#Views & copies\n",
    "#From the manual: the rules abt when a view on the data is returned are dependent on NumPy. Whenever an array of labels or\n",
    "#a boolean vector are involved in the indexing operation, the result will be a copy. A single label/scalar indexing &\n",
    "#slicing, e.g. df.ix[3:6] or df.ix[:,'A'], returns a view"
   ]
  },
  {
   "cell_type": "markdown",
   "metadata": {},
   "source": [
    "### Joining/Combining DataFrames"
   ]
  },
  {
   "cell_type": "code",
   "execution_count": 125,
   "metadata": {
    "collapsed": true
   },
   "outputs": [],
   "source": [
    "#3 ways to join 2 DFs:\n",
    "# merge (a df/SQL-like join operation)\n",
    "# concat (stack side by side or stack 1 on top of the other)\n",
    "# combine_first (splice the 2 together, choosing values from 1 over the other)"
   ]
  },
  {
   "cell_type": "code",
   "execution_count": 129,
   "metadata": {
    "collapsed": false
   },
   "outputs": [],
   "source": [
    "#Merge on indexes\n",
    "#df_new = pd.merge(left=df1, right=df1, how='outer', left_index=True, right_index=True)\n",
    "#df_new\n",
    "\n",
    "#How: 'left', 'right', 'outer', 'inner'\n",
    "#How: outer=union/all; inner=intersection"
   ]
  },
  {
   "cell_type": "code",
   "execution_count": 130,
   "metadata": {
    "collapsed": true
   },
   "outputs": [],
   "source": [
    "#Merge on columns\n",
    "#df_new = pd.merge(left=df1, right=df2, how='left', left_on='col1', right_on='col2')\n",
    "\n",
    "#Trap: When joining on columns, the indexes on the passed dfs are ignored\n",
    "#Trap: many-to-many merges on a column can result in an explosion of associated data"
   ]
  },
  {
   "cell_type": "code",
   "execution_count": 131,
   "metadata": {
    "collapsed": true
   },
   "outputs": [],
   "source": [
    "#Join on indexes (another way of merging)\n",
    "#df_new = df1.join(other=df2, on='col1', how='outer')\n",
    "#df_new = df1.join(other=df2, on=['a', 'b'], how='outer')\n",
    "\n",
    "#Note: DataFrame.join() joins on indexes by default. DataFrame.merge() joins on common columns by default"
   ]
  },
  {
   "cell_type": "code",
   "execution_count": 134,
   "metadata": {
    "collapsed": false,
    "scrolled": true
   },
   "outputs": [
    {
     "name": "stdout",
     "output_type": "stream",
     "text": [
      "A  Dick      4\n",
      "   Harry     9\n",
      "   Tom       1\n",
      "B  Dick      2\n",
      "   Mary     11\n",
      "   Tom       3\n",
      "A  Dick      4\n",
      "   Harry     9\n",
      "   Tom       1\n",
      "B  Dick      2\n",
      "   Mary     11\n",
      "   Tom       3\n",
      "dtype: int64\n",
      "A  Dick      4\n",
      "   Harry     9\n",
      "   Tom       1\n",
      "B  Dick      2\n",
      "   Mary     11\n",
      "   Tom       3\n",
      "A  Dick      4\n",
      "   Harry     9\n",
      "   Tom       1\n",
      "B  Dick      2\n",
      "   Mary     11\n",
      "   Tom       3\n",
      "A  Dick      4\n",
      "   Harry     9\n",
      "   Tom       1\n",
      "B  Dick      2\n",
      "   Mary     11\n",
      "   Tom       3\n",
      "dtype: int64\n",
      "          0   1\n",
      "A Dick    4   4\n",
      "  Harry   9   9\n",
      "  Tom     1   1\n",
      "B Dick    2   2\n",
      "  Mary   11  11\n",
      "  Tom     3   3\n"
     ]
    }
   ],
   "source": [
    "#Simple concatenation is often the best\n",
    "a = pd.concat([df1, df1], axis=0) #top/bottom\n",
    "print a\n",
    "a = df1.append([df1, df1]) #top/bottom\n",
    "print a\n",
    "a = pd.concat([df1, df1], axis=1) #left/right\n",
    "print a\n",
    "\n",
    "#Trap: can end up w/duplicate rows/cols\n",
    "#Note: concat has an ignore_index parameter"
   ]
  },
  {
   "cell_type": "code",
   "execution_count": 136,
   "metadata": {
    "collapsed": false
   },
   "outputs": [
    {
     "name": "stdout",
     "output_type": "stream",
     "text": [
      "A  Dick      4\n",
      "   Harry     9\n",
      "   Tom       1\n",
      "B  Dick      2\n",
      "   Mary     11\n",
      "   Tom       3\n",
      "dtype: int64\n",
      "A  Dick      4\n",
      "   Harry     9\n",
      "   Tom       1\n",
      "B  Dick      2\n",
      "   Mary     11\n",
      "   Tom       3\n",
      "dtype: int64\n"
     ]
    }
   ],
   "source": [
    "#Combine first\n",
    "a = df1.combine_first(other=df1)\n",
    "print a\n",
    "a = reduce(lambda x, y: x.combine_first(y), [df1, df1])\n",
    "print a\n",
    "\n",
    "#Uses the non-null values from df1. The index of the combined DataFrame will be the union of the indexes from df1 & df12"
   ]
  },
  {
   "cell_type": "markdown",
   "metadata": {},
   "source": [
    "### Working w/the whole DataFrame"
   ]
  },
  {
   "cell_type": "code",
   "execution_count": 137,
   "metadata": {
    "collapsed": false
   },
   "outputs": [
    {
     "name": "stdout",
     "output_type": "stream",
     "text": [
      "               B        New      Total   log_data       newA      new_B  \\\n",
      "count   8.000000   8.000000   8.000000   8.000000   8.000000   8.000000   \n",
      "mean   13.375000  11.250000  19.189607  11.197940  12.250000  12.375000   \n",
      "std    15.864943  17.102631  13.771850  17.027703  16.359794  16.586892   \n",
      "min     0.000000   0.000000   6.000000   0.000000   1.000000   0.000000   \n",
      "25%     4.000000   0.000000  11.349306   1.000000   3.250000   1.000000   \n",
      "50%     7.500000   3.000000  13.059814   1.791759   4.000000   6.500000   \n",
      "75%    15.000000  15.000000  25.000000  15.000000  15.000000  15.000000   \n",
      "max    48.000000  48.000000  48.000000  48.000000  48.000000  48.000000   \n",
      "\n",
      "         new_col   new_col1  proporation    rounded  \n",
      "count   8.000000   8.000000     8.000000   8.000000  \n",
      "mean   12.000000  11.250000    11.541667  11.700000  \n",
      "std    16.570197  17.102631    16.896452  16.782985  \n",
      "min     0.000000   0.000000     0.000000   0.000000  \n",
      "25%     1.750000   0.000000     0.250000   1.050000  \n",
      "50%     4.500000   3.000000     4.000000   4.100000  \n",
      "75%    15.000000  15.000000    15.000000  15.000000  \n",
      "max    48.000000  48.000000    48.000000  48.000000  \n",
      "   index     B   New      Total   log_data  newA  new_B  new_col  new_col1  \\\n",
      "0      4   4.0   0.0  12.786294   1.386294   4.0    2.0        0       0.0   \n",
      "1      4   4.0   0.0  13.333333   1.000000   1.0    1.0        3       0.0   \n",
      "2      4   4.0   6.0   6.000000   1.000000   1.0    1.0        6       6.0   \n",
      "3      2  11.0   0.0  28.000000   0.000000   4.0   11.0        2       0.0   \n",
      "4  Total  12.0  12.0  12.000000  12.000000  12.0   12.0       12      12.0   \n",
      "\n",
      "   proporation  rounded  \n",
      "0     2.000000      1.4  \n",
      "1     0.333333      0.0  \n",
      "2     6.000000      6.0  \n",
      "3     0.000000      0.0  \n",
      "4    12.000000     12.0  \n",
      "   index     B   New      Total   log_data  newA  new_B  new_col  new_col1  \\\n",
      "3      2  11.0   0.0  28.000000   0.000000   4.0   11.0        2       0.0   \n",
      "4  Total  12.0  12.0  12.000000  12.000000  12.0   12.0       12      12.0   \n",
      "5  Total  24.0  24.0  24.000000  24.000000  24.0   24.0       24      24.0   \n",
      "6  Total  48.0  48.0  48.000000  48.000000  48.0   48.0       48      48.0   \n",
      "7      1   0.0   0.0   9.397225   2.197225   4.0    0.0        1       0.0   \n",
      "\n",
      "   proporation  rounded  \n",
      "3          0.0      0.0  \n",
      "4         12.0     12.0  \n",
      "5         24.0     24.0  \n",
      "6         48.0     48.0  \n",
      "7          0.0      2.2  \n"
     ]
    },
    {
     "data": {
      "text/html": [
       "<div>\n",
       "<table border=\"1\" class=\"dataframe\">\n",
       "  <thead>\n",
       "    <tr style=\"text-align: right;\">\n",
       "      <th></th>\n",
       "      <th>index</th>\n",
       "      <th>B</th>\n",
       "      <th>New</th>\n",
       "      <th>Total</th>\n",
       "      <th>log_data</th>\n",
       "    </tr>\n",
       "  </thead>\n",
       "  <tbody>\n",
       "    <tr>\n",
       "      <th>0</th>\n",
       "      <td>4</td>\n",
       "      <td>4.0</td>\n",
       "      <td>0.0</td>\n",
       "      <td>12.786294</td>\n",
       "      <td>1.386294</td>\n",
       "    </tr>\n",
       "    <tr>\n",
       "      <th>1</th>\n",
       "      <td>4</td>\n",
       "      <td>4.0</td>\n",
       "      <td>0.0</td>\n",
       "      <td>13.333333</td>\n",
       "      <td>1.000000</td>\n",
       "    </tr>\n",
       "    <tr>\n",
       "      <th>2</th>\n",
       "      <td>4</td>\n",
       "      <td>4.0</td>\n",
       "      <td>6.0</td>\n",
       "      <td>6.000000</td>\n",
       "      <td>1.000000</td>\n",
       "    </tr>\n",
       "    <tr>\n",
       "      <th>3</th>\n",
       "      <td>2</td>\n",
       "      <td>11.0</td>\n",
       "      <td>0.0</td>\n",
       "      <td>28.000000</td>\n",
       "      <td>0.000000</td>\n",
       "    </tr>\n",
       "    <tr>\n",
       "      <th>4</th>\n",
       "      <td>Total</td>\n",
       "      <td>12.0</td>\n",
       "      <td>12.0</td>\n",
       "      <td>12.000000</td>\n",
       "      <td>12.000000</td>\n",
       "    </tr>\n",
       "  </tbody>\n",
       "</table>\n",
       "</div>"
      ],
      "text/plain": [
       "   index     B   New      Total   log_data\n",
       "0      4   4.0   0.0  12.786294   1.386294\n",
       "1      4   4.0   0.0  13.333333   1.000000\n",
       "2      4   4.0   6.0   6.000000   1.000000\n",
       "3      2  11.0   0.0  28.000000   0.000000\n",
       "4  Total  12.0  12.0  12.000000  12.000000"
      ]
     },
     "execution_count": 137,
     "metadata": {},
     "output_type": "execute_result"
    }
   ],
   "source": [
    "#Peek at the DataFrame\n",
    "summary_df = df.describe()\n",
    "print summary_df\n",
    "head_df = df.head()\n",
    "print head_df\n",
    "tail_df = df.tail()\n",
    "print tail_df\n",
    "top_left_corner_df = df.iloc[:5, :5]\n",
    "top_left_corner_df"
   ]
  },
  {
   "cell_type": "code",
   "execution_count": 138,
   "metadata": {
    "collapsed": false
   },
   "outputs": [
    {
     "name": "stdout",
     "output_type": "stream",
     "text": [
      "                   0         1  2   3      4      5      6        7\n",
      "index              4         4  4   2  Total  Total  Total        1\n",
      "B                  4         4  4  11     12     24     48        0\n",
      "New                0         0  6   0     12     24     48        0\n",
      "Total        12.7863   13.3333  6  28     12     24     48  9.39722\n",
      "log_data     1.38629         1  1   0     12     24     48  2.19722\n",
      "newA               4         1  1   4     12     24     48        4\n",
      "new_B              2         1  1  11     12     24     48        0\n",
      "new_col            0         3  6   2     12     24     48        1\n",
      "new_col1           0         0  6   0     12     24     48        0\n",
      "proporation        2  0.333333  6   0     12     24     48        0\n",
      "rounded          1.4         0  6   0     12     24     48      2.2\n",
      "   index     B   New      Total   log_data  newA  new_B  new_col  new_col1  \\\n",
      "0      4   4.0   0.0  12.786294   1.386294   4.0    2.0        0       0.0   \n",
      "1      4   4.0   0.0  13.333333   1.000000   1.0    1.0        3       0.0   \n",
      "2      4   4.0   6.0   6.000000   1.000000   1.0    1.0        6       6.0   \n",
      "3      2  11.0   0.0  28.000000   0.000000   4.0   11.0        2       0.0   \n",
      "4  Total  12.0  12.0  12.000000  12.000000  12.0   12.0       12      12.0   \n",
      "5  Total  24.0  24.0  24.000000  24.000000  24.0   24.0       24      24.0   \n",
      "6  Total  48.0  48.0  48.000000  48.000000  48.0   48.0       48      48.0   \n",
      "7      1   0.0   0.0   9.397225   2.197225   4.0    0.0        1       0.0   \n",
      "\n",
      "   proporation  rounded  \n",
      "0     2.000000      1.4  \n",
      "1     0.333333      0.0  \n",
      "2     6.000000      6.0  \n",
      "3     0.000000      0.0  \n",
      "4    12.000000     12.0  \n",
      "5    24.000000     24.0  \n",
      "6    48.000000     48.0  \n",
      "7     0.000000      2.2  \n"
     ]
    }
   ],
   "source": [
    "#Other useful\n",
    "a = df.T #transpose rows & columns\n",
    "print a\n",
    "df2 = df.copy()\n",
    "print df2"
   ]
  },
  {
   "cell_type": "markdown",
   "metadata": {},
   "source": [
    "### Working with dates, times and their indexes"
   ]
  },
  {
   "cell_type": "code",
   "execution_count": 139,
   "metadata": {
    "collapsed": false
   },
   "outputs": [
    {
     "name": "stdout",
     "output_type": "stream",
     "text": [
      "2013-01-01 00:00:00\n",
      "2013-01\n"
     ]
    }
   ],
   "source": [
    "#Dates & time -points & spans\n",
    "#W/its focus on time-series data, pandas provides a suite of tools for managing dates & time: either as a point in time\n",
    "#(a Timestamp) or as a span of time (a Period)\n",
    "timestamp = pd.Timestamp('2013-01-01')\n",
    "print timestamp\n",
    "period = pd.Period('2013-01-01', freq='M')\n",
    "print period"
   ]
  },
  {
   "cell_type": "code",
   "execution_count": 140,
   "metadata": {
    "collapsed": false
   },
   "outputs": [
    {
     "name": "stdout",
     "output_type": "stream",
     "text": [
      "0   2013-10-01\n",
      "1   2013-11-01\n",
      "2   2013-12-01\n",
      "3   2014-01-01\n",
      "dtype: datetime64[ns]\n",
      "DatetimeIndex(['2013-10-01', '2013-11-01', '2013-12-01', '2014-01-01'], dtype='datetime64[ns]', freq='MS')\n",
      "PeriodIndex(['2013-10', '2013-11', '2013-12', '2014-01'], dtype='period[M]', freq='M')\n",
      "2013-10    1\n",
      "2013-11    2\n",
      "2013-12    3\n",
      "2014-01    4\n",
      "Freq: M, dtype: int64\n",
      "2013-10-01    1\n",
      "2013-11-01    2\n",
      "2013-12-01    3\n",
      "2014-01-01    4\n",
      "Freq: MS, dtype: int64\n",
      "2013-10-01    1\n",
      "2013-11-01    2\n",
      "2013-12-01    3\n",
      "2014-01-01    4\n",
      "Freq: MS, dtype: int64\n",
      "0    1\n",
      "1    2\n",
      "2    3\n",
      "3    4\n",
      "dtype: int64\n"
     ]
    }
   ],
   "source": [
    "#Dates & time -stamps & spans as indexes. An index of Timestamps is a DatetimeIndex; & an index of Periods is a \n",
    "#PeriodIndex. These can be constructed as follows:\n",
    "date_strs = ('2013-10-01', '2013-11-01', '2013-12-01', '2014-01-01')\n",
    "tstamp = pd.to_datetime(pd.Series(date_strs))\n",
    "print tstamp\n",
    "dt_idx = pd.DatetimeIndex(tstamp, freq='MS')\n",
    "print dt_idx\n",
    "prd_idx = pd.PeriodIndex(tstamp, freq='M')\n",
    "print prd_idx\n",
    "spi = Series([1,2,3,4], index=prd_idx)\n",
    "print spi\n",
    "sdi = Series([1,2,3,4], index=dt_idx)\n",
    "print sdi\n",
    "#Also: index changed through its attribute\n",
    "spi.index = dt_idx #change to time stamps\n",
    "print spi\n",
    "spi.index = range(len(spi)) #to integers\n",
    "print spi"
   ]
  },
  {
   "cell_type": "code",
   "execution_count": 141,
   "metadata": {
    "collapsed": false
   },
   "outputs": [
    {
     "name": "stdout",
     "output_type": "stream",
     "text": [
      "2013-10    1\n",
      "2013-11    2\n",
      "2013-12    3\n",
      "2014-01    4\n",
      "Freq: M, dtype: int64\n",
      "2013-10-01    1\n",
      "2013-11-01    2\n",
      "2013-12-01    3\n",
      "2014-01-01    4\n",
      "Freq: MS, dtype: int64\n"
     ]
    }
   ],
   "source": [
    "#From DatetimeIndex & PeriodIndex & back\n",
    "spi = sdi.to_period(freq='M') #to PeriodIndex\n",
    "print spi\n",
    "sdi = spi.to_timestamp() #to DatetimeIndex\n",
    "print sdi\n",
    "\n",
    "#Note: from period to timestamp defaults to the point in time @ the start of the period"
   ]
  },
  {
   "cell_type": "code",
   "execution_count": 142,
   "metadata": {
    "collapsed": true
   },
   "outputs": [],
   "source": [
    "#Frequency constants (not a complete list)\n",
    "#U --> microsecond\n",
    "#L --> millisecond\n",
    "#S --> second\n",
    "#T --> minute\n",
    "#H --> hour\n",
    "#D --> calendar day\n",
    "#B --> business day\n",
    "#W-{MON, TUE, ...} --> Week ending on ...\n",
    "#MS --> calendar start of month\n",
    "#M --> calendar end of month\n",
    "#QS-{JAN, FEB, ...} --> Quarter start w/year starting (QS - December)\n",
    "#Q - {JAN, FEB, ...} --> Quarter end w/year ending (Q - December)\n",
    "#AS-{JAN, FEB, ...} --> Year start (AS - December)\n",
    "#A-{JAN, FEB, ...} --> Year end (A - December)"
   ]
  },
  {
   "cell_type": "code",
   "execution_count": 144,
   "metadata": {
    "collapsed": false
   },
   "outputs": [
    {
     "name": "stdout",
     "output_type": "stream",
     "text": [
      "DatetimeIndex(['2012-01-04'], dtype='datetime64[ns]', freq=None)\n"
     ]
    }
   ],
   "source": [
    "#More examples on wotking w/dates/times\n",
    "d = pd.to_datetime(['04-01-2012'], dayfirst = True) #Australian date format\n",
    "print d\n",
    "#t = pd.to_datetime[('2013-04-01 15:14:13.1')]\n",
    "#print t\n",
    "\n",
    "#DatetimeIndex can be converted to an array of Python native datetime.datetime objects using the to_pydatetime() method"
   ]
  },
  {
   "cell_type": "code",
   "execution_count": 146,
   "metadata": {
    "collapsed": false
   },
   "outputs": [
    {
     "name": "stdout",
     "output_type": "stream",
     "text": [
      "NaT\n",
      "True\n"
     ]
    },
    {
     "name": "stderr",
     "output_type": "stream",
     "text": [
      "/home/orysya/anaconda2/lib/python2.7/site-packages/ipykernel/__main__.py:6: FutureWarning: the coerce=True keyword is deprecated, use errors='coerce' instead\n"
     ]
    }
   ],
   "source": [
    "#Error handling w/dates\n",
    "#first example returns string not Timestamp\n",
    "#s = pd.to_datetime('2014-02-30')\n",
    "#print s\n",
    "#second example returns NaT (not a time)\n",
    "n = pd.to_datetime('2014-02-30', coerce=True)\n",
    "print n\n",
    "#NaT is like NaN...tests True for isnull()\n",
    "b = pd.isnull(n) #--> True\n",
    "print b"
   ]
  },
  {
   "cell_type": "code",
   "execution_count": 147,
   "metadata": {
    "collapsed": false
   },
   "outputs": [
    {
     "name": "stdout",
     "output_type": "stream",
     "text": [
      "DatetimeIndex(['2011-01-31', '2011-02-28', '2011-03-31', '2011-04-30',\n",
      "               '2011-05-31', '2011-06-30', '2011-07-31', '2011-08-31',\n",
      "               '2011-09-30', '2011-10-31', '2011-11-30', '2011-12-31'],\n",
      "              dtype='datetime64[ns]', freq='M')\n",
      "PeriodIndex(['1960-01', '1960-02', '1960-03', '1960-04', '1960-05', '1960-06',\n",
      "             '1960-07', '1960-08', '1960-09', '1960-10',\n",
      "             ...\n",
      "             '2010-03', '2010-04', '2010-05', '2010-06', '2010-07', '2010-08',\n",
      "             '2010-09', '2010-10', '2010-11', '2010-12'],\n",
      "            dtype='period[M]', length=612, freq='M')\n"
     ]
    }
   ],
   "source": [
    "#Creating date/period indexes from scratch\n",
    "dt_idx = pd.DatetimeIndex(pd.date_range(start='1/1/2011', periods=12, freq='M'))\n",
    "print dt_idx\n",
    "p_idx = pd.period_range('1960-01-01', '2010-12-31', freq='M')\n",
    "print p_idx"
   ]
  },
  {
   "cell_type": "code",
   "execution_count": 148,
   "metadata": {
    "collapsed": false
   },
   "outputs": [
    {
     "name": "stdout",
     "output_type": "stream",
     "text": [
      "         index     B   New      Total   log_data  newA  new_B  new_col  \\\n",
      "2013-01      4   4.0   0.0  12.786294   1.386294   4.0    2.0        0   \n",
      "2013-02      4   4.0   0.0  13.333333   1.000000   1.0    1.0        3   \n",
      "2013-03      4   4.0   6.0   6.000000   1.000000   1.0    1.0        6   \n",
      "2013-04      2  11.0   0.0  28.000000   0.000000   4.0   11.0        2   \n",
      "2013-05  Total  12.0  12.0  12.000000  12.000000  12.0   12.0       12   \n",
      "2013-06  Total  24.0  24.0  24.000000  24.000000  24.0   24.0       24   \n",
      "2013-07  Total  48.0  48.0  48.000000  48.000000  48.0   48.0       48   \n",
      "2013-08      1   0.0   0.0   9.397225   2.197225   4.0    0.0        1   \n",
      "\n",
      "         new_col1  proporation  rounded  \n",
      "2013-01       0.0     2.000000      1.4  \n",
      "2013-02       0.0     0.333333      0.0  \n",
      "2013-03       6.0     6.000000      6.0  \n",
      "2013-04       0.0     0.000000      0.0  \n",
      "2013-05      12.0    12.000000     12.0  \n",
      "2013-06      24.0    24.000000     24.0  \n",
      "2013-07      48.0    48.000000     48.0  \n",
      "2013-08       0.0     0.000000      2.2  \n",
      "        index    B  New      Total  log_data  newA  new_B  new_col  new_col1  \\\n",
      "2013-02     4  4.0  0.0  13.333333       1.0   1.0    1.0        3       0.0   \n",
      "\n",
      "         proporation  rounded  \n",
      "2013-02     0.333333      0.0  \n",
      "        index    B  New      Total  log_data  newA  new_B  new_col  new_col1  \\\n",
      "2013-01     4  4.0  0.0  12.786294  1.386294   4.0    2.0        0       0.0   \n",
      "2013-02     4  4.0  0.0  13.333333  1.000000   1.0    1.0        3       0.0   \n",
      "2013-03     4  4.0  6.0   6.000000  1.000000   1.0    1.0        6       6.0   \n",
      "\n",
      "         proporation  rounded  \n",
      "2013-01     2.000000      1.4  \n",
      "2013-02     0.333333      0.0  \n",
      "2013-03     6.000000      6.0  \n",
      "         index     B   New  Total  log_data  newA  new_B  new_col  new_col1  \\\n",
      "2013-05  Total  12.0  12.0   12.0      12.0  12.0   12.0       12      12.0   \n",
      "\n",
      "         proporation  rounded  \n",
      "2013-05         12.0     12.0  \n",
      "          B   New       Total   log_data  newA  new_B  new_col  new_col1  \\\n",
      "2013  107.0  90.0  153.516852  89.583519  98.0   99.0       96      90.0   \n",
      "\n",
      "      proporation  rounded  \n",
      "2013    92.333333     93.6  \n"
     ]
    }
   ],
   "source": [
    "#Row selection w/a time-series index\n",
    "#play data ... start w/play data above\n",
    "idx = pd.period_range('2013-01', periods=len(df), freq='M')\n",
    "df.index = idx\n",
    "print df\n",
    "\n",
    "february_selector = (df.index.month == 2)\n",
    "february_data = df[february_selector]\n",
    "print february_data\n",
    "\n",
    "q1_data = df[(df.index.month >= 1) & (df.index.month <= 3)] #note: & not \"and\"\n",
    "print q1_data\n",
    "\n",
    "mayornov_data = df[(df.index.month == 5) | (df.index.month == 11)] #note: | not \"or\"\n",
    "print mayornov_data\n",
    "\n",
    "annual_tot = df.groupby(df.index.year).sum()\n",
    "print annual_tot\n",
    "\n",
    "#Also: year, month, day [of month], hour, minute, second, dayofweek [Mon=0 .. Sun=6], weekofmonth, weekofyear [numbered \n",
    "#from 1], week start on Monday, dayofyear [from 1], ...\n",
    "#Note: this method works w/both Series & DateFrame objects"
   ]
  },
  {
   "cell_type": "code",
   "execution_count": 150,
   "metadata": {
    "collapsed": false
   },
   "outputs": [],
   "source": [
    "#The tail of a time-series df\n",
    "#a = df.last(\"5M\") #the lsat 5 months\n",
    "#print a"
   ]
  },
  {
   "cell_type": "markdown",
   "metadata": {},
   "source": [
    "### Working w/strings"
   ]
  },
  {
   "cell_type": "code",
   "execution_count": 152,
   "metadata": {
    "collapsed": false
   },
   "outputs": [
    {
     "data": {
      "text/html": [
       "<div>\n",
       "<table border=\"1\" class=\"dataframe\">\n",
       "  <thead>\n",
       "    <tr style=\"text-align: right;\">\n",
       "      <th></th>\n",
       "      <th>index</th>\n",
       "      <th>B</th>\n",
       "      <th>New</th>\n",
       "      <th>Total</th>\n",
       "      <th>log_data</th>\n",
       "      <th>newA</th>\n",
       "      <th>new_B</th>\n",
       "      <th>new_col</th>\n",
       "      <th>new_col1</th>\n",
       "      <th>proporation</th>\n",
       "      <th>rounded</th>\n",
       "      <th>strings</th>\n",
       "    </tr>\n",
       "  </thead>\n",
       "  <tbody>\n",
       "    <tr>\n",
       "      <th>2013-01</th>\n",
       "      <td>4</td>\n",
       "      <td>4.0</td>\n",
       "      <td>0.0</td>\n",
       "      <td>12.786294</td>\n",
       "      <td>1.386294</td>\n",
       "      <td>4.0</td>\n",
       "      <td>2.0</td>\n",
       "      <td>0</td>\n",
       "      <td>0.0</td>\n",
       "      <td>2.000000</td>\n",
       "      <td>1.4</td>\n",
       "      <td>aabbj</td>\n",
       "    </tr>\n",
       "    <tr>\n",
       "      <th>2013-02</th>\n",
       "      <td>4</td>\n",
       "      <td>4.0</td>\n",
       "      <td>0.0</td>\n",
       "      <td>13.333333</td>\n",
       "      <td>1.000000</td>\n",
       "      <td>1.0</td>\n",
       "      <td>1.0</td>\n",
       "      <td>3</td>\n",
       "      <td>0.0</td>\n",
       "      <td>0.333333</td>\n",
       "      <td>0.0</td>\n",
       "      <td>aabbj</td>\n",
       "    </tr>\n",
       "    <tr>\n",
       "      <th>2013-03</th>\n",
       "      <td>4</td>\n",
       "      <td>4.0</td>\n",
       "      <td>6.0</td>\n",
       "      <td>6.000000</td>\n",
       "      <td>1.000000</td>\n",
       "      <td>1.0</td>\n",
       "      <td>1.0</td>\n",
       "      <td>6</td>\n",
       "      <td>6.0</td>\n",
       "      <td>6.000000</td>\n",
       "      <td>6.0</td>\n",
       "      <td>aabbj</td>\n",
       "    </tr>\n",
       "    <tr>\n",
       "      <th>2013-04</th>\n",
       "      <td>2</td>\n",
       "      <td>11.0</td>\n",
       "      <td>0.0</td>\n",
       "      <td>28.000000</td>\n",
       "      <td>0.000000</td>\n",
       "      <td>4.0</td>\n",
       "      <td>11.0</td>\n",
       "      <td>2</td>\n",
       "      <td>0.0</td>\n",
       "      <td>0.000000</td>\n",
       "      <td>0.0</td>\n",
       "      <td>aabbj</td>\n",
       "    </tr>\n",
       "    <tr>\n",
       "      <th>2013-05</th>\n",
       "      <td>Total</td>\n",
       "      <td>12.0</td>\n",
       "      <td>12.0</td>\n",
       "      <td>12.000000</td>\n",
       "      <td>12.000000</td>\n",
       "      <td>12.0</td>\n",
       "      <td>12.0</td>\n",
       "      <td>12</td>\n",
       "      <td>12.0</td>\n",
       "      <td>12.000000</td>\n",
       "      <td>12.0</td>\n",
       "      <td>aabbj</td>\n",
       "    </tr>\n",
       "    <tr>\n",
       "      <th>2013-06</th>\n",
       "      <td>Total</td>\n",
       "      <td>24.0</td>\n",
       "      <td>24.0</td>\n",
       "      <td>24.000000</td>\n",
       "      <td>24.000000</td>\n",
       "      <td>24.0</td>\n",
       "      <td>24.0</td>\n",
       "      <td>24</td>\n",
       "      <td>24.0</td>\n",
       "      <td>24.000000</td>\n",
       "      <td>24.0</td>\n",
       "      <td>aabbj</td>\n",
       "    </tr>\n",
       "    <tr>\n",
       "      <th>2013-07</th>\n",
       "      <td>Total</td>\n",
       "      <td>48.0</td>\n",
       "      <td>48.0</td>\n",
       "      <td>48.000000</td>\n",
       "      <td>48.000000</td>\n",
       "      <td>48.0</td>\n",
       "      <td>48.0</td>\n",
       "      <td>48</td>\n",
       "      <td>48.0</td>\n",
       "      <td>48.000000</td>\n",
       "      <td>48.0</td>\n",
       "      <td>aabbj</td>\n",
       "    </tr>\n",
       "    <tr>\n",
       "      <th>2013-08</th>\n",
       "      <td>1</td>\n",
       "      <td>0.0</td>\n",
       "      <td>0.0</td>\n",
       "      <td>9.397225</td>\n",
       "      <td>2.197225</td>\n",
       "      <td>4.0</td>\n",
       "      <td>0.0</td>\n",
       "      <td>1</td>\n",
       "      <td>0.0</td>\n",
       "      <td>0.000000</td>\n",
       "      <td>2.2</td>\n",
       "      <td>aabbj</td>\n",
       "    </tr>\n",
       "  </tbody>\n",
       "</table>\n",
       "</div>"
      ],
      "text/plain": [
       "         index     B   New      Total   log_data  newA  new_B  new_col  \\\n",
       "2013-01      4   4.0   0.0  12.786294   1.386294   4.0    2.0        0   \n",
       "2013-02      4   4.0   0.0  13.333333   1.000000   1.0    1.0        3   \n",
       "2013-03      4   4.0   6.0   6.000000   1.000000   1.0    1.0        6   \n",
       "2013-04      2  11.0   0.0  28.000000   0.000000   4.0   11.0        2   \n",
       "2013-05  Total  12.0  12.0  12.000000  12.000000  12.0   12.0       12   \n",
       "2013-06  Total  24.0  24.0  24.000000  24.000000  24.0   24.0       24   \n",
       "2013-07  Total  48.0  48.0  48.000000  48.000000  48.0   48.0       48   \n",
       "2013-08      1   0.0   0.0   9.397225   2.197225   4.0    0.0        1   \n",
       "\n",
       "         new_col1  proporation  rounded strings  \n",
       "2013-01       0.0     2.000000      1.4   aabbj  \n",
       "2013-02       0.0     0.333333      0.0   aabbj  \n",
       "2013-03       6.0     6.000000      6.0   aabbj  \n",
       "2013-04       0.0     0.000000      0.0   aabbj  \n",
       "2013-05      12.0    12.000000     12.0   aabbj  \n",
       "2013-06      24.0    24.000000     24.0   aabbj  \n",
       "2013-07      48.0    48.000000     48.0   aabbj  \n",
       "2013-08       0.0     0.000000      2.2   aabbj  "
      ]
     },
     "execution_count": 152,
     "metadata": {},
     "output_type": "execute_result"
    }
   ],
   "source": [
    "#Working w/strings\n",
    "#assume that df['col'] is series of strings\n",
    "df['strings'] = 'aabbj'\n",
    "df"
   ]
  },
  {
   "cell_type": "code",
   "execution_count": 155,
   "metadata": {
    "collapsed": false
   },
   "outputs": [
    {
     "name": "stdout",
     "output_type": "stream",
     "text": [
      "2013-01    aabbjsuffixaabbjsuffixsuffixaabbjsuffixaabbjsu...\n",
      "2013-02    aabbjsuffixaabbjsuffixsuffixaabbjsuffixaabbjsu...\n",
      "2013-03    aabbjsuffixaabbjsuffixsuffixaabbjsuffixaabbjsu...\n",
      "2013-04    aabbjsuffixaabbjsuffixsuffixaabbjsuffixaabbjsu...\n",
      "2013-05    aabbjsuffixaabbjsuffixsuffixaabbjsuffixaabbjsu...\n",
      "2013-06    aabbjsuffixaabbjsuffixsuffixaabbjsuffixaabbjsu...\n",
      "2013-07    aabbjsuffixaabbjsuffixsuffixaabbjsuffixaabbjsu...\n",
      "2013-08    aabbjsuffixaabbjsuffixsuffixaabbjsuffixaabbjsu...\n",
      "Freq: M, Name: strings, dtype: object\n",
      "2013-01    AABBJSUFFIXAABBJSUFFIXSUFFIXAABBJSUFFIXAABBJSU...\n",
      "2013-02    AABBJSUFFIXAABBJSUFFIXSUFFIXAABBJSUFFIXAABBJSU...\n",
      "2013-03    AABBJSUFFIXAABBJSUFFIXSUFFIXAABBJSUFFIXAABBJSU...\n",
      "2013-04    AABBJSUFFIXAABBJSUFFIXSUFFIXAABBJSUFFIXAABBJSU...\n",
      "2013-05    AABBJSUFFIXAABBJSUFFIXSUFFIXAABBJSUFFIXAABBJSU...\n",
      "2013-06    AABBJSUFFIXAABBJSUFFIXSUFFIXAABBJSUFFIXAABBJSU...\n",
      "2013-07    AABBJSUFFIXAABBJSUFFIXSUFFIXAABBJSUFFIXAABBJSU...\n",
      "2013-08    AABBJSUFFIXAABBJSUFFIXSUFFIXAABBJSUFFIXAABBJSU...\n",
      "Freq: M, Name: strings, dtype: object\n",
      "2013-01    56\n",
      "2013-02    56\n",
      "2013-03    56\n",
      "2013-04    56\n",
      "2013-05    56\n",
      "2013-06    56\n",
      "2013-07    56\n",
      "2013-08    56\n",
      "Freq: M, Name: strings, dtype: int64\n",
      "         index     B   New      Total   log_data  newA  new_B  new_col  \\\n",
      "2013-01      4   4.0   0.0  12.786294   1.386294   4.0    2.0        0   \n",
      "2013-02      4   4.0   0.0  13.333333   1.000000   1.0    1.0        3   \n",
      "2013-03      4   4.0   6.0   6.000000   1.000000   1.0    1.0        6   \n",
      "2013-04      2  11.0   0.0  28.000000   0.000000   4.0   11.0        2   \n",
      "2013-05  Total  12.0  12.0  12.000000  12.000000  12.0   12.0       12   \n",
      "2013-06  Total  24.0  24.0  24.000000  24.000000  24.0   24.0       24   \n",
      "2013-07  Total  48.0  48.0  48.000000  48.000000  48.0   48.0       48   \n",
      "2013-08      1   0.0   0.0   9.397225   2.197225   4.0    0.0        1   \n",
      "\n",
      "         new_col1  proporation  rounded  \\\n",
      "2013-01       0.0     2.000000      1.4   \n",
      "2013-02       0.0     0.333333      0.0   \n",
      "2013-03       6.0     6.000000      6.0   \n",
      "2013-04       0.0     0.000000      0.0   \n",
      "2013-05      12.0    12.000000     12.0   \n",
      "2013-06      24.0    24.000000     24.0   \n",
      "2013-07      48.0    48.000000     48.0   \n",
      "2013-08       0.0     0.000000      2.2   \n",
      "\n",
      "                                                   strings  \n",
      "2013-01  aabbjsuffixaabbjsuffixsuffixaabbjsuffixaabbjsu...  \n",
      "2013-02  aabbjsuffixaabbjsuffixsuffixaabbjsuffixaabbjsu...  \n",
      "2013-03  aabbjsuffixaabbjsuffixsuffixaabbjsuffixaabbjsu...  \n",
      "2013-04  aabbjsuffixaabbjsuffixsuffixaabbjsuffixaabbjsu...  \n",
      "2013-05  aabbjsuffixaabbjsuffixsuffixaabbjsuffixaabbjsu...  \n",
      "2013-06  aabbjsuffixaabbjsuffixsuffixaabbjsuffixaabbjsu...  \n",
      "2013-07  aabbjsuffixaabbjsuffixsuffixaabbjsuffixaabbjsu...  \n",
      "2013-08  aabbjsuffixaabbjsuffixsuffixaabbjsuffixaabbjsu...  \n",
      "2013-01    aabbjsuffixaabbjsuffixsuffixaabbjsuffixaabbjsu...\n",
      "2013-02    aabbjsuffixaabbjsuffixsuffixaabbjsuffixaabbjsu...\n",
      "2013-03    aabbjsuffixaabbjsuffixsuffixaabbjsuffixaabbjsu...\n",
      "2013-04    aabbjsuffixaabbjsuffixsuffixaabbjsuffixaabbjsu...\n",
      "2013-05    aabbjsuffixaabbjsuffixsuffixaabbjsuffixaabbjsu...\n",
      "2013-06    aabbjsuffixaabbjsuffixsuffixaabbjsuffixaabbjsu...\n",
      "2013-07    aabbjsuffixaabbjsuffixsuffixaabbjsuffixaabbjsu...\n",
      "2013-08    aabbjsuffixaabbjsuffixsuffixaabbjsuffixaabbjsu...\n",
      "Freq: M, Name: strings, dtype: object\n"
     ]
    }
   ],
   "source": [
    "s = df['strings'].str.lower()\n",
    "print s\n",
    "s = df['strings'].str.upper()\n",
    "print s\n",
    "s = df['strings'].str.len()\n",
    "print s\n",
    "df['strings'] += 'suffix' #add text to each row\n",
    "df['strings'] *=2 #repeat text\n",
    "print df\n",
    "s = df['strings'] + df['strings'] #concatenate\n",
    "print s\n",
    "\n",
    "#Most python string fxns are replicated in the pandas df & series objects"
   ]
  },
  {
   "cell_type": "code",
   "execution_count": 157,
   "metadata": {
    "collapsed": false
   },
   "outputs": [
    {
     "name": "stdout",
     "output_type": "stream",
     "text": [
      "2013-01    True\n",
      "2013-02    True\n",
      "2013-03    True\n",
      "2013-04    True\n",
      "2013-05    True\n",
      "2013-06    True\n",
      "2013-07    True\n",
      "2013-08    True\n",
      "Freq: M, Name: strings, dtype: bool\n",
      "2013-01    True\n",
      "2013-02    True\n",
      "2013-03    True\n",
      "2013-04    True\n",
      "2013-05    True\n",
      "2013-06    True\n",
      "2013-07    True\n",
      "2013-08    True\n",
      "Freq: M, Name: strings, dtype: bool\n",
      "2013-01    True\n",
      "2013-02    True\n",
      "2013-03    True\n",
      "2013-04    True\n",
      "2013-05    True\n",
      "2013-06    True\n",
      "2013-07    True\n",
      "2013-08    True\n",
      "Freq: M, Name: strings, dtype: bool\n",
      "2013-01    coolsuffixcoolsuffixsuffixcoolsuffixcoolsuffix...\n",
      "2013-02    coolsuffixcoolsuffixsuffixcoolsuffixcoolsuffix...\n",
      "2013-03    coolsuffixcoolsuffixsuffixcoolsuffixcoolsuffix...\n",
      "2013-04    coolsuffixcoolsuffixsuffixcoolsuffixcoolsuffix...\n",
      "2013-05    coolsuffixcoolsuffixsuffixcoolsuffixcoolsuffix...\n",
      "2013-06    coolsuffixcoolsuffixsuffixcoolsuffixcoolsuffix...\n",
      "2013-07    coolsuffixcoolsuffixsuffixcoolsuffixcoolsuffix...\n",
      "2013-08    coolsuffixcoolsuffixsuffixcoolsuffixcoolsuffix...\n",
      "Freq: M, Name: strings, dtype: object\n"
     ]
    }
   ],
   "source": [
    "#Regular expression\n",
    "s = df['strings'].str.contains('suffix')\n",
    "print s\n",
    "s = df['strings'].str.startswith('aa')\n",
    "print s\n",
    "s = df['strings'].str.endswith('ix')\n",
    "print s\n",
    "s = df['strings'].str.replace('aabbj', 'cool') #('old', 'new')\n",
    "print s\n",
    "\n",
    "#Note: pandas has many more regex methods"
   ]
  },
  {
   "cell_type": "markdown",
   "metadata": {},
   "source": [
    "### Working w/missing & non-finite data"
   ]
  },
  {
   "cell_type": "code",
   "execution_count": 158,
   "metadata": {
    "collapsed": true
   },
   "outputs": [],
   "source": [
    "#Working w/missing data\n",
    "#Pandas uses the not-a-number construct (np.nan and float('nan')) to indicate missing data. The Python None can arise in \n",
    "#data as well. It is also treated as missing data; as is the pandas not-a-time (pd.NaT) construct"
   ]
  },
  {
   "cell_type": "code",
   "execution_count": 159,
   "metadata": {
    "collapsed": false
   },
   "outputs": [
    {
     "name": "stdout",
     "output_type": "stream",
     "text": [
      "0    8.0\n",
      "1    NaN\n",
      "2    NaN\n",
      "3    NaN\n",
      "dtype: float64\n",
      "0    False\n",
      "1     True\n",
      "2     True\n",
      "3     True\n",
      "dtype: bool\n",
      "0     True\n",
      "1    False\n",
      "2    False\n",
      "3    False\n",
      "dtype: bool\n"
     ]
    }
   ],
   "source": [
    "#Missing data in a Series\n",
    "s = pd.Series([8, None, float('nan'), np.nan])\n",
    "print s\n",
    "print s.isnull() # --> [False, True, True, True]\n",
    "print s.notnull() # --> [True, False, False, False]"
   ]
  },
  {
   "cell_type": "code",
   "execution_count": 161,
   "metadata": {
    "collapsed": false,
    "scrolled": true
   },
   "outputs": [],
   "source": [
    "#Missing dta in a DataFrame\n",
    "a = df.dropna() #drop all rows w/NaN\n",
    "a = df.dropna(axis=1) #as above for cols\n",
    "a = df.dropna(how='all') #only if all in row\n",
    "a = df.dropna(thresh=2) #at least 2 NaN in row\n",
    "\n",
    "#only drop row is NaN is a specified 'col'\n",
    "#a = df.dropna(df['B'].notnull())"
   ]
  },
  {
   "cell_type": "code",
   "execution_count": 162,
   "metadata": {
    "collapsed": false
   },
   "outputs": [
    {
     "name": "stdout",
     "output_type": "stream",
     "text": [
      "0    inf\n",
      "1   -inf\n",
      "2    inf\n",
      "3   -inf\n",
      "dtype: float64\n"
     ]
    }
   ],
   "source": [
    "#Non-finite numbers\n",
    "#W/floating point #s, pandas provides for positive & negative infinity\n",
    "s = Series([float('inf'), float('-inf'), np.inf, -np.inf]) \n",
    "print s\n",
    "#Pandas treats integer comparisons w/plus/minus infinity as expected"
   ]
  },
  {
   "cell_type": "code",
   "execution_count": 163,
   "metadata": {
    "collapsed": false
   },
   "outputs": [
    {
     "data": {
      "text/plain": [
       "0    False\n",
       "1    False\n",
       "2    False\n",
       "3    False\n",
       "dtype: bool"
      ]
     },
     "execution_count": 163,
     "metadata": {},
     "output_type": "execute_result"
    }
   ],
   "source": [
    "#Testing for finite numbers (using the data from the pervious example)\n",
    "np.isfinite(s)"
   ]
  },
  {
   "cell_type": "markdown",
   "metadata": {},
   "source": [
    "### Working w/Categorical Data"
   ]
  },
  {
   "cell_type": "code",
   "execution_count": 177,
   "metadata": {
    "collapsed": false
   },
   "outputs": [],
   "source": [
    "#Categorical data\n",
    "#The pandas Series has an R factors-like data type for encoding categorical data into integers\n",
    "#c = pd.Categorical.from_array(list)\n",
    "#print c.levels # --> the coding frame\n",
    "#print c.labels # --> the encoded integer array\n",
    "#print c.describe # --> the values & levels"
   ]
  },
  {
   "cell_type": "code",
   "execution_count": 175,
   "metadata": {
    "collapsed": false
   },
   "outputs": [
    {
     "name": "stdout",
     "output_type": "stream",
     "text": [
      "[0 1 0 1 1 2]\n"
     ]
    }
   ],
   "source": [
    "#Indexing categorical data\n",
    "#The categorical data can be indexed in a manner conceptually similar to that for Series.iloc[] above:\n",
    "listy = ['a', 'b', 'a', 'b', 'b', 'c']\n",
    "c = pd.Categorical(listy)\n",
    "#c.levels # --> ['a', 'b', 'c']\n",
    "print c.codes # --> [0,1,0,1,1,2]\n",
    "x = c[1] # --> 'b'\n",
    "x = c[[0,1]] #--> ['a', 'b']\n",
    "x = c[0:2]"
   ]
  },
  {
   "cell_type": "code",
   "execution_count": 176,
   "metadata": {
    "collapsed": true
   },
   "outputs": [],
   "source": [
    "#Categorical into df\n",
    "#you cna put a column of encoded Categorical data in the df, but in the process the factor info will be los; so you will\n",
    "#need to hold this factor info outside of the df\n",
    "#factor = pd.Categorical.from_array(df['cat'])\n",
    "#df['labels] = factor.labels #integers only\n",
    "#df['cat2] = factor #converts back to string"
   ]
  },
  {
   "cell_type": "markdown",
   "metadata": {},
   "source": [
    "### Basic Statistics"
   ]
  },
  {
   "cell_type": "code",
   "execution_count": 179,
   "metadata": {
    "collapsed": false
   },
   "outputs": [
    {
     "name": "stdout",
     "output_type": "stream",
     "text": [
      "count     8.000000\n",
      "mean     13.375000\n",
      "std      15.864943\n",
      "min       0.000000\n",
      "25%       4.000000\n",
      "50%       7.500000\n",
      "75%      15.000000\n",
      "max      48.000000\n",
      "Name: B, dtype: float64\n"
     ]
    },
    {
     "data": {
      "text/html": [
       "<div>\n",
       "<table border=\"1\" class=\"dataframe\">\n",
       "  <thead>\n",
       "    <tr style=\"text-align: right;\">\n",
       "      <th></th>\n",
       "      <th>B</th>\n",
       "      <th>New</th>\n",
       "      <th>Total</th>\n",
       "      <th>log_data</th>\n",
       "      <th>newA</th>\n",
       "      <th>new_B</th>\n",
       "      <th>new_col</th>\n",
       "      <th>new_col1</th>\n",
       "      <th>proporation</th>\n",
       "      <th>rounded</th>\n",
       "    </tr>\n",
       "  </thead>\n",
       "  <tbody>\n",
       "    <tr>\n",
       "      <th>count</th>\n",
       "      <td>8.000000</td>\n",
       "      <td>8.000000</td>\n",
       "      <td>8.000000</td>\n",
       "      <td>8.000000</td>\n",
       "      <td>8.000000</td>\n",
       "      <td>8.000000</td>\n",
       "      <td>8.000000</td>\n",
       "      <td>8.000000</td>\n",
       "      <td>8.000000</td>\n",
       "      <td>8.000000</td>\n",
       "    </tr>\n",
       "    <tr>\n",
       "      <th>mean</th>\n",
       "      <td>13.375000</td>\n",
       "      <td>11.250000</td>\n",
       "      <td>19.189607</td>\n",
       "      <td>11.197940</td>\n",
       "      <td>12.250000</td>\n",
       "      <td>12.375000</td>\n",
       "      <td>12.000000</td>\n",
       "      <td>11.250000</td>\n",
       "      <td>11.541667</td>\n",
       "      <td>11.700000</td>\n",
       "    </tr>\n",
       "    <tr>\n",
       "      <th>std</th>\n",
       "      <td>15.864943</td>\n",
       "      <td>17.102631</td>\n",
       "      <td>13.771850</td>\n",
       "      <td>17.027703</td>\n",
       "      <td>16.359794</td>\n",
       "      <td>16.586892</td>\n",
       "      <td>16.570197</td>\n",
       "      <td>17.102631</td>\n",
       "      <td>16.896452</td>\n",
       "      <td>16.782985</td>\n",
       "    </tr>\n",
       "    <tr>\n",
       "      <th>min</th>\n",
       "      <td>0.000000</td>\n",
       "      <td>0.000000</td>\n",
       "      <td>6.000000</td>\n",
       "      <td>0.000000</td>\n",
       "      <td>1.000000</td>\n",
       "      <td>0.000000</td>\n",
       "      <td>0.000000</td>\n",
       "      <td>0.000000</td>\n",
       "      <td>0.000000</td>\n",
       "      <td>0.000000</td>\n",
       "    </tr>\n",
       "    <tr>\n",
       "      <th>25%</th>\n",
       "      <td>4.000000</td>\n",
       "      <td>0.000000</td>\n",
       "      <td>11.349306</td>\n",
       "      <td>1.000000</td>\n",
       "      <td>3.250000</td>\n",
       "      <td>1.000000</td>\n",
       "      <td>1.750000</td>\n",
       "      <td>0.000000</td>\n",
       "      <td>0.250000</td>\n",
       "      <td>1.050000</td>\n",
       "    </tr>\n",
       "    <tr>\n",
       "      <th>50%</th>\n",
       "      <td>7.500000</td>\n",
       "      <td>3.000000</td>\n",
       "      <td>13.059814</td>\n",
       "      <td>1.791759</td>\n",
       "      <td>4.000000</td>\n",
       "      <td>6.500000</td>\n",
       "      <td>4.500000</td>\n",
       "      <td>3.000000</td>\n",
       "      <td>4.000000</td>\n",
       "      <td>4.100000</td>\n",
       "    </tr>\n",
       "    <tr>\n",
       "      <th>75%</th>\n",
       "      <td>15.000000</td>\n",
       "      <td>15.000000</td>\n",
       "      <td>25.000000</td>\n",
       "      <td>15.000000</td>\n",
       "      <td>15.000000</td>\n",
       "      <td>15.000000</td>\n",
       "      <td>15.000000</td>\n",
       "      <td>15.000000</td>\n",
       "      <td>15.000000</td>\n",
       "      <td>15.000000</td>\n",
       "    </tr>\n",
       "    <tr>\n",
       "      <th>max</th>\n",
       "      <td>48.000000</td>\n",
       "      <td>48.000000</td>\n",
       "      <td>48.000000</td>\n",
       "      <td>48.000000</td>\n",
       "      <td>48.000000</td>\n",
       "      <td>48.000000</td>\n",
       "      <td>48.000000</td>\n",
       "      <td>48.000000</td>\n",
       "      <td>48.000000</td>\n",
       "      <td>48.000000</td>\n",
       "    </tr>\n",
       "  </tbody>\n",
       "</table>\n",
       "</div>"
      ],
      "text/plain": [
       "               B        New      Total   log_data       newA      new_B  \\\n",
       "count   8.000000   8.000000   8.000000   8.000000   8.000000   8.000000   \n",
       "mean   13.375000  11.250000  19.189607  11.197940  12.250000  12.375000   \n",
       "std    15.864943  17.102631  13.771850  17.027703  16.359794  16.586892   \n",
       "min     0.000000   0.000000   6.000000   0.000000   1.000000   0.000000   \n",
       "25%     4.000000   0.000000  11.349306   1.000000   3.250000   1.000000   \n",
       "50%     7.500000   3.000000  13.059814   1.791759   4.000000   6.500000   \n",
       "75%    15.000000  15.000000  25.000000  15.000000  15.000000  15.000000   \n",
       "max    48.000000  48.000000  48.000000  48.000000  48.000000  48.000000   \n",
       "\n",
       "         new_col   new_col1  proporation    rounded  \n",
       "count   8.000000   8.000000     8.000000   8.000000  \n",
       "mean   12.000000  11.250000    11.541667  11.700000  \n",
       "std    16.570197  17.102631    16.896452  16.782985  \n",
       "min     0.000000   0.000000     0.000000   0.000000  \n",
       "25%     1.750000   0.000000     0.250000   1.050000  \n",
       "50%     4.500000   3.000000     4.000000   4.100000  \n",
       "75%    15.000000  15.000000    15.000000  15.000000  \n",
       "max    48.000000  48.000000    48.000000  48.000000  "
      ]
     },
     "execution_count": 179,
     "metadata": {},
     "output_type": "execute_result"
    }
   ],
   "source": [
    "#Summary statistics\n",
    "s = df['B'].describe()\n",
    "print s\n",
    "df1 = df.describe()\n",
    "df1"
   ]
  },
  {
   "cell_type": "code",
   "execution_count": 180,
   "metadata": {
    "collapsed": false
   },
   "outputs": [
    {
     "name": "stdout",
     "output_type": "stream",
     "text": [
      "4.0     3\n",
      "0.0     1\n",
      "48.0    1\n",
      "24.0    1\n",
      "12.0    1\n",
      "11.0    1\n",
      "Name: B, dtype: int64\n"
     ]
    }
   ],
   "source": [
    "#Value counts\n",
    "s = df['B'].value_counts()\n",
    "print s"
   ]
  },
  {
   "cell_type": "code",
   "execution_count": 181,
   "metadata": {
    "collapsed": false
   },
   "outputs": [
    {
     "data": {
      "text/html": [
       "<div>\n",
       "<table border=\"1\" class=\"dataframe\">\n",
       "  <thead>\n",
       "    <tr style=\"text-align: right;\">\n",
       "      <th></th>\n",
       "      <th>index</th>\n",
       "      <th>B</th>\n",
       "      <th>New</th>\n",
       "      <th>Total</th>\n",
       "      <th>log_data</th>\n",
       "      <th>newA</th>\n",
       "      <th>new_B</th>\n",
       "      <th>new_col</th>\n",
       "      <th>new_col1</th>\n",
       "      <th>proporation</th>\n",
       "      <th>rounded</th>\n",
       "      <th>strings</th>\n",
       "    </tr>\n",
       "  </thead>\n",
       "  <tbody>\n",
       "    <tr>\n",
       "      <th>2013-01</th>\n",
       "      <td>4</td>\n",
       "      <td>4.0</td>\n",
       "      <td>0.0</td>\n",
       "      <td>12.786294</td>\n",
       "      <td>1.386294</td>\n",
       "      <td>4.0</td>\n",
       "      <td>2.0</td>\n",
       "      <td>0</td>\n",
       "      <td>0.0</td>\n",
       "      <td>2.000000</td>\n",
       "      <td>1.4</td>\n",
       "      <td>aabbjsuffixaabbjsuffixsuffixaabbjsuffixaabbjsu...</td>\n",
       "    </tr>\n",
       "    <tr>\n",
       "      <th>2013-02</th>\n",
       "      <td>4</td>\n",
       "      <td>4.0</td>\n",
       "      <td>0.0</td>\n",
       "      <td>13.333333</td>\n",
       "      <td>1.000000</td>\n",
       "      <td>1.0</td>\n",
       "      <td>1.0</td>\n",
       "      <td>3</td>\n",
       "      <td>0.0</td>\n",
       "      <td>0.333333</td>\n",
       "      <td>0.0</td>\n",
       "      <td>aabbjsuffixaabbjsuffixsuffixaabbjsuffixaabbjsu...</td>\n",
       "    </tr>\n",
       "    <tr>\n",
       "      <th>2013-03</th>\n",
       "      <td>4</td>\n",
       "      <td>4.0</td>\n",
       "      <td>6.0</td>\n",
       "      <td>6.000000</td>\n",
       "      <td>1.000000</td>\n",
       "      <td>1.0</td>\n",
       "      <td>1.0</td>\n",
       "      <td>6</td>\n",
       "      <td>6.0</td>\n",
       "      <td>6.000000</td>\n",
       "      <td>6.0</td>\n",
       "      <td>aabbjsuffixaabbjsuffixsuffixaabbjsuffixaabbjsu...</td>\n",
       "    </tr>\n",
       "    <tr>\n",
       "      <th>2013-04</th>\n",
       "      <td>2</td>\n",
       "      <td>11.0</td>\n",
       "      <td>0.0</td>\n",
       "      <td>28.000000</td>\n",
       "      <td>0.000000</td>\n",
       "      <td>4.0</td>\n",
       "      <td>11.0</td>\n",
       "      <td>2</td>\n",
       "      <td>0.0</td>\n",
       "      <td>0.000000</td>\n",
       "      <td>0.0</td>\n",
       "      <td>aabbjsuffixaabbjsuffixsuffixaabbjsuffixaabbjsu...</td>\n",
       "    </tr>\n",
       "    <tr>\n",
       "      <th>2013-05</th>\n",
       "      <td>Total</td>\n",
       "      <td>12.0</td>\n",
       "      <td>12.0</td>\n",
       "      <td>12.000000</td>\n",
       "      <td>12.000000</td>\n",
       "      <td>12.0</td>\n",
       "      <td>12.0</td>\n",
       "      <td>12</td>\n",
       "      <td>12.0</td>\n",
       "      <td>12.000000</td>\n",
       "      <td>12.0</td>\n",
       "      <td>aabbjsuffixaabbjsuffixsuffixaabbjsuffixaabbjsu...</td>\n",
       "    </tr>\n",
       "    <tr>\n",
       "      <th>2013-06</th>\n",
       "      <td>Total</td>\n",
       "      <td>24.0</td>\n",
       "      <td>24.0</td>\n",
       "      <td>24.000000</td>\n",
       "      <td>24.000000</td>\n",
       "      <td>24.0</td>\n",
       "      <td>24.0</td>\n",
       "      <td>24</td>\n",
       "      <td>24.0</td>\n",
       "      <td>24.000000</td>\n",
       "      <td>24.0</td>\n",
       "      <td>aabbjsuffixaabbjsuffixsuffixaabbjsuffixaabbjsu...</td>\n",
       "    </tr>\n",
       "    <tr>\n",
       "      <th>2013-07</th>\n",
       "      <td>Total</td>\n",
       "      <td>48.0</td>\n",
       "      <td>48.0</td>\n",
       "      <td>48.000000</td>\n",
       "      <td>48.000000</td>\n",
       "      <td>48.0</td>\n",
       "      <td>48.0</td>\n",
       "      <td>48</td>\n",
       "      <td>48.0</td>\n",
       "      <td>48.000000</td>\n",
       "      <td>48.0</td>\n",
       "      <td>aabbjsuffixaabbjsuffixsuffixaabbjsuffixaabbjsu...</td>\n",
       "    </tr>\n",
       "    <tr>\n",
       "      <th>2013-08</th>\n",
       "      <td>1</td>\n",
       "      <td>0.0</td>\n",
       "      <td>0.0</td>\n",
       "      <td>9.397225</td>\n",
       "      <td>2.197225</td>\n",
       "      <td>4.0</td>\n",
       "      <td>0.0</td>\n",
       "      <td>1</td>\n",
       "      <td>0.0</td>\n",
       "      <td>0.000000</td>\n",
       "      <td>2.2</td>\n",
       "      <td>aabbjsuffixaabbjsuffixsuffixaabbjsuffixaabbjsu...</td>\n",
       "    </tr>\n",
       "  </tbody>\n",
       "</table>\n",
       "</div>"
      ],
      "text/plain": [
       "         index     B   New      Total   log_data  newA  new_B  new_col  \\\n",
       "2013-01      4   4.0   0.0  12.786294   1.386294   4.0    2.0        0   \n",
       "2013-02      4   4.0   0.0  13.333333   1.000000   1.0    1.0        3   \n",
       "2013-03      4   4.0   6.0   6.000000   1.000000   1.0    1.0        6   \n",
       "2013-04      2  11.0   0.0  28.000000   0.000000   4.0   11.0        2   \n",
       "2013-05  Total  12.0  12.0  12.000000  12.000000  12.0   12.0       12   \n",
       "2013-06  Total  24.0  24.0  24.000000  24.000000  24.0   24.0       24   \n",
       "2013-07  Total  48.0  48.0  48.000000  48.000000  48.0   48.0       48   \n",
       "2013-08      1   0.0   0.0   9.397225   2.197225   4.0    0.0        1   \n",
       "\n",
       "         new_col1  proporation  rounded  \\\n",
       "2013-01       0.0     2.000000      1.4   \n",
       "2013-02       0.0     0.333333      0.0   \n",
       "2013-03       6.0     6.000000      6.0   \n",
       "2013-04       0.0     0.000000      0.0   \n",
       "2013-05      12.0    12.000000     12.0   \n",
       "2013-06      24.0    24.000000     24.0   \n",
       "2013-07      48.0    48.000000     48.0   \n",
       "2013-08       0.0     0.000000      2.2   \n",
       "\n",
       "                                                   strings  \n",
       "2013-01  aabbjsuffixaabbjsuffixsuffixaabbjsuffixaabbjsu...  \n",
       "2013-02  aabbjsuffixaabbjsuffixsuffixaabbjsuffixaabbjsu...  \n",
       "2013-03  aabbjsuffixaabbjsuffixsuffixaabbjsuffixaabbjsu...  \n",
       "2013-04  aabbjsuffixaabbjsuffixsuffixaabbjsuffixaabbjsu...  \n",
       "2013-05  aabbjsuffixaabbjsuffixsuffixaabbjsuffixaabbjsu...  \n",
       "2013-06  aabbjsuffixaabbjsuffixsuffixaabbjsuffixaabbjsu...  \n",
       "2013-07  aabbjsuffixaabbjsuffixsuffixaabbjsuffixaabbjsu...  \n",
       "2013-08  aabbjsuffixaabbjsuffixsuffixaabbjsuffixaabbjsu...  "
      ]
     },
     "execution_count": 181,
     "metadata": {},
     "output_type": "execute_result"
    }
   ],
   "source": [
    "df"
   ]
  },
  {
   "cell_type": "code",
   "execution_count": 185,
   "metadata": {
    "collapsed": false
   },
   "outputs": [],
   "source": [
    "#Cross-tabulation (frequency count)\n",
    "#ct = pd.crosstab(index=df['2013-01'], df['B'])\n",
    "#ct"
   ]
  },
  {
   "cell_type": "code",
   "execution_count": 187,
   "metadata": {
    "collapsed": false
   },
   "outputs": [
    {
     "name": "stdout",
     "output_type": "stream",
     "text": [
      "         B   New      Total   log_data   newA  new_B  new_col  new_col1  \\\n",
      "0.05   1.4   0.0   7.189029   0.350000   1.00   0.35     0.35       0.0   \n",
      "0.25   4.0   0.0  11.349306   1.000000   3.25   1.00     1.75       0.0   \n",
      "0.50   7.5   3.0  13.059814   1.791759   4.00   6.50     4.50       3.0   \n",
      "0.75  15.0  15.0  25.000000  15.000000  15.00  15.00    15.00      15.0   \n",
      "0.95  39.6  39.6  41.000000  39.600000  39.60  39.60    39.60      39.6   \n",
      "\n",
      "      proporation  rounded  \n",
      "0.05         0.00     0.00  \n",
      "0.25         0.25     1.05  \n",
      "0.50         4.00     4.10  \n",
      "0.75        15.00    15.00  \n",
      "0.95        39.60    39.60  \n",
      "         index    B  New  Total  log_data  newA  new_B  new_col  new_col1  \\\n",
      "2013-01    4.0  3.0  2.5    4.0       4.0   4.0    4.0      1.0       2.5   \n",
      "2013-02    4.0  3.0  2.5    5.0       2.5   1.5    2.5      4.0       2.5   \n",
      "2013-03    4.0  3.0  5.0    1.0       2.5   1.5    2.5      5.0       5.0   \n",
      "2013-04    2.0  5.0  2.5    7.0       1.0   4.0    5.0      3.0       2.5   \n",
      "2013-05    7.0  6.0  6.0    3.0       6.0   6.0    6.0      6.0       6.0   \n",
      "2013-06    7.0  7.0  7.0    6.0       7.0   7.0    7.0      7.0       7.0   \n",
      "2013-07    7.0  8.0  8.0    8.0       8.0   8.0    8.0      8.0       8.0   \n",
      "2013-08    1.0  1.0  2.5    2.0       5.0   4.0    1.0      2.0       2.5   \n",
      "\n",
      "         proporation  rounded  strings  \n",
      "2013-01          4.0      3.0      4.5  \n",
      "2013-02          3.0      1.5      4.5  \n",
      "2013-03          5.0      5.0      4.5  \n",
      "2013-04          1.5      1.5      4.5  \n",
      "2013-05          6.0      6.0      4.5  \n",
      "2013-06          7.0      7.0      4.5  \n",
      "2013-07          8.0      8.0      4.5  \n",
      "2013-08          1.5      4.0      4.5  \n"
     ]
    }
   ],
   "source": [
    "#Quantiles & ranking\n",
    "q = df.quantile(q=[0.05, 0.25, 0.5, 0.75, 0.95])\n",
    "print q\n",
    "r = df.rank()\n",
    "print r"
   ]
  },
  {
   "cell_type": "code",
   "execution_count": 189,
   "metadata": {
    "collapsed": false
   },
   "outputs": [],
   "source": [
    "#Histogram binning\n",
    "#counts, bins = np.histogram(df['B']) count, bins=np.histogram(df['B'], bins=3) count, bins = np.histogram(df['B'], bins=[-3, -2, -1, 0,1,2,3,4])"
   ]
  },
  {
   "cell_type": "code",
   "execution_count": 190,
   "metadata": {
    "collapsed": false,
    "scrolled": true
   },
   "outputs": [
    {
     "name": "stdout",
     "output_type": "stream",
     "text": [
      "                    B       New     Total  log_data      newA     new_B  \\\n",
      "B            1.000000  0.971002  0.920077  0.972692  0.980416  0.997190   \n",
      "New          0.971002  1.000000  0.808455  0.991982  0.984137  0.964997   \n",
      "Total        0.920077  0.808455  1.000000  0.830105  0.864535  0.923772   \n",
      "log_data     0.972692  0.991982  0.830105  1.000000  0.996384  0.971230   \n",
      "newA         0.980416  0.984137  0.864535  0.996384  1.000000  0.981965   \n",
      "new_B        0.997190  0.964997  0.923772  0.971230  0.981965  1.000000   \n",
      "new_col      0.977069  0.998106  0.828335  0.992470  0.984931  0.970406   \n",
      "new_col1     0.971002  1.000000  0.808455  0.991982  0.984137  0.964997   \n",
      "proporation  0.971193  0.999226  0.809259  0.992655  0.985681  0.964263   \n",
      "rounded      0.966667  0.998889  0.804997  0.994110  0.987428  0.961952   \n",
      "\n",
      "              new_col  new_col1  proporation   rounded  \n",
      "B            0.977069  0.971002     0.971193  0.966667  \n",
      "New          0.998106  1.000000     0.999226  0.998889  \n",
      "Total        0.828335  0.808455     0.809259  0.804997  \n",
      "log_data     0.992470  0.991982     0.992655  0.994110  \n",
      "newA         0.984931  0.984137     0.985681  0.987428  \n",
      "new_B        0.970406  0.964997     0.964263  0.961952  \n",
      "new_col      1.000000  0.998106     0.996509  0.996054  \n",
      "new_col1     0.998106  1.000000     0.999226  0.998889  \n",
      "proporation  0.996509  0.999226     1.000000  0.998735  \n",
      "rounded      0.996054  0.998889     0.998735  1.000000  \n",
      "                      B         New       Total    log_data        newA  \\\n",
      "B            251.696429  263.464286  201.027230  262.766516  254.464286   \n",
      "New          263.464286  292.500000  190.419345  288.883630  275.357143   \n",
      "Total        201.027230  190.419345  189.663849  194.662033  194.783710   \n",
      "log_data     262.766516  288.883630  194.662033  289.942679  277.562281   \n",
      "newA         254.464286  275.357143  194.783710  277.562281  267.642857   \n",
      "new_B        262.410714  273.750000  211.019268  274.310935  266.464286   \n",
      "new_col      256.857143  282.857143  189.027857  280.027857  267.000000   \n",
      "new_col1     263.464286  292.500000  190.419345  288.883630  275.357143   \n",
      "proporation  260.339286  288.750000  188.310957  285.594687  272.464286   \n",
      "rounded      257.385714  286.714286  186.061076  284.092505  271.114286   \n",
      "\n",
      "                  new_B     new_col    new_col1  proporation     rounded  \n",
      "B            262.410714  256.857143  263.464286   260.339286  257.385714  \n",
      "New          273.750000  282.857143  292.500000   288.750000  286.714286  \n",
      "Total        211.019268  189.027857  190.419345   188.310957  186.061076  \n",
      "log_data     274.310935  280.027857  288.883630   285.594687  284.092505  \n",
      "newA         266.464286  267.000000  275.357143   272.464286  271.114286  \n",
      "new_B        275.125000  266.714286  273.750000   270.244048  267.785714  \n",
      "new_col      266.714286  274.571429  282.857143   279.000000  277.000000  \n",
      "new_col1     273.750000  282.857143  292.500000   288.750000  286.714286  \n",
      "proporation  270.244048  279.000000  288.750000   285.490079  283.214286  \n",
      "rounded      267.785714  277.000000  286.714286   283.214286  281.668571  \n"
     ]
    }
   ],
   "source": [
    "#Correlation & covariance\n",
    "df_cm = df.corr()\n",
    "print df_cm\n",
    "df_cv = df.cov()\n",
    "print df_cv"
   ]
  },
  {
   "cell_type": "code",
   "execution_count": 191,
   "metadata": {
    "collapsed": false
   },
   "outputs": [
    {
     "name": "stdout",
     "output_type": "stream",
     "text": [
      "Intercept    3.193652\n",
      "New          0.354819\n",
      "log_data     0.552748\n",
      "dtype: float64\n"
     ]
    },
    {
     "name": "stderr",
     "output_type": "stream",
     "text": [
      "/home/orysya/anaconda2/lib/python2.7/site-packages/scipy/stats/stats.py:1327: UserWarning: kurtosistest only valid for n>=20 ... continuing anyway, n=8\n",
      "  \"anyway, n=%i\" % int(n))\n"
     ]
    },
    {
     "name": "stdout",
     "output_type": "stream",
     "text": [
      "                            OLS Regression Results                            \n",
      "==============================================================================\n",
      "Dep. Variable:                      B   R-squared:                       0.948\n",
      "Model:                            OLS   Adj. R-squared:                  0.928\n",
      "Method:                 Least Squares   F-statistic:                     46.01\n",
      "Date:                Mon, 31 Oct 2016   Prob (F-statistic):           0.000603\n",
      "Time:                        22:34:30   Log-Likelihood:                -21.068\n",
      "No. Observations:                   8   AIC:                             48.14\n",
      "Df Residuals:                       5   BIC:                             48.37\n",
      "Df Model:                           2                                         \n",
      "Covariance Type:            nonrobust                                         \n",
      "==============================================================================\n",
      "                 coef    std err          t      P>|t|      [95.0% Conf. Int.]\n",
      "------------------------------------------------------------------------------\n",
      "Intercept      3.1937      1.843      1.733      0.144        -1.544     7.931\n",
      "New            0.3548      0.745      0.476      0.654        -1.561     2.270\n",
      "log_data       0.5527      0.748      0.739      0.493        -1.371     2.477\n",
      "==============================================================================\n",
      "Omnibus:                        7.869   Durbin-Watson:                   2.580\n",
      "Prob(Omnibus):                  0.020   Jarque-Bera (JB):                2.344\n",
      "Skew:                           1.227   Prob(JB):                        0.310\n",
      "Kurtosis:                       4.004   Cond. No.                         33.7\n",
      "==============================================================================\n",
      "\n",
      "Warnings:\n",
      "[1] Standard Errors assume that the covariance matrix of the errors is correctly specified.\n"
     ]
    }
   ],
   "source": [
    "#Regression\n",
    "import statsmodels.formula.api as sm\n",
    "result = sm.ols(formula=\"B ~ New + log_data\", data=df).fit()\n",
    "print (result.params)\n",
    "print (result.summary())"
   ]
  },
  {
   "cell_type": "code",
   "execution_count": 192,
   "metadata": {
    "collapsed": false
   },
   "outputs": [
    {
     "name": "stdout",
     "output_type": "stream",
     "text": [
      "2013-01     NaN\n",
      "2013-02     NaN\n",
      "2013-03     NaN\n",
      "2013-04    12.6\n",
      "2013-05    16.6\n",
      "2013-06     NaN\n",
      "2013-07     NaN\n",
      "2013-08     NaN\n",
      "Freq: M, Name: B, dtype: float64\n"
     ]
    },
    {
     "name": "stderr",
     "output_type": "stream",
     "text": [
      "/home/orysya/anaconda2/lib/python2.7/site-packages/ipykernel/__main__.py:3: FutureWarning: pd.rolling_apply is deprecated for Series and will be removed in a future version, replace with \n",
      "\tSeries.rolling(center=True,min_periods=7,window=7).apply(args=<tuple>,func=<function>,kwargs=<dict>)\n",
      "  app.launch_new_instance()\n"
     ]
    }
   ],
   "source": [
    "#Smoothing example using rolling_apply\n",
    "k3x5 = np.array([1,2,3,3,3,2,1]) / 15.0\n",
    "s = pd.rolling_apply(df['B'], window=7, func=lambda x: (x * k3x5).sum(), min_periods=7, center=True)\n",
    "print s"
   ]
  },
  {
   "cell_type": "code",
   "execution_count": null,
   "metadata": {
    "collapsed": true
   },
   "outputs": [],
   "source": []
  }
 ],
 "metadata": {
  "anaconda-cloud": {},
  "kernelspec": {
   "display_name": "Python [conda root]",
   "language": "python",
   "name": "conda-root-py"
  },
  "language_info": {
   "codemirror_mode": {
    "name": "ipython",
    "version": 2
   },
   "file_extension": ".py",
   "mimetype": "text/x-python",
   "name": "python",
   "nbconvert_exporter": "python",
   "pygments_lexer": "ipython2",
   "version": "2.7.12"
  }
 },
 "nbformat": 4,
 "nbformat_minor": 1
}
