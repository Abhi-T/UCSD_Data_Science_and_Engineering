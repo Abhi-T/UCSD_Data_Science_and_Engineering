{
 "cells": [
  {
   "cell_type": "markdown",
   "metadata": {},
   "source": [
    "Web Scraping\n",
    "======\n",
    "Adapted from a page created by [John Beieler](https://gist.github.com/johnb30/4743272)\n",
    "\n",
    "> Even with the best of websites, I don’t think I’ve ever encountered a scraping job that couldn’t be described as *“A small and simple general model with heaps upon  piles of annoying little exceptions”* \n",
    "\n",
    ">> \\- Swizec Teller [http://swizec.com/blog/scraping-with-mechanize-and-beautifulsoup/swizec/5039](http://swizec.com/blog/scraping-with-mechanize-and-beautifulsoup/swizec/5039)\n",
    "\n",
    "##What is it?\n",
    "\n",
    "A large portion of the data that we as social scientists are interested in resides on the web in manner. Web scraping is a method for pulling data from the structured (or not so structured!) HTML that makes up a web page. Python has numerous libraries for approaching this type of problem, many of which are incredibly powerful. If there is something you want to do, there's usually a way to accomplish it. Perhaps not easily, but it can be done. \n",
    "\n",
    "\n",
    "##How is it accomplished?\n",
    "\n",
    "In general, there are three problems that you might face when undertaking a scraping task:\n",
    "\n",
    "1. You have a single page, or a set of pages, that you know of and you want to scrape.\n",
    "2. You have a source that generates links, e.g., [RSS feeds](http://rss.nytimes.com/services/xml/rss/nyt/World.xml), to various pages with the same structure.\n",
    "3. You have a page that contains many pages of interest that are scattered across the file system and you only have general rules for reaching these pages. \n",
    "\n",
    "The key is that you must identify which type of problem you have. After this, you must look at the HTML structure of a webpage and construct a script that will select the parts of the page that are of interest to you.\n",
    "\n",
    "##There's a library for that! \n",
    "\n",
    "As mentioned previously, Python has various libraries for scraping tasks. The ones I have found the most useful are:\n",
    "\n",
    "- [pattern](http://www.clips.ua.ac.be/pages/pattern)\n",
    "- [lxml](http://lxml.de/)\n",
    "- [requests](http://docs.python-requests.org/en/latest/)\n",
    "- [Scrapy](http://doc.scrapy.org/en/0.16/)\n",
    "- [Beautiful Soup](http://www.crummy.com/software/BeautifulSoup/)\n"
   ]
  },
  {
   "cell_type": "markdown",
   "metadata": {},
   "source": [
    "### Inspecting a web page\n",
    "let's inspect a [mongabay web page](http://names.mongabay.com/data/1000.html). Open the page in a separate tab, it should look something like the image below. Mongapay is a site that has a nice collection of statistics about first and last names.\n",
    "\n",
    "<img src=\"images/page.png\" alt=\"web page\" height=\"420\" width=\"600\">\n",
    "\n",
    "The source code language for web pages is HTML (Hyper-Text Markup-Language]. HTML is a hierarchical description of the visual content of a page. You can view the source, in Chrome, by choosing `View/Developer/View Source`. However, commercial web pages are very complex and inspecting them requires a more powerful method.\n",
    "\n",
    "The Chrome browsr comes with such a tool built in. You can open this tool by choosing `View/Developer/Developer Tools`\n",
    "\n",
    "If you are using Firefox you can install the [Firebug](https://getfirebug.com/) plugin which gives similar functionality.\n",
    "\n",
    "The bottom half of the browser page will now have a sophisticated development environment for all things web (HTML, CSS, Javascript).\n",
    "In particular it allows you to click on a visual element in the page and find out where it is in the source and what tags it is associated with\n",
    "<img src=\"images/InspectingHTML.png\" alt=\"web page\" height=\"420\" width=\"600\">\n",
    "\n",
    "Note that the element SMITH is surrounded by `<td>` and `</td>` and that this element and all of the elements in that row :`SMITH  1  2376206 ...` are surrounded by `<tr> ..... </tr>`. In HTML-speak we say that each element in the table is of type 'td' and that the whole row is an element if type 'tr' (stands for \"table row\").\n",
    "\n",
    "We will now see how to inspect these elements from the command line using `scrapy shell`"
   ]
  },
  {
   "cell_type": "markdown",
   "metadata": {},
   "source": [
    "### Scrapy\n",
    "\n",
    "* [Official Scrapy Tutorial](http://doc.scrapy.org/en/0.24/intro/tutorial.html)\n",
    "* Other important sections in the Scrapy documentation are **selector** and **Scrapy shell**\n"
   ]
  },
  {
   "cell_type": "markdown",
   "metadata": {},
   "source": [
    "### Using scrapy shell\n",
    "*Everything here is done from the terminal window, not inside a notebook*\n",
    "\n",
    "Install scrapy. Use one of those or something similar:\n",
    "> `pip install scrapy`\n",
    "\n",
    "> `sudo pip install scrapy`\n",
    "\n",
    "> `conda install scrapy`\n",
    "\n",
    "Start Scrapy Shell from a terminal window:\n",
    "> `scrapy shell`\n",
    "\n",
    "Fetch a page: \n",
    "> `fetch('http://names.mongabay.com/data/1000.html')`\n",
    "\n",
    "View the page in a Browser:\n",
    "> `view(response)`\n",
    "\n",
    "Get the HTML text of the response:\n",
    "> `response.body`\n",
    "\n",
    "Get just the header\n",
    "> `response.headers`\n",
    "\n",
    "Get all href links to other web pages `<a href=\"http://web.site/file\"> link text </a>`:\n",
    "> `response.xpath('//a')`\n",
    "\n",
    "Filter out of the href links that match a particular regular expression:\n",
    "> `response.xpath('//a').re('data/.+\\.html?')`\n",
    "\n",
    "scrapy contains much more than the shell. You can use scrapy as a library to perform web operations. You can also write a **Spider** or **Crawler** i.e. a program that will follow links to extract and process all of the pages of a particular type from a web site. Later in this notebook there is an example of using Scrapy for crawling. \n",
    "\n",
    "For now, we switch from scrapy to the libraries `requests` and `lxml.html` which are somewhat easier to use for web page parsing."
   ]
  },
  {
   "cell_type": "markdown",
   "metadata": {},
   "source": [
    "### Scraping a page that you know\n",
    "\n",
    "The easiest approach to webscraping is getting the content from a page that you know in advance. I'll go ahead and keep using the page we looked at earlier. There are three basic steps to scraping a single page:\n",
    "\n",
    "1. Get (request) the page\n",
    "2. Parse the page content\n",
    "3. Select the content of interest using an XPath selector\n",
    "\n",
    "The following code executes these three steps and prints the result. "
   ]
  },
  {
   "cell_type": "code",
   "execution_count": 2,
   "metadata": {
    "collapsed": false
   },
   "outputs": [
    {
     "name": "stdout",
     "output_type": "stream",
     "text": [
      "<!DOCTYPE HTML PUBLIC \"-//W3C//DTD HTML 3.2//EN\">\n",
      "<HTML>\n",
      "<HEAD>\n",
      "<title>Most common last names in the United States, top 1000</title>\n",
      "<link href=\"https://plus.google.com/116584964404644143364\" rel=\"publisher\"/>\n",
      "<meta name='twitter:card' content='summary'>\n",
      "<meta name='twitter:site' content='@mongabay'>\n",
      "<meta name='twitter:title' content='Most common last names in the United States, top 1000'>\n",
      "<meta name='twitter:creator' content='mongabay'>\n",
      "<meta name='twitter:domain' content='mongabay.com'>\n",
      "<meta\n"
     ]
    }
   ],
   "source": [
    "import requests\n",
    "import lxml.html as lh\n",
    "\n",
    "url = 'http://names.mongabay.com/data/1000.html'\n",
    "page = requests.get(url)\n",
    "doc = lh.fromstring(page.content)\n",
    "print page.content[:500]"
   ]
  },
  {
   "cell_type": "code",
   "execution_count": 3,
   "metadata": {
    "collapsed": false,
    "scrolled": true
   },
   "outputs": [
    {
     "name": "stdout",
     "output_type": "stream",
     "text": [
      "Name Rank Number of occurrences Occurrences / 100,000 people Cumulative proportion / 100,000 % Non-Hispanic White Only % Non-Hispanic Black Only % Non-Hispanic Asian & Pacific Islander Only % Non-Hispanic American Indian & Alaskan Native Only % Non-Hispanic of 2 or More Races % Hispanic Origin\n",
      "SMITH 1 2376206 880.85 880.85 73.35 22.22 0.4 0.85 1.63 1.56\n",
      "JOHNSON 2 1857160 688.44 1569.3 61.55 33.8 0.42 0.91 1.82 1.5\n",
      "WILLIAMS 3 1534042 568.66 2137.96 48.52 46.72 0.37 0.78 2.01 1.6\n",
      "BROWN 4 1380145 511.62 2649.58 60.71 34.54 0.41 0.83 1.86 1.64\n",
      "JONES 5 1362755 505.17 3154.75 57.69 37.73 0.35 0.94 1.85 1.44\n",
      "MILLER 6 1127803 418.07 3572.82 85.81 10.41 0.42 0.63 1.31 1.43\n",
      "DAVIS 7 1072335 397.51 3970.33 64.73 30.77 0.4 0.79 1.73 1.58\n",
      "GARCIA 8 858289 318.17 4288.5 6.17 0.49 1.43 0.58 0.51 90.81\n",
      "RODRIGUEZ 9 804240 298.13 4586.62 5.52 0.54 0.58 0.24 0.41 92.7\n",
      "WILSON 10 783051 290.27 4876.9 69.72 25.32 0.46 1.03 1.74 1.73\n",
      "MARTINEZ 11 775072 287.32 5164.22 6.04 0.52 0.6 0.64 0.46 91.72\n",
      "ANDERSON 12 762394 282.62 5446.83 77.6 18.06 0.48 0.7 1.59 1.58\n",
      "TAYLOR 13 720370 267.04 5713.87 67.8 27.67 0.39 0.75 1.78 1.61\n",
      "THOMAS 14 710696 263.45 5977.33 55.53 38.17 1.63 1.01 2 1.66\n",
      "HERNANDEZ 15 706372 261.85 6239.18 4.55 0.38 0.65 0.27 0.35 93.81\n",
      "MOORE 16 698671 259 6498.17 68.85 26.92 0.37 0.65 1.7 1.5\n",
      "MARTIN 17 672711 249.37 6747.54 77.47 15.3 0.71 0.94 1.59 3.99\n",
      "JACKSON 18 666125 246.93 6994.47 41.93 53.02 0.31 1.04 2.18 1.53\n",
      "THOMPSON 19 644368 238.87 7233.34 72.48 22.53 0.44 1.15 1.78 1.62\n"
     ]
    }
   ],
   "source": [
    "# the tag tr (table row) is used in many places, \n",
    "# among them the table of interest to us.\n",
    "# we can identify those rows by the fact that \n",
    "# the table contains 11 columns.\n",
    "tr_elements = doc.xpath('//tr')\n",
    "for T in tr_elements[:20]:\n",
    "    for e in T.iterchildren():\n",
    "        print e.text_content(),\n",
    "    print"
   ]
  },
  {
   "cell_type": "code",
   "execution_count": 4,
   "metadata": {
    "collapsed": false
   },
   "outputs": [
    {
     "data": {
      "text/plain": [
       "lxml.html.HtmlElement"
      ]
     },
     "execution_count": 4,
     "metadata": {},
     "output_type": "execute_result"
    }
   ],
   "source": [
    "type(tr_elements[0])"
   ]
  },
  {
   "cell_type": "code",
   "execution_count": 5,
   "metadata": {
    "collapsed": false
   },
   "outputs": [],
   "source": [
    "element=T[7]\n",
    "# element.  # uncomment this line and hit <tab> after the dot to see the methods and properties of an HTML element"
   ]
  },
  {
   "cell_type": "code",
   "execution_count": 6,
   "metadata": {
    "collapsed": false
   },
   "outputs": [
    {
     "name": "stdout",
     "output_type": "stream",
     "text": [
      "0 NameRankNumber of occurrencesOccurrences / 100,000 peopleCumulative proportion / 100,000% Non-Hispanic White Only% Non-Hispanic Black Only% Non-Hispanic Asian & Pacific Islander Only% Non-Hispanic American Indian & Alaskan Native Only% Non-Hispanic of 2 or More Races% Hispanic Origin\n"
     ]
    }
   ],
   "source": [
    "for i in range(len(tr_elements)):\n",
    "    if len(tr_elements[i])==11:\n",
    "        print i, tr_elements[i].text_content()\n",
    "        break"
   ]
  },
  {
   "cell_type": "code",
   "execution_count": 12,
   "metadata": {
    "collapsed": false
   },
   "outputs": [
    {
     "name": "stdout",
     "output_type": "stream",
     "text": [
      "<class 'lxml.html.HtmlElement'>\n",
      "11\n",
      "1:\"Name\"\n",
      "2:\"Rank\"\n",
      "3:\"Number of occurrences\"\n",
      "4:\"Occurrences / 100,000 people\"\n",
      "5:\"Cumulative proportion / 100,000\"\n",
      "6:\"% Non-Hispanic White Only\"\n",
      "7:\"% Non-Hispanic Black Only\"\n",
      "8:\"% Non-Hispanic Asian & Pacific Islander Only\"\n",
      "9:\"% Non-Hispanic American Indian & Alaskan Native Only\"\n",
      "10:\"% Non-Hispanic of 2 or More Races\"\n",
      "11:\"% Hispanic Origin\"\n",
      "the columns are: [('Name', []), ('Rank', []), ('Number of occurrences', []), ('Occurrences / 100,000 people', []), ('Cumulative proportion / 100,000', []), ('% Non-Hispanic White Only', []), ('% Non-Hispanic Black Only', []), ('% Non-Hispanic Asian & Pacific Islander Only', []), ('% Non-Hispanic American Indian & Alaskan Native Only', []), ('% Non-Hispanic of 2 or More Races', []), ('% Hispanic Origin', [])]\n"
     ]
    }
   ],
   "source": [
    "col=[]  # collect column names into col\n",
    "T=tr_elements[0]\n",
    "print type(T)\n",
    "i=0\n",
    "print len(T)\n",
    "for t in T.iterchildren():\n",
    "    i+=1\n",
    "    name=t.text_content()\n",
    "    print '%d:\"%s\"'%(i,name)\n",
    "    col.append((name,[]))\n",
    "\n",
    "print 'the columns are:',col"
   ]
  },
  {
   "cell_type": "code",
   "execution_count": 13,
   "metadata": {
    "collapsed": false
   },
   "outputs": [
    {
     "name": "stdout",
     "output_type": "stream",
     "text": [
      "(S) cannot be converted to float, row,col= 874 6\n",
      "(S) cannot be converted to float, row,col= 874 8\n"
     ]
    }
   ],
   "source": [
    "for j in range(7,len(tr_elements)):\n",
    "    T=tr_elements[j]\n",
    "    if len(T)!=11:\n",
    "        break\n",
    "    i=0\n",
    "    for t in T.iterchildren():\n",
    "        data=t.text_content()\n",
    "        if i>0:\n",
    "            try:\n",
    "                data=float(data)\n",
    "            except:\n",
    "                print data,'cannot be converted to float, row,col=',j,i\n",
    "                data=None\n",
    "        col[i][1].append(data)\n",
    "        i+=1\n"
   ]
  },
  {
   "cell_type": "code",
   "execution_count": 14,
   "metadata": {
    "collapsed": false
   },
   "outputs": [
    {
     "data": {
      "text/plain": [
       "[994, 994, 994, 994, 994, 994, 994, 994, 994, 994, 994]"
      ]
     },
     "execution_count": 14,
     "metadata": {},
     "output_type": "execute_result"
    }
   ],
   "source": [
    "[len(C) for (title,C) in col]"
   ]
  },
  {
   "cell_type": "code",
   "execution_count": 15,
   "metadata": {
    "collapsed": false
   },
   "outputs": [
    {
     "data": {
      "text/plain": [
       "994"
      ]
     },
     "execution_count": 15,
     "metadata": {},
     "output_type": "execute_result"
    }
   ],
   "source": [
    "min_len=min([len(C) for (title,C) in col])\n",
    "min_len"
   ]
  },
  {
   "cell_type": "code",
   "execution_count": 17,
   "metadata": {
    "collapsed": false
   },
   "outputs": [
    {
     "data": {
      "text/plain": [
       "['Name',\n",
       " 'Rank',\n",
       " 'Number of occurrences',\n",
       " 'Occurrences / 100,000 people',\n",
       " 'Cumulative proportion / 100,000',\n",
       " '% Non-Hispanic White Only',\n",
       " '% Non-Hispanic Black Only',\n",
       " '% Non-Hispanic Asian & Pacific Islander Only',\n",
       " '% Non-Hispanic American Indian & Alaskan Native Only',\n",
       " '% Non-Hispanic of 2 or More Races',\n",
       " '% Hispanic Origin']"
      ]
     },
     "execution_count": 17,
     "metadata": {},
     "output_type": "execute_result"
    }
   ],
   "source": [
    "#To determine what was the orignal order for renaming\n",
    "[n for n,l in col]"
   ]
  },
  {
   "cell_type": "code",
   "execution_count": 19,
   "metadata": {
    "collapsed": false
   },
   "outputs": [
    {
     "data": {
      "text/html": [
       "<div>\n",
       "<table border=\"1\" class=\"dataframe\">\n",
       "  <thead>\n",
       "    <tr style=\"text-align: right;\">\n",
       "      <th></th>\n",
       "      <th>Name</th>\n",
       "      <th>Rank</th>\n",
       "      <th>Number of occurrences</th>\n",
       "      <th>Occurrences / 100,000 people</th>\n",
       "      <th>Cumulative proportion / 100,000</th>\n",
       "      <th>% Non-Hispanic White Only</th>\n",
       "      <th>% Non-Hispanic Black Only</th>\n",
       "      <th>% Non-Hispanic Asian &amp; Pacific Islander Only</th>\n",
       "      <th>% Non-Hispanic American Indian &amp; Alaskan Native Only</th>\n",
       "      <th>% Non-Hispanic of 2 or More Races</th>\n",
       "      <th>% Hispanic Origin</th>\n",
       "    </tr>\n",
       "  </thead>\n",
       "  <tbody>\n",
       "    <tr>\n",
       "      <th>0</th>\n",
       "      <td>DAVIS</td>\n",
       "      <td>7.0</td>\n",
       "      <td>1072335.0</td>\n",
       "      <td>397.51</td>\n",
       "      <td>3970.33</td>\n",
       "      <td>64.73</td>\n",
       "      <td>30.77</td>\n",
       "      <td>0.40</td>\n",
       "      <td>0.79</td>\n",
       "      <td>1.73</td>\n",
       "      <td>1.58</td>\n",
       "    </tr>\n",
       "    <tr>\n",
       "      <th>1</th>\n",
       "      <td>GARCIA</td>\n",
       "      <td>8.0</td>\n",
       "      <td>858289.0</td>\n",
       "      <td>318.17</td>\n",
       "      <td>4288.50</td>\n",
       "      <td>6.17</td>\n",
       "      <td>0.49</td>\n",
       "      <td>1.43</td>\n",
       "      <td>0.58</td>\n",
       "      <td>0.51</td>\n",
       "      <td>90.81</td>\n",
       "    </tr>\n",
       "    <tr>\n",
       "      <th>2</th>\n",
       "      <td>RODRIGUEZ</td>\n",
       "      <td>9.0</td>\n",
       "      <td>804240.0</td>\n",
       "      <td>298.13</td>\n",
       "      <td>4586.62</td>\n",
       "      <td>5.52</td>\n",
       "      <td>0.54</td>\n",
       "      <td>0.58</td>\n",
       "      <td>0.24</td>\n",
       "      <td>0.41</td>\n",
       "      <td>92.70</td>\n",
       "    </tr>\n",
       "    <tr>\n",
       "      <th>3</th>\n",
       "      <td>WILSON</td>\n",
       "      <td>10.0</td>\n",
       "      <td>783051.0</td>\n",
       "      <td>290.27</td>\n",
       "      <td>4876.90</td>\n",
       "      <td>69.72</td>\n",
       "      <td>25.32</td>\n",
       "      <td>0.46</td>\n",
       "      <td>1.03</td>\n",
       "      <td>1.74</td>\n",
       "      <td>1.73</td>\n",
       "    </tr>\n",
       "    <tr>\n",
       "      <th>4</th>\n",
       "      <td>MARTINEZ</td>\n",
       "      <td>11.0</td>\n",
       "      <td>775072.0</td>\n",
       "      <td>287.32</td>\n",
       "      <td>5164.22</td>\n",
       "      <td>6.04</td>\n",
       "      <td>0.52</td>\n",
       "      <td>0.60</td>\n",
       "      <td>0.64</td>\n",
       "      <td>0.46</td>\n",
       "      <td>91.72</td>\n",
       "    </tr>\n",
       "  </tbody>\n",
       "</table>\n",
       "</div>"
      ],
      "text/plain": [
       "        Name  Rank  Number of occurrences  Occurrences / 100,000 people  \\\n",
       "0      DAVIS   7.0              1072335.0                        397.51   \n",
       "1     GARCIA   8.0               858289.0                        318.17   \n",
       "2  RODRIGUEZ   9.0               804240.0                        298.13   \n",
       "3     WILSON  10.0               783051.0                        290.27   \n",
       "4   MARTINEZ  11.0               775072.0                        287.32   \n",
       "\n",
       "   Cumulative proportion / 100,000  % Non-Hispanic White Only  \\\n",
       "0                          3970.33                      64.73   \n",
       "1                          4288.50                       6.17   \n",
       "2                          4586.62                       5.52   \n",
       "3                          4876.90                      69.72   \n",
       "4                          5164.22                       6.04   \n",
       "\n",
       "   % Non-Hispanic Black Only  % Non-Hispanic Asian & Pacific Islander Only  \\\n",
       "0                      30.77                                          0.40   \n",
       "1                       0.49                                          1.43   \n",
       "2                       0.54                                          0.58   \n",
       "3                      25.32                                          0.46   \n",
       "4                       0.52                                          0.60   \n",
       "\n",
       "   % Non-Hispanic American Indian & Alaskan Native Only  \\\n",
       "0                                               0.79      \n",
       "1                                               0.58      \n",
       "2                                               0.24      \n",
       "3                                               1.03      \n",
       "4                                               0.64      \n",
       "\n",
       "   % Non-Hispanic of 2 or More Races  % Hispanic Origin  \n",
       "0                               1.73               1.58  \n",
       "1                               0.51              90.81  \n",
       "2                               0.41              92.70  \n",
       "3                               1.74               1.73  \n",
       "4                               0.46              91.72  "
      ]
     },
     "execution_count": 19,
     "metadata": {},
     "output_type": "execute_result"
    }
   ],
   "source": [
    "Dict={title:column for (title,column) in col}\n",
    "import pandas as pd\n",
    "df=pd.DataFrame(Dict)\n",
    "df = df[[n for n,l in col]]\n",
    "df.head()"
   ]
  },
  {
   "cell_type": "markdown",
   "metadata": {},
   "source": [
    "So we now have our lovely output. This output can be manipulated in various ways, or written to an output file.\n",
    "\n",
    "### Scraping generated links\n",
    "\n",
    "Let's say you want to get a stream of news stories in an easy manner. You could visit the homepage of the NYT and work from there, or you can use an [RSS feed](http://rss.nytimes.com/services/xml/rss/nyt/World.xml). RSS stands for Real Simple Syndication and is, at its heart, an XML document. This allows it to be easily parsed. The fantastic library `pattern` allows for easy parsing of RSS feeds. Using `pattern`'s `Newsfeed()` method, it is possible to parse a feed and obtain attributes of the XML document. The `search()` method returns an iterable composed of the individual stories. Each result has a variety of attributes such as `.url`, `.title`, `.description`, and more. The following code demonstrates these methods."
   ]
  },
  {
   "cell_type": "code",
   "execution_count": 21,
   "metadata": {
    "collapsed": false
   },
   "outputs": [
    {
     "name": "stdout",
     "output_type": "stream",
     "text": [
      "Collecting pattern\n",
      "  Downloading pattern-2.6.zip (24.6MB)\n",
      "\u001b[K    100% |████████████████████████████████| 24.6MB 5.4kB/s \n",
      "\u001b[?25hBuilding wheels for collected packages: pattern\n",
      "  Running setup.py bdist_wheel for pattern ... \u001b[?25l-\b \b\\\b \b|\b \b/\b \b-\b \b\\\b \b|\b \b/\b \b-\b \b\\\b \b|\b \b/\b \b-\b \b\\\b \b|\b \b/\b \b-\b \b\\\b \b|\b \b/\b \b-\b \b\\\b \b|\b \b/\b \b-\b \b\\\b \b|\b \b/\b \b-\b \b\\\b \bdone\n",
      "\u001b[?25h  Stored in directory: /home/orysya/.cache/pip/wheels/88/c3/56/c85103e2876796af4a892df2367a879007d36d74511bf47d42\n",
      "Successfully built pattern\n",
      "Installing collected packages: pattern\n",
      "Successfully installed pattern-2.6\n",
      "\u001b[33mYou are using pip version 8.1.2, however version 9.0.1 is available.\n",
      "You should consider upgrading via the 'pip install --upgrade pip' command.\u001b[0m\n"
     ]
    }
   ],
   "source": [
    "#!pip install pattern"
   ]
  },
  {
   "cell_type": "code",
   "execution_count": 23,
   "metadata": {
    "collapsed": false
   },
   "outputs": [
    {
     "name": "stdout",
     "output_type": "stream",
     "text": [
      "The current top headers from the NY times are:\n",
      "0\tMacapá Journal: ‘There’s No Law on the Amazon’: River Pirates Terrorize Ships by Night\n",
      "1\tDonald Trump, After Fits and Starts, Focuses on Foreign Policy\n",
      "2\tU.S., in Shift, Backs Arms Embargo for South Sudan as Genocide Risk Rises\n",
      "3\tIn Canada, a Direct Link Between Fracking and Earthquakes\n",
      "4\tFerdinand Marcos Is Buried in Philippine National Cemetery\n",
      "\n",
      "\n",
      "URL: http://www.nytimes.com/2016/11/19/world/americas/brazil-amazon-pirates-riverboats-rain-forest.html?partner=rss&emc=rss \n",
      "\n",
      " Header\n",
      "Macapá Journal: ‘There’s No Law on the Amazon’: River Pirates Terrorize Ships by Night \n",
      "\n",
      "Full Article\n",
      " As the population surges and drug gangs expand, hijacking opportunities along the Amazon have flourished, and police forces are struggling to keep up. \n",
      "\n",
      "\n"
     ]
    }
   ],
   "source": [
    "import pattern.web\n",
    "num=5;\n",
    "url = 'http://rss.nytimes.com/services/xml/rss/nyt/World.xml'\n",
    "results = pattern.web.Newsfeed().search(url, count=num)\n",
    "\n",
    "print 'The current top headers from the NY times are:'\n",
    "for i in range(num):\n",
    "    print \"%d\\t%s\"%(i,results[i].title)\n",
    "\n",
    "print '\\n\\nURL: %s \\n\\n Header\\n%s \\n\\nFull Article\\n %s \\n\\n' % (results[0].url, results[0].title, results[0].description)"
   ]
  },
  {
   "cell_type": "markdown",
   "metadata": {},
   "source": [
    "That looks pretty good, but the description looks nastier than we would generally prefer. Luckily, `pattern` provides functions to get rid of the HTML in a string.  "
   ]
  },
  {
   "cell_type": "code",
   "execution_count": 24,
   "metadata": {
    "collapsed": false
   },
   "outputs": [
    {
     "name": "stdout",
     "output_type": "stream",
     "text": [
      "http://www.nytimes.com/2016/11/19/world/americas/brazil-amazon-pirates-riverboats-rain-forest.html?partner=rss&emc=rss \n",
      "\n",
      " Macapá Journal: ‘There’s No Law on the Amazon’: River Pirates Terrorize Ships by Night \n",
      "\n",
      " As the population surges and drug gangs expand, hijacking opportunities along the Amazon have flourished, and police forces are struggling to keep up. \n",
      "\n",
      "\n"
     ]
    }
   ],
   "source": [
    "print '%s \\n\\n %s \\n\\n %s \\n\\n' % (results[0].url, results[0].title, pattern.web.plaintext(results[0].description))"
   ]
  },
  {
   "cell_type": "markdown",
   "metadata": {},
   "source": [
    "While it's all well and good to have the title and description of a story this is often insufficient (some descriptions are just the title, which isn't particularly helpful). To get further information on the story, it is possible to combine the single-page scraping discussed previously and the results from the RSS scrape. The following code implements a function to scrape the NYT article pages, which can be done easily since the NYT is wonderfully consistent in their HTML, and then iterates over the results applying the `scrape` function to each result."
   ]
  },
  {
   "cell_type": "code",
   "execution_count": null,
   "metadata": {
    "collapsed": false
   },
   "outputs": [],
   "source": [
    "import codecs\n",
    "\n",
    "outputFile = codecs.open('tutorialOutput.txt', encoding='utf-8', mode='w')\n",
    "\n",
    "def scrape(url):\n",
    "    page = requests.get(url)\n",
    "    doc = lh.fromstring(page.content)\n",
    "    text = doc.xpath('//p[@itemprop=\"articleBody\"]')\n",
    "    finalText = str()\n",
    "    for par in text:\n",
    "        finalText += par.text_content()\n",
    "    return finalText+'\\n\\n\\n'\n",
    "\n",
    "for result in results:\n",
    "    outputText = scrape(result.url)\n",
    "    outputFile.write(outputText)\n",
    "\n",
    "outputFile.close()"
   ]
  },
  {
   "cell_type": "code",
   "execution_count": null,
   "metadata": {
    "collapsed": false
   },
   "outputs": [],
   "source": [
    "!head -4 tutorialOutput.txt"
   ]
  },
  {
   "cell_type": "markdown",
   "metadata": {},
   "source": [
    "### Scraping arbitrary websites\n",
    "\n",
    "The final approach is for a webpage that contains information you want and the pages are spread around in a fairly consistent manner, but there is no simple, straightfoward manner in which the pages are named.\n",
    "\n",
    "I'll offer a brief aside here to mention that it is often possible to make slight modifications to the URL of a website and obtain many different pages. For example, a website that contains Indian parliament speeches has the URL `http://164.100.47.132/LssNew/psearch/Result13.aspx?dbsl=` with differing values appended after the `=`. Thus, using a `for-loop` allows for the programatic creation of different URLs. Some sample code is below."
   ]
  },
  {
   "cell_type": "code",
   "execution_count": null,
   "metadata": {
    "collapsed": false
   },
   "outputs": [],
   "source": [
    "url = 'http://164.100.47.132/LssNew/psearch/Result13.aspx?dbsl='\n",
    "\n",
    "for i in xrange(5175,5973):\n",
    "    newUrl = url + str(i)\n",
    "    print 'Scraping: %s' % newUrl"
   ]
  },
  {
   "cell_type": "markdown",
   "metadata": {},
   "source": [
    "Getting back on topic, it is often more difficult than the above to iterate over numerous webpages within a site. This is where the `Scrapy` library comes in. `Scrapy` allows for the creation of web spiders that crawl over a webpage, following any links that it finds. This is often far more difficult to implement than a simple scraper since it requires the identification of rules for link following. The [State Department](http://www.state.gov/r/pa/prs/dpb/2012/index.htm) offers a good example. I don't really have time to go into the depths of writing a `Scrapy` spider, but I thought I would put up some code to illustrate what it looks like."
   ]
  },
  {
   "cell_type": "code",
   "execution_count": null,
   "metadata": {
    "collapsed": false
   },
   "outputs": [],
   "source": [
    "from scrapy.contrib.spiders import CrawlSpider, Rule\n",
    "from scrapy.contrib.linkextractors.sgml import SgmlLinkExtractor\n",
    "from scrapy.selector import HtmlXPathSelector\n",
    "from scrapy.item import Item\n",
    "from BeautifulSoup import BeautifulSoup\n",
    "import re\n",
    "import codecs\n",
    "\n",
    "class MySpider(CrawlSpider):\n",
    "    name = 'statespider' #name is a name\n",
    "    start_urls = ['http://www.state.gov/r/pa/prs/dpb/2010/index.htm',\n",
    "    ] #defines the URL that the spider should start on. adjust the year.\n",
    "\n",
    "        #defines the rules for the spider\n",
    "    rules = (Rule(SgmlLinkExtractor(allow=('/2010/'), restrict_xpaths=('//*[@id=\"local-nav\"]'),)), #allows only links within the navigation panel that have /year/ in them.\n",
    "\n",
    "    Rule(SgmlLinkExtractor(restrict_xpaths=('//*[@id=\"dpb-calendar\"]',), deny=('/video/')), callback='parse_item'), #follows links within the caldendar on the index page for the individuals years, while denying any links with /video/ in them\n",
    "\n",
    "    )\n",
    "\n",
    "    def parse_item(self, response):\n",
    "        self.log('Hi, this is an item page! %s' % response.url) #prints the response.url out in the terminal to help with debugging\n",
    "        \n",
    "        #Insert code to scrape page content\n",
    "\n",
    "        #opens the file defined above and writes 'texts' using utf-8\n",
    "        with codecs.open(filename, 'w', encoding='utf-8') as output:\n",
    "            output.write(texts)\n"
   ]
  },
  {
   "cell_type": "markdown",
   "metadata": {},
   "source": [
    "### Excercise\n",
    "Google news provides RSS feeds that can be filtered, at the source, according to the country, the language and a query term. See [this description](http://thinktostart.com/creating-custom-rss-feeds-with-google/).\n",
    "\n",
    "Create a feed for all spanish news about san diego that prints the latest 5 headers and descriptions.\n"
   ]
  },
  {
   "cell_type": "markdown",
   "metadata": {},
   "source": [
    "##The Pitfalls of Webscraping\n",
    "\n",
    "Web scraping is much, much, *much*, more of an art than a science. It is often non-trivial to identify the XPath selector that will get you what you want. Also, some web programmers can't seem to decide how they want to structure the pages they write, so they just change the HTML every few pages. Notice that for the NYT example if `articleBody` gets changed to `articleBody1`, everything breaks. There are ways around this that are often convoluted, messy, and hackish. Usually, however, where there is a will there is a way.\n",
    "\n",
    "...brief pause to demonstrate the lengths this can go to.\n",
    "\n",
    "##PITF Human Atrocities\n",
    "\n",
    "As a wrap up, I show the workflow I have been using to perform real-time scraping from various news sites of stories pertaining to human atrocities. This is illustrative both of web scraping and of the issues that can accompany programming. \n",
    "\n",
    "The general flow of the scraper is:\n",
    "\n",
    "RSS feed -> identify relevant stories -> scrape story -> place results in mongoDB -> repeat every hour\n"
   ]
  },
  {
   "cell_type": "code",
   "execution_count": null,
   "metadata": {
    "collapsed": true
   },
   "outputs": [],
   "source": []
  }
 ],
 "metadata": {
  "anaconda-cloud": {},
  "kernelspec": {
   "display_name": "Python [default]",
   "language": "python",
   "name": "python2"
  },
  "language_info": {
   "codemirror_mode": {
    "name": "ipython",
    "version": 2
   },
   "file_extension": ".py",
   "mimetype": "text/x-python",
   "name": "python",
   "nbconvert_exporter": "python",
   "pygments_lexer": "ipython2",
   "version": "2.7.12"
  }
 },
 "nbformat": 4,
 "nbformat_minor": 0
}
